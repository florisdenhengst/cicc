{
 "cells": [
  {
   "cell_type": "code",
   "execution_count": 59,
   "id": "ddb87912-eef5-4e35-9ab7-b070caf1eb64",
   "metadata": {
    "tags": []
   },
   "outputs": [],
   "source": [
    "import math\n",
    "import numpy as np\n",
    "import pandas as pd\n",
    "from mapie.classification import MapieClassifier\n",
    "from mapie.metrics import classification_coverage_score, classification_mean_width_score\n",
    "import matplotlib.pyplot as plt\n",
    "import json\n",
    "\n",
    "from src.model import MockModel\n",
    "from src.utils import index_for_arange, write_results, cq_labels, cq_filter\n",
    "import src.plot as plot\n",
    "from src.eval import (\n",
    "    adjusted_classification_x_width_score,\n",
    "    size_stratified_classification_coverage_score,\n",
    "    cq_stats,\n",
    "    set_size_equals,\n",
    ")\n",
    "from src.heuristics import TopKSelector, HeuristicCutoffSelector, TopKCutoffSelector"
   ]
  },
  {
   "cell_type": "code",
   "execution_count": 60,
   "id": "8ab6a230-0e0d-422d-876b-0d85b4cb074a",
   "metadata": {
    "tags": []
   },
   "outputs": [
    {
     "data": {
      "text/plain": [
       "151"
      ]
     },
     "execution_count": 60,
     "metadata": {},
     "output_type": "execute_result"
    }
   ],
   "source": [
    "# load data\n",
    "dataset = 'clinc150'\n",
    "intent_classifier = 'bert'\n",
    "data_dir = f'data/{dataset}/{intent_classifier}/'\n",
    "oos_label = 42\n",
    "\n",
    "df_train_preds = pd.read_csv(data_dir + \"train_predictions.csv\")\n",
    "df_test_preds_oos = pd.read_csv(data_dir + \"test_predictions.csv\")\n",
    "df_test_preds = df_test_preds_oos[df_test_preds_oos.label != oos_label]\n",
    "df_calibration_preds = pd.read_csv(data_dir + \"calibration_predictions.csv\")\n",
    "df_ood_preds = pd.read_csv(data_dir + \"ood_predictions.csv\")\n",
    "\n",
    "\n",
    "labels = pd.read_csv(data_dir+'/labels.csv', header=0, names=['index','label'])\n",
    "labels = list(labels.label)\n",
    "N_INTENTS = len(labels)\n",
    "N_INTENTS"
   ]
  },
  {
   "cell_type": "code",
   "execution_count": 61,
   "id": "894d9cd0-64d3-425d-889a-dcd0055be9d7",
   "metadata": {
    "tags": []
   },
   "outputs": [
    {
     "data": {
      "text/plain": [
       "(10815, 3605, 3605)"
      ]
     },
     "execution_count": 61,
     "metadata": {},
     "output_type": "execute_result"
    }
   ],
   "source": [
    "# check train-calibration-test split sizes\n",
    "df_train_preds.shape[0], df_calibration_preds.shape[0], df_test_preds.shape[0]"
   ]
  },
  {
   "cell_type": "code",
   "execution_count": 62,
   "id": "84a844f0-da86-4e9f-94d6-e603194a6cd5",
   "metadata": {
    "tags": []
   },
   "outputs": [],
   "source": [
    "# apply some basic transformations\n",
    "df_train = df_train_preds.reset_index().rename(columns={'index': 'utterance'})\n",
    "df_test = df_test_preds.reset_index().rename(columns={'index': 'utterance'})\n",
    "df_test_oos = df_test_preds_oos.reset_index().rename(columns={'index': 'utterance'})\n",
    "df_calibration = df_calibration_preds.reset_index().rename(columns={'index': 'utterance'})\n",
    "df_ood = df_ood_preds.reset_index().rename(columns={'index': 'utterance'})\n",
    "\n",
    "\n",
    "df_train['utterance'] = df_train['utterance'].apply(lambda h: 'train_' + str(h))\n",
    "df_test['utterance'] = df_test['utterance'].apply(lambda h: 'test_' + str(h))\n",
    "df_test_oos['utterance'] = df_test_oos['utterance'].apply(lambda h: 'test_oos_' + str(h))\n",
    "df_calibration['utterance'] = df_calibration['utterance'].apply(lambda h: 'cal_' + str(h))\n",
    "df_ood['utterance'] = df_ood['utterance'].apply(lambda h: 'ood_' + str(h))\n",
    "\n",
    "\n",
    "df_train['utterance'] = df_train['utterance'].astype(str)\n",
    "df_test['utterance'] = df_test['utterance'].astype(str)\n",
    "df_test_oos['utterance'] = df_test_oos['utterance'].astype(str)\n",
    "df_calibration['utterance'] = df_calibration['utterance'].astype(str)\n",
    "df_ood['utterance'] = df_ood['utterance'].astype(str)\n",
    "\n",
    "np.random.seed(42)\n",
    "df_ood_shuffled = df_ood.sample(frac=1)\n",
    "df_ood = pd.concat([df_test.sample(len(df_ood)), df_ood])\n",
    "train_test_split = int(len(df_ood_shuffled)/2)\n",
    "\n",
    "df_ood_calib = pd.concat([df_calibration.sample(int(len(df_ood) / 2)), df_ood_shuffled[train_test_split:]])\n",
    "df_ood_test = pd.concat([df_test.sample(int(len(df_ood) / 2)), df_ood_shuffled[:train_test_split]])\n"
   ]
  },
  {
   "cell_type": "code",
   "execution_count": 63,
   "id": "a1dd2945-3fb7-4ca7-9325-397719061827",
   "metadata": {
    "tags": []
   },
   "outputs": [
    {
     "data": {
      "text/html": [
       "<div>\n",
       "<style scoped>\n",
       "    .dataframe tbody tr th:only-of-type {\n",
       "        vertical-align: middle;\n",
       "    }\n",
       "\n",
       "    .dataframe tbody tr th {\n",
       "        vertical-align: top;\n",
       "    }\n",
       "\n",
       "    .dataframe thead th {\n",
       "        text-align: right;\n",
       "    }\n",
       "</style>\n",
       "<table border=\"1\" class=\"dataframe\">\n",
       "  <thead>\n",
       "    <tr style=\"text-align: right;\">\n",
       "      <th></th>\n",
       "      <th>utterance</th>\n",
       "      <th>label_0</th>\n",
       "      <th>label_1</th>\n",
       "      <th>label_2</th>\n",
       "      <th>label_3</th>\n",
       "      <th>label_4</th>\n",
       "      <th>label_5</th>\n",
       "      <th>label_6</th>\n",
       "      <th>label_7</th>\n",
       "      <th>label_8</th>\n",
       "      <th>...</th>\n",
       "      <th>label_141</th>\n",
       "      <th>label_142</th>\n",
       "      <th>label_143</th>\n",
       "      <th>label_144</th>\n",
       "      <th>label_145</th>\n",
       "      <th>label_146</th>\n",
       "      <th>label_147</th>\n",
       "      <th>label_148</th>\n",
       "      <th>label_149</th>\n",
       "      <th>label_150</th>\n",
       "    </tr>\n",
       "  </thead>\n",
       "  <tbody>\n",
       "    <tr>\n",
       "      <th>0</th>\n",
       "      <td>ood_1178</td>\n",
       "      <td>0.341469</td>\n",
       "      <td>0.001987</td>\n",
       "      <td>0.000455</td>\n",
       "      <td>0.000986</td>\n",
       "      <td>0.000420</td>\n",
       "      <td>0.006104</td>\n",
       "      <td>0.002576</td>\n",
       "      <td>0.002759</td>\n",
       "      <td>0.000398</td>\n",
       "      <td>...</td>\n",
       "      <td>0.001412</td>\n",
       "      <td>0.000562</td>\n",
       "      <td>0.000705</td>\n",
       "      <td>0.000273</td>\n",
       "      <td>0.001088</td>\n",
       "      <td>0.000852</td>\n",
       "      <td>0.002384</td>\n",
       "      <td>0.001941</td>\n",
       "      <td>0.003118</td>\n",
       "      <td>0.000781</td>\n",
       "    </tr>\n",
       "    <tr>\n",
       "      <th>1</th>\n",
       "      <td>ood_865</td>\n",
       "      <td>0.007140</td>\n",
       "      <td>0.001766</td>\n",
       "      <td>0.001861</td>\n",
       "      <td>0.007126</td>\n",
       "      <td>0.002718</td>\n",
       "      <td>0.010794</td>\n",
       "      <td>0.006143</td>\n",
       "      <td>0.008205</td>\n",
       "      <td>0.001842</td>\n",
       "      <td>...</td>\n",
       "      <td>0.006695</td>\n",
       "      <td>0.007121</td>\n",
       "      <td>0.001480</td>\n",
       "      <td>0.001237</td>\n",
       "      <td>0.001044</td>\n",
       "      <td>0.000377</td>\n",
       "      <td>0.006916</td>\n",
       "      <td>0.001546</td>\n",
       "      <td>0.001777</td>\n",
       "      <td>0.025767</td>\n",
       "    </tr>\n",
       "    <tr>\n",
       "      <th>2</th>\n",
       "      <td>ood_101</td>\n",
       "      <td>0.000767</td>\n",
       "      <td>0.000216</td>\n",
       "      <td>0.000118</td>\n",
       "      <td>0.000342</td>\n",
       "      <td>0.000324</td>\n",
       "      <td>0.000167</td>\n",
       "      <td>0.000514</td>\n",
       "      <td>0.000152</td>\n",
       "      <td>0.000653</td>\n",
       "      <td>...</td>\n",
       "      <td>0.000185</td>\n",
       "      <td>0.001367</td>\n",
       "      <td>0.001165</td>\n",
       "      <td>0.000376</td>\n",
       "      <td>0.002631</td>\n",
       "      <td>0.000111</td>\n",
       "      <td>0.000410</td>\n",
       "      <td>0.000949</td>\n",
       "      <td>0.002148</td>\n",
       "      <td>0.000468</td>\n",
       "    </tr>\n",
       "    <tr>\n",
       "      <th>3</th>\n",
       "      <td>ood_439</td>\n",
       "      <td>0.519965</td>\n",
       "      <td>0.001266</td>\n",
       "      <td>0.001017</td>\n",
       "      <td>0.002289</td>\n",
       "      <td>0.000876</td>\n",
       "      <td>0.005430</td>\n",
       "      <td>0.010444</td>\n",
       "      <td>0.002965</td>\n",
       "      <td>0.001152</td>\n",
       "      <td>...</td>\n",
       "      <td>0.001342</td>\n",
       "      <td>0.001255</td>\n",
       "      <td>0.001687</td>\n",
       "      <td>0.004605</td>\n",
       "      <td>0.004192</td>\n",
       "      <td>0.001337</td>\n",
       "      <td>0.002909</td>\n",
       "      <td>0.001486</td>\n",
       "      <td>0.002712</td>\n",
       "      <td>0.001297</td>\n",
       "    </tr>\n",
       "    <tr>\n",
       "      <th>4</th>\n",
       "      <td>ood_58</td>\n",
       "      <td>0.002840</td>\n",
       "      <td>0.000621</td>\n",
       "      <td>0.001084</td>\n",
       "      <td>0.001516</td>\n",
       "      <td>0.014272</td>\n",
       "      <td>0.022445</td>\n",
       "      <td>0.003602</td>\n",
       "      <td>0.006371</td>\n",
       "      <td>0.002220</td>\n",
       "      <td>...</td>\n",
       "      <td>0.001869</td>\n",
       "      <td>0.000865</td>\n",
       "      <td>0.000302</td>\n",
       "      <td>0.000386</td>\n",
       "      <td>0.002468</td>\n",
       "      <td>0.001816</td>\n",
       "      <td>0.001602</td>\n",
       "      <td>0.000527</td>\n",
       "      <td>0.003142</td>\n",
       "      <td>0.002135</td>\n",
       "    </tr>\n",
       "  </tbody>\n",
       "</table>\n",
       "<p>5 rows × 152 columns</p>\n",
       "</div>"
      ],
      "text/plain": [
       "  utterance   label_0   label_1   label_2   label_3   label_4   label_5  \\\n",
       "0  ood_1178  0.341469  0.001987  0.000455  0.000986  0.000420  0.006104   \n",
       "1   ood_865  0.007140  0.001766  0.001861  0.007126  0.002718  0.010794   \n",
       "2   ood_101  0.000767  0.000216  0.000118  0.000342  0.000324  0.000167   \n",
       "3   ood_439  0.519965  0.001266  0.001017  0.002289  0.000876  0.005430   \n",
       "4    ood_58  0.002840  0.000621  0.001084  0.001516  0.014272  0.022445   \n",
       "\n",
       "    label_6   label_7   label_8  ...  label_141  label_142  label_143  \\\n",
       "0  0.002576  0.002759  0.000398  ...   0.001412   0.000562   0.000705   \n",
       "1  0.006143  0.008205  0.001842  ...   0.006695   0.007121   0.001480   \n",
       "2  0.000514  0.000152  0.000653  ...   0.000185   0.001367   0.001165   \n",
       "3  0.010444  0.002965  0.001152  ...   0.001342   0.001255   0.001687   \n",
       "4  0.003602  0.006371  0.002220  ...   0.001869   0.000865   0.000302   \n",
       "\n",
       "   label_144  label_145  label_146  label_147  label_148  label_149  label_150  \n",
       "0   0.000273   0.001088   0.000852   0.002384   0.001941   0.003118   0.000781  \n",
       "1   0.001237   0.001044   0.000377   0.006916   0.001546   0.001777   0.025767  \n",
       "2   0.000376   0.002631   0.000111   0.000410   0.000949   0.002148   0.000468  \n",
       "3   0.004605   0.004192   0.001337   0.002909   0.001486   0.002712   0.001297  \n",
       "4   0.000386   0.002468   0.001816   0.001602   0.000527   0.003142   0.002135  \n",
       "\n",
       "[5 rows x 152 columns]"
      ]
     },
     "execution_count": 63,
     "metadata": {},
     "output_type": "execute_result"
    }
   ],
   "source": [
    "# merge datasets to single frame\n",
    "fullset = pd.concat([df_test, df_calibration], ignore_index=True)\n",
    "assert fullset.utterance.value_counts().max() == 1, \"Hashes/utterances should be unique in full set\"\n",
    "fullset = fullset.drop(['label', 'hash', 'text'], axis=1)\n",
    "fullset.head()\n",
    "\n",
    "fullset_oos = pd.concat([df_test_oos, df_calibration], ignore_index=True)\n",
    "assert fullset_oos.utterance.value_counts().max() == 1, \"Hashes/utterances should be unique in full set\"\n",
    "fullset_oos = fullset_oos.drop(['label', 'hash', 'text'], axis=1)\n",
    "fullset_oos.head()\n",
    "\n",
    "fullset_ood = pd.concat([df_ood_shuffled, df_test, df_calibration], ignore_index=True)\n",
    "assert fullset_ood.utterance.value_counts().max() == 1, \"Hashes/utterances should be unique in full set\"\n",
    "fullset_ood = fullset_ood.drop(['label', 'hash', 'text'], axis=1)\n",
    "fullset_ood.head()"
   ]
  },
  {
   "cell_type": "code",
   "execution_count": 64,
   "id": "5e9b56da-47f0-47a0-813f-2635fa283889",
   "metadata": {
    "tags": []
   },
   "outputs": [],
   "source": [
    "# parameters for evaluation\n",
    "X_train = fullset[['utterance']]\n",
    "X_calib = df_calibration[['utterance']]\n",
    "X_test = df_test[['utterance']]\n",
    "X_test_oos = df_test_oos['utterance']\n",
    "X_ood = df_ood[['utterance']]\n",
    "X_ood_calib = df_ood_calib[['utterance']]\n",
    "X_ood_test = df_ood_test[['utterance']]\n",
    "\n",
    "a_start = 0.01\n",
    "a_stop = .4\n",
    "a_step = 0.01\n",
    "alpha = np.arange(a_start, a_stop, a_step)\n",
    "\n",
    "max_ps_size = math.ceil(N_INTENTS * .25)\n",
    "max_ps_size = 7\n",
    "\n",
    "target_alpha = .01\n",
    "target_index = index_for_arange(a_start, a_step ,target_alpha)"
   ]
  },
  {
   "cell_type": "code",
   "execution_count": null,
   "id": "cbbf04cf",
   "metadata": {},
   "outputs": [],
   "source": []
  },
  {
   "cell_type": "code",
   "execution_count": 65,
   "id": "7d4c5bc0-fe51-4dfd-aab0-888fd479a40b",
   "metadata": {
    "tags": []
   },
   "outputs": [],
   "source": [
    "# instantiate a mock sklearn model which simply looks up the results in a lookup table\n",
    "model = MockModel(fullset, 'utterance', softmax=False, classes=list(range(151)))\n",
    "# fit the test dataset\n",
    "model.fit(X_test, df_test['label'])\n",
    "# extract the test targets from the datasets\n",
    "y_test = df_test['label']\n",
    "\n",
    "# instantiate a mock sklearn model which simply looks up the results in a lookup table\n",
    "model_oos = MockModel(fullset_oos, 'utterance', softmax=False, classes=list(range(151)))\n",
    "model_ood = MockModel(fullset_ood, 'utterance', softmax=False, classes=list(range(151)))\n",
    "# fit the test dataset\n",
    "model_oos.fit(X_test_oos, df_test_oos['label'])\n",
    "# extract the test targets from the datasets\n",
    "y_test_oos = df_test_oos['label']\n",
    "y_test_oos = df_test_oos['label']\n",
    "y_ood = df_ood['label']\n",
    "y_calib = df_calibration['label']\n",
    "y_ood_calib = df_ood_calib['label']\n",
    "y_ood_test = df_ood_test['label']"
   ]
  },
  {
   "cell_type": "code",
   "execution_count": 66,
   "id": "2dacf640-6c20-4f5d-82e9-f694a7fc763d",
   "metadata": {
    "tags": []
   },
   "outputs": [
    {
     "name": "stderr",
     "output_type": "stream",
     "text": [
      "/Users/floris/miniconda3/envs/cicc/lib/python3.12/site-packages/mapie/classification.py:956: UserWarning: WARNING: your calibration dataset has less labels than your training dataset (training has 151 unique labels while calibration have 150 unique labels\n",
      "  warnings.warn(\n",
      "/Users/floris/Documents/archive/publications/cicc/cicc/src/eval.py:101: UserWarning: Warning: converting a masked element to nan.\n",
      "  return float(agg_width)\n"
     ]
    },
    {
     "data": {
      "text/plain": [
       "(0.9877879544823758,\n",
       " 0.9664355062413315,\n",
       " 2.6638655462184873,\n",
       " 0.0011095700416088765)"
      ]
     },
     "execution_count": 66,
     "metadata": {},
     "output_type": "execute_result"
    }
   ],
   "source": [
    "# marginal conformal prediction\n",
    "mapie_marginal = MapieClassifier(estimator=model_ood, cv=\"prefit\", method=\"score\", random_state=42)\n",
    "mapie_marginal.fit(X_calib, df_calibration['label'])\n",
    "y_pred_marginal, y_ps_marginal = mapie_marginal.predict(X_test, alpha=alpha)\n",
    "\n",
    "\n",
    "coverages_marginal = [\n",
    "    classification_coverage_score(y_test, y_ps_marginal[:, :, i])\n",
    "    for i, _ in enumerate(alpha)\n",
    "]\n",
    "cqsize_marginal = [\n",
    "    adjusted_classification_x_width_score(y_ps_marginal[:, :, i], np.mean,max_ps_size)\n",
    "    for i, _ in enumerate(alpha)\n",
    "]\n",
    "single_marginal = [\n",
    "    set_size_equals(y_ps_marginal[:,:,i], 1)\n",
    "    for i, _ in enumerate(alpha)\n",
    "]\n",
    "ambiguous_marginal = [\n",
    "    (y_ps_marginal[:, :, i].sum(axis=1) >= max_ps_size).mean()\n",
    "    for i, _ in enumerate(alpha)\n",
    "]\n",
    "ssc_marginal = [\n",
    "    size_stratified_classification_coverage_score(y_test, y_ps_marginal[:, :, i])\n",
    "    for i, _ in enumerate(alpha)\n",
    "]\n",
    "in_sample = y_test != oos_label\n",
    "selection = in_sample\n",
    "# selection = [True,] * len(y_test)\n",
    "\n",
    "results = cq_stats(y_ps_marginal[selection, :, target_index], y_test[selection], max_ps_size)\n",
    "\n",
    "results\n",
    "write_results('clinc150-bert-cicc', dataset, intent_classifier, 'cicc', results)\n",
    "results"
   ]
  },
  {
   "cell_type": "code",
   "execution_count": 67,
   "id": "22e7584f-d77c-4fe6-a47d-36d2bad9e77c",
   "metadata": {
    "tags": []
   },
   "outputs": [
    {
     "name": "stderr",
     "output_type": "stream",
     "text": [
      "/Users/floris/miniconda3/envs/cicc/lib/python3.12/site-packages/mapie/classification.py:956: UserWarning: WARNING: your calibration dataset has less labels than your training dataset (training has 151 unique labels while calibration have 150 unique labels\n",
      "  warnings.warn(\n"
     ]
    },
    {
     "data": {
      "text/plain": [
       "(0.9959028387474392,\n",
       " 0.8929264909847434,\n",
       " 3.0353535353535355,\n",
       " 0.05464632454923717)"
      ]
     },
     "execution_count": 67,
     "metadata": {},
     "output_type": "execute_result"
    }
   ],
   "source": [
    "# adaptive conformal prediction\n",
    "mapie_adaptive = MapieClassifier(estimator=model, cv=\"prefit\", method=\"cumulated_score\", random_state=42)\n",
    "mapie_adaptive.fit(X_calib, df_calibration['label'])\n",
    "y_pred_adaptive, y_ps_adaptive = mapie_adaptive.predict(X_test, alpha=alpha)\n",
    "\n",
    "\n",
    "coverages_adaptive = [\n",
    "    classification_coverage_score(y_test, y_ps_adaptive[:, :, i])\n",
    "    for i, _ in enumerate(alpha)\n",
    "]\n",
    "cqsize_adaptive = [\n",
    "    adjusted_classification_x_width_score(y_ps_adaptive[:, :, i], np.mean,max_ps_size)\n",
    "    for i, _ in enumerate(alpha)\n",
    "]\n",
    "single_adaptive = [\n",
    "    set_size_equals(y_ps_adaptive[:,:,i], 1)\n",
    "    for i, _ in enumerate(alpha)\n",
    "]\n",
    "ambiguous_adaptive = [\n",
    "    (y_ps_adaptive[:, :, i].sum(axis=1) >= max_ps_size).mean()\n",
    "    for i, _ in enumerate(alpha)\n",
    "]\n",
    "ssc_adaptive = [\n",
    "    size_stratified_classification_coverage_score(y_test, y_ps_adaptive[:, :, i])\n",
    "    for i, _ in enumerate(alpha)\n",
    "]\n",
    "\n",
    "cq_stats(y_ps_adaptive[selection, :, target_index], y_test[selection], max_ps_size)"
   ]
  },
  {
   "cell_type": "code",
   "execution_count": 68,
   "id": "b5878c79-c2cb-4d63-a9cd-16961219311c",
   "metadata": {
    "tags": []
   },
   "outputs": [
    {
     "name": "stderr",
     "output_type": "stream",
     "text": [
      "/Users/floris/miniconda3/envs/cicc/lib/python3.12/site-packages/mapie/classification.py:956: UserWarning: WARNING: your calibration dataset has less labels than your training dataset (training has 151 unique labels while calibration have 150 unique labels\n",
      "  warnings.warn(\n",
      "/Users/floris/Documents/archive/publications/cicc/cicc/src/eval.py:101: UserWarning: Warning: converting a masked element to nan.\n",
      "  return float(agg_width)\n"
     ]
    },
    {
     "data": {
      "text/plain": [
       "(0.9905686546463246, 0.0, 2.0, 0.0)"
      ]
     },
     "execution_count": 68,
     "metadata": {},
     "output_type": "execute_result"
    }
   ],
   "source": [
    "# TOP-K conformal prediction\n",
    "mapie_topk = MapieClassifier(estimator=model, cv=\"prefit\", method=\"top_k\", random_state=42)\n",
    "mapie_topk.fit(X_calib, df_calibration['label'])\n",
    "y_pred_topk, y_ps_topk = mapie_topk.predict(X_test, alpha=alpha)\n",
    "\n",
    "\n",
    "coverages_topk = [\n",
    "    classification_coverage_score(y_test, y_ps_topk[:, :, i])\n",
    "    for i, _ in enumerate(alpha)\n",
    "]\n",
    "cqsize_topk = [\n",
    "    adjusted_classification_x_width_score(y_ps_topk[:, :, i], np.mean,max_ps_size)\n",
    "    for i, _ in enumerate(alpha)\n",
    "]\n",
    "single_topk = [\n",
    "    set_size_equals(y_ps_topk[:,:,i], 1)\n",
    "    for i, _ in enumerate(alpha)\n",
    "]\n",
    "ambiguous_topk = [\n",
    "    (y_ps_topk[:, :, i].sum(axis=1) >= max_ps_size).mean()\n",
    "    for i, _ in enumerate(alpha)\n",
    "]\n",
    "ssc_topk = [\n",
    "    size_stratified_classification_coverage_score(y_test, y_ps_topk[:, :, i])\n",
    "    for i, _ in enumerate(alpha)\n",
    "]\n",
    "\n",
    "cq_stats(y_ps_topk[:, :, target_index], y_test, max_ps_size)"
   ]
  },
  {
   "cell_type": "code",
   "execution_count": 69,
   "id": "802ced47-cf35-4648-9dab-49bc0daabe82",
   "metadata": {
    "tags": []
   },
   "outputs": [
    {
     "name": "stderr",
     "output_type": "stream",
     "text": [
      "/Users/floris/miniconda3/envs/cicc/lib/python3.12/site-packages/mapie/classification.py:956: UserWarning: WARNING: your calibration dataset has less labels than your training dataset (training has 151 unique labels while calibration have 150 unique labels\n",
      "  warnings.warn(\n"
     ]
    },
    {
     "data": {
      "text/plain": [
       "(0.9936199722607489, 0.8244105409153952, 3.4123222748815167, 0.0)"
      ]
     },
     "execution_count": 69,
     "metadata": {},
     "output_type": "execute_result"
    }
   ],
   "source": [
    "# RAPS\n",
    "mapie_raps = MapieClassifier(estimator=model, cv=\"prefit\", method=\"raps\")\n",
    "mapie_raps.fit(X_calib, df_calibration['label'])\n",
    "y_pred_raps, y_ps_raps = mapie_raps.predict(X_test, alpha=alpha)\n",
    "\n",
    "\n",
    "coverages_raps = [\n",
    "    classification_coverage_score(y_test, y_ps_raps[:, :, i])\n",
    "    for i, _ in enumerate(alpha)\n",
    "]\n",
    "cqsize_raps = [\n",
    "    adjusted_classification_x_width_score(y_ps_raps[:, :, i], np.mean,max_ps_size)\n",
    "    for i, _ in enumerate(alpha)\n",
    "]\n",
    "single_raps = [\n",
    "    set_size_equals(y_ps_raps[:,:,i], 1)\n",
    "    for i, _ in enumerate(alpha)\n",
    "]\n",
    "ambiguous_raps = [\n",
    "    (y_ps_raps[:, :, i].sum(axis=1) >= max_ps_size).mean()\n",
    "    for i, _ in enumerate(alpha)\n",
    "]\n",
    "ssc_raps = [\n",
    "    size_stratified_classification_coverage_score(y_test, y_ps_raps[:, :, i])\n",
    "    for i, _ in enumerate(alpha)\n",
    "]\n",
    "\n",
    "raps_stats = cq_stats(y_ps_raps[:, :, target_index], y_test, max_ps_size)\n",
    "raps_stats"
   ]
  },
  {
   "cell_type": "code",
   "execution_count": 12,
   "id": "bdc5c834",
   "metadata": {},
   "outputs": [
    {
     "data": {
      "text/plain": [
       "(0.9947295423023579, 0.8199722607489598, 5.0, 0.0)"
      ]
     },
     "execution_count": 12,
     "metadata": {},
     "output_type": "execute_result"
    }
   ],
   "source": [
    "# heuristic 1: select all classes above a certain cutoff or the top-5 if there are none\n",
    "topk_cutoff = TopKCutoffSelector(estimator=model, cutoff=1-target_alpha, k=5)\n",
    "y_ps_h1 = topk_cutoff.predict(X_test)\n",
    "\n",
    "results = cq_stats(y_ps_h1[selection], y_test[selection], max_ps_size)\n",
    "write_results('clinc150-bert-h1', dataset, intent_classifier, 'h1', results)\n",
    "results_h1 = results"
   ]
  },
  {
   "cell_type": "code",
   "execution_count": 13,
   "id": "0cfd2cbd",
   "metadata": {},
   "outputs": [
    {
     "name": "stderr",
     "output_type": "stream",
     "text": [
      "/Users/floris/Documents/archive/publications/cicc/cicc/src/eval.py:101: UserWarning: Warning: converting a masked element to nan.\n",
      "  return float(agg_width)\n"
     ]
    },
    {
     "data": {
      "text/plain": [
       "(0.9791955617198336, 1.0, nan, 0.0)"
      ]
     },
     "execution_count": 13,
     "metadata": {},
     "output_type": "execute_result"
    }
   ],
   "source": [
    "top_95 = HeuristicCutoffSelector(estimator=model, cutoff=1-target_alpha)\n",
    "y_ps_h2 = top_95.predict(X_test)\n",
    "\n",
    "results = cq_stats(y_ps_h2[selection], y_test[selection], max_ps_size)\n",
    "write_results('clinc150-bert-h2', dataset, intent_classifier, 'h2', results)\n",
    "results_h2 = results"
   ]
  },
  {
   "cell_type": "code",
   "execution_count": 14,
   "id": "630f3659-2e17-4058-a407-9dba6b9fae52",
   "metadata": {
    "tags": []
   },
   "outputs": [
    {
     "data": {
      "text/plain": [
       "(0.996116504854369, 0.0, 5.0, 0.0)"
      ]
     },
     "execution_count": 14,
     "metadata": {},
     "output_type": "execute_result"
    }
   ],
   "source": [
    "topk_5 = TopKSelector(estimator=model, k=5)\n",
    "y_ps_h3 = topk_5.predict(X_test)\n",
    "\n",
    "results = cq_stats(y_ps_h3[selection], y_test[selection], max_ps_size)\n",
    "write_results('clinc150-bert-h3', dataset, intent_classifier, 'h3', results)\n",
    "results_h3 = results"
   ]
  },
  {
   "cell_type": "code",
   "execution_count": 75,
   "id": "41f0663d",
   "metadata": {},
   "outputs": [
    {
     "data": {
      "image/png": "[encoded data removed]",
      "text/plain": [
       "<Figure size 209.974x449.656 with 3 Axes>"
      ]
     },
     "metadata": {},
     "output_type": "display_data"
    }
   ],
   "source": [
    "plot.plot_coverages_widths_multi(\n",
    "        alpha,\n",
    "        [\n",
    "            coverages_marginal,\n",
    "            coverages_adaptive,\n",
    "            coverages_raps,\n",
    "            ],\n",
    "        [\n",
    "            cqsize_marginal,\n",
    "            cqsize_adaptive,\n",
    "            cqsize_raps\n",
    "            ],\n",
    "        ['Marg.', 'Cond.', 'RAPS'],\n",
    "        legend=(2, 'lower left'),\n",
    "        sscs=[\n",
    "            ssc_marginal,\n",
    "            ssc_adaptive,\n",
    "            ssc_raps,\n",
    "        ],\n",
    "        # hlines=(\n",
    "        #     (results_h1[0], ssc_top_5_95, coverages_top_5_95,  'H1', 'dashed'),\n",
    "        #     (widths_mean_top_95, ssc_top_95, coverages_top_95,  'H2', 'dotted'),\n",
    "        #     (widths_mean_topk_5, ssc_topk_5, coverages_topk_5,  'H3', '-.'),\n",
    "        # ),\n",
    "        plot_ssc=True,\n",
    "        markers=('o', 'v', '^',),\n",
    "        dataset=dataset,\n",
    "        model=intent_classifier,\n",
    "        title=\"C150\"\n",
    ")"
   ]
  },
  {
   "cell_type": "code",
   "execution_count": 15,
   "id": "cf84eaa7-7195-42d2-9803-4fc903b380db",
   "metadata": {
    "tags": []
   },
   "outputs": [
    {
     "data": {
      "image/png": "[encoded data removed]",
      "text/plain": [
       "<Figure size 303.149x224.828 with 1 Axes>"
      ]
     },
     "metadata": {},
     "output_type": "display_data"
    }
   ],
   "source": [
    "to_plot = [\n",
    "    (y_ps_marginal, 'marginal', '-', None),\n",
    "    (y_ps_adaptive, 'adaptive', '--', None),\n",
    "    (y_ps_raps, 'RAPS', '-.', None),\n",
    "    # (y_ps_topkmapie, 'TOPK', ':', None),\n",
    "    # (y_ps_top_5_95, 'heuristic a', 'dashed', 'black'),\n",
    "    # (y_ps_top_95,  'heuristic b', 'dotted', 'black'),\n",
    "    # (y_ps_topk_5,  'heuristic c', '-.', 'black'),\n",
    "]\n",
    "fig, ax = plt.subplots(1, 1, figsize=plot.fig_dim_1)\n",
    "for (resultset, label, style, color) in to_plot:\n",
    "    if len(label) > len('heuristic') and label[:len('heuristic')] == 'heuristic':\n",
    "        to_plot_result = resultset\n",
    "    else:\n",
    "        to_plot_result = resultset[:, :, target_index]\n",
    "    ax.plot(\n",
    "        np.cumsum([set_size_equals(to_plot_result, i) for i in range(78)]),\n",
    "        label=label,\n",
    "        linestyle=style,\n",
    "        color=color,\n",
    "        linewidth=3,\n",
    "        alpha=.8)\n",
    "    # ax.set_xscale('log')\n",
    "plt.xlabel('Set size <')\n",
    "plt.ylabel('# samples')\n",
    "plt.title(f'{dataset} {intent_classifier}'.format(target_alpha))\n",
    "plt.legend(handlelength=3.5)\n",
    "plt.tight_layout()\n",
    "plt.savefig(f'results/cum_set_size_{dataset}_{intent_classifier}.png', dpi=1200)"
   ]
  },
  {
   "cell_type": "code",
   "execution_count": 16,
   "id": "8b7d01bf-b41d-4bbb-b121-44c17cb0a631",
   "metadata": {
    "tags": []
   },
   "outputs": [
    {
     "data": {
      "text/plain": [
       "2"
      ]
     },
     "execution_count": 16,
     "metadata": {},
     "output_type": "execute_result"
    }
   ],
   "source": [
    "y_ps_which = y_ps_marginal\n",
    "ambiguous_indices = np.where((y_ps_which[:, :, target_index].sum(axis=1) > max_ps_size))\n",
    "ambiguous = df_test.loc[ambiguous_indices]\n",
    "len(list(zip(ambiguous.index,[ labels[l] for l in ambiguous.label.tolist()], ambiguous.text.tolist())))"
   ]
  },
  {
   "cell_type": "code",
   "execution_count": 17,
   "id": "fb5e7c35-7990-4491-aa61-016575b8f9fb",
   "metadata": {
    "tags": []
   },
   "outputs": [
    {
     "name": "stdout",
     "output_type": "stream",
     "text": [
      "book 3 under the name zebee at xenophobe & restaurant reservation & restaurant reviews, order, change ai name, todo list update, order status, calendar update, goodbye, fun fact \\\\\n",
      "i cracked my card, order a new one & damaged card & report lost card, order, card declined, order status, damaged card, replacement card duration, pay bill, order checks \\\\\n"
     ]
    }
   ],
   "source": [
    "for a in ambiguous.index:\n",
    "    alternatives = np.where(y_ps_which[a, :, target_index])[0]\n",
    "    print(\" & \".join([ambiguous.loc[a].text, labels[ambiguous.loc[a].label].replace(\"_\", \" \"), ', '.join([labels[l].replace(\"_\", \" \") for l in alternatives])]) + \" \\\\\\\\\")"
   ]
  },
  {
   "cell_type": "code",
   "execution_count": null,
   "id": "13ddc9f0",
   "metadata": {},
   "outputs": [],
   "source": []
  },
  {
   "cell_type": "code",
   "execution_count": 18,
   "id": "b9b26fca-9da4-49f2-b15a-020dfa5623d8",
   "metadata": {
    "tags": []
   },
   "outputs": [
    {
     "data": {
      "image/png": "[encoded data removed]",
      "text/plain": [
       "<Figure size 606.299x200 with 3 Axes>"
      ]
     },
     "metadata": {},
     "output_type": "display_data"
    }
   ],
   "source": [
    "label_sorting_map = {i: x for x, i in enumerate(df_train.label.value_counts(sort=True).index)}\n",
    "for i in range(len(labels)):\n",
    "    if i not in label_sorting_map:\n",
    "        label_sorting_map[i] = len(label_sorting_map)\n",
    "fig, axs = plt.subplots(1,3,figsize=(plot.fig_width_in * 2, 2), sharey=True)\n",
    "pd.Series(list(map(lambda x: label_sorting_map[x], df_train.label, ))).hist(bins=N_INTENTS, ax=axs[0])\n",
    "pd.Series(list(map(lambda x: label_sorting_map[x], df_calibration.label, ))).hist(bins=N_INTENTS, ax=axs[1])\n",
    "pd.Series(list(map(lambda x: label_sorting_map[x], df_test.label, ))).hist(bins=N_INTENTS, ax=axs[2])\n",
    "titles = ['Train set', 'Calibration set', 'Test set']\n",
    "[ax.set_xlabel('intent') for ax in axs]\n",
    "[ax.set_title(title) for (ax, title) in zip(axs, titles)]\n",
    "axs[0].set_ylabel('Occurrence')\n",
    "# plt.yticks([]) \n",
    "plt.savefig(f\"results/label_distribution_{dataset}.png\", dpi=1200)\n",
    "plt.show()"
   ]
  },
  {
   "cell_type": "code",
   "execution_count": 19,
   "id": "846e041b",
   "metadata": {},
   "outputs": [
    {
     "data": {
      "text/plain": [
       "151"
      ]
     },
     "execution_count": 19,
     "metadata": {},
     "output_type": "execute_result"
    }
   ],
   "source": [
    "len(label_sorting_map)"
   ]
  },
  {
   "cell_type": "code",
   "execution_count": 20,
   "id": "8e3c1191",
   "metadata": {},
   "outputs": [],
   "source": [
    "cq_inputs = df_test[cq_filter(y_ps_marginal[:, :, target_index], max_ps_size)].text\n",
    "cq_lbls = cq_labels(y_ps_marginal[:, :, target_index], max_ps_size, labels)\n",
    "\n",
    "cqs = []\n",
    "for i, (text, lbls) in enumerate(zip(cq_inputs, cq_lbls)):\n",
    "    cqs.append({\n",
    "        \"id\": i,\n",
    "        \"text\": text,\n",
    "        \"predictions\": lbls,\n",
    "    })\n",
    "\n",
    "with open(f'results/clarification_questions_{dataset}_{intent_classifier}.json', 'w') as f:\n",
    "    json.dump(cqs, f, indent=4)"
   ]
  },
  {
   "cell_type": "code",
   "execution_count": 50,
   "id": "491adf89",
   "metadata": {},
   "outputs": [
    {
     "name": "stdout",
     "output_type": "stream",
     "text": [
      "select alpha = 0.004416666666666667 at index 4 with f1 = 0.9106239460370995 and auc = 0.9692902777777778\n"
     ]
    },
    {
     "name": "stderr",
     "output_type": "stream",
     "text": [
      "/Users/floris/miniconda3/envs/cicc/lib/python3.12/site-packages/mapie/classification.py:956: UserWarning: WARNING: your calibration dataset has less labels than your training dataset (training has 151 unique labels while calibration have 150 unique labels\n",
      "  warnings.warn(\n"
     ]
    }
   ],
   "source": [
    "def to_oos(y_pred_set, max_ps_size):\n",
    "    return y_pred_set.sum(axis=1) > max_ps_size\n",
    "\n",
    "def to_oos_score(y_pred_set):\n",
    "    return y_pred_set.sum(axis=1) / N_INTENTS\n",
    "\n",
    "from sklearn.metrics import roc_auc_score\n",
    "from sklearn.metrics import f1_score\n",
    "from sklearn.metrics import RocCurveDisplay\n",
    "\n",
    "mapie_marginal_ood = MapieClassifier(estimator=model_ood, cv=\"prefit\", method=\"score\", random_state=42)\n",
    "mapie_marginal_ood.fit(X_calib, df_calibration['label'])\n",
    "\n",
    "a_start = 1 / y_ood.shape[0]\n",
    "a_stop = .01\n",
    "a_step = 0.001\n",
    "alpha = np.arange(a_start, a_stop, a_step)\n",
    "y_pred_marginal_ood, y_ps_marginal_ood = mapie_marginal_ood.predict(X_ood_calib, alpha=alpha)\n",
    "\n",
    "f1s = []\n",
    "aucs = []\n",
    "for i in range(len(alpha)):\n",
    "    target_index_ood = i\n",
    "\n",
    "    y_pred_ood = to_oos(y_ps_marginal_ood[:, :, target_index_ood], max_ps_size)\n",
    "    y_preds_ood = [to_oos(y_ps_marginal_ood[:, :, target_index_ood], max_ps_size) for max_ps_size in range(12)]\n",
    "\n",
    "    y_pred_ood_score = to_oos_score(y_ps_marginal_ood[:, :, target_index_ood])\n",
    "    y_true_ood = y_ood_calib == oos_label\n",
    "\n",
    "    y_preds_ood_f1s = [f1_score(y_true_ood, pred) for pred in y_preds_ood]\n",
    "    f1s.append(max(y_preds_ood_f1s))\n",
    "    aucs.append(roc_auc_score(y_true_ood, y_pred_ood_score))\n",
    "\n",
    "f1s = np.array(f1s)\n",
    "aucs = np.array(aucs)\n",
    "\n",
    "selected_alpha_index = f1s.argmax()\n",
    "print(f\"select alpha = {alpha[selected_alpha_index]} at index {selected_alpha_index} with f1 = {f1s[selected_alpha_index]} and auc = {aucs[selected_alpha_index]}\")"
   ]
  },
  {
   "cell_type": "code",
   "execution_count": 51,
   "id": "8257070f",
   "metadata": {},
   "outputs": [
    {
     "data": {
      "text/plain": [
       "0.9955833333333334"
      ]
     },
     "execution_count": 51,
     "metadata": {},
     "output_type": "execute_result"
    }
   ],
   "source": [
    "1-0.004416666666666667"
   ]
  },
  {
   "cell_type": "code",
   "execution_count": 52,
   "id": "3e9706bb",
   "metadata": {},
   "outputs": [
    {
     "name": "stdout",
     "output_type": "stream",
     "text": [
      "optimal threshold at 6 in calibration set\n"
     ]
    }
   ],
   "source": [
    "f1s = np.array(f1s)\n",
    "\n",
    "y_pred_ood = to_oos(y_ps_marginal_ood[:, :, selected_alpha_index], max_ps_size)\n",
    "y_preds_ood = [to_oos(y_ps_marginal_ood[:, :, selected_alpha_index], max_ps_size) for max_ps_size in range(50)]\n",
    "\n",
    "y_pred_ood_score = to_oos_score(y_ps_marginal_ood[:, :, 1])\n",
    "y_true_ood = y_ood_calib == oos_label\n",
    "y_preds_ood_f1s = [f1_score(y_true_ood, pred) for pred in y_preds_ood]\n",
    "optimal_threshold = np.array(y_preds_ood_f1s).argmax()\n",
    "print(f\"optimal threshold at {optimal_threshold} in calibration set\")"
   ]
  },
  {
   "cell_type": "code",
   "execution_count": 53,
   "id": "ed607264",
   "metadata": {},
   "outputs": [
    {
     "name": "stdout",
     "output_type": "stream",
     "text": [
      "F1 OOD on test set: 0.9054054054054055, AUC OOD on test set: 0.9701833333333334\n"
     ]
    },
    {
     "name": "stderr",
     "output_type": "stream",
     "text": [
      "/Users/floris/miniconda3/envs/cicc/lib/python3.12/site-packages/mapie/classification.py:956: UserWarning: WARNING: your calibration dataset has less labels than your training dataset (training has 151 unique labels while calibration have 150 unique labels\n",
      "  warnings.warn(\n"
     ]
    },
    {
     "data": {
      "text/plain": [
       "<sklearn.metrics._plot.roc_curve.RocCurveDisplay at 0x2abd72840>"
      ]
     },
     "execution_count": 53,
     "metadata": {},
     "output_type": "execute_result"
    },
    {
     "data": {
      "image/png": "[encoded data removed]",
      "text/plain": [
       "<Figure size 640x480 with 1 Axes>"
      ]
     },
     "metadata": {},
     "output_type": "display_data"
    }
   ],
   "source": [
    "# marginal conformal prediction\n",
    "mapie_marginal_ood = MapieClassifier(estimator=model_ood, cv=\"prefit\", method=\"score\", random_state=42)\n",
    "mapie_marginal_ood.fit(X_calib, df_calibration['label'])\n",
    "\n",
    "a_start = 1 / y_ood.shape[0]\n",
    "a_stop = .01\n",
    "a_step = 0.001\n",
    "alpha = np.arange(a_start, a_stop, a_step)\n",
    "y_pred_marginal_ood, y_ps_marginal_ood = mapie_marginal.predict(X_ood_test, alpha=alpha)\n",
    "\n",
    "target_index_ood = selected_alpha_index\n",
    "\n",
    "y_pred_ood = to_oos(y_ps_marginal_ood[:, :, target_index_ood], optimal_threshold)\n",
    "y_preds_ood = [to_oos(y_ps_marginal_ood[:, :, target_index_ood], max_ps_size) for max_ps_size in range(50)]\n",
    "\n",
    "y_pred_ood_score = to_oos_score(y_ps_marginal_ood[:, :, target_index_ood])\n",
    "y_true_ood = y_ood_test == oos_label\n",
    "\n",
    "y_preds_ood_f1s = [f1_score(y_true_ood, pred) for pred in y_preds_ood]\n",
    "f1_ood_test = f1_score(y_true_ood, y_pred_ood)\n",
    "auc_ood_test = roc_auc_score(y_true_ood, y_pred_ood_score)\n",
    "print(f\"F1 OOD on test set: {f1_ood_test}, AUC OOD on test set: {auc_ood_test}\")\n",
    "\n",
    "RocCurveDisplay.from_predictions(\n",
    "    y_true_ood,\n",
    "    y_pred_ood_score,\n",
    "    name=\"test\",\n",
    "    color=\"darkorange\",\n",
    "    plot_chance_level=True,\n",
    ")\n"
   ]
  },
  {
   "cell_type": "code",
   "execution_count": 24,
   "id": "d8ab1fcf",
   "metadata": {},
   "outputs": [
    {
     "data": {
      "text/html": [
       "<div>\n",
       "<style scoped>\n",
       "    .dataframe tbody tr th:only-of-type {\n",
       "        vertical-align: middle;\n",
       "    }\n",
       "\n",
       "    .dataframe tbody tr th {\n",
       "        vertical-align: top;\n",
       "    }\n",
       "\n",
       "    .dataframe thead th {\n",
       "        text-align: right;\n",
       "    }\n",
       "</style>\n",
       "<table border=\"1\" class=\"dataframe\">\n",
       "  <thead>\n",
       "    <tr style=\"text-align: right;\">\n",
       "      <th></th>\n",
       "      <th>utterance</th>\n",
       "    </tr>\n",
       "  </thead>\n",
       "  <tbody>\n",
       "    <tr>\n",
       "      <th>1641</th>\n",
       "      <td>test_1755</td>\n",
       "    </tr>\n",
       "    <tr>\n",
       "      <th>571</th>\n",
       "      <td>test_613</td>\n",
       "    </tr>\n",
       "    <tr>\n",
       "      <th>129</th>\n",
       "      <td>test_138</td>\n",
       "    </tr>\n",
       "    <tr>\n",
       "      <th>3443</th>\n",
       "      <td>test_3674</td>\n",
       "    </tr>\n",
       "    <tr>\n",
       "      <th>3596</th>\n",
       "      <td>test_3835</td>\n",
       "    </tr>\n",
       "    <tr>\n",
       "      <th>...</th>\n",
       "      <td>...</td>\n",
       "    </tr>\n",
       "    <tr>\n",
       "      <th>530</th>\n",
       "      <td>ood_530</td>\n",
       "    </tr>\n",
       "    <tr>\n",
       "      <th>90</th>\n",
       "      <td>ood_90</td>\n",
       "    </tr>\n",
       "    <tr>\n",
       "      <th>1161</th>\n",
       "      <td>ood_1161</td>\n",
       "    </tr>\n",
       "    <tr>\n",
       "      <th>181</th>\n",
       "      <td>ood_181</td>\n",
       "    </tr>\n",
       "    <tr>\n",
       "      <th>1026</th>\n",
       "      <td>ood_1026</td>\n",
       "    </tr>\n",
       "  </tbody>\n",
       "</table>\n",
       "<p>1800 rows × 1 columns</p>\n",
       "</div>"
      ],
      "text/plain": [
       "      utterance\n",
       "1641  test_1755\n",
       "571    test_613\n",
       "129    test_138\n",
       "3443  test_3674\n",
       "3596  test_3835\n",
       "...         ...\n",
       "530     ood_530\n",
       "90       ood_90\n",
       "1161   ood_1161\n",
       "181     ood_181\n",
       "1026   ood_1026\n",
       "\n",
       "[1800 rows x 1 columns]"
      ]
     },
     "execution_count": 24,
     "metadata": {},
     "output_type": "execute_result"
    }
   ],
   "source": [
    "X_ood_test"
   ]
  },
  {
   "cell_type": "code",
   "execution_count": 25,
   "id": "88eff694",
   "metadata": {},
   "outputs": [
    {
     "data": {
      "text/plain": [
       "(0.5, 0.973875)"
      ]
     },
     "execution_count": 25,
     "metadata": {},
     "output_type": "execute_result"
    }
   ],
   "source": [
    "f1s[0], aucs[0]"
   ]
  },
  {
   "cell_type": "code",
   "execution_count": 26,
   "id": "9d06a4cf",
   "metadata": {},
   "outputs": [
    {
     "data": {
      "text/plain": [
       "(0.9106239460370995, 4, 0.973875, 0)"
      ]
     },
     "execution_count": 26,
     "metadata": {},
     "output_type": "execute_result"
    }
   ],
   "source": [
    "f1s = np.array(f1s)\n",
    "aucs = np.array(aucs)\n",
    "f1s.max(), f1s.argmax(), aucs.max(), aucs.argmax()"
   ]
  },
  {
   "cell_type": "code",
   "execution_count": 27,
   "id": "24288be8",
   "metadata": {},
   "outputs": [
    {
     "data": {
      "text/plain": [
       "0.9106239460370995"
      ]
     },
     "execution_count": 27,
     "metadata": {},
     "output_type": "execute_result"
    }
   ],
   "source": [
    "f1s.max()"
   ]
  },
  {
   "cell_type": "code",
   "execution_count": 28,
   "id": "f4803b5e",
   "metadata": {},
   "outputs": [],
   "source": [
    "y_pred_ood = to_oos(y_ps_marginal_ood[:, :, 0], max_ps_size)\n",
    "y_pred_ood_score = to_oos_score(y_ps_marginal_ood[:, :, 0])\n",
    "\n"
   ]
  },
  {
   "cell_type": "code",
   "execution_count": 29,
   "id": "0f407e5b",
   "metadata": {},
   "outputs": [
    {
     "data": {
      "text/plain": [
       "(array([190., 274., 224., 161.,  84.,  63.,  45.,  43.,  17.,  25.,  24.,\n",
       "         18.,   6.,  10.,   8.,   4.,   5.,   6.,   4.,   4.,   4.,   5.,\n",
       "          0.,   1.,   0.,   1.,   3.,   2.,   0.,   3.,   0.,   2.,   0.,\n",
       "          4.,   3.,   0.,   2.,   2.,   3.,   1.,   2.,   1.,   5.,   1.,\n",
       "          1.,   1.,   0.,   0.,   0.,   1.,   3.,   4.,   1.,   3.,   3.,\n",
       "          0.,   3.,   1.,   0.,   0.,   3.,   2.,   1.,   0.,   0.,   0.,\n",
       "          0.,   2.,   0.,   2.,   1.,   1.,   1.,   2.,   1.,   3.,   3.,\n",
       "          1.,   0.,   2.,   1.,   2.,   0.,   1.,   0.,   2.,   3.,   1.,\n",
       "          1.,   3.,   0.,   1.,   1.,   3.,   2.,   1.,   1.,   2.,   2.,\n",
       "          0.,   3.,   1.,   1.,   0.,   1.,   1.,   2.,   0.,   0.,   2.,\n",
       "          4.,   0.,   2.,   1.,   0.,   3.,   2.,   5.,   3.,   4.,   2.,\n",
       "          1.,   1.,   4.,   2.,   6.,   5.,   7.,   2.,   2.,   2.,   3.,\n",
       "          2.,   6.,   6.,   7.,   7.,   9.,   5.,   5.,   6.,   9.,   6.,\n",
       "          9.,  10.,  17.,  18.,  27.,  21.,  55., 170.]),\n",
       " array([  1.        ,   1.99337748,   2.98675497,   3.98013245,\n",
       "          4.97350993,   5.96688742,   6.9602649 ,   7.95364238,\n",
       "          8.94701987,   9.94039735,  10.93377483,  11.92715232,\n",
       "         12.9205298 ,  13.91390728,  14.90728477,  15.90066225,\n",
       "         16.89403974,  17.88741722,  18.8807947 ,  19.87417219,\n",
       "         20.86754967,  21.86092715,  22.85430464,  23.84768212,\n",
       "         24.8410596 ,  25.83443709,  26.82781457,  27.82119205,\n",
       "         28.81456954,  29.80794702,  30.8013245 ,  31.79470199,\n",
       "         32.78807947,  33.78145695,  34.77483444,  35.76821192,\n",
       "         36.7615894 ,  37.75496689,  38.74834437,  39.74172185,\n",
       "         40.73509934,  41.72847682,  42.7218543 ,  43.71523179,\n",
       "         44.70860927,  45.70198675,  46.69536424,  47.68874172,\n",
       "         48.68211921,  49.67549669,  50.66887417,  51.66225166,\n",
       "         52.65562914,  53.64900662,  54.64238411,  55.63576159,\n",
       "         56.62913907,  57.62251656,  58.61589404,  59.60927152,\n",
       "         60.60264901,  61.59602649,  62.58940397,  63.58278146,\n",
       "         64.57615894,  65.56953642,  66.56291391,  67.55629139,\n",
       "         68.54966887,  69.54304636,  70.53642384,  71.52980132,\n",
       "         72.52317881,  73.51655629,  74.50993377,  75.50331126,\n",
       "         76.49668874,  77.49006623,  78.48344371,  79.47682119,\n",
       "         80.47019868,  81.46357616,  82.45695364,  83.45033113,\n",
       "         84.44370861,  85.43708609,  86.43046358,  87.42384106,\n",
       "         88.41721854,  89.41059603,  90.40397351,  91.39735099,\n",
       "         92.39072848,  93.38410596,  94.37748344,  95.37086093,\n",
       "         96.36423841,  97.35761589,  98.35099338,  99.34437086,\n",
       "        100.33774834, 101.33112583, 102.32450331, 103.31788079,\n",
       "        104.31125828, 105.30463576, 106.29801325, 107.29139073,\n",
       "        108.28476821, 109.2781457 , 110.27152318, 111.26490066,\n",
       "        112.25827815, 113.25165563, 114.24503311, 115.2384106 ,\n",
       "        116.23178808, 117.22516556, 118.21854305, 119.21192053,\n",
       "        120.20529801, 121.1986755 , 122.19205298, 123.18543046,\n",
       "        124.17880795, 125.17218543, 126.16556291, 127.1589404 ,\n",
       "        128.15231788, 129.14569536, 130.13907285, 131.13245033,\n",
       "        132.12582781, 133.1192053 , 134.11258278, 135.10596026,\n",
       "        136.09933775, 137.09271523, 138.08609272, 139.0794702 ,\n",
       "        140.07284768, 141.06622517, 142.05960265, 143.05298013,\n",
       "        144.04635762, 145.0397351 , 146.03311258, 147.02649007,\n",
       "        148.01986755, 149.01324503, 150.00662252, 151.        ]),\n",
       " <BarContainer object of 151 artists>)"
      ]
     },
     "execution_count": 29,
     "metadata": {},
     "output_type": "execute_result"
    },
    {
     "data": {
      "image/png": "[encoded data removed]",
      "text/plain": [
       "<Figure size 640x480 with 1 Axes>"
      ]
     },
     "metadata": {},
     "output_type": "display_data"
    }
   ],
   "source": [
    "plt.hist(y_ps_marginal_ood[:, :, 1].sum(axis=1), bins=N_INTENTS)"
   ]
  },
  {
   "cell_type": "code",
   "execution_count": null,
   "id": "89260bdb",
   "metadata": {},
   "outputs": [],
   "source": []
  },
  {
   "cell_type": "code",
   "execution_count": 30,
   "id": "1d329549",
   "metadata": {},
   "outputs": [
    {
     "data": {
      "text/plain": [
       "0.645"
      ]
     },
     "execution_count": 30,
     "metadata": {},
     "output_type": "execute_result"
    }
   ],
   "source": [
    "cicc_pred_ood = np.where(y_ps_marginal_ood[:, :, 1].sum(axis=1) > optimal_threshold)[0]\n",
    "cicc_pred_id = np.where(y_ps_marginal_ood[:, :, 1].sum(axis=1) <= optimal_threshold)[0]\n",
    "\n",
    "# accuracy\n",
    "((y_ood.iloc[cicc_pred_ood] == 42).sum() + (y_ood.iloc[cicc_pred_id] != 42).sum()) / y_ood.shape[0]"
   ]
  },
  {
   "cell_type": "code",
   "execution_count": 31,
   "id": "1ab1eaf3",
   "metadata": {},
   "outputs": [
    {
     "data": {
      "text/plain": [
       "array([   6,   18,   22,   24,   28,   41,   45,   50,   52,   65,   68,\n",
       "         69,   70,   78,   81,   83,   84,   89,   91,  107,  109,  115,\n",
       "        118,  122,  124,  137,  138,  142,  146,  149,  155,  174,  175,\n",
       "        183,  185,  190,  197,  204,  213,  214,  220,  243,  248,  250,\n",
       "        253,  259,  260,  263,  266,  268,  276,  282,  283,  291,  302,\n",
       "        303,  304,  308,  309,  311,  328,  339,  343,  348,  374,  385,\n",
       "        387,  396,  401,  402,  406,  412,  421,  431,  432,  435,  437,\n",
       "        439,  440,  442,  446,  455,  457,  464,  471,  474,  477,  481,\n",
       "        485,  491,  493,  496,  497,  501,  510,  520,  524,  525,  526,\n",
       "        532,  534,  535,  546,  549,  560,  562,  563,  565,  568,  571,\n",
       "        575,  588,  593,  603,  604,  605,  606,  612,  615,  617,  618,\n",
       "        621,  627,  630,  635,  640,  654,  660,  661,  666,  679,  689,\n",
       "        690,  696,  700,  704,  710,  712,  714,  718,  722,  724,  727,\n",
       "        730,  732,  735,  743,  756,  757,  774,  776,  779,  784,  785,\n",
       "        789,  792,  793,  796,  803,  818,  826,  831,  833,  835,  836,\n",
       "        848,  856,  870,  873,  878,  880,  888,  896,  906,  907,  908,\n",
       "        914,  943,  953,  954,  955,  961,  963,  964,  973,  981,  984,\n",
       "        987,  988,  996,  998, 1000, 1005, 1022, 1034, 1036, 1040, 1041,\n",
       "       1050, 1066, 1068, 1073, 1075, 1092, 1101, 1103, 1105, 1108, 1113,\n",
       "       1116, 1117, 1119, 1120, 1123, 1124, 1127, 1129, 1138, 1139, 1152,\n",
       "       1161, 1175, 1178, 1179, 1182, 1184, 1191, 1192, 1200, 1201, 1202,\n",
       "       1203, 1204, 1205, 1206, 1207, 1208, 1209, 1210, 1211, 1212, 1213,\n",
       "       1214, 1215, 1216, 1217, 1218, 1219, 1220, 1221, 1222, 1223, 1224,\n",
       "       1225, 1226, 1227, 1228, 1229, 1230, 1231, 1232, 1233, 1234, 1235,\n",
       "       1236, 1237, 1238, 1239, 1240, 1241, 1242, 1243, 1244, 1245, 1246,\n",
       "       1247, 1248, 1249, 1250, 1251, 1252, 1253, 1254, 1255, 1256, 1257,\n",
       "       1258, 1259, 1260, 1261, 1262, 1263, 1264, 1265, 1266, 1267, 1268,\n",
       "       1269, 1270, 1271, 1272, 1273, 1274, 1275, 1276, 1277, 1278, 1279,\n",
       "       1280, 1281, 1282, 1283, 1284, 1285, 1286, 1287, 1288, 1289, 1290,\n",
       "       1291, 1292, 1293, 1294, 1295, 1296, 1297, 1298, 1299, 1300, 1301,\n",
       "       1302, 1303, 1304, 1305, 1306, 1307, 1308, 1309, 1310, 1311, 1312,\n",
       "       1313, 1314, 1315, 1316, 1317, 1318, 1319, 1320, 1321, 1322, 1323,\n",
       "       1324, 1325, 1326, 1327, 1328, 1329, 1330, 1331, 1332, 1333, 1334,\n",
       "       1335, 1336, 1337, 1338, 1339, 1340, 1341, 1342, 1343, 1344, 1345,\n",
       "       1346, 1347, 1348, 1349, 1350, 1351, 1352, 1353, 1354, 1355, 1356,\n",
       "       1357, 1358, 1360, 1361, 1362, 1363, 1364, 1365, 1367, 1368, 1369,\n",
       "       1370, 1371, 1372, 1373, 1374, 1375, 1376, 1377, 1378, 1379, 1380,\n",
       "       1381, 1382, 1383, 1384, 1385, 1386, 1387, 1388, 1389, 1390, 1391,\n",
       "       1392, 1393, 1394, 1395, 1396, 1397, 1398, 1399, 1400, 1401, 1402,\n",
       "       1403, 1404, 1405, 1406, 1407, 1408, 1409, 1410, 1412, 1413, 1414,\n",
       "       1415, 1416, 1417, 1418, 1419, 1420, 1421, 1422, 1423, 1424, 1425,\n",
       "       1426, 1427, 1428, 1429, 1430, 1431, 1432, 1433, 1434, 1435, 1436,\n",
       "       1437, 1438, 1439, 1440, 1441, 1442, 1443, 1444, 1447, 1448, 1449,\n",
       "       1450, 1451, 1452, 1453, 1454, 1455, 1456, 1457, 1458, 1459, 1460,\n",
       "       1461, 1462, 1463, 1464, 1465, 1466, 1467, 1468, 1469, 1470, 1471,\n",
       "       1472, 1473, 1474, 1475, 1476, 1477, 1478, 1479, 1480, 1481, 1482,\n",
       "       1483, 1484, 1485, 1486, 1487, 1488, 1489, 1491, 1492, 1493, 1494,\n",
       "       1495, 1497, 1498, 1500, 1501, 1502, 1503, 1504, 1505, 1506, 1507,\n",
       "       1508, 1509, 1510, 1511, 1512, 1513, 1514, 1515, 1516, 1517, 1518,\n",
       "       1519, 1520, 1522, 1523, 1524, 1525, 1526, 1527, 1529, 1530, 1531,\n",
       "       1532, 1533, 1534, 1535, 1536, 1537, 1538, 1539, 1540, 1541, 1542,\n",
       "       1543, 1544, 1545, 1546, 1547, 1548, 1550, 1551, 1552, 1553, 1554,\n",
       "       1555, 1556, 1557, 1558, 1559, 1560, 1561, 1562, 1563, 1564, 1565,\n",
       "       1567, 1568, 1569, 1570, 1571, 1572, 1573, 1574, 1575, 1577, 1578,\n",
       "       1579, 1580, 1581, 1582, 1583, 1584, 1585, 1586, 1587, 1588, 1589,\n",
       "       1590, 1591, 1592, 1593, 1594, 1595, 1596, 1597, 1598, 1599, 1600,\n",
       "       1601, 1602, 1603, 1604, 1605, 1606, 1607, 1608, 1609, 1610, 1611,\n",
       "       1612, 1613, 1614, 1615, 1616, 1617, 1618, 1619, 1620, 1621, 1622,\n",
       "       1623, 1624, 1625, 1626, 1627, 1628, 1629, 1630, 1632, 1633, 1634,\n",
       "       1635, 1636, 1637, 1638, 1639, 1640, 1641, 1643, 1644, 1645, 1646,\n",
       "       1647, 1648, 1649, 1650, 1651, 1653, 1654, 1655, 1656, 1657, 1658,\n",
       "       1659, 1660, 1661, 1663, 1664, 1665, 1666, 1668, 1669, 1670, 1671,\n",
       "       1672, 1673, 1674, 1675, 1676, 1677, 1678, 1679, 1680, 1681, 1682,\n",
       "       1683, 1684, 1685, 1686, 1687, 1688, 1689, 1690, 1691, 1692, 1693,\n",
       "       1696, 1697, 1698, 1699, 1700, 1701, 1702, 1703, 1704, 1705, 1706,\n",
       "       1707, 1708, 1711, 1712, 1713, 1714, 1715, 1716, 1717, 1718, 1719,\n",
       "       1720, 1721, 1722, 1723, 1724, 1725, 1726, 1727, 1729, 1730, 1731,\n",
       "       1732, 1733, 1734, 1735, 1736, 1737, 1738, 1739, 1740, 1741, 1742,\n",
       "       1743, 1744, 1745, 1746, 1747, 1748, 1749, 1750, 1751, 1752, 1753,\n",
       "       1754, 1755, 1756, 1757, 1758, 1759, 1760, 1761, 1762, 1763, 1764,\n",
       "       1765, 1766, 1767, 1768, 1769, 1770, 1771, 1772, 1773, 1774, 1775,\n",
       "       1776, 1777, 1778, 1779, 1781, 1782, 1783, 1784, 1785, 1786, 1787,\n",
       "       1788, 1789, 1790, 1791, 1792, 1793, 1794, 1795, 1796, 1797, 1798,\n",
       "       1799])"
      ]
     },
     "execution_count": 31,
     "metadata": {},
     "output_type": "execute_result"
    }
   ],
   "source": [
    "cicc_pred_ood"
   ]
  },
  {
   "cell_type": "code",
   "execution_count": 32,
   "id": "0cb86e3d",
   "metadata": {},
   "outputs": [
    {
     "data": {
      "text/plain": [
       "(2400,)"
      ]
     },
     "execution_count": 32,
     "metadata": {},
     "output_type": "execute_result"
    }
   ],
   "source": [
    "y_ood.shape"
   ]
  },
  {
   "cell_type": "code",
   "execution_count": 33,
   "id": "791429cb",
   "metadata": {},
   "outputs": [],
   "source": [
    "pd.Series(np.cumsum([set_size_equals(y_ps_marginal[:, :, target_index], i) for i in range(N_INTENTS+1)])).to_csv(f'results/cum_{dataset}_{intent_classifier}.csv')"
   ]
  },
  {
   "cell_type": "code",
   "execution_count": 34,
   "id": "4969ea6f",
   "metadata": {},
   "outputs": [],
   "source": [
    "pd.Series(np.cumsum([set_size_equals(y_ps_marginal_ood[:, :, -1], i) for i in range(N_INTENTS+1)])).to_csv(f'results/cum_{dataset}_{intent_classifier}_ood.csv')"
   ]
  },
  {
   "cell_type": "code",
   "execution_count": 35,
   "id": "1ab0ecd2",
   "metadata": {},
   "outputs": [
    {
     "data": {
      "text/plain": [
       "1276"
      ]
     },
     "execution_count": 35,
     "metadata": {},
     "output_type": "execute_result"
    }
   ],
   "source": [
    "set_size_equals(y_ps_marginal_ood[:, :, -1], 1)"
   ]
  },
  {
   "cell_type": "code",
   "execution_count": 36,
   "id": "8302dfba",
   "metadata": {},
   "outputs": [
    {
     "data": {
      "text/plain": [
       "array([[[False, False, False, ..., False, False, False],\n",
       "        [ True, False, False, ..., False, False, False],\n",
       "        [ True, False, False, ..., False, False, False],\n",
       "        ...,\n",
       "        [ True, False, False, ..., False, False, False],\n",
       "        [False, False, False, ..., False, False, False],\n",
       "        [ True, False, False, ..., False, False, False]],\n",
       "\n",
       "       [[ True, False, False, ..., False, False, False],\n",
       "        [ True, False, False, ..., False, False, False],\n",
       "        [ True, False, False, ..., False, False, False],\n",
       "        ...,\n",
       "        [False, False, False, ..., False, False, False],\n",
       "        [False, False, False, ..., False, False, False],\n",
       "        [False, False, False, ..., False, False, False]],\n",
       "\n",
       "       [[ True, False, False, ..., False, False, False],\n",
       "        [ True, False, False, ..., False, False, False],\n",
       "        [ True, False, False, ..., False, False, False],\n",
       "        ...,\n",
       "        [False, False, False, ..., False, False, False],\n",
       "        [False, False, False, ..., False, False, False],\n",
       "        [False, False, False, ..., False, False, False]],\n",
       "\n",
       "       ...,\n",
       "\n",
       "       [[ True,  True,  True, ..., False, False, False],\n",
       "        [ True,  True,  True, ..., False, False, False],\n",
       "        [ True,  True,  True, ..., False, False, False],\n",
       "        ...,\n",
       "        [ True,  True,  True, ..., False, False, False],\n",
       "        [ True,  True,  True, ..., False, False, False],\n",
       "        [ True,  True,  True, ..., False, False, False]],\n",
       "\n",
       "       [[False, False, False, ..., False, False, False],\n",
       "        [False, False, False, ..., False, False, False],\n",
       "        [ True, False, False, ..., False, False, False],\n",
       "        ...,\n",
       "        [ True, False, False, ..., False, False, False],\n",
       "        [ True, False, False, ..., False, False, False],\n",
       "        [False, False, False, ..., False, False, False]],\n",
       "\n",
       "       [[ True,  True, False, ..., False, False, False],\n",
       "        [ True,  True,  True, ..., False, False, False],\n",
       "        [ True,  True,  True, ..., False, False, False],\n",
       "        ...,\n",
       "        [ True,  True,  True, ..., False, False, False],\n",
       "        [ True, False, False, ..., False, False, False],\n",
       "        [ True,  True,  True, ..., False, False, False]]])"
      ]
     },
     "execution_count": 36,
     "metadata": {},
     "output_type": "execute_result"
    }
   ],
   "source": [
    "y_ps_marginal_ood"
   ]
  },
  {
   "cell_type": "code",
   "execution_count": 37,
   "id": "c5781e89",
   "metadata": {},
   "outputs": [
    {
     "name": "stdout",
     "output_type": "stream",
     "text": [
      "F1 OOD on test set: 0.0676328502415459, AUC OOD on test set: 0.8781819444444445\n"
     ]
    }
   ],
   "source": [
    "a_start = 0.01\n",
    "a_stop = .4\n",
    "a_step = 0.01\n",
    "alpha = np.arange(a_start, a_stop, a_step)\n",
    "\n",
    "max_ps_size = math.ceil(N_INTENTS * .25)\n",
    "max_ps_size = 7\n",
    "\n",
    "target_alpha = .01\n",
    "target_index = index_for_arange(a_start, a_step ,target_alpha)\n",
    "y_pred_marginal_vood, y_ps_marginal_vood = mapie_marginal.predict(X_ood_test, alpha=alpha)\n",
    "\n",
    "y_pred_vood = to_oos(y_ps_marginal_vood[:, :, target_index], max_ps_size)\n",
    "y_preds_vood = [to_oos(y_ps_marginal_vood[:, :, target_index], max_ps_size) for max_ps_size in range(50)]\n",
    "\n",
    "y_pred_vood_score = to_oos_score(y_ps_marginal_vood[:, :, target_index])\n",
    "y_true_vood = y_ood_test == oos_label\n",
    "\n",
    "f1_vood_test = f1_score(y_true_vood, y_pred_vood)\n",
    "auc_vood_test = roc_auc_score(y_true_vood, y_pred_vood_score)\n",
    "print(f\"F1 OOD on test set: {f1_vood_test}, AUC OOD on test set: {auc_vood_test}\")\n"
   ]
  },
  {
   "cell_type": "code",
   "execution_count": null,
   "id": "1e16681d",
   "metadata": {},
   "outputs": [],
   "source": []
  }
 ],
 "metadata": {
  "kernelspec": {
   "display_name": "Python 3 (ipykernel)",
   "language": "python",
   "name": "python3"
  },
  "language_info": {
   "codemirror_mode": {
    "name": "ipython",
    "version": 3
   },
   "file_extension": ".py",
   "mimetype": "text/x-python",
   "name": "python",
   "nbconvert_exporter": "python",
   "pygments_lexer": "ipython3",
   "version": "3.12.0"
  }
 },
 "nbformat": 4,
 "nbformat_minor": 5
}

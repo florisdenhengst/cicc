{
 "cells": [
  {
   "cell_type": "code",
   "execution_count": 1,
   "id": "ddb87912-eef5-4e35-9ab7-b070caf1eb64",
   "metadata": {
    "tags": []
   },
   "outputs": [],
   "source": [
    "import math\n",
    "import numpy as np\n",
    "import pandas as pd\n",
    "from mapie.classification import MapieClassifier\n",
    "from mapie.metrics import classification_coverage_score, classification_mean_width_score\n",
    "import matplotlib.pyplot as plt\n",
    "import json\n",
    "\n",
    "from src.model import MockModel\n",
    "from src.utils import index_for_arange, write_results, cq_filter, cq_labels\n",
    "import src.plot as plot\n",
    "from src.eval import (\n",
    "    adjusted_classification_x_width_score,\n",
    "    size_stratified_classification_coverage_score,\n",
    "    cq_stats,\n",
    "    set_size_equals,\n",
    ")\n",
    "from src.heuristics import TopKSelector, HeuristicCutoffSelector, TopKCutoffSelector"
   ]
  },
  {
   "cell_type": "code",
   "execution_count": 2,
   "id": "8ab6a230-0e0d-422d-876b-0d85b4cb074a",
   "metadata": {
    "tags": []
   },
   "outputs": [
    {
     "data": {
      "text/plain": [
       "26"
      ]
     },
     "execution_count": 2,
     "metadata": {},
     "output_type": "execute_result"
    }
   ],
   "source": [
    "# load data\n",
    "dataset = 'atis'\n",
    "intent_classifier = 'bert'\n",
    "data_dir = f'data/{dataset}/{intent_classifier}/'\n",
    "\n",
    "df_train_preds = pd.read_csv(data_dir + \"train_predictions.csv\")\n",
    "df_test_preds = pd.read_csv(data_dir + \"test_predictions.csv\")\n",
    "df_calibration_preds = pd.read_csv(data_dir + \"calibration_predictions.csv\")\n",
    "\n",
    "labels = pd.read_csv(data_dir+'/labels.csv', header=0, names=['index','label'])\n",
    "labels = list(labels.label)\n",
    "N_INTENTS = len(labels)\n",
    "N_INTENTS"
   ]
  },
  {
   "cell_type": "code",
   "execution_count": 3,
   "id": "894d9cd0-64d3-425d-889a-dcd0055be9d7",
   "metadata": {
    "tags": []
   },
   "outputs": [
    {
     "data": {
      "text/plain": [
       "(3522, 1175, 1174)"
      ]
     },
     "execution_count": 3,
     "metadata": {},
     "output_type": "execute_result"
    }
   ],
   "source": [
    "# check train-calibration-test split sizes\n",
    "df_train_preds.shape[0], df_calibration_preds.shape[0], df_test_preds.shape[0]"
   ]
  },
  {
   "cell_type": "code",
   "execution_count": 4,
   "id": "84a844f0-da86-4e9f-94d6-e603194a6cd5",
   "metadata": {
    "tags": []
   },
   "outputs": [],
   "source": [
    "# apply some basic transformations\n",
    "df_train = df_train_preds.reset_index().rename(columns={'index': 'utterance'})\n",
    "df_test = df_test_preds.reset_index().rename(columns={'index': 'utterance'})\n",
    "df_calibration = df_calibration_preds.reset_index().rename(columns={'index': 'utterance'})\n",
    "\n",
    "df_train['utterance'] = df_train['utterance'].apply(lambda h: 'train_' + str(h))\n",
    "df_test['utterance'] = df_test['utterance'].apply(lambda h: 'test_' + str(h))\n",
    "df_calibration['utterance'] = df_calibration['utterance'].apply(lambda h: 'cal_' + str(h))\n",
    "\n",
    "df_train['utterance'] = df_train['utterance'].astype(str)\n",
    "df_test['utterance'] = df_test['utterance'].astype(str)\n",
    "df_calibration['utterance'] = df_calibration['utterance'].astype(str)"
   ]
  },
  {
   "cell_type": "code",
   "execution_count": 5,
   "id": "a1dd2945-3fb7-4ca7-9325-397719061827",
   "metadata": {
    "tags": []
   },
   "outputs": [
    {
     "data": {
      "text/html": [
       "<div>\n",
       "<style scoped>\n",
       "    .dataframe tbody tr th:only-of-type {\n",
       "        vertical-align: middle;\n",
       "    }\n",
       "\n",
       "    .dataframe tbody tr th {\n",
       "        vertical-align: top;\n",
       "    }\n",
       "\n",
       "    .dataframe thead th {\n",
       "        text-align: right;\n",
       "    }\n",
       "</style>\n",
       "<table border=\"1\" class=\"dataframe\">\n",
       "  <thead>\n",
       "    <tr style=\"text-align: right;\">\n",
       "      <th></th>\n",
       "      <th>utterance</th>\n",
       "      <th>label_0</th>\n",
       "      <th>label_1</th>\n",
       "      <th>label_2</th>\n",
       "      <th>label_3</th>\n",
       "      <th>label_4</th>\n",
       "      <th>label_5</th>\n",
       "      <th>label_6</th>\n",
       "      <th>label_7</th>\n",
       "      <th>label_8</th>\n",
       "      <th>...</th>\n",
       "      <th>label_16</th>\n",
       "      <th>label_17</th>\n",
       "      <th>label_18</th>\n",
       "      <th>label_19</th>\n",
       "      <th>label_20</th>\n",
       "      <th>label_21</th>\n",
       "      <th>label_22</th>\n",
       "      <th>label_23</th>\n",
       "      <th>label_24</th>\n",
       "      <th>label_25</th>\n",
       "    </tr>\n",
       "  </thead>\n",
       "  <tbody>\n",
       "    <tr>\n",
       "      <th>0</th>\n",
       "      <td>test_0</td>\n",
       "      <td>0.005376</td>\n",
       "      <td>0.020964</td>\n",
       "      <td>0.008766</td>\n",
       "      <td>0.001087</td>\n",
       "      <td>0.010478</td>\n",
       "      <td>0.004582</td>\n",
       "      <td>0.003384</td>\n",
       "      <td>0.009285</td>\n",
       "      <td>0.770127</td>\n",
       "      <td>...</td>\n",
       "      <td>0.007280</td>\n",
       "      <td>0.007319</td>\n",
       "      <td>0.010551</td>\n",
       "      <td>0.006741</td>\n",
       "      <td>0.016093</td>\n",
       "      <td>0.029515</td>\n",
       "      <td>0.012482</td>\n",
       "      <td>0.012054</td>\n",
       "      <td>0.002456</td>\n",
       "      <td>0.008578</td>\n",
       "    </tr>\n",
       "    <tr>\n",
       "      <th>1</th>\n",
       "      <td>test_1</td>\n",
       "      <td>0.000051</td>\n",
       "      <td>0.000076</td>\n",
       "      <td>0.000036</td>\n",
       "      <td>0.000105</td>\n",
       "      <td>0.000040</td>\n",
       "      <td>0.000039</td>\n",
       "      <td>0.000062</td>\n",
       "      <td>0.000067</td>\n",
       "      <td>0.000054</td>\n",
       "      <td>...</td>\n",
       "      <td>0.000069</td>\n",
       "      <td>0.000047</td>\n",
       "      <td>0.000049</td>\n",
       "      <td>0.000126</td>\n",
       "      <td>0.000022</td>\n",
       "      <td>0.000237</td>\n",
       "      <td>0.000043</td>\n",
       "      <td>0.000061</td>\n",
       "      <td>0.000026</td>\n",
       "      <td>0.000058</td>\n",
       "    </tr>\n",
       "    <tr>\n",
       "      <th>2</th>\n",
       "      <td>test_2</td>\n",
       "      <td>0.000046</td>\n",
       "      <td>0.000089</td>\n",
       "      <td>0.000035</td>\n",
       "      <td>0.000075</td>\n",
       "      <td>0.000039</td>\n",
       "      <td>0.000036</td>\n",
       "      <td>0.000063</td>\n",
       "      <td>0.000063</td>\n",
       "      <td>0.000055</td>\n",
       "      <td>...</td>\n",
       "      <td>0.000068</td>\n",
       "      <td>0.000048</td>\n",
       "      <td>0.000048</td>\n",
       "      <td>0.000122</td>\n",
       "      <td>0.000021</td>\n",
       "      <td>0.000163</td>\n",
       "      <td>0.000041</td>\n",
       "      <td>0.000065</td>\n",
       "      <td>0.000029</td>\n",
       "      <td>0.000055</td>\n",
       "    </tr>\n",
       "    <tr>\n",
       "      <th>3</th>\n",
       "      <td>test_3</td>\n",
       "      <td>0.000042</td>\n",
       "      <td>0.000078</td>\n",
       "      <td>0.000033</td>\n",
       "      <td>0.000078</td>\n",
       "      <td>0.000040</td>\n",
       "      <td>0.000034</td>\n",
       "      <td>0.000057</td>\n",
       "      <td>0.000060</td>\n",
       "      <td>0.000053</td>\n",
       "      <td>...</td>\n",
       "      <td>0.000067</td>\n",
       "      <td>0.000047</td>\n",
       "      <td>0.000046</td>\n",
       "      <td>0.000112</td>\n",
       "      <td>0.000020</td>\n",
       "      <td>0.000154</td>\n",
       "      <td>0.000039</td>\n",
       "      <td>0.000065</td>\n",
       "      <td>0.000027</td>\n",
       "      <td>0.000053</td>\n",
       "    </tr>\n",
       "    <tr>\n",
       "      <th>4</th>\n",
       "      <td>test_4</td>\n",
       "      <td>0.000043</td>\n",
       "      <td>0.000083</td>\n",
       "      <td>0.000034</td>\n",
       "      <td>0.000078</td>\n",
       "      <td>0.000041</td>\n",
       "      <td>0.000035</td>\n",
       "      <td>0.000053</td>\n",
       "      <td>0.000061</td>\n",
       "      <td>0.000054</td>\n",
       "      <td>...</td>\n",
       "      <td>0.000067</td>\n",
       "      <td>0.000048</td>\n",
       "      <td>0.000047</td>\n",
       "      <td>0.000122</td>\n",
       "      <td>0.000021</td>\n",
       "      <td>0.000156</td>\n",
       "      <td>0.000039</td>\n",
       "      <td>0.000064</td>\n",
       "      <td>0.000027</td>\n",
       "      <td>0.000054</td>\n",
       "    </tr>\n",
       "  </tbody>\n",
       "</table>\n",
       "<p>5 rows × 27 columns</p>\n",
       "</div>"
      ],
      "text/plain": [
       "  utterance   label_0   label_1   label_2   label_3   label_4   label_5  \\\n",
       "0    test_0  0.005376  0.020964  0.008766  0.001087  0.010478  0.004582   \n",
       "1    test_1  0.000051  0.000076  0.000036  0.000105  0.000040  0.000039   \n",
       "2    test_2  0.000046  0.000089  0.000035  0.000075  0.000039  0.000036   \n",
       "3    test_3  0.000042  0.000078  0.000033  0.000078  0.000040  0.000034   \n",
       "4    test_4  0.000043  0.000083  0.000034  0.000078  0.000041  0.000035   \n",
       "\n",
       "    label_6   label_7   label_8  ...  label_16  label_17  label_18  label_19  \\\n",
       "0  0.003384  0.009285  0.770127  ...  0.007280  0.007319  0.010551  0.006741   \n",
       "1  0.000062  0.000067  0.000054  ...  0.000069  0.000047  0.000049  0.000126   \n",
       "2  0.000063  0.000063  0.000055  ...  0.000068  0.000048  0.000048  0.000122   \n",
       "3  0.000057  0.000060  0.000053  ...  0.000067  0.000047  0.000046  0.000112   \n",
       "4  0.000053  0.000061  0.000054  ...  0.000067  0.000048  0.000047  0.000122   \n",
       "\n",
       "   label_20  label_21  label_22  label_23  label_24  label_25  \n",
       "0  0.016093  0.029515  0.012482  0.012054  0.002456  0.008578  \n",
       "1  0.000022  0.000237  0.000043  0.000061  0.000026  0.000058  \n",
       "2  0.000021  0.000163  0.000041  0.000065  0.000029  0.000055  \n",
       "3  0.000020  0.000154  0.000039  0.000065  0.000027  0.000053  \n",
       "4  0.000021  0.000156  0.000039  0.000064  0.000027  0.000054  \n",
       "\n",
       "[5 rows x 27 columns]"
      ]
     },
     "execution_count": 5,
     "metadata": {},
     "output_type": "execute_result"
    }
   ],
   "source": [
    "# merge datasets to single frame\n",
    "fullset = pd.concat([df_test, df_calibration], ignore_index=True)\n",
    "assert fullset.utterance.value_counts().max() == 1, \"Hashes/utterances should be unique in full set\"\n",
    "fullset = fullset.drop(['label', 'hash', 'text'], axis=1)\n",
    "fullset.head()"
   ]
  },
  {
   "cell_type": "code",
   "execution_count": 6,
   "id": "5e9b56da-47f0-47a0-813f-2635fa283889",
   "metadata": {
    "tags": []
   },
   "outputs": [],
   "source": [
    "# parameters for evaluation\n",
    "X_train = fullset[['utterance']]\n",
    "X_calib = df_calibration[['utterance']]\n",
    "X_test = df_test[['utterance']]\n",
    "\n",
    "a_start = 0.01\n",
    "a_stop = .4\n",
    "a_step = 0.01\n",
    "alpha = np.arange(a_start, a_stop, a_step)\n",
    "\n",
    "max_ps_size = math.ceil(N_INTENTS * .25)\n",
    "max_ps_size = 7\n",
    "\n",
    "target_alpha = .01\n",
    "target_index = index_for_arange(a_start, a_step ,target_alpha)"
   ]
  },
  {
   "cell_type": "code",
   "execution_count": 7,
   "id": "7d4c5bc0-fe51-4dfd-aab0-888fd479a40b",
   "metadata": {
    "tags": []
   },
   "outputs": [],
   "source": [
    "# instantiate a mock sklearn model which simply looks up the results in a lookup table\n",
    "model = MockModel(fullset, 'utterance', softmax=False, classes=range(N_INTENTS))\n",
    "# fit the test dataset\n",
    "model.fit(X_test, df_test['label'])\n",
    "# extract the test targets from the datasets\n",
    "y_test = df_test['label'].apply(lambda lbl: list(model.classes_).index(lbl))"
   ]
  },
  {
   "cell_type": "code",
   "execution_count": 8,
   "id": "2dacf640-6c20-4f5d-82e9-f694a7fc763d",
   "metadata": {
    "tags": []
   },
   "outputs": [
    {
     "name": "stderr",
     "output_type": "stream",
     "text": [
      "/Users/floris/miniconda3/envs/cicc/lib/python3.12/site-packages/mapie/classification.py:956: UserWarning: WARNING: your calibration dataset has less labels than your training dataset (training has 26 unique labels while calibration have 17 unique labels\n",
      "  warnings.warn(\n",
      "/Users/floris/Documents/archive/publications/cicc/cicc/src/eval.py:101: UserWarning: Warning: converting a masked element to nan.\n",
      "  return float(agg_width)\n"
     ]
    },
    {
     "data": {
      "text/plain": [
       "(0.985519591141397, 0.9761499148211243, 2.5357142857142856, 0.0)"
      ]
     },
     "execution_count": 8,
     "metadata": {},
     "output_type": "execute_result"
    }
   ],
   "source": [
    "# marginal conformal prediction\n",
    "mapie_marginal = MapieClassifier(estimator=model, cv=\"prefit\", method=\"score\", random_state=42)\n",
    "mapie_marginal.fit(X_calib, df_calibration['label'])\n",
    "y_pred_marginal, y_ps_marginal = mapie_marginal.predict(X_test, alpha=alpha)\n",
    "\n",
    "\n",
    "coverages_marginal = [\n",
    "    classification_coverage_score(y_test, y_ps_marginal[:, :, i])\n",
    "    for i, _ in enumerate(alpha)\n",
    "]\n",
    "cqsize_marginal = [\n",
    "    adjusted_classification_x_width_score(y_ps_marginal[:, :, i], np.mean,max_ps_size)\n",
    "    for i, _ in enumerate(alpha)\n",
    "]\n",
    "single_marginal = [\n",
    "    set_size_equals(y_ps_marginal[:,:,i], 1)\n",
    "    for i, _ in enumerate(alpha)\n",
    "]\n",
    "ambiguous_marginal = [\n",
    "    (y_ps_marginal[:, :, i].sum(axis=1) >= max_ps_size).mean()\n",
    "    for i, _ in enumerate(alpha)\n",
    "]\n",
    "ssc_marginal = [\n",
    "    size_stratified_classification_coverage_score(y_test, y_ps_marginal[:, :, i])\n",
    "    for i, _ in enumerate(alpha)\n",
    "]\n",
    "\n",
    "results = cq_stats(y_ps_marginal[:, :, target_index], y_test, max_ps_size)\n",
    "\n",
    "write_results('atis-bert-cicc', dataset, intent_classifier, 'cicc', results)\n",
    "results"
   ]
  },
  {
   "cell_type": "code",
   "execution_count": 9,
   "id": "22e7584f-d77c-4fe6-a47d-36d2bad9e77c",
   "metadata": {
    "tags": []
   },
   "outputs": [
    {
     "name": "stderr",
     "output_type": "stream",
     "text": [
      "/Users/floris/miniconda3/envs/cicc/lib/python3.12/site-packages/mapie/classification.py:956: UserWarning: WARNING: your calibration dataset has less labels than your training dataset (training has 26 unique labels while calibration have 17 unique labels\n",
      "  warnings.warn(\n"
     ]
    },
    {
     "data": {
      "text/plain": [
       "(0.996135265700483, 0.7776831345826235, 4.073770491803279, 0.12350936967632027)"
      ]
     },
     "execution_count": 9,
     "metadata": {},
     "output_type": "execute_result"
    }
   ],
   "source": [
    "# adaptive conformal prediction\n",
    "mapie_adaptive = MapieClassifier(estimator=model, cv=\"prefit\", method=\"cumulated_score\", random_state=42)\n",
    "mapie_adaptive.fit(X_calib, df_calibration['label'])\n",
    "y_pred_adaptive, y_ps_adaptive = mapie_adaptive.predict(X_test, alpha=alpha)\n",
    "\n",
    "\n",
    "coverages_adaptive = [\n",
    "    classification_coverage_score(y_test, y_ps_adaptive[:, :, i])\n",
    "    for i, _ in enumerate(alpha)\n",
    "]\n",
    "cqsize_adaptive = [\n",
    "    adjusted_classification_x_width_score(y_ps_adaptive[:, :, i], np.mean,max_ps_size)\n",
    "    for i, _ in enumerate(alpha)\n",
    "]\n",
    "single_adaptive = [\n",
    "    set_size_equals(y_ps_adaptive[:,:,i], 1)\n",
    "    for i, _ in enumerate(alpha)\n",
    "]\n",
    "ambiguous_adaptive = [\n",
    "    (y_ps_adaptive[:, :, i].sum(axis=1) >= max_ps_size).mean()\n",
    "    for i, _ in enumerate(alpha)\n",
    "]\n",
    "ssc_adaptive = [\n",
    "    size_stratified_classification_coverage_score(y_test, y_ps_adaptive[:, :, i])\n",
    "    for i, _ in enumerate(alpha)\n",
    "]\n",
    "\n",
    "cq_stats(y_ps_adaptive[:, :, target_index], y_test, max_ps_size)"
   ]
  },
  {
   "cell_type": "code",
   "execution_count": 10,
   "id": "b5878c79-c2cb-4d63-a9cd-16961219311c",
   "metadata": {
    "tags": []
   },
   "outputs": [
    {
     "name": "stderr",
     "output_type": "stream",
     "text": [
      "/Users/floris/miniconda3/envs/cicc/lib/python3.12/site-packages/mapie/classification.py:956: UserWarning: WARNING: your calibration dataset has less labels than your training dataset (training has 26 unique labels while calibration have 17 unique labels\n",
      "  warnings.warn(\n",
      "/Users/floris/Documents/archive/publications/cicc/cicc/src/eval.py:101: UserWarning: Warning: converting a masked element to nan.\n",
      "  return float(agg_width)\n"
     ]
    },
    {
     "data": {
      "text/plain": [
       "(0.9872231686541738, 0.0, 2.0, 0.0)"
      ]
     },
     "execution_count": 10,
     "metadata": {},
     "output_type": "execute_result"
    }
   ],
   "source": [
    "# TOP-K conformal prediction\n",
    "mapie_topk = MapieClassifier(estimator=model, cv=\"prefit\", method=\"top_k\", random_state=42)\n",
    "mapie_topk.fit(X_calib, df_calibration['label'])\n",
    "y_pred_topk, y_ps_topk = mapie_topk.predict(X_test, alpha=alpha)\n",
    "\n",
    "\n",
    "coverages_topk = [\n",
    "    classification_coverage_score(y_test, y_ps_topk[:, :, i])\n",
    "    for i, _ in enumerate(alpha)\n",
    "]\n",
    "cqsize_topk = [\n",
    "    adjusted_classification_x_width_score(y_ps_topk[:, :, i], np.mean,max_ps_size)\n",
    "    for i, _ in enumerate(alpha)\n",
    "]\n",
    "single_topk = [\n",
    "    set_size_equals(y_ps_topk[:,:,i], 1)\n",
    "    for i, _ in enumerate(alpha)\n",
    "]\n",
    "ambiguous_topk = [\n",
    "    (y_ps_topk[:, :, i].sum(axis=1) >= max_ps_size).mean()\n",
    "    for i, _ in enumerate(alpha)\n",
    "]\n",
    "ssc_topk = [\n",
    "    size_stratified_classification_coverage_score(y_test, y_ps_topk[:, :, i])\n",
    "    for i, _ in enumerate(alpha)\n",
    "]\n",
    "\n",
    "cq_stats(y_ps_topk[:, :, target_index], y_test, max_ps_size)"
   ]
  },
  {
   "cell_type": "code",
   "execution_count": 11,
   "id": "802ced47-cf35-4648-9dab-49bc0daabe82",
   "metadata": {
    "tags": []
   },
   "outputs": [
    {
     "name": "stderr",
     "output_type": "stream",
     "text": [
      "/Users/floris/miniconda3/envs/cicc/lib/python3.12/site-packages/mapie/classification.py:956: UserWarning: WARNING: your calibration dataset has less labels than your training dataset (training has 26 unique labels while calibration have 17 unique labels\n",
      "  warnings.warn(\n"
     ]
    },
    {
     "data": {
      "text/plain": [
       "(0.9958115183246073, 0.6942078364565588, 3.807142857142857, 0.217206132879046)"
      ]
     },
     "execution_count": 11,
     "metadata": {},
     "output_type": "execute_result"
    }
   ],
   "source": [
    "# RAPS\n",
    "mapie_raps = MapieClassifier(estimator=model, cv=\"prefit\", method=\"raps\")\n",
    "mapie_raps.fit(X_calib, df_calibration['label'])\n",
    "y_pred_raps, y_ps_raps = mapie_raps.predict(X_test, alpha=alpha)\n",
    "\n",
    "\n",
    "coverages_raps = [\n",
    "    classification_coverage_score(y_test, y_ps_raps[:, :, i])\n",
    "    for i, _ in enumerate(alpha)\n",
    "]\n",
    "cqsize_raps = [\n",
    "    adjusted_classification_x_width_score(y_ps_raps[:, :, i], np.mean,max_ps_size)\n",
    "    for i, _ in enumerate(alpha)\n",
    "]\n",
    "single_raps = [\n",
    "    set_size_equals(y_ps_raps[:,:,i], 1)\n",
    "    for i, _ in enumerate(alpha)\n",
    "]\n",
    "ambiguous_raps = [\n",
    "    (y_ps_raps[:, :, i].sum(axis=1) >= max_ps_size).mean()\n",
    "    for i, _ in enumerate(alpha)\n",
    "]\n",
    "ssc_raps = [\n",
    "    size_stratified_classification_coverage_score(y_test, y_ps_raps[:, :, i])\n",
    "    for i, _ in enumerate(alpha)\n",
    "]\n",
    "\n",
    "cq_stats(y_ps_raps[:, :, target_index], y_test, max_ps_size)"
   ]
  },
  {
   "cell_type": "code",
   "execution_count": 12,
   "id": "bdc5c834",
   "metadata": {},
   "outputs": [
    {
     "data": {
      "text/plain": [
       "(0.9948892674616695, 0.7308347529812607, 5.0, 0.0)"
      ]
     },
     "execution_count": 12,
     "metadata": {},
     "output_type": "execute_result"
    }
   ],
   "source": [
    "# heuristic 1: select all classes above a certain cutoff or the top-5 if there are none\n",
    "topk_cutoff = TopKCutoffSelector(estimator=model, cutoff=1-target_alpha, k=5)\n",
    "y_ps_h1 = topk_cutoff.predict(X_test)\n",
    "results = cq_stats(y_ps_h1, y_test, max_ps_size)\n",
    "write_results('atis-bert-h1', dataset, intent_classifier, 'h1', results)\n",
    "results"
   ]
  },
  {
   "cell_type": "code",
   "execution_count": 13,
   "id": "0cfd2cbd",
   "metadata": {},
   "outputs": [
    {
     "name": "stderr",
     "output_type": "stream",
     "text": [
      "/Users/floris/Documents/archive/publications/cicc/cicc/src/eval.py:101: UserWarning: Warning: converting a masked element to nan.\n",
      "  return float(agg_width)\n"
     ]
    },
    {
     "data": {
      "text/plain": [
       "(0.9787052810902896, 1.0, nan, 0.0)"
      ]
     },
     "execution_count": 13,
     "metadata": {},
     "output_type": "execute_result"
    }
   ],
   "source": [
    "top_95 = HeuristicCutoffSelector(estimator=model, cutoff=1-target_alpha)\n",
    "y_ps_h2 = top_95.predict(X_test)\n",
    "results = cq_stats(y_ps_h2, y_test, max_ps_size)\n",
    "write_results('atis-bert-h2', dataset, intent_classifier, 'h2', results)\n",
    "results"
   ]
  },
  {
   "cell_type": "code",
   "execution_count": 14,
   "id": "630f3659-2e17-4058-a407-9dba6b9fae52",
   "metadata": {
    "tags": []
   },
   "outputs": [
    {
     "data": {
      "text/plain": [
       "(0.9965928449744463, 0.0, 5.0, 0.0)"
      ]
     },
     "execution_count": 14,
     "metadata": {},
     "output_type": "execute_result"
    }
   ],
   "source": [
    "topk_5 = TopKSelector(estimator=model, k=5)\n",
    "y_ps_h3 = topk_5.predict(X_test)\n",
    "\n",
    "results = cq_stats(y_ps_h3, y_test, max_ps_size)\n",
    "write_results('atis-bert-h3', dataset, intent_classifier, 'h3', results)\n",
    "results"
   ]
  },
  {
   "cell_type": "code",
   "execution_count": 15,
   "id": "cf84eaa7-7195-42d2-9803-4fc903b380db",
   "metadata": {
    "tags": []
   },
   "outputs": [
    {
     "data": {
      "image/png": "[encoded data removed]",
      "text/plain": [
       "<Figure size 303.149x224.828 with 1 Axes>"
      ]
     },
     "metadata": {},
     "output_type": "display_data"
    }
   ],
   "source": [
    "to_plot = [\n",
    "    (y_ps_marginal, 'marginal', '-', None),\n",
    "    (y_ps_adaptive, 'adaptive', '--', None),\n",
    "    (y_ps_raps, 'RAPS', '-.', None),\n",
    "    # (y_ps_topkmapie, 'TOPK', ':', None),\n",
    "    # (y_ps_top_5_95, 'heuristic a', 'dashed', 'black'),\n",
    "    # (y_ps_top_95,  'heuristic b', 'dotted', 'black'),\n",
    "    # (y_ps_topk_5,  'heuristic c', '-.', 'black'),\n",
    "]\n",
    "fig, ax = plt.subplots(1, 1, figsize=plot.fig_dim_1)\n",
    "for (resultset, label, style, color) in to_plot:\n",
    "    if len(label) > len('heuristic') and label[:len('heuristic')] == 'heuristic':\n",
    "        to_plot_result = resultset\n",
    "    else:\n",
    "        to_plot_result = resultset[:, :, target_index]\n",
    "    ax.plot(\n",
    "        np.cumsum([set_size_equals(to_plot_result, i) for i in range(78)]),\n",
    "        label=label,\n",
    "        linestyle=style,\n",
    "        color=color,\n",
    "        linewidth=3,\n",
    "        alpha=.8)\n",
    "    # ax.set_xscale('log')\n",
    "plt.xlabel('Set size <')\n",
    "plt.ylabel('# samples')\n",
    "plt.title(f'{dataset} {intent_classifier}'.format(target_alpha))\n",
    "plt.legend(handlelength=3.5)\n",
    "plt.tight_layout()\n",
    "plt.savefig(f'results/cum_set_size_{dataset}_{intent_classifier}.png', dpi=1200)"
   ]
  },
  {
   "cell_type": "code",
   "execution_count": 16,
   "id": "8b7d01bf-b41d-4bbb-b121-44c17cb0a631",
   "metadata": {
    "tags": []
   },
   "outputs": [
    {
     "data": {
      "text/plain": [
       "[(19,\n",
       "  'flight_no',\n",
       "  'what is the flight number for the continental flight which leaves denver at 1220 pm and goes to san francisco'),\n",
       " (31, 'city', 'what time zone is denver in'),\n",
       " (39, 'city', 'where is lester pearson airport'),\n",
       " (84, 'flight_no', 'flight number from dallas to houston'),\n",
       " (99,\n",
       "  'ground_fare',\n",
       "  'how much is the ground transportation between atlanta and downtown'),\n",
       " (107,\n",
       "  'flight_time',\n",
       "  'what is the minimum connection time for houston intercontinental'),\n",
       " (276, 'flight', 'us 201'),\n",
       " (279, 'city', 'where is general mitchell international located'),\n",
       " (319, 'airport', 'please list information regarding san francisco airport'),\n",
       " (424,\n",
       "  'aircraft',\n",
       "  \"i need a plane that arrives in san francisco by 9 o'clock pm on friday and leaves from baltimore\"),\n",
       " (501,\n",
       "  'ground_service',\n",
       "  'how long does the ground transportation take from the salt lake city airport'),\n",
       " (549,\n",
       "  'meal',\n",
       "  'what meals are served on american flight 665 673 from milwaukee to seattle'),\n",
       " (553, 'aircraft', 'is there a plane from boston to washington'),\n",
       " (586,\n",
       "  'city',\n",
       "  'show me city served both by nationair and canadian airlines international'),\n",
       " (596,\n",
       "  'day_name',\n",
       "  'what days of the week do flights from san jose to nashville fly on'),\n",
       " (612, 'city', 'what cities does northwest fly to'),\n",
       " (721, 'city', 'where is mco'),\n",
       " (761, 'flight', 'when are the american flights from phoenix to milwaukee'),\n",
       " (874, 'flight_no', 'flight numbers from chicago to seattle on continental'),\n",
       " (882, 'meal', 'what are my meal options from boston to denver'),\n",
       " (890, 'city', 'show me the cities served by canadian airlines international'),\n",
       " (903,\n",
       "  'flight_no',\n",
       "  'which is the flight number for the us air flight from philadelphia to boston is it 279 or is it 137338'),\n",
       " (936,\n",
       "  'flight',\n",
       "  'what are the flights and prices from la to charlotte for monday morning'),\n",
       " (1045,\n",
       "  'flight',\n",
       "  'show me the connecting flights between boston and denver and the types of aircraft used'),\n",
       " (1053, 'city', 'what are the cities that american airlines serves'),\n",
       " (1060, 'city', 'show me all the cities that midwest express serves'),\n",
       " (1114, 'flight', 'i need a reservation from baltimore to san francisco'),\n",
       " (1157,\n",
       "  'flight_no',\n",
       "  'what is the number of first class flights on american airlines')]"
      ]
     },
     "execution_count": 16,
     "metadata": {},
     "output_type": "execute_result"
    }
   ],
   "source": [
    "y_ps_which = y_ps_marginal\n",
    "ambiguous_indices = np.where((y_ps_which[:, :, target_index].sum(axis=1) >= 2))\n",
    "ambiguous = df_test.loc[ambiguous_indices]\n",
    "list(zip(ambiguous.index,[ labels[l] for l in ambiguous.label.tolist()], ambiguous.text.tolist()))"
   ]
  },
  {
   "cell_type": "code",
   "execution_count": 17,
   "id": "fb5e7c35-7990-4491-aa61-016575b8f9fb",
   "metadata": {
    "tags": []
   },
   "outputs": [
    {
     "name": "stdout",
     "output_type": "stream",
     "text": [
      "what is the flight number for the continental flight which leaves denver at 1220 pm and goes to san francisco & flight no & capacity, flight no, flight time, quantity \\\\\n",
      "what time zone is denver in & city & city, distance, flight time \\\\\n",
      "where is lester pearson airport & city & airport, city \\\\\n",
      "flight number from dallas to houston & flight no & capacity, flight+airfare, flight no, flight time, quantity \\\\\n",
      "how much is the ground transportation between atlanta and downtown & ground fare & ground fare, ground service \\\\\n",
      "what is the minimum connection time for houston intercontinental & flight time & distance, flight time, ground fare, ground service \\\\\n",
      "us 201 & flight & abbreviation, distance, ground service \\\\\n",
      "where is general mitchell international located & city & airport, city \\\\\n",
      "please list information regarding san francisco airport & airport & airport, city, ground service \\\\\n",
      "i need a plane that arrives in san francisco by 9 o'clock pm on friday and leaves from baltimore & aircraft & aircraft, flight \\\\\n",
      "how long does the ground transportation take from the salt lake city airport & ground service & distance, ground service \\\\\n",
      "what meals are served on american flight 665 673 from milwaukee to seattle & meal & capacity, meal \\\\\n",
      "is there a plane from boston to washington & aircraft & aircraft, flight \\\\\n",
      "show me city served both by nationair and canadian airlines international & city & airport, city \\\\\n",
      "what days of the week do flights from san jose to nashville fly on & day name & city, flight time \\\\\n",
      "what cities does northwest fly to & city & airport, city \\\\\n",
      "where is mco & city & airport, city \\\\\n",
      "when are the american flights from phoenix to milwaukee & flight & flight, flight time \\\\\n",
      "flight numbers from chicago to seattle on continental & flight no & capacity, flight+airfare, flight no, flight time \\\\\n",
      "what are my meal options from boston to denver & meal & capacity, meal \\\\\n",
      "show me the cities served by canadian airlines international & city & airport, city \\\\\n",
      "which is the flight number for the us air flight from philadelphia to boston is it 279 or is it 137338 & flight no & capacity, flight no, quantity \\\\\n",
      "what are the flights and prices from la to charlotte for monday morning & flight & airfare, flight+airfare \\\\\n",
      "show me the connecting flights between boston and denver and the types of aircraft used & flight & aircraft, flight \\\\\n",
      "what are the cities that american airlines serves & city & airport, city \\\\\n",
      "show me all the cities that midwest express serves & city & airport, city \\\\\n",
      "i need a reservation from baltimore to san francisco & flight & airfare, flight, ground service \\\\\n",
      "what is the number of first class flights on american airlines & flight no & capacity, flight no, quantity \\\\\n"
     ]
    }
   ],
   "source": [
    "for a in ambiguous.index:\n",
    "    alternatives = np.where(y_ps_which[a, :, target_index])[0]\n",
    "    print(\" & \".join([ambiguous.loc[a].text, labels[ambiguous.loc[a].label].replace(\"_\", \" \"), ', '.join([labels[l].replace(\"_\", \" \") for l in alternatives])]) + \" \\\\\\\\\")"
   ]
  },
  {
   "cell_type": "code",
   "execution_count": 18,
   "id": "b9b26fca-9da4-49f2-b15a-020dfa5623d8",
   "metadata": {
    "tags": []
   },
   "outputs": [
    {
     "data": {
      "image/png": "[encoded data removed]",
      "text/plain": [
       "<Figure size 606.299x200 with 3 Axes>"
      ]
     },
     "metadata": {},
     "output_type": "display_data"
    }
   ],
   "source": [
    "label_sorting_map = {i: x for x, i in enumerate(df_train.label.value_counts(sort=True).index)}\n",
    "for i in range(len(labels)):\n",
    "    if i not in label_sorting_map:\n",
    "        label_sorting_map[i] = len(label_sorting_map)\n",
    "fig, axs = plt.subplots(1,3,figsize=(plot.fig_width_in * 2, 2), sharey=True)\n",
    "pd.Series(list(map(lambda x: label_sorting_map[x], df_train.label, ))).hist(bins=N_INTENTS, ax=axs[0])\n",
    "pd.Series(list(map(lambda x: label_sorting_map[x], df_calibration.label, ))).hist(bins=N_INTENTS, ax=axs[1])\n",
    "pd.Series(list(map(lambda x: label_sorting_map[x], df_test.label, ))).hist(bins=N_INTENTS, ax=axs[2])\n",
    "titles = ['Train set', 'Calibration set', 'Test set']\n",
    "[ax.set_xlabel('intent') for ax in axs]\n",
    "[ax.set_title(title) for (ax, title) in zip(axs, titles)]\n",
    "axs[0].set_ylabel('Occurrence')\n",
    "# plt.yticks([]) \n",
    "plt.savefig(f\"results/label_distribution_{dataset}.png\", dpi=1200)\n",
    "plt.show()"
   ]
  },
  {
   "cell_type": "code",
   "execution_count": 19,
   "id": "f1248446",
   "metadata": {},
   "outputs": [],
   "source": [
    "cq_inputs = df_test[cq_filter(y_ps_marginal[:, :, target_index], max_ps_size)].text\n",
    "cq_lbls = cq_labels(y_ps_marginal[:, :, target_index], max_ps_size, labels)\n",
    "\n",
    "cqs = []\n",
    "for i, (text, lbls) in enumerate(zip(cq_inputs, cq_lbls)):\n",
    "    cqs.append({\n",
    "        \"id\": i,\n",
    "        \"text\": text,\n",
    "        \"predictions\": lbls,\n",
    "    })\n",
    "\n",
    "with open(f'results/clarification_questions_{dataset}_{intent_classifier}.json', 'w') as f:\n",
    "    json.dump(cqs, f, indent=4)"
   ]
  },
  {
   "cell_type": "code",
   "execution_count": 20,
   "id": "b861e89c",
   "metadata": {},
   "outputs": [],
   "source": [
    "pd.Series(np.cumsum([set_size_equals(y_ps_marginal[:, :, target_index], i) for i in range(N_INTENTS+1)])).to_csv(f'results/cum_{dataset}_{intent_classifier}.csv')"
   ]
  },
  {
   "cell_type": "code",
   "execution_count": null,
   "id": "6f868fec",
   "metadata": {},
   "outputs": [],
   "source": []
  }
 ],
 "metadata": {
  "kernelspec": {
   "display_name": "Python 3 (ipykernel)",
   "language": "python",
   "name": "python3"
  },
  "language_info": {
   "codemirror_mode": {
    "name": "ipython",
    "version": 3
   },
   "file_extension": ".py",
   "mimetype": "text/x-python",
   "name": "python",
   "nbconvert_exporter": "python",
   "pygments_lexer": "ipython3",
   "version": "3.12.0"
  }
 },
 "nbformat": 4,
 "nbformat_minor": 5
}

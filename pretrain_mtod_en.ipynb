{
 "cells": [
  {
   "cell_type": "code",
   "execution_count": 1,
   "metadata": {},
   "outputs": [],
   "source": [
    "import torch\n",
    "from datasets import load_dataset, concatenate_datasets, DatasetDict, ClassLabel\n",
    "from transformers import AutoTokenizer, Trainer, TrainingArguments, AutoModelForSequenceClassification, BertForSequenceClassification, DataCollatorWithPadding\n",
    "\n",
    "import math\n",
    "import numpy as np\n",
    "import matplotlib.pyplot as plt\n",
    "import evaluate\n",
    "import pandas as pd\n",
    "import scipy\n",
    "\n",
    "\n",
    "# hyperparameters from https://github.com/clinc/oos-eval/blob/master/hyperparameters.csv\n",
    "learning_rate = 4.00e-05\n",
    "warmup_proportion = 0.1\n",
    "train_batch_size = 32\n",
    "eval_batch_size = 32\n",
    "num_train_epochs = 5\n",
    "gradient_accumulation_steps = 1\n",
    "\n",
    "huggingface_modelname = \"bert-large-uncased\"\n",
    "\n",
    "\n",
    "language = 'en'\n",
    "data_path = f'data/mtod/csv/{language}/'\n",
    "\n",
    "\n",
    "dataset = load_dataset(data_path)\n",
    "dataset = dataset.class_encode_column('labels')\n",
    "# dataset = load_dataset(\"mtod\", data_files=data_file_names)\n",
    "dataset_full = concatenate_datasets([dataset[\"train\"], dataset[\"test\"], dataset[\"validation\"]]).shuffle(seed=42)\n",
    "train_size, cal_size, test_size = .6, .2, .2\n",
    "train_test_set = dataset_full.train_test_split(train_size=train_size, stratify_by_column='labels', seed=42)\n",
    "test_val_set = train_test_set[\"test\"].train_test_split(train_size=test_size/(cal_size+test_size), stratify_by_column='labels', seed=42)\n",
    "dataset = DatasetDict({\n",
    "    'train': train_test_set['train'],\n",
    "    'test': test_val_set['train'],\n",
    "    'validation': test_val_set['test']\n",
    "})"
   ]
  },
  {
   "cell_type": "code",
   "execution_count": 2,
   "metadata": {},
   "outputs": [],
   "source": [
    "\n",
    "id2label = {i: name for i, name in enumerate(dataset[\"train\"].features[\"labels\"].names)}\n",
    "label2id = {name: i for i, name in id2label.items()}"
   ]
  },
  {
   "cell_type": "code",
   "execution_count": 3,
   "metadata": {},
   "outputs": [
    {
     "data": {
      "text/plain": [
       "0"
      ]
     },
     "execution_count": 3,
     "metadata": {},
     "output_type": "execute_result"
    }
   ],
   "source": [
    "torch.mps.current_allocated_memory()"
   ]
  },
  {
   "cell_type": "code",
   "execution_count": 4,
   "metadata": {},
   "outputs": [
    {
     "data": {
      "application/vnd.jupyter.widget-view+json": {
       "model_id": "504552fd5ae74a0996b3c169afcd7f36",
       "version_major": 2,
       "version_minor": 0
      },
      "text/plain": [
       "Map:   0%|          | 0/25993 [00:00<?, ? examples/s]"
      ]
     },
     "metadata": {},
     "output_type": "display_data"
    },
    {
     "data": {
      "application/vnd.jupyter.widget-view+json": {
       "model_id": "72ae86a7becd49469bbedc9077e4956f",
       "version_major": 2,
       "version_minor": 0
      },
      "text/plain": [
       "Map:   0%|          | 0/8665 [00:00<?, ? examples/s]"
      ]
     },
     "metadata": {},
     "output_type": "display_data"
    },
    {
     "data": {
      "application/vnd.jupyter.widget-view+json": {
       "model_id": "239f00bbbc3f4ba28fd4bcf24fef63c0",
       "version_major": 2,
       "version_minor": 0
      },
      "text/plain": [
       "Map:   0%|          | 0/8665 [00:00<?, ? examples/s]"
      ]
     },
     "metadata": {},
     "output_type": "display_data"
    }
   ],
   "source": [
    "tokenizer = AutoTokenizer.from_pretrained(huggingface_modelname)\n",
    "\n",
    "def tokenize_function(examples):\n",
    "    return tokenizer(examples[\"utterance\"], truncation=True)\n",
    "\n",
    "tokenized_datasets = dataset.map(tokenize_function, batched=True)\n",
    "data_collator = DataCollatorWithPadding(tokenizer=tokenizer)\n",
    "\n",
    "# assert dataset[\"train\"].features[\"labels\"].names == dataset[\"test\"].features[\"labels\"].names "
   ]
  },
  {
   "cell_type": "code",
   "execution_count": 5,
   "metadata": {},
   "outputs": [
    {
     "name": "stderr",
     "output_type": "stream",
     "text": [
      "Some weights of BertForSequenceClassification were not initialized from the model checkpoint at bert-large-uncased and are newly initialized: ['classifier.bias', 'classifier.weight']\n",
      "You should probably TRAIN this model on a down-stream task to be able to use it for predictions and inference.\n"
     ]
    }
   ],
   "source": [
    "model = AutoModelForSequenceClassification.from_pretrained(\n",
    "    huggingface_modelname,\n",
    "    num_labels=len(id2label),\n",
    "    id2label=id2label,\n",
    "    label2id=label2id\n",
    "    )"
   ]
  },
  {
   "cell_type": "code",
   "execution_count": 6,
   "metadata": {},
   "outputs": [
    {
     "data": {
      "text/plain": [
       "(0, 393216)"
      ]
     },
     "execution_count": 6,
     "metadata": {},
     "output_type": "execute_result"
    }
   ],
   "source": [
    "torch.mps.current_allocated_memory(), torch.mps.driver_allocated_memory()"
   ]
  },
  {
   "cell_type": "code",
   "execution_count": 7,
   "metadata": {},
   "outputs": [
    {
     "data": {
      "text/plain": [
       "{0: 'cancel_alarm',\n",
       " 1: 'cancel_reminder',\n",
       " 2: 'checkSunrise',\n",
       " 3: 'checkSunset',\n",
       " 4: 'find',\n",
       " 5: 'modify_alarm',\n",
       " 6: 'set_alarm',\n",
       " 7: 'set_reminder',\n",
       " 8: 'show_alarms',\n",
       " 9: 'show_reminders',\n",
       " 10: 'snooze_alarm',\n",
       " 11: 'time_left_on_alarm'}"
      ]
     },
     "execution_count": 7,
     "metadata": {},
     "output_type": "execute_result"
    }
   ],
   "source": [
    "id2label"
   ]
  },
  {
   "cell_type": "code",
   "execution_count": 8,
   "metadata": {},
   "outputs": [],
   "source": [
    "training_args = TrainingArguments(\n",
    "    output_dir=\"test_trainer\",\n",
    "    learning_rate=learning_rate,\n",
    "    num_train_epochs=num_train_epochs,\n",
    "    per_device_train_batch_size=train_batch_size,\n",
    "    per_device_eval_batch_size=eval_batch_size,\n",
    "    weight_decay=0.01,\n",
    "    evaluation_strategy=\"epoch\",\n",
    "    save_strategy=\"epoch\",\n",
    "    gradient_accumulation_steps=gradient_accumulation_steps,\n",
    "    load_best_model_at_end=True,\n",
    "    )"
   ]
  },
  {
   "cell_type": "code",
   "execution_count": 9,
   "metadata": {},
   "outputs": [],
   "source": [
    "metric = evaluate.load(\"accuracy\")"
   ]
  },
  {
   "cell_type": "code",
   "execution_count": 10,
   "metadata": {},
   "outputs": [],
   "source": [
    "def compute_metrics(eval_pred):\n",
    "    logits, labels = eval_pred\n",
    "    predictions = np.argmax(logits, axis=-1)\n",
    "    return metric.compute(predictions=predictions, references=labels)"
   ]
  },
  {
   "cell_type": "code",
   "execution_count": 11,
   "metadata": {},
   "outputs": [],
   "source": [
    "trainer = Trainer(\n",
    "    model=model,\n",
    "    args=training_args,\n",
    "    train_dataset=tokenized_datasets[\"train\"],\n",
    "    eval_dataset=tokenized_datasets[\"validation\"],\n",
    "    tokenizer=tokenizer,\n",
    "    data_collator=data_collator,\n",
    "    compute_metrics=compute_metrics,\n",
    ")"
   ]
  },
  {
   "cell_type": "code",
   "execution_count": 12,
   "metadata": {},
   "outputs": [
    {
     "data": {
      "application/vnd.jupyter.widget-view+json": {
       "model_id": "895e125e1cd143c3b1a75f8b71e041a8",
       "version_major": 2,
       "version_minor": 0
      },
      "text/plain": [
       "  0%|          | 0/4065 [00:00<?, ?it/s]"
      ]
     },
     "metadata": {},
     "output_type": "display_data"
    },
    {
     "name": "stderr",
     "output_type": "stream",
     "text": [
      "You're using a BertTokenizerFast tokenizer. Please note that with a fast tokenizer, using the `__call__` method is faster than using a method to encode the text followed by a call to the `pad` method to get a padded encoding.\n"
     ]
    },
    {
     "name": "stdout",
     "output_type": "stream",
     "text": [
      "{'loss': 0.1889, 'learning_rate': 3.5079950799507995e-05, 'epoch': 0.62}\n"
     ]
    },
    {
     "data": {
      "application/vnd.jupyter.widget-view+json": {
       "model_id": "6266a3455ffa4319adb4508f4b67f750",
       "version_major": 2,
       "version_minor": 0
      },
      "text/plain": [
       "  0%|          | 0/271 [00:00<?, ?it/s]"
      ]
     },
     "metadata": {},
     "output_type": "display_data"
    },
    {
     "name": "stdout",
     "output_type": "stream",
     "text": [
      "{'eval_loss': 0.06356018036603928, 'eval_accuracy': 0.9870744373918061, 'eval_runtime': 71.8024, 'eval_samples_per_second': 120.678, 'eval_steps_per_second': 3.774, 'epoch': 1.0}\n",
      "{'loss': 0.0514, 'learning_rate': 3.0159901599015993e-05, 'epoch': 1.23}\n",
      "{'loss': 0.0353, 'learning_rate': 2.5239852398523988e-05, 'epoch': 1.85}\n"
     ]
    },
    {
     "data": {
      "application/vnd.jupyter.widget-view+json": {
       "model_id": "d3ee993797bc455983c647e3528ca653",
       "version_major": 2,
       "version_minor": 0
      },
      "text/plain": [
       "  0%|          | 0/271 [00:00<?, ?it/s]"
      ]
     },
     "metadata": {},
     "output_type": "display_data"
    },
    {
     "name": "stdout",
     "output_type": "stream",
     "text": [
      "{'eval_loss': 0.053416699171066284, 'eval_accuracy': 0.9894979803808425, 'eval_runtime': 62.4732, 'eval_samples_per_second': 138.7, 'eval_steps_per_second': 4.338, 'epoch': 2.0}\n",
      "{'loss': 0.0311, 'learning_rate': 2.0319803198031983e-05, 'epoch': 2.46}\n"
     ]
    },
    {
     "data": {
      "application/vnd.jupyter.widget-view+json": {
       "model_id": "93d9b9371d5744438da5f5fd6574e79e",
       "version_major": 2,
       "version_minor": 0
      },
      "text/plain": [
       "  0%|          | 0/271 [00:00<?, ?it/s]"
      ]
     },
     "metadata": {},
     "output_type": "display_data"
    },
    {
     "name": "stdout",
     "output_type": "stream",
     "text": [
      "{'eval_loss': 0.06136251986026764, 'eval_accuracy': 0.9849971148297749, 'eval_runtime': 63.4518, 'eval_samples_per_second': 136.56, 'eval_steps_per_second': 4.271, 'epoch': 3.0}\n",
      "{'loss': 0.0241, 'learning_rate': 1.5399753997539978e-05, 'epoch': 3.08}\n",
      "{'loss': 0.0173, 'learning_rate': 1.0479704797047971e-05, 'epoch': 3.69}\n"
     ]
    },
    {
     "data": {
      "application/vnd.jupyter.widget-view+json": {
       "model_id": "1fd724f53568475e83eb00251da2d9ac",
       "version_major": 2,
       "version_minor": 0
      },
      "text/plain": [
       "  0%|          | 0/271 [00:00<?, ?it/s]"
      ]
     },
     "metadata": {},
     "output_type": "display_data"
    },
    {
     "name": "stdout",
     "output_type": "stream",
     "text": [
      "{'eval_loss': 0.0503595806658268, 'eval_accuracy': 0.9905366416618581, 'eval_runtime': 35.0068, 'eval_samples_per_second': 247.523, 'eval_steps_per_second': 7.741, 'epoch': 4.0}\n",
      "{'loss': 0.0132, 'learning_rate': 5.559655596555966e-06, 'epoch': 4.31}\n",
      "{'loss': 0.0109, 'learning_rate': 6.396063960639606e-07, 'epoch': 4.92}\n"
     ]
    },
    {
     "data": {
      "application/vnd.jupyter.widget-view+json": {
       "model_id": "1c6f68b87ccf47fba89841adcbfc6d71",
       "version_major": 2,
       "version_minor": 0
      },
      "text/plain": [
       "  0%|          | 0/271 [00:00<?, ?it/s]"
      ]
     },
     "metadata": {},
     "output_type": "display_data"
    },
    {
     "name": "stdout",
     "output_type": "stream",
     "text": [
      "{'eval_loss': 0.053456537425518036, 'eval_accuracy': 0.9899596076168494, 'eval_runtime': 34.6265, 'eval_samples_per_second': 250.242, 'eval_steps_per_second': 7.826, 'epoch': 5.0}\n",
      "{'train_runtime': 3578.5591, 'train_samples_per_second': 36.318, 'train_steps_per_second': 1.136, 'train_loss': 0.045862746326685834, 'epoch': 5.0}\n"
     ]
    },
    {
     "data": {
      "text/plain": [
       "TrainOutput(global_step=4065, training_loss=0.045862746326685834, metrics={'train_runtime': 3578.5591, 'train_samples_per_second': 36.318, 'train_steps_per_second': 1.136, 'train_loss': 0.045862746326685834, 'epoch': 5.0})"
      ]
     },
     "execution_count": 12,
     "metadata": {},
     "output_type": "execute_result"
    }
   ],
   "source": [
    "trainer.train()"
   ]
  },
  {
   "cell_type": "code",
   "execution_count": 13,
   "metadata": {},
   "outputs": [
    {
     "data": {
      "application/vnd.jupyter.widget-view+json": {
       "model_id": "4a58f014db294b5091fd7155e61d949f",
       "version_major": 2,
       "version_minor": 0
      },
      "text/plain": [
       "  0%|          | 0/813 [00:00<?, ?it/s]"
      ]
     },
     "metadata": {},
     "output_type": "display_data"
    },
    {
     "data": {
      "application/vnd.jupyter.widget-view+json": {
       "model_id": "59f805be713f40a997841f11421feddf",
       "version_major": 2,
       "version_minor": 0
      },
      "text/plain": [
       "  0%|          | 0/271 [00:00<?, ?it/s]"
      ]
     },
     "metadata": {},
     "output_type": "display_data"
    },
    {
     "data": {
      "application/vnd.jupyter.widget-view+json": {
       "model_id": "c430dcaf0aef4e418fba830c3fea5448",
       "version_major": 2,
       "version_minor": 0
      },
      "text/plain": [
       "  0%|          | 0/271 [00:00<?, ?it/s]"
      ]
     },
     "metadata": {},
     "output_type": "display_data"
    }
   ],
   "source": [
    "pred_train = trainer.predict(tokenized_datasets[\"train\"])\n",
    "pred_val = trainer.predict(tokenized_datasets[\"validation\"])\n",
    "pred_test = trainer.predict(tokenized_datasets[\"test\"])"
   ]
  },
  {
   "cell_type": "code",
   "execution_count": 14,
   "metadata": {},
   "outputs": [],
   "source": [
    "train_sm = scipy.special.softmax(pred_train.predictions, axis=1)\n",
    "val_sm = scipy.special.softmax(pred_val.predictions, axis=1)\n",
    "test_sm = scipy.special.softmax(pred_test.predictions, axis=1)\n",
    "\n",
    "np.testing.assert_allclose(train_sm.sum(axis=1), 1.0, rtol=1e-6)\n",
    "np.testing.assert_allclose(val_sm.sum(axis=1), 1.0, rtol=1e-6)\n",
    "np.testing.assert_allclose(test_sm.sum(axis=1), 1.0, rtol=1e-6)"
   ]
  },
  {
   "cell_type": "code",
   "execution_count": 15,
   "metadata": {},
   "outputs": [
    {
     "data": {
      "text/plain": [
       "((25993, 12), (8665, 12), (8665, 12))"
      ]
     },
     "execution_count": 15,
     "metadata": {},
     "output_type": "execute_result"
    }
   ],
   "source": [
    "train_sm.shape, val_sm.shape, test_sm.shape"
   ]
  },
  {
   "cell_type": "code",
   "execution_count": 16,
   "metadata": {},
   "outputs": [],
   "source": [
    "# train_sm_dict = get_score(train_sm, oos_label)\n",
    "# val_sm_dict = get_score(val_sm, oos_label)\n",
    "# test_sm_dict = get_score(test_sm, oos_label)\n",
    "train_sm_dict = {\n",
    "    f'label_{i}':  train_sm[:,i] for i in range(train_sm.shape[1])\n",
    "}\n",
    "val_sm_dict = {\n",
    "    f'label_{i}':  val_sm[:,i] for i in range(val_sm.shape[1])\n",
    "}\n",
    "test_sm_dict = {\n",
    "    f'label_{i}':  test_sm[:,i] for i in range(test_sm.shape[1])\n",
    "}\n",
    "train_frame = pd.DataFrame(\n",
    "    {\"text\": dataset[\"train\"][\"utterance\"],\n",
    "     \"hash\": range(len(dataset[\"train\"][\"utterance\"])),\n",
    "     \"label\": dataset[\"train\"][\"labels\"],\n",
    "     **train_sm_dict\n",
    "    }\n",
    ")\n",
    "val_frame = pd.DataFrame(\n",
    "    {\"text\": dataset[\"validation\"][\"utterance\"],\n",
    "     \"hash\": range(len(dataset[\"validation\"][\"utterance\"])),\n",
    "     \"label\": dataset[\"validation\"][\"labels\"],\n",
    "     **val_sm_dict\n",
    "    }\n",
    ")\n",
    "test_frame = pd.DataFrame(\n",
    "    {\"text\": dataset[\"test\"][\"utterance\"],\n",
    "     \"hash\": range(len(dataset[\"test\"][\"utterance\"])),\n",
    "     \"label\": dataset[\"test\"][\"labels\"],\n",
    "     **test_sm_dict\n",
    "    }\n",
    ")"
   ]
  },
  {
   "cell_type": "code",
   "execution_count": 17,
   "metadata": {},
   "outputs": [],
   "source": [
    "train_frame.to_csv('data/mtod/bert/train_predictions.csv', index=False)\n",
    "val_frame.to_csv('data/mtod/bert/calibration_predictions.csv', index=False)\n",
    "test_frame.to_csv('data/mtod/bert/test_predictions.csv', index=False)\n",
    "\n"
   ]
  },
  {
   "cell_type": "code",
   "execution_count": 18,
   "metadata": {},
   "outputs": [],
   "source": [
    "pd.DataFrame({'0': id2label.values()}).to_csv('data/mtod/bert/labels.csv')\n"
   ]
  },
  {
   "cell_type": "code",
   "execution_count": 19,
   "metadata": {},
   "outputs": [
    {
     "data": {
      "text/plain": [
       "{0: 'cancel_alarm',\n",
       " 1: 'cancel_reminder',\n",
       " 2: 'checkSunrise',\n",
       " 3: 'checkSunset',\n",
       " 4: 'find',\n",
       " 5: 'modify_alarm',\n",
       " 6: 'set_alarm',\n",
       " 7: 'set_reminder',\n",
       " 8: 'show_alarms',\n",
       " 9: 'show_reminders',\n",
       " 10: 'snooze_alarm',\n",
       " 11: 'time_left_on_alarm'}"
      ]
     },
     "execution_count": 19,
     "metadata": {},
     "output_type": "execute_result"
    }
   ],
   "source": [
    "id2label"
   ]
  },
  {
   "cell_type": "code",
   "execution_count": 20,
   "metadata": {},
   "outputs": [
    {
     "data": {
      "text/plain": [
       "label\n",
       "4     3977\n",
       "6     1380\n",
       "7     1343\n",
       "0      594\n",
       "1      327\n",
       "8      314\n",
       "9      290\n",
       "5      123\n",
       "10     123\n",
       "11     109\n",
       "3       49\n",
       "2       36\n",
       "Name: count, dtype: int64"
      ]
     },
     "execution_count": 20,
     "metadata": {},
     "output_type": "execute_result"
    }
   ],
   "source": [
    "test_frame['label'].value_counts()"
   ]
  },
  {
   "cell_type": "code",
   "execution_count": 21,
   "metadata": {},
   "outputs": [
    {
     "data": {
      "text/plain": [
       "0        0\n",
       "1        6\n",
       "2        0\n",
       "3        6\n",
       "4        4\n",
       "        ..\n",
       "25988    4\n",
       "25989    4\n",
       "25990    6\n",
       "25991    6\n",
       "25992    4\n",
       "Name: label, Length: 25993, dtype: int64"
      ]
     },
     "execution_count": 21,
     "metadata": {},
     "output_type": "execute_result"
    }
   ],
   "source": [
    "train_frame['label']"
   ]
  },
  {
   "cell_type": "code",
   "execution_count": null,
   "metadata": {},
   "outputs": [],
   "source": []
  },
  {
   "cell_type": "code",
   "execution_count": null,
   "metadata": {},
   "outputs": [],
   "source": []
  }
 ],
 "metadata": {
  "kernelspec": {
   "display_name": "cicc",
   "language": "python",
   "name": "python3"
  },
  "language_info": {
   "codemirror_mode": {
    "name": "ipython",
    "version": 3
   },
   "file_extension": ".py",
   "mimetype": "text/x-python",
   "name": "python",
   "nbconvert_exporter": "python",
   "pygments_lexer": "ipython3",
   "version": "3.12.0"
  },
  "orig_nbformat": 4
 },
 "nbformat": 4,
 "nbformat_minor": 2
}

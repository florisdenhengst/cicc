{
 "cells": [
  {
   "cell_type": "code",
   "execution_count": 1,
   "metadata": {},
   "outputs": [],
   "source": [
    "import torch\n",
    "from datasets import load_dataset, DatasetDict\n",
    "from transformers import AutoTokenizer, Trainer, TrainingArguments, AutoModelForSequenceClassification, DataCollatorWithPadding\n",
    "\n",
    "\n",
    "import numpy as np\n",
    "import matplotlib.pyplot as plt\n",
    "import evaluate\n",
    "import math\n",
    "import pandas as pd\n",
    "import scipy\n",
    "dataset_full = load_dataset(\"nlu_evaluation_data\").rename_column(\"label\", \"labels\").remove_columns(\"scenario\")\n",
    "\n",
    "# hyperparameters from https://github.com/clinc/oos-eval/blob/master/hyperparameters.csv\n",
    "learning_rate = 4.00e-05\n",
    "warmup_proportion = 0.1\n",
    "train_batch_size = 32\n",
    "eval_batch_size = 32\n",
    "num_train_epochs = 5\n",
    "gradient_accumulation_steps = 1\n",
    "\n",
    "huggingface_modelname = \"bert-base-uncased\""
   ]
  },
  {
   "cell_type": "code",
   "execution_count": 2,
   "metadata": {},
   "outputs": [
    {
     "data": {
      "text/plain": [
       "{'text': Value(dtype='string', id=None),\n",
       " 'labels': ClassLabel(names=['alarm_query', 'alarm_remove', 'alarm_set', 'audio_volume_down', 'audio_volume_mute', 'audio_volume_other', 'audio_volume_up', 'calendar_query', 'calendar_remove', 'calendar_set', 'cooking_query', 'cooking_recipe', 'datetime_convert', 'datetime_query', 'email_addcontact', 'email_query', 'email_querycontact', 'email_sendemail', 'general_affirm', 'general_commandstop', 'general_confirm', 'general_dontcare', 'general_explain', 'general_greet', 'general_joke', 'general_negate', 'general_praise', 'general_quirky', 'general_repeat', 'iot_cleaning', 'iot_coffee', 'iot_hue_lightchange', 'iot_hue_lightdim', 'iot_hue_lightoff', 'iot_hue_lighton', 'iot_hue_lightup', 'iot_wemo_off', 'iot_wemo_on', 'lists_createoradd', 'lists_query', 'lists_remove', 'music_dislikeness', 'music_likeness', 'music_query', 'music_settings', 'news_query', 'play_audiobook', 'play_game', 'play_music', 'play_podcasts', 'play_radio', 'qa_currency', 'qa_definition', 'qa_factoid', 'qa_maths', 'qa_stock', 'recommendation_events', 'recommendation_locations', 'recommendation_movies', 'social_post', 'social_query', 'takeaway_order', 'takeaway_query', 'transport_query', 'transport_taxi', 'transport_ticket', 'transport_traffic', 'weather_query'], id=None)}"
      ]
     },
     "execution_count": 2,
     "metadata": {},
     "output_type": "execute_result"
    }
   ],
   "source": [
    "dataset_full[\"train\"].features"
   ]
  },
  {
   "cell_type": "code",
   "execution_count": 3,
   "metadata": {},
   "outputs": [],
   "source": [
    "train_size, cal_size, test_size = .6, .2, .2\n",
    "train_test_set = dataset_full[\"train\"].train_test_split(train_size=train_size, stratify_by_column='labels', seed=1)\n",
    "test_val_set = train_test_set['test'].train_test_split(train_size=test_size / (cal_size+test_size), stratify_by_column=\"labels\", seed=1)\n",
    "dataset = DatasetDict({\n",
    "    'train': train_test_set['train'],\n",
    "    'test': test_val_set['train'],\n",
    "    'calibration': test_val_set['test']\n",
    "})\n",
    "\n",
    "assert math.fabs(((dataset['train'].num_rows / dataset_full[\"train\"].num_rows) - train_size)) < 1e-5\n",
    "assert math.fabs(((dataset['test'].num_rows / dataset_full[\"train\"].num_rows) - test_size)) < 1e-5\n",
    "assert math.fabs(((dataset['calibration'].num_rows / dataset_full[\"train\"].num_rows) - cal_size)) < 1e-5"
   ]
  },
  {
   "cell_type": "code",
   "execution_count": 4,
   "metadata": {},
   "outputs": [
    {
     "data": {
      "application/vnd.jupyter.widget-view+json": {
       "model_id": "ce1c90cdeee54d7eaee694c1e456d2ab",
       "version_major": 2,
       "version_minor": 0
      },
      "text/plain": [
       "Map:   0%|          | 0/15429 [00:00<?, ? examples/s]"
      ]
     },
     "metadata": {},
     "output_type": "display_data"
    },
    {
     "data": {
      "application/vnd.jupyter.widget-view+json": {
       "model_id": "c462399bb17f40bba4d22d9b1e923f56",
       "version_major": 2,
       "version_minor": 0
      },
      "text/plain": [
       "Map:   0%|          | 0/5143 [00:00<?, ? examples/s]"
      ]
     },
     "metadata": {},
     "output_type": "display_data"
    },
    {
     "data": {
      "application/vnd.jupyter.widget-view+json": {
       "model_id": "9a949e09687645ac8b4efc98f088c0c3",
       "version_major": 2,
       "version_minor": 0
      },
      "text/plain": [
       "Map:   0%|          | 0/5143 [00:00<?, ? examples/s]"
      ]
     },
     "metadata": {},
     "output_type": "display_data"
    }
   ],
   "source": [
    "tokenizer = AutoTokenizer.from_pretrained(huggingface_modelname)\n",
    "\n",
    "def tokenize_function(examples):\n",
    "    return tokenizer(examples[\"text\"], truncation=True)\n",
    "\n",
    "tokenized_datasets = dataset.map(tokenize_function, batched=True)\n",
    "data_collator = DataCollatorWithPadding(tokenizer=tokenizer)\n",
    "\n",
    "assert dataset[\"train\"].features[\"labels\"].names == dataset[\"test\"].features[\"labels\"].names \n",
    "id2label = {i: name for i, name in enumerate(dataset[\"train\"].features[\"labels\"].names)}\n",
    "label2id = {name: i for i, name in id2label.items()}"
   ]
  },
  {
   "cell_type": "code",
   "execution_count": 5,
   "metadata": {},
   "outputs": [
    {
     "name": "stderr",
     "output_type": "stream",
     "text": [
      "Some weights of BertForSequenceClassification were not initialized from the model checkpoint at bert-base-uncased and are newly initialized: ['classifier.bias', 'classifier.weight']\n",
      "You should probably TRAIN this model on a down-stream task to be able to use it for predictions and inference.\n"
     ]
    }
   ],
   "source": [
    "model = AutoModelForSequenceClassification.from_pretrained(\n",
    "    huggingface_modelname,\n",
    "    num_labels=len(id2label),\n",
    "    id2label=id2label,\n",
    "    label2id=label2id\n",
    "    )"
   ]
  },
  {
   "cell_type": "code",
   "execution_count": 6,
   "metadata": {},
   "outputs": [
    {
     "data": {
      "text/plain": [
       "(0, 393216)"
      ]
     },
     "execution_count": 6,
     "metadata": {},
     "output_type": "execute_result"
    }
   ],
   "source": [
    "torch.mps.current_allocated_memory(), torch.mps.driver_allocated_memory()"
   ]
  },
  {
   "cell_type": "code",
   "execution_count": 7,
   "metadata": {},
   "outputs": [],
   "source": [
    "training_args = TrainingArguments(\n",
    "    output_dir=\"test_trainer\",\n",
    "    learning_rate=learning_rate,\n",
    "    num_train_epochs=num_train_epochs,\n",
    "    per_device_train_batch_size=train_batch_size,\n",
    "    per_device_eval_batch_size=eval_batch_size,\n",
    "    weight_decay=0.01,\n",
    "    evaluation_strategy=\"epoch\",\n",
    "    save_strategy=\"epoch\",\n",
    "    gradient_accumulation_steps=gradient_accumulation_steps,\n",
    "    load_best_model_at_end=True,\n",
    "    )\n",
    "metric = evaluate.load(\"accuracy\")\n",
    "def compute_metrics(eval_pred):\n",
    "    logits, labels = eval_pred\n",
    "    predictions = np.argmax(logits, axis=-1)\n",
    "    return metric.compute(predictions=predictions, references=labels)\n",
    "trainer = Trainer(\n",
    "    model=model,\n",
    "    args=training_args,\n",
    "    train_dataset=tokenized_datasets[\"train\"].shuffle(seed=42),\n",
    "    eval_dataset=tokenized_datasets[\"test\"].shuffle(seed=42),\n",
    "    tokenizer=tokenizer,\n",
    "    data_collator=data_collator,\n",
    "    compute_metrics=compute_metrics,\n",
    ")"
   ]
  },
  {
   "cell_type": "code",
   "execution_count": 8,
   "metadata": {},
   "outputs": [
    {
     "data": {
      "application/vnd.jupyter.widget-view+json": {
       "model_id": "9f5c64c3b4174334adebbe4a4086a748",
       "version_major": 2,
       "version_minor": 0
      },
      "text/plain": [
       "  0%|          | 0/2415 [00:00<?, ?it/s]"
      ]
     },
     "metadata": {},
     "output_type": "display_data"
    },
    {
     "name": "stderr",
     "output_type": "stream",
     "text": [
      "You're using a BertTokenizerFast tokenizer. Please note that with a fast tokenizer, using the `__call__` method is faster than using a method to encode the text followed by a call to the `pad` method to get a padded encoding.\n"
     ]
    },
    {
     "data": {
      "application/vnd.jupyter.widget-view+json": {
       "model_id": "3792a345d3994b858a0f144d6f2872b6",
       "version_major": 2,
       "version_minor": 0
      },
      "text/plain": [
       "  0%|          | 0/161 [00:00<?, ?it/s]"
      ]
     },
     "metadata": {},
     "output_type": "display_data"
    },
    {
     "name": "stdout",
     "output_type": "stream",
     "text": [
      "{'eval_loss': 0.6793674230575562, 'eval_accuracy': 0.8660314991250243, 'eval_runtime': 15.5823, 'eval_samples_per_second': 330.053, 'eval_steps_per_second': 10.332, 'epoch': 1.0}\n",
      "{'loss': 1.6924, 'learning_rate': 3.17184265010352e-05, 'epoch': 1.04}\n"
     ]
    },
    {
     "data": {
      "application/vnd.jupyter.widget-view+json": {
       "model_id": "811c2318811b4680843f23f48c675e81",
       "version_major": 2,
       "version_minor": 0
      },
      "text/plain": [
       "  0%|          | 0/161 [00:00<?, ?it/s]"
      ]
     },
     "metadata": {},
     "output_type": "display_data"
    },
    {
     "name": "stdout",
     "output_type": "stream",
     "text": [
      "{'eval_loss': 0.4588022828102112, 'eval_accuracy': 0.8922807699786117, 'eval_runtime': 13.2805, 'eval_samples_per_second': 387.259, 'eval_steps_per_second': 12.123, 'epoch': 2.0}\n",
      "{'loss': 0.4771, 'learning_rate': 2.3436853002070396e-05, 'epoch': 2.07}\n"
     ]
    },
    {
     "data": {
      "application/vnd.jupyter.widget-view+json": {
       "model_id": "7bf33ebe71324a6080ff57100d092357",
       "version_major": 2,
       "version_minor": 0
      },
      "text/plain": [
       "  0%|          | 0/161 [00:00<?, ?it/s]"
      ]
     },
     "metadata": {},
     "output_type": "display_data"
    },
    {
     "name": "stdout",
     "output_type": "stream",
     "text": [
      "{'eval_loss': 0.415767639875412, 'eval_accuracy': 0.9029749173634066, 'eval_runtime': 13.3284, 'eval_samples_per_second': 385.867, 'eval_steps_per_second': 12.079, 'epoch': 3.0}\n",
      "{'loss': 0.2467, 'learning_rate': 1.5155279503105591e-05, 'epoch': 3.11}\n"
     ]
    },
    {
     "data": {
      "application/vnd.jupyter.widget-view+json": {
       "model_id": "98a345e947724192931a3e2899e0e870",
       "version_major": 2,
       "version_minor": 0
      },
      "text/plain": [
       "  0%|          | 0/161 [00:00<?, ?it/s]"
      ]
     },
     "metadata": {},
     "output_type": "display_data"
    },
    {
     "name": "stdout",
     "output_type": "stream",
     "text": [
      "{'eval_loss': 0.43203067779541016, 'eval_accuracy': 0.9053081858837254, 'eval_runtime': 13.4565, 'eval_samples_per_second': 382.195, 'eval_steps_per_second': 11.964, 'epoch': 4.0}\n",
      "{'loss': 0.1393, 'learning_rate': 6.873706004140788e-06, 'epoch': 4.14}\n"
     ]
    },
    {
     "data": {
      "application/vnd.jupyter.widget-view+json": {
       "model_id": "b93154505953482e98a3b50370b64b14",
       "version_major": 2,
       "version_minor": 0
      },
      "text/plain": [
       "  0%|          | 0/161 [00:00<?, ?it/s]"
      ]
     },
     "metadata": {},
     "output_type": "display_data"
    },
    {
     "name": "stdout",
     "output_type": "stream",
     "text": [
      "{'eval_loss': 0.4229484498500824, 'eval_accuracy': 0.9066692591872448, 'eval_runtime': 13.464, 'eval_samples_per_second': 381.98, 'eval_steps_per_second': 11.958, 'epoch': 5.0}\n",
      "{'train_runtime': 971.1529, 'train_samples_per_second': 79.437, 'train_steps_per_second': 2.487, 'train_loss': 0.5448588416689918, 'epoch': 5.0}\n"
     ]
    },
    {
     "data": {
      "text/plain": [
       "TrainOutput(global_step=2415, training_loss=0.5448588416689918, metrics={'train_runtime': 971.1529, 'train_samples_per_second': 79.437, 'train_steps_per_second': 2.487, 'train_loss': 0.5448588416689918, 'epoch': 5.0})"
      ]
     },
     "execution_count": 8,
     "metadata": {},
     "output_type": "execute_result"
    }
   ],
   "source": [
    "trainer.train()"
   ]
  },
  {
   "cell_type": "code",
   "execution_count": 9,
   "metadata": {},
   "outputs": [
    {
     "data": {
      "application/vnd.jupyter.widget-view+json": {
       "model_id": "e472dbe6eb454e85b7403e5898f78801",
       "version_major": 2,
       "version_minor": 0
      },
      "text/plain": [
       "  0%|          | 0/483 [00:00<?, ?it/s]"
      ]
     },
     "metadata": {},
     "output_type": "display_data"
    },
    {
     "data": {
      "application/vnd.jupyter.widget-view+json": {
       "model_id": "1e4a4c90f4da4b61b0522877783e6142",
       "version_major": 2,
       "version_minor": 0
      },
      "text/plain": [
       "  0%|          | 0/161 [00:00<?, ?it/s]"
      ]
     },
     "metadata": {},
     "output_type": "display_data"
    },
    {
     "data": {
      "application/vnd.jupyter.widget-view+json": {
       "model_id": "04f75f32491c44e3837c828cab19063d",
       "version_major": 2,
       "version_minor": 0
      },
      "text/plain": [
       "  0%|          | 0/161 [00:00<?, ?it/s]"
      ]
     },
     "metadata": {},
     "output_type": "display_data"
    }
   ],
   "source": [
    "pred_train = trainer.predict(tokenized_datasets[\"train\"])\n",
    "pred_val = trainer.predict(tokenized_datasets[\"calibration\"])\n",
    "pred_test = trainer.predict(tokenized_datasets[\"test\"])"
   ]
  },
  {
   "cell_type": "code",
   "execution_count": 10,
   "metadata": {},
   "outputs": [],
   "source": [
    "train_sm = scipy.special.softmax(pred_train.predictions, axis=1)\n",
    "val_sm = scipy.special.softmax(pred_val.predictions, axis=1)\n",
    "test_sm = scipy.special.softmax(pred_test.predictions, axis=1)\n",
    "\n",
    "np.testing.assert_allclose(train_sm.sum(axis=1), 1.0, rtol=1e-6)\n",
    "np.testing.assert_allclose(val_sm.sum(axis=1), 1.0, rtol=1e-6)\n",
    "np.testing.assert_allclose(test_sm.sum(axis=1), 1.0, rtol=1e-6)"
   ]
  },
  {
   "cell_type": "code",
   "execution_count": 11,
   "metadata": {},
   "outputs": [],
   "source": [
    "# Create dataframe with columns text, hash, label, label_0, ... label_150\n",
    "def get_score(matrix, oos_label):\n",
    "    result = {}\n",
    "    for i in range(matrix.shape[1]):\n",
    "        if i < oos_label:\n",
    "            result[f'label_{i}'] = matrix[:, i]\n",
    "        elif i > oos_label:\n",
    "            result[f'label_{i+1}'] = matrix[:, i]\n",
    "        elif i == oos_label:\n",
    "            result[f'label_{i}'] = np.repeat(0.0, matrix.shape[0])# the oos label\n",
    "            result[f'label_{i+1}'] = matrix[:, i]\n",
    "    return result\n",
    "\n",
    "# train_sm_dict = get_score(train_sm, oos_label)\n",
    "# val_sm_dict = get_score(val_sm, oos_label)\n",
    "# test_sm_dict = get_score(test_sm, oos_label)\n",
    "train_sm_dict = {\n",
    "    f'label_{i}':  train_sm[:,i] for i in range(train_sm.shape[1])\n",
    "}\n",
    "val_sm_dict = {\n",
    "    f'label_{i}':  val_sm[:,i] for i in range(val_sm.shape[1])\n",
    "}\n",
    "test_sm_dict = {\n",
    "    f'label_{i}':  test_sm[:,i] for i in range(test_sm.shape[1])\n",
    "}\n",
    "train_frame = pd.DataFrame(\n",
    "    {\"text\": dataset[\"train\"][\"text\"],\n",
    "     \"hash\": range(len(dataset[\"train\"][\"text\"])),\n",
    "     \"label\": dataset[\"train\"][\"labels\"],\n",
    "     **train_sm_dict\n",
    "    }\n",
    ")\n",
    "val_frame = pd.DataFrame(\n",
    "    {\"text\": dataset[\"calibration\"][\"text\"],\n",
    "     \"hash\": range(len(dataset[\"calibration\"][\"text\"])),\n",
    "     \"label\": dataset[\"calibration\"][\"labels\"],\n",
    "     **val_sm_dict\n",
    "    }\n",
    ")\n",
    "test_frame = pd.DataFrame(\n",
    "    {\"text\": dataset[\"test\"][\"text\"],\n",
    "     \"hash\": range(len(dataset[\"test\"][\"text\"])),\n",
    "     \"label\": dataset[\"test\"][\"labels\"],\n",
    "     **test_sm_dict\n",
    "    }\n",
    ")"
   ]
  },
  {
   "cell_type": "code",
   "execution_count": 12,
   "metadata": {},
   "outputs": [],
   "source": [
    "train_frame.to_csv('data/hwu64/bert/train_predictions.csv', index=False)\n",
    "val_frame.to_csv('data/hwu64/bert/calibration_predictions.csv', index=False)\n",
    "test_frame.to_csv('data/hwu64/bert/test_predictions.csv', index=False)\n",
    "\n",
    "pd.DataFrame({'0': id2label.values()}).to_csv('data/hwu64/bert/labels.csv')\n"
   ]
  },
  {
   "cell_type": "code",
   "execution_count": 20,
   "metadata": {},
   "outputs": [
    {
     "data": {
      "application/vnd.jupyter.widget-view+json": {
       "model_id": "da24e5e2431047118fc0b706928ef87a",
       "version_major": 2,
       "version_minor": 0
      },
      "text/plain": [
       "Filter:   0%|          | 0/15429 [00:00<?, ? examples/s]"
      ]
     },
     "metadata": {},
     "output_type": "display_data"
    },
    {
     "data": {
      "text/plain": [
       "[\"give me new york's current time\",\n",
       " 'august fifteenth is what day of the week',\n",
       " 'tell me the current time',\n",
       " 'what is the time in the GMT time zone',\n",
       " 'display date',\n",
       " 'tell me time it is',\n",
       " 'can you tell me what date it is',\n",
       " 'what time is it in california',\n",
       " 'present time in new york',\n",
       " 'what day of the week is twenty first',\n",
       " 'what is the current time in california',\n",
       " 'what time is time',\n",
       " 'hows the time in key largo',\n",
       " 'what is the current eastern time',\n",
       " 'what is the time now in san diego',\n",
       " 'what time is it in new york',\n",
       " 'what day of the week is fourteenth',\n",
       " 'is today march sixth',\n",
       " 'current time in london',\n",
       " 'twenty second april day',\n",
       " 'what time is it in los angeles',\n",
       " 'just let me know the current date today',\n",
       " 'show me minutes of current hour',\n",
       " 'can you tell me what month it is',\n",
       " 'tell me the date',\n",
       " 'what day it is on twenty second april',\n",
       " 'what was the date of two wednesdays back from today',\n",
       " 'was christmas one thousand nine hundred and seventy two on a weekend',\n",
       " 'what is the date for next tuesday',\n",
       " 'what is todays date',\n",
       " 'please let me know the current time at new delhi',\n",
       " 'tell me what time it is in dallas texas',\n",
       " 'search to find current local time and time zone',\n",
       " 'what is the time central',\n",
       " 'search for information on internet',\n",
       " 'what date is easter sunday this year',\n",
       " 'how much in the clock',\n",
       " \"please give me today's date\",\n",
       " 'what is ten am in eastern time',\n",
       " 'current date please',\n",
       " 'is on eighth november there is monday or some other day',\n",
       " 'please tell me the date for the first day of next month',\n",
       " 'what day does april sixteenth fall on',\n",
       " 'what is the current central time',\n",
       " 'can you check the time',\n",
       " 'what time zone is belarus in',\n",
       " 'tell me the time in moscow',\n",
       " 'what is the date of next saturday',\n",
       " 'what is my current time',\n",
       " 'is it march',\n",
       " 'give me the current date today',\n",
       " \"what's the date of the winter solstice two years from now\",\n",
       " 'whats the time in london',\n",
       " 'i want the date of last monday of this month',\n",
       " 'what is the current date in india',\n",
       " 'what is the current date today',\n",
       " 'let me know the time',\n",
       " 'can you tell me the time right now',\n",
       " 'time in chicago',\n",
       " 'what day is the fifth',\n",
       " \"what is today's exact date\",\n",
       " 'what time is it in that city',\n",
       " 'please give me the date today',\n",
       " \"what's the time in ottawa\",\n",
       " 'hey what is the time',\n",
       " 'would like to see the time zone',\n",
       " 'how time is it',\n",
       " 'what day and time is it in manila',\n",
       " 'what is the exact time now',\n",
       " 'could you please tell me what the current time is',\n",
       " 'what time is it in las vegas',\n",
       " 'what time is it in karachi right now',\n",
       " 'what is the time in geneva',\n",
       " \"what's the date tomorrow\",\n",
       " 'what is the date and time',\n",
       " 'what time is it',\n",
       " 'which date is on next monday',\n",
       " 'what time is it in dubai',\n",
       " \"what is today's date\",\n",
       " 'olly what time is it in las vegas',\n",
       " 'what day of the week is twenty fifth',\n",
       " 'the time',\n",
       " 'how many days are left in this year',\n",
       " 'tell me the time now',\n",
       " 'what day of the week does the next holiday fall on',\n",
       " \"how many birthday's are on twenty third\",\n",
       " 'give me the date of monday on third week of this month',\n",
       " 'hey what time is it in london now',\n",
       " 'what is the current time in boston',\n",
       " 'whats the time in denver',\n",
       " 'what is the current mountain time',\n",
       " 'i need to know the time',\n",
       " 'what is time now in california',\n",
       " 'what is tomorrows date',\n",
       " 'what is the time over in florida',\n",
       " 'what is the current time in chennai',\n",
       " 'when is easter in the year two thousand and eighteen',\n",
       " 'what day of the week was december four one thousand nine hundred and eighty two',\n",
       " 'please tell me what time it is',\n",
       " 'tell me what time it is',\n",
       " 'what is the time difference between here and dakar',\n",
       " \"hey olly what's the time\",\n",
       " 'today is monday is it',\n",
       " 'how many sunday having this month',\n",
       " 'can you tell me what the date is today',\n",
       " 'the time in cairo please',\n",
       " 'what time is it right now in australia',\n",
       " 'give me the time in pst',\n",
       " 'what day of the week does july fourth fall on this year',\n",
       " 'what is the current date time group',\n",
       " 'what day is december thirteenth',\n",
       " 'does it fall a sunday on fifth december',\n",
       " 'what is it today',\n",
       " 'is the time currently correct for where i am located',\n",
       " 'is twenty first of the week is saturday',\n",
       " 'what could be the time in india',\n",
       " 'how many days are in february',\n",
       " \"what's the time in hong kong\",\n",
       " 'whats the time in chicago',\n",
       " \"what's the time of day right now\",\n",
       " 'what is the current date',\n",
       " 'is there christmas on twenty second',\n",
       " 'Current time in cpt',\n",
       " 'how many muhurtham in this month',\n",
       " 'time left for ten am',\n",
       " 'how many days until march thirty',\n",
       " 'give me time',\n",
       " 'today is',\n",
       " 'tell me the current time in san paulo brazil',\n",
       " \"let me know today's date in american format\",\n",
       " 'what is current time',\n",
       " 'is it twentieth march today',\n",
       " 'what time is it in dallas',\n",
       " 'update to current time',\n",
       " 'say the time',\n",
       " 'what day is today',\n",
       " \"what's the date\",\n",
       " 'what day does my birthday fall on this year',\n",
       " 'what time is it in someplace',\n",
       " 'what day of the week is the first of march',\n",
       " \"what's the time in new york\",\n",
       " 'what time is it on the east coast of the united states',\n",
       " 'what will be day on fifteenth march',\n",
       " 'current date',\n",
       " 'time in new york now',\n",
       " 'new york time',\n",
       " 'what day was it on my birth date',\n",
       " 'show time in china',\n",
       " 'please check the time',\n",
       " 'how many saturdays are in march',\n",
       " 'tell me the time in another city in us',\n",
       " 'chicago time',\n",
       " 'the last friday of the month lands on what day',\n",
       " 'is it five yet',\n",
       " 'on what date is easter this year',\n",
       " 'in another city what time is it',\n",
       " 'what is the current time in new york',\n",
       " 'ten million, twenty two thousand and seventeen',\n",
       " \"what's today's date\",\n",
       " 'what is the time in the pacific time zone',\n",
       " 'what time does the match start',\n",
       " 'what is the time in the pacific time zone at this very moment',\n",
       " 'what time is it in austin',\n",
       " 'which day is friday the thirteenth this year',\n",
       " 'what is eastern standard time right noe',\n",
       " 'what is the time in the midwest right now',\n",
       " \"what's the current time in eastern standard\",\n",
       " 'what date is it today',\n",
       " 'what will be the time now in washington',\n",
       " 'day on twenty second april',\n",
       " 'what time is it in cleveland',\n",
       " 'what day of the week is the twenty seventh',\n",
       " 'what is the time in china',\n",
       " \"what day is new year's eve this year\",\n",
       " 'please let me know what time seven pm is in pst',\n",
       " 'display the local time of london at this moment',\n",
       " 'uae time',\n",
       " 'twenty ninth march comes on what day',\n",
       " \"what's the time\",\n",
       " 'what day is christmas',\n",
       " \"i'd like to know what time it is right now\",\n",
       " 'show me what time it is',\n",
       " 'whats the day today',\n",
       " 'what is the date next saturday',\n",
       " 'what time is it now',\n",
       " 'which week is twenty third',\n",
       " 'current time in ny',\n",
       " 'on may thirteenth please run a credit check and email the results',\n",
       " 'give me the time at washington right now',\n",
       " 'what day is easter this year',\n",
       " \"can you tell me today's date\",\n",
       " 'abhi kitna time ho raha hai',\n",
       " 'how late am i',\n",
       " 'can you tell me what time is it in new york',\n",
       " 'how many hours gone from midnight on city',\n",
       " 'get me the time in london now',\n",
       " 'todays date',\n",
       " 'is it second Saturday on twelfth',\n",
       " 'tell me what the date is today',\n",
       " 'greeting of the day and states date after greeting',\n",
       " 'what would be the current time in ivory coast',\n",
       " 'i need to know what is the date today',\n",
       " 'could you please tell me what time is in singapore',\n",
       " 'what is mondays actual date',\n",
       " \"what is today's day\",\n",
       " 'what is the current time in our home town',\n",
       " 'what day of the month is it',\n",
       " 'what is the time in new york',\n",
       " 'current time please',\n",
       " 'could you tell me what time it is',\n",
       " 'tell me the time in london england',\n",
       " 'today is what day',\n",
       " 'what time is it in florida',\n",
       " 'please tell me the date',\n",
       " 'is the twenty third of april a saturday',\n",
       " 'whats the time in dubai',\n",
       " 'what day does easter fall on this year',\n",
       " 'las vegas time',\n",
       " 'what day of the week is it',\n",
       " 'give me the time in london',\n",
       " 'show me what day the thirty first is on',\n",
       " 'what time is it in london right now',\n",
       " 'what is the time in zimbabwe right now',\n",
       " 'what is the time in beijing',\n",
       " 'what is the time in la',\n",
       " 'when is the twenty second',\n",
       " 'new york time please',\n",
       " 'five million, twenty two thousand and seventeen',\n",
       " 'where are we in the stream of time',\n",
       " 'what is the current day month and year',\n",
       " 'is it Monday today',\n",
       " 'current time',\n",
       " 'ten past seven',\n",
       " 'tell me the time in jakarta',\n",
       " 'whats the current time at new york',\n",
       " 'can you give me the time in new delhi',\n",
       " 'what time is it now in g. m. t.',\n",
       " 'can i know whats the time now',\n",
       " 'give me the current date',\n",
       " \"whats today's date\",\n",
       " 'alarm clock',\n",
       " 'todays a lovely day what the date',\n",
       " 'what is the time in bangalore',\n",
       " 'which day is march twenty',\n",
       " 'today is what date',\n",
       " 'what is the time for the eastern time zone',\n",
       " 'the twenty second is what day',\n",
       " 'g. m. t. time',\n",
       " 'tell me what time it is right now',\n",
       " 'tell me a date',\n",
       " 'show time in mumbai',\n",
       " 'tell me the time in japan',\n",
       " 'tell me the time in canberra',\n",
       " 'what day of the week is thirtieth',\n",
       " 'please tell me what time it is in denver',\n",
       " 'is it afternoon yet',\n",
       " 'what is the time in london right now',\n",
       " 'tell me what time it is right now in austin',\n",
       " 'what time is it in the other time zones',\n",
       " 'is it ten',\n",
       " 'what time is it in mountain standard time',\n",
       " 'time please',\n",
       " 'what time is the time in new york',\n",
       " 'what is the time in boston',\n",
       " 'what time is it in the central time zone',\n",
       " 'what is the time in chicago',\n",
       " 'what time zone is arizona',\n",
       " 'please give me the time',\n",
       " 'what hour now',\n",
       " 'what time is it in dooa',\n",
       " 'how many weeks are left for christmas',\n",
       " 'what day of the week does the twenty fifth july fall on',\n",
       " \"what's the time in tokyo now\",\n",
       " 'what time is it in pacific time',\n",
       " \"hey what's the current time in austin\",\n",
       " 'tell me the time in boston',\n",
       " 'is the time different in moscow',\n",
       " 'what time is it in chicago right now',\n",
       " 'what is the current time in lagos nigeria',\n",
       " 'what time is it in the east',\n",
       " 'hey what time is it in ocho rios jamaica',\n",
       " 'on fifth april which day of the week',\n",
       " 'what time is it in denver',\n",
       " 'how many minutes pass four pm',\n",
       " 'give the time in dubai',\n",
       " 'please tell me the current time in new york',\n",
       " 'give me moscow time',\n",
       " 'when is easter',\n",
       " 'please provide current time in india',\n",
       " 'what time is it in akron',\n",
       " 'hey what time is it in dallas texas',\n",
       " 'how many hours remaining for mid noon',\n",
       " 'what day of the week is june twenty seventh on this year',\n",
       " 'tell me the date today',\n",
       " 'tell me the time',\n",
       " 'can you tell me what time is it',\n",
       " \"today's date\",\n",
       " 'what time is it in sweden as we speak',\n",
       " 'what day does june twenty seventh two thousand and seventeen fall on this year',\n",
       " 'can you give me the time in this time zone',\n",
       " 'show me the current time in germany',\n",
       " 'what time in las vegas',\n",
       " 'what day of the week was february four nineteen seventy two',\n",
       " 'what time is it in pacific standard time',\n",
       " 'what day of the week does the twenty second fall on this month',\n",
       " 'what day of the week is twelfth',\n",
       " 'can you please tell me the time',\n",
       " 'can you tell me what time it is',\n",
       " 'what is the time',\n",
       " 'show me the current date today',\n",
       " \"what is today's current date\",\n",
       " 'please tell me what is the time in sanfranscio',\n",
       " 'what time i sit in china right now',\n",
       " 'can you tell me the time at san francisco',\n",
       " 'what time is it in another city',\n",
       " 'tell me present time in malaysia',\n",
       " 'what time is it now in new york',\n",
       " 'what time is it in london now',\n",
       " 'what day of the week is the twenty third of this month',\n",
       " 'tell me current time in los angels',\n",
       " 'give me the time in washington',\n",
       " 'what day this year has the longest daylight time',\n",
       " 'time now in new york',\n",
       " 'what is the time in london now',\n",
       " 'Current time in g. m. t.',\n",
       " 'what is paris time',\n",
       " 'what time is it in new york now',\n",
       " 'is it noon in paris',\n",
       " 'when does twenty fourth come in the next week',\n",
       " 'what time is it in switzerland',\n",
       " 'tell me what time is it',\n",
       " 'what is the time in london',\n",
       " 'what time is it on the west coast',\n",
       " \"what's the current time in orlando fl\",\n",
       " 'what day of the week is the twenty first of may',\n",
       " 'hello what time it is now',\n",
       " 'current date time',\n",
       " \"please show me today's date\",\n",
       " 'what is the date next wednesday',\n",
       " 'tell me what day of the week it is',\n",
       " 'what day of the week is valentines on',\n",
       " \"what's the time now\",\n",
       " 'how me the time now in boston',\n",
       " 'can you tell me the time it is',\n",
       " 'what is the time in paris',\n",
       " 'can i get the current time',\n",
       " 'what is the current time in delhi',\n",
       " 'what day of the month is fat Tuesday',\n",
       " 'do we have thirty first day on this month',\n",
       " 'how many fridays are there in may',\n",
       " 'please tell me the current date',\n",
       " 'what day does my birthday fall on next year',\n",
       " 'what is the time in paris',\n",
       " 'what time is it in new york city',\n",
       " 'whats the time',\n",
       " 'what is the date',\n",
       " 'a quarter to two',\n",
       " 'when is the next friday the thirteenth',\n",
       " 'what day is it on fifth december',\n",
       " 'what time and day is it today',\n",
       " \"could you tell me what today's date is\",\n",
       " 'do you know what day it is',\n",
       " 'one hundred thousand two hundred and seventeenth',\n",
       " 'what time is it right now',\n",
       " \"is today's date the ninth\",\n",
       " 'what day does easter fall on',\n",
       " 'tell me current time',\n",
       " 'what day is it',\n",
       " 'can you tell me the time',\n",
       " 'the date today please',\n",
       " 'its what time in',\n",
       " 'tell me what time it currently is',\n",
       " 'what day today',\n",
       " 'what week of the year does the summer season start',\n",
       " 'i want the time for another city outside us',\n",
       " 'march tenth lands on what day of the week']"
      ]
     },
     "execution_count": 20,
     "metadata": {},
     "output_type": "execute_result"
    }
   ],
   "source": [
    "LABEL_QRY = 'datetime_query'\n",
    "dataset['train'].filter(lambda x: x['labels'] == label2id[LABEL_QRY])['text']"
   ]
  },
  {
   "cell_type": "code",
   "execution_count": 17,
   "metadata": {},
   "outputs": [
    {
     "data": {
      "text/plain": [
       "{'alarm_query': 0,\n",
       " 'alarm_remove': 1,\n",
       " 'alarm_set': 2,\n",
       " 'audio_volume_down': 3,\n",
       " 'audio_volume_mute': 4,\n",
       " 'audio_volume_other': 5,\n",
       " 'audio_volume_up': 6,\n",
       " 'calendar_query': 7,\n",
       " 'calendar_remove': 8,\n",
       " 'calendar_set': 9,\n",
       " 'cooking_query': 10,\n",
       " 'cooking_recipe': 11,\n",
       " 'datetime_convert': 12,\n",
       " 'datetime_query': 13,\n",
       " 'email_addcontact': 14,\n",
       " 'email_query': 15,\n",
       " 'email_querycontact': 16,\n",
       " 'email_sendemail': 17,\n",
       " 'general_affirm': 18,\n",
       " 'general_commandstop': 19,\n",
       " 'general_confirm': 20,\n",
       " 'general_dontcare': 21,\n",
       " 'general_explain': 22,\n",
       " 'general_greet': 23,\n",
       " 'general_joke': 24,\n",
       " 'general_negate': 25,\n",
       " 'general_praise': 26,\n",
       " 'general_quirky': 27,\n",
       " 'general_repeat': 28,\n",
       " 'iot_cleaning': 29,\n",
       " 'iot_coffee': 30,\n",
       " 'iot_hue_lightchange': 31,\n",
       " 'iot_hue_lightdim': 32,\n",
       " 'iot_hue_lightoff': 33,\n",
       " 'iot_hue_lighton': 34,\n",
       " 'iot_hue_lightup': 35,\n",
       " 'iot_wemo_off': 36,\n",
       " 'iot_wemo_on': 37,\n",
       " 'lists_createoradd': 38,\n",
       " 'lists_query': 39,\n",
       " 'lists_remove': 40,\n",
       " 'music_dislikeness': 41,\n",
       " 'music_likeness': 42,\n",
       " 'music_query': 43,\n",
       " 'music_settings': 44,\n",
       " 'news_query': 45,\n",
       " 'play_audiobook': 46,\n",
       " 'play_game': 47,\n",
       " 'play_music': 48,\n",
       " 'play_podcasts': 49,\n",
       " 'play_radio': 50,\n",
       " 'qa_currency': 51,\n",
       " 'qa_definition': 52,\n",
       " 'qa_factoid': 53,\n",
       " 'qa_maths': 54,\n",
       " 'qa_stock': 55,\n",
       " 'recommendation_events': 56,\n",
       " 'recommendation_locations': 57,\n",
       " 'recommendation_movies': 58,\n",
       " 'social_post': 59,\n",
       " 'social_query': 60,\n",
       " 'takeaway_order': 61,\n",
       " 'takeaway_query': 62,\n",
       " 'transport_query': 63,\n",
       " 'transport_taxi': 64,\n",
       " 'transport_ticket': 65,\n",
       " 'transport_traffic': 66,\n",
       " 'weather_query': 67}"
      ]
     },
     "execution_count": 17,
     "metadata": {},
     "output_type": "execute_result"
    }
   ],
   "source": [
    "label2id"
   ]
  },
  {
   "cell_type": "code",
   "execution_count": null,
   "metadata": {},
   "outputs": [],
   "source": []
  }
 ],
 "metadata": {
  "kernelspec": {
   "display_name": "cicc",
   "language": "python",
   "name": "python3"
  },
  "language_info": {
   "codemirror_mode": {
    "name": "ipython",
    "version": 3
   },
   "file_extension": ".py",
   "mimetype": "text/x-python",
   "name": "python",
   "nbconvert_exporter": "python",
   "pygments_lexer": "ipython3",
   "version": "3.12.0"
  },
  "orig_nbformat": 4
 },
 "nbformat": 4,
 "nbformat_minor": 2
}

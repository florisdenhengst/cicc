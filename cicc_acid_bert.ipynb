{
 "cells": [
  {
   "cell_type": "code",
   "execution_count": 1,
   "id": "ddb87912-eef5-4e35-9ab7-b070caf1eb64",
   "metadata": {
    "tags": []
   },
   "outputs": [],
   "source": [
    "import math\n",
    "import numpy as np\n",
    "import pandas as pd\n",
    "from mapie.classification import MapieClassifier\n",
    "from mapie.metrics import classification_coverage_score, classification_mean_width_score\n",
    "import matplotlib.pyplot as plt\n",
    "import json\n",
    "\n",
    "from src.model import MockModel\n",
    "from src.utils import index_for_arange, write_results, cq_labels, cq_filter\n",
    "import src.plot as plot\n",
    "from src.eval import (\n",
    "    adjusted_classification_x_width_score,\n",
    "    size_stratified_classification_coverage_score,\n",
    "    cq_stats,\n",
    "    set_size_equals,\n",
    ")\n",
    "from src.heuristics import TopKSelector, HeuristicCutoffSelector, TopKCutoffSelector"
   ]
  },
  {
   "cell_type": "code",
   "execution_count": 2,
   "id": "8ab6a230-0e0d-422d-876b-0d85b4cb074a",
   "metadata": {
    "tags": []
   },
   "outputs": [],
   "source": [
    "# load data\n",
    "dataset = 'acid'\n",
    "intent_classifier = 'bert'\n",
    "data_dir = f'data/{dataset}/{intent_classifier}/'\n",
    "\n",
    "df_train_preds = pd.read_csv(data_dir + \"train_predictions.csv\")\n",
    "df_test_preds = pd.read_csv(data_dir + \"test_predictions.csv\")\n",
    "df_calibration_preds = pd.read_csv(data_dir + \"calibration_predictions.csv\")\n",
    "\n",
    "labels = pd.read_csv(data_dir+'/labels.csv', header=0, names=['index','label'])\n",
    "labels = list(labels.label)\n",
    "N_INTENTS = len(labels)"
   ]
  },
  {
   "cell_type": "code",
   "execution_count": 3,
   "id": "894d9cd0-64d3-425d-889a-dcd0055be9d7",
   "metadata": {
    "tags": []
   },
   "outputs": [
    {
     "data": {
      "text/plain": [
       "(13303, 4435, 4434)"
      ]
     },
     "execution_count": 3,
     "metadata": {},
     "output_type": "execute_result"
    }
   ],
   "source": [
    "# check train-calibration-test split sizes\n",
    "df_train_preds.shape[0], df_calibration_preds.shape[0], df_test_preds.shape[0]"
   ]
  },
  {
   "cell_type": "code",
   "execution_count": 4,
   "id": "84a844f0-da86-4e9f-94d6-e603194a6cd5",
   "metadata": {
    "tags": []
   },
   "outputs": [],
   "source": [
    "# apply some basic transformations\n",
    "df_train = df_train_preds.reset_index().rename(columns={'index': 'utterance'})\n",
    "df_test = df_test_preds.reset_index().rename(columns={'index': 'utterance'})\n",
    "df_calibration = df_calibration_preds.reset_index().rename(columns={'index': 'utterance'})\n",
    "\n",
    "df_train['utterance'] = df_train['utterance'].apply(lambda h: 'train_' + str(h))\n",
    "df_test['utterance'] = df_test['utterance'].apply(lambda h: 'test_' + str(h))\n",
    "df_calibration['utterance'] = df_calibration['utterance'].apply(lambda h: 'cal_' + str(h))\n",
    "\n",
    "df_train['utterance'] = df_train['utterance'].astype(str)\n",
    "df_test['utterance'] = df_test['utterance'].astype(str)\n",
    "df_calibration['utterance'] = df_calibration['utterance'].astype(str)"
   ]
  },
  {
   "cell_type": "code",
   "execution_count": 5,
   "id": "a1dd2945-3fb7-4ca7-9325-397719061827",
   "metadata": {
    "tags": []
   },
   "outputs": [
    {
     "data": {
      "text/html": [
       "<div>\n",
       "<style scoped>\n",
       "    .dataframe tbody tr th:only-of-type {\n",
       "        vertical-align: middle;\n",
       "    }\n",
       "\n",
       "    .dataframe tbody tr th {\n",
       "        vertical-align: top;\n",
       "    }\n",
       "\n",
       "    .dataframe thead th {\n",
       "        text-align: right;\n",
       "    }\n",
       "</style>\n",
       "<table border=\"1\" class=\"dataframe\">\n",
       "  <thead>\n",
       "    <tr style=\"text-align: right;\">\n",
       "      <th></th>\n",
       "      <th>utterance</th>\n",
       "      <th>label_0</th>\n",
       "      <th>label_1</th>\n",
       "      <th>label_2</th>\n",
       "      <th>label_3</th>\n",
       "      <th>label_4</th>\n",
       "      <th>label_5</th>\n",
       "      <th>label_6</th>\n",
       "      <th>label_7</th>\n",
       "      <th>label_8</th>\n",
       "      <th>...</th>\n",
       "      <th>label_165</th>\n",
       "      <th>label_166</th>\n",
       "      <th>label_167</th>\n",
       "      <th>label_168</th>\n",
       "      <th>label_169</th>\n",
       "      <th>label_170</th>\n",
       "      <th>label_171</th>\n",
       "      <th>label_172</th>\n",
       "      <th>label_173</th>\n",
       "      <th>label_174</th>\n",
       "    </tr>\n",
       "  </thead>\n",
       "  <tbody>\n",
       "    <tr>\n",
       "      <th>0</th>\n",
       "      <td>test_0</td>\n",
       "      <td>3.020523e-06</td>\n",
       "      <td>0.000018</td>\n",
       "      <td>0.000005</td>\n",
       "      <td>6.984549e-06</td>\n",
       "      <td>0.000025</td>\n",
       "      <td>0.000012</td>\n",
       "      <td>0.000005</td>\n",
       "      <td>0.000002</td>\n",
       "      <td>0.000001</td>\n",
       "      <td>...</td>\n",
       "      <td>0.000002</td>\n",
       "      <td>0.000002</td>\n",
       "      <td>0.000003</td>\n",
       "      <td>0.000002</td>\n",
       "      <td>0.000002</td>\n",
       "      <td>8.948206e-07</td>\n",
       "      <td>0.000002</td>\n",
       "      <td>0.000003</td>\n",
       "      <td>5.829912e-06</td>\n",
       "      <td>0.000003</td>\n",
       "    </tr>\n",
       "    <tr>\n",
       "      <th>1</th>\n",
       "      <td>test_1</td>\n",
       "      <td>9.907321e-07</td>\n",
       "      <td>0.000087</td>\n",
       "      <td>0.000006</td>\n",
       "      <td>1.056665e-06</td>\n",
       "      <td>0.000009</td>\n",
       "      <td>0.000024</td>\n",
       "      <td>0.000002</td>\n",
       "      <td>0.000009</td>\n",
       "      <td>0.000002</td>\n",
       "      <td>...</td>\n",
       "      <td>0.000002</td>\n",
       "      <td>0.000032</td>\n",
       "      <td>0.000006</td>\n",
       "      <td>0.000012</td>\n",
       "      <td>0.000028</td>\n",
       "      <td>1.679941e-04</td>\n",
       "      <td>0.000002</td>\n",
       "      <td>0.000005</td>\n",
       "      <td>1.860471e-05</td>\n",
       "      <td>0.000012</td>\n",
       "    </tr>\n",
       "    <tr>\n",
       "      <th>2</th>\n",
       "      <td>test_2</td>\n",
       "      <td>9.773278e-05</td>\n",
       "      <td>0.002857</td>\n",
       "      <td>0.048532</td>\n",
       "      <td>2.185311e-04</td>\n",
       "      <td>0.000029</td>\n",
       "      <td>0.000029</td>\n",
       "      <td>0.000010</td>\n",
       "      <td>0.000044</td>\n",
       "      <td>0.000048</td>\n",
       "      <td>...</td>\n",
       "      <td>0.000049</td>\n",
       "      <td>0.000017</td>\n",
       "      <td>0.000016</td>\n",
       "      <td>0.000008</td>\n",
       "      <td>0.000038</td>\n",
       "      <td>4.548014e-05</td>\n",
       "      <td>0.000014</td>\n",
       "      <td>0.000013</td>\n",
       "      <td>2.996008e-05</td>\n",
       "      <td>0.000007</td>\n",
       "    </tr>\n",
       "    <tr>\n",
       "      <th>3</th>\n",
       "      <td>test_3</td>\n",
       "      <td>3.047671e-06</td>\n",
       "      <td>0.000021</td>\n",
       "      <td>0.000020</td>\n",
       "      <td>4.447260e-06</td>\n",
       "      <td>0.000003</td>\n",
       "      <td>0.000026</td>\n",
       "      <td>0.000015</td>\n",
       "      <td>0.000008</td>\n",
       "      <td>0.000004</td>\n",
       "      <td>...</td>\n",
       "      <td>0.000003</td>\n",
       "      <td>0.000006</td>\n",
       "      <td>0.000007</td>\n",
       "      <td>0.000005</td>\n",
       "      <td>0.000013</td>\n",
       "      <td>7.628627e-06</td>\n",
       "      <td>0.000008</td>\n",
       "      <td>0.000005</td>\n",
       "      <td>8.578555e-07</td>\n",
       "      <td>0.000003</td>\n",
       "    </tr>\n",
       "    <tr>\n",
       "      <th>4</th>\n",
       "      <td>test_4</td>\n",
       "      <td>2.541132e-06</td>\n",
       "      <td>0.000005</td>\n",
       "      <td>0.000004</td>\n",
       "      <td>8.783608e-07</td>\n",
       "      <td>0.000002</td>\n",
       "      <td>0.000003</td>\n",
       "      <td>0.000005</td>\n",
       "      <td>0.000003</td>\n",
       "      <td>0.000002</td>\n",
       "      <td>...</td>\n",
       "      <td>0.000001</td>\n",
       "      <td>0.000012</td>\n",
       "      <td>0.000002</td>\n",
       "      <td>0.000002</td>\n",
       "      <td>0.000009</td>\n",
       "      <td>2.707000e-06</td>\n",
       "      <td>0.000008</td>\n",
       "      <td>0.000002</td>\n",
       "      <td>1.629216e-06</td>\n",
       "      <td>0.000004</td>\n",
       "    </tr>\n",
       "  </tbody>\n",
       "</table>\n",
       "<p>5 rows × 176 columns</p>\n",
       "</div>"
      ],
      "text/plain": [
       "  utterance       label_0   label_1   label_2       label_3   label_4  \\\n",
       "0    test_0  3.020523e-06  0.000018  0.000005  6.984549e-06  0.000025   \n",
       "1    test_1  9.907321e-07  0.000087  0.000006  1.056665e-06  0.000009   \n",
       "2    test_2  9.773278e-05  0.002857  0.048532  2.185311e-04  0.000029   \n",
       "3    test_3  3.047671e-06  0.000021  0.000020  4.447260e-06  0.000003   \n",
       "4    test_4  2.541132e-06  0.000005  0.000004  8.783608e-07  0.000002   \n",
       "\n",
       "    label_5   label_6   label_7   label_8  ...  label_165  label_166  \\\n",
       "0  0.000012  0.000005  0.000002  0.000001  ...   0.000002   0.000002   \n",
       "1  0.000024  0.000002  0.000009  0.000002  ...   0.000002   0.000032   \n",
       "2  0.000029  0.000010  0.000044  0.000048  ...   0.000049   0.000017   \n",
       "3  0.000026  0.000015  0.000008  0.000004  ...   0.000003   0.000006   \n",
       "4  0.000003  0.000005  0.000003  0.000002  ...   0.000001   0.000012   \n",
       "\n",
       "   label_167  label_168  label_169     label_170  label_171  label_172  \\\n",
       "0   0.000003   0.000002   0.000002  8.948206e-07   0.000002   0.000003   \n",
       "1   0.000006   0.000012   0.000028  1.679941e-04   0.000002   0.000005   \n",
       "2   0.000016   0.000008   0.000038  4.548014e-05   0.000014   0.000013   \n",
       "3   0.000007   0.000005   0.000013  7.628627e-06   0.000008   0.000005   \n",
       "4   0.000002   0.000002   0.000009  2.707000e-06   0.000008   0.000002   \n",
       "\n",
       "      label_173  label_174  \n",
       "0  5.829912e-06   0.000003  \n",
       "1  1.860471e-05   0.000012  \n",
       "2  2.996008e-05   0.000007  \n",
       "3  8.578555e-07   0.000003  \n",
       "4  1.629216e-06   0.000004  \n",
       "\n",
       "[5 rows x 176 columns]"
      ]
     },
     "execution_count": 5,
     "metadata": {},
     "output_type": "execute_result"
    }
   ],
   "source": [
    "# merge datasets to single frame\n",
    "fullset = pd.concat([df_test, df_calibration], ignore_index=True)\n",
    "assert fullset.utterance.value_counts().max() == 1, \"Hashes/utterances should be unique in full set\"\n",
    "fullset = fullset.drop(['label', 'hash', 'text'], axis=1)\n",
    "fullset.head()"
   ]
  },
  {
   "cell_type": "code",
   "execution_count": 6,
   "id": "5e9b56da-47f0-47a0-813f-2635fa283889",
   "metadata": {
    "tags": []
   },
   "outputs": [],
   "source": [
    "# parameters for evaluation\n",
    "X_train = fullset[['utterance']]\n",
    "X_calib = df_calibration[['utterance']]\n",
    "X_test = df_test[['utterance']]\n",
    "\n",
    "a_start = 0.01\n",
    "a_stop = .4\n",
    "a_step = 0.01\n",
    "alpha = np.arange(a_start, a_stop, a_step)\n",
    "\n",
    "max_ps_size = math.ceil(N_INTENTS * .25)\n",
    "max_ps_size = 7\n",
    "\n",
    "target_alpha = .02\n",
    "target_index = index_for_arange(a_start, a_step ,target_alpha)"
   ]
  },
  {
   "cell_type": "code",
   "execution_count": 7,
   "id": "7d4c5bc0-fe51-4dfd-aab0-888fd479a40b",
   "metadata": {
    "tags": []
   },
   "outputs": [],
   "source": [
    "# instantiate a mock sklearn model which simply looks up the results in a lookup table\n",
    "model = MockModel(fullset, 'utterance', softmax=False)\n",
    "# fit the test dataset\n",
    "model.fit(X_test, df_test['label'])\n",
    "# extract the test targets from the datasets\n",
    "y_test = df_test['label'].apply(lambda lbl: list(model.classes_).index(lbl))"
   ]
  },
  {
   "cell_type": "code",
   "execution_count": 8,
   "id": "2dacf640-6c20-4f5d-82e9-f694a7fc763d",
   "metadata": {
    "tags": []
   },
   "outputs": [
    {
     "name": "stderr",
     "output_type": "stream",
     "text": [
      "/Users/floris/Documents/archive/publications/cicc/cicc/src/eval.py:101: UserWarning: Warning: converting a masked element to nan.\n",
      "  return float(agg_width)\n"
     ]
    },
    {
     "data": {
      "text/plain": [
       "(0.9830547818012999,\n",
       " 0.871447902571042,\n",
       " 3.0112612612612613,\n",
       " 0.03225078935498421)"
      ]
     },
     "execution_count": 8,
     "metadata": {},
     "output_type": "execute_result"
    }
   ],
   "source": [
    "# marginal conformal prediction\n",
    "mapie_marginal = MapieClassifier(estimator=model, cv=\"prefit\", method=\"score\", random_state=42)\n",
    "mapie_marginal.fit(X_calib, df_calibration['label'])\n",
    "y_pred_marginal, y_ps_marginal = mapie_marginal.predict(X_test, alpha=alpha)\n",
    "\n",
    "\n",
    "coverages_marginal = [\n",
    "    classification_coverage_score(y_test, y_ps_marginal[:, :, i])\n",
    "    for i, _ in enumerate(alpha)\n",
    "]\n",
    "cqsize_marginal = [\n",
    "    adjusted_classification_x_width_score(y_ps_marginal[:, :, i], np.mean,max_ps_size)\n",
    "    for i, _ in enumerate(alpha)\n",
    "]\n",
    "single_marginal = [\n",
    "    set_size_equals(y_ps_marginal[:,:,i], 1)\n",
    "    for i, _ in enumerate(alpha)\n",
    "]\n",
    "ambiguous_marginal = [\n",
    "    (y_ps_marginal[:, :, i].sum(axis=1) >= max_ps_size).mean()\n",
    "    for i, _ in enumerate(alpha)\n",
    "]\n",
    "ssc_marginal = [\n",
    "    size_stratified_classification_coverage_score(y_test, y_ps_marginal[:, :, i])\n",
    "    for i, _ in enumerate(alpha)\n",
    "]\n",
    "\n",
    "results = cq_stats(y_ps_marginal[:, :, target_index], y_test, max_ps_size)\n",
    "\n",
    "write_results('acid-bert-cicc', dataset, intent_classifier, 'cicc', results)\n",
    "results"
   ]
  },
  {
   "cell_type": "code",
   "execution_count": 9,
   "id": "22e7584f-d77c-4fe6-a47d-36d2bad9e77c",
   "metadata": {
    "tags": []
   },
   "outputs": [
    {
     "data": {
      "text/plain": [
       "(0.9903553299492386,\n",
       " 0.8479927830401444,\n",
       " 2.811111111111111,\n",
       " 0.11253946774921064)"
      ]
     },
     "execution_count": 9,
     "metadata": {},
     "output_type": "execute_result"
    }
   ],
   "source": [
    "# adaptive conformal prediction\n",
    "mapie_adaptive = MapieClassifier(estimator=model, cv=\"prefit\", method=\"cumulated_score\", random_state=42)\n",
    "mapie_adaptive.fit(X_calib, df_calibration['label'])\n",
    "y_pred_adaptive, y_ps_adaptive = mapie_adaptive.predict(X_test, alpha=alpha)\n",
    "\n",
    "\n",
    "coverages_adaptive = [\n",
    "    classification_coverage_score(y_test, y_ps_adaptive[:, :, i])\n",
    "    for i, _ in enumerate(alpha)\n",
    "]\n",
    "cqsize_adaptive = [\n",
    "    adjusted_classification_x_width_score(y_ps_adaptive[:, :, i], np.mean,max_ps_size)\n",
    "    for i, _ in enumerate(alpha)\n",
    "]\n",
    "single_adaptive = [\n",
    "    set_size_equals(y_ps_adaptive[:,:,i], 1)\n",
    "    for i, _ in enumerate(alpha)\n",
    "]\n",
    "ambiguous_adaptive = [\n",
    "    (y_ps_adaptive[:, :, i].sum(axis=1) >= max_ps_size).mean()\n",
    "    for i, _ in enumerate(alpha)\n",
    "]\n",
    "ssc_adaptive = [\n",
    "    size_stratified_classification_coverage_score(y_test, y_ps_adaptive[:, :, i])\n",
    "    for i, _ in enumerate(alpha)\n",
    "]\n",
    "\n",
    "cq_stats(y_ps_adaptive[:, :, target_index], y_test, max_ps_size)"
   ]
  },
  {
   "cell_type": "code",
   "execution_count": 10,
   "id": "b5878c79-c2cb-4d63-a9cd-16961219311c",
   "metadata": {
    "tags": []
   },
   "outputs": [
    {
     "name": "stderr",
     "output_type": "stream",
     "text": [
      "/Users/floris/Documents/archive/publications/cicc/cicc/src/eval.py:101: UserWarning: Warning: converting a masked element to nan.\n",
      "  return float(agg_width)\n"
     ]
    },
    {
     "data": {
      "text/plain": [
       "(0.979702300405954, 0.0, 3.0, 0.0)"
      ]
     },
     "execution_count": 10,
     "metadata": {},
     "output_type": "execute_result"
    }
   ],
   "source": [
    "# TOP-K conformal prediction\n",
    "mapie_topk = MapieClassifier(estimator=model, cv=\"prefit\", method=\"top_k\", random_state=42)\n",
    "mapie_topk.fit(X_calib, df_calibration['label'])\n",
    "y_pred_topk, y_ps_topk = mapie_topk.predict(X_test, alpha=alpha)\n",
    "\n",
    "\n",
    "coverages_topk = [\n",
    "    classification_coverage_score(y_test, y_ps_topk[:, :, i])\n",
    "    for i, _ in enumerate(alpha)\n",
    "]\n",
    "cqsize_topk = [\n",
    "    adjusted_classification_x_width_score(y_ps_topk[:, :, i], np.mean,max_ps_size)\n",
    "    for i, _ in enumerate(alpha)\n",
    "]\n",
    "single_topk = [\n",
    "    set_size_equals(y_ps_topk[:,:,i], 1)\n",
    "    for i, _ in enumerate(alpha)\n",
    "]\n",
    "ambiguous_topk = [\n",
    "    (y_ps_topk[:, :, i].sum(axis=1) >= max_ps_size).mean()\n",
    "    for i, _ in enumerate(alpha)\n",
    "]\n",
    "ssc_topk = [\n",
    "    size_stratified_classification_coverage_score(y_test, y_ps_topk[:, :, i])\n",
    "    for i, _ in enumerate(alpha)\n",
    "]\n",
    "\n",
    "cq_stats(y_ps_topk[:, :, target_index], y_test, max_ps_size)"
   ]
  },
  {
   "cell_type": "code",
   "execution_count": 11,
   "id": "802ced47-cf35-4648-9dab-49bc0daabe82",
   "metadata": {
    "tags": []
   },
   "outputs": [
    {
     "data": {
      "text/plain": [
       "(0.9848758465011287,\n",
       " 0.8078484438430311,\n",
       " 5.865566037735849,\n",
       " 0.13870094722598106)"
      ]
     },
     "execution_count": 11,
     "metadata": {},
     "output_type": "execute_result"
    }
   ],
   "source": [
    "# RAPS\n",
    "mapie_raps = MapieClassifier(estimator=model, cv=\"prefit\", method=\"raps\")\n",
    "mapie_raps.fit(X_calib, df_calibration['label'])\n",
    "y_pred_raps, y_ps_raps = mapie_raps.predict(X_test, alpha=alpha)\n",
    "\n",
    "\n",
    "coverages_raps = [\n",
    "    classification_coverage_score(y_test, y_ps_raps[:, :, i])\n",
    "    for i, _ in enumerate(alpha)\n",
    "]\n",
    "cqsize_raps = [\n",
    "    adjusted_classification_x_width_score(y_ps_raps[:, :, i], np.mean,max_ps_size)\n",
    "    for i, _ in enumerate(alpha)\n",
    "]\n",
    "single_raps = [\n",
    "    set_size_equals(y_ps_raps[:,:,i], 1)\n",
    "    for i, _ in enumerate(alpha)\n",
    "]\n",
    "ambiguous_raps = [\n",
    "    (y_ps_raps[:, :, i].sum(axis=1) >= max_ps_size).mean()\n",
    "    for i, _ in enumerate(alpha)\n",
    "]\n",
    "ssc_raps = [\n",
    "    size_stratified_classification_coverage_score(y_test, y_ps_raps[:, :, i])\n",
    "    for i, _ in enumerate(alpha)\n",
    "]\n",
    "\n",
    "cq_stats(y_ps_raps[:, :, target_index], y_test, max_ps_size)"
   ]
  },
  {
   "cell_type": "code",
   "execution_count": 12,
   "id": "bdc5c834",
   "metadata": {},
   "outputs": [
    {
     "data": {
      "text/plain": [
       "(0.9772214704555706, 0.8761840324763194, 5.0, 0.0)"
      ]
     },
     "execution_count": 12,
     "metadata": {},
     "output_type": "execute_result"
    }
   ],
   "source": [
    "# heuristic 1: select all classes above a certain cutoff or the top-5 if there are none\n",
    "topk_cutoff = TopKCutoffSelector(estimator=model, cutoff=1-target_alpha, k=5)\n",
    "y_ps_h1 = topk_cutoff.predict(X_test)\n",
    "results = cq_stats(y_ps_h1, y_test, max_ps_size)\n",
    "write_results('acid-bert-h1', dataset, intent_classifier, 'h1', results)\n",
    "results"
   ]
  },
  {
   "cell_type": "code",
   "execution_count": 13,
   "id": "0cfd2cbd",
   "metadata": {},
   "outputs": [
    {
     "name": "stderr",
     "output_type": "stream",
     "text": [
      "/Users/floris/Documents/archive/publications/cicc/cicc/src/eval.py:101: UserWarning: Warning: converting a masked element to nan.\n",
      "  return float(agg_width)\n"
     ]
    },
    {
     "data": {
      "text/plain": [
       "(0.9465493910690121, 1.0, nan, 0.0)"
      ]
     },
     "execution_count": 13,
     "metadata": {},
     "output_type": "execute_result"
    }
   ],
   "source": [
    "top_95 = HeuristicCutoffSelector(estimator=model, cutoff=1-target_alpha)\n",
    "y_ps_h2 = top_95.predict(X_test)\n",
    "results = cq_stats(y_ps_h2, y_test, max_ps_size)\n",
    "write_results('acid-bert-h2', dataset, intent_classifier, 'h2', results)\n",
    "results"
   ]
  },
  {
   "cell_type": "code",
   "execution_count": 14,
   "id": "630f3659-2e17-4058-a407-9dba6b9fae52",
   "metadata": {
    "tags": []
   },
   "outputs": [
    {
     "data": {
      "text/plain": [
       "(0.9869192602616148, 0.0, 5.0, 0.0)"
      ]
     },
     "execution_count": 14,
     "metadata": {},
     "output_type": "execute_result"
    }
   ],
   "source": [
    "topk_5 = TopKSelector(estimator=model, k=5)\n",
    "y_ps_h3 = topk_5.predict(X_test)\n",
    "\n",
    "results = cq_stats(y_ps_h3, y_test, max_ps_size)\n",
    "write_results('acid-bert-h3', dataset, intent_classifier, 'h3', results)\n",
    "results"
   ]
  },
  {
   "cell_type": "code",
   "execution_count": 23,
   "id": "34c93774",
   "metadata": {},
   "outputs": [
    {
     "data": {
      "image/png": "[encoded data removed]",
      "text/plain": [
       "<Figure size 209.974x449.656 with 3 Axes>"
      ]
     },
     "metadata": {},
     "output_type": "display_data"
    }
   ],
   "source": [
    "plot.plot_coverages_widths_multi(\n",
    "        alpha,\n",
    "        [\n",
    "            coverages_marginal,\n",
    "            coverages_adaptive,\n",
    "            coverages_raps,\n",
    "            ],\n",
    "        [\n",
    "            cqsize_marginal,\n",
    "            cqsize_adaptive,\n",
    "            cqsize_raps\n",
    "            ],\n",
    "        ['Marg.', 'Cond.', 'RAPS'],\n",
    "        legend=(2, 'lower left'),\n",
    "        sscs=[\n",
    "            ssc_marginal,\n",
    "            ssc_adaptive,\n",
    "            ssc_raps,\n",
    "        ],\n",
    "        # hlines=(\n",
    "        #     (results_h1[0], ssc_top_5_95, coverages_top_5_95,  'H1', 'dashed'),\n",
    "        #     (widths_mean_top_95, ssc_top_95, coverages_top_95,  'H2', 'dotted'),\n",
    "        #     (widths_mean_topk_5, ssc_topk_5, coverages_topk_5,  'H3', '-.'),\n",
    "        # ),\n",
    "        plot_ssc=True,\n",
    "        markers=('o', 'v', '^',),\n",
    "        dataset=dataset,\n",
    "        model=intent_classifier,\n",
    "        title=\"ACID\"\n",
    ")"
   ]
  },
  {
   "cell_type": "code",
   "execution_count": 15,
   "id": "cf84eaa7-7195-42d2-9803-4fc903b380db",
   "metadata": {
    "tags": []
   },
   "outputs": [
    {
     "data": {
      "image/png": "[encoded data removed]",
      "text/plain": [
       "<Figure size 303.149x224.828 with 1 Axes>"
      ]
     },
     "metadata": {},
     "output_type": "display_data"
    }
   ],
   "source": [
    "to_plot = [\n",
    "    (y_ps_marginal, 'marginal', '-', None),\n",
    "    (y_ps_adaptive, 'adaptive', '--', None),\n",
    "    (y_ps_raps, 'RAPS', '-.', None),\n",
    "    # (y_ps_topkmapie, 'TOPK', ':', None),\n",
    "    # (y_ps_top_5_95, 'heuristic a', 'dashed', 'black'),\n",
    "    # (y_ps_top_95,  'heuristic b', 'dotted', 'black'),\n",
    "    # (y_ps_topk_5,  'heuristic c', '-.', 'black'),\n",
    "]\n",
    "fig, ax = plt.subplots(1, 1, figsize=plot.fig_dim_1)\n",
    "for (resultset, label, style, color) in to_plot:\n",
    "    if len(label) > len('heuristic') and label[:len('heuristic')] == 'heuristic':\n",
    "        to_plot_result = resultset\n",
    "    else:\n",
    "        to_plot_result = resultset[:, :, target_index]\n",
    "    ax.plot(\n",
    "        np.cumsum([set_size_equals(to_plot_result, i) for i in range(78)]),\n",
    "        label=label,\n",
    "        linestyle=style,\n",
    "        color=color,\n",
    "        linewidth=3,\n",
    "        alpha=.8)\n",
    "    # ax.set_xscale('log')\n",
    "plt.xlabel('Set size <')\n",
    "plt.ylabel('# samples')\n",
    "plt.title(f'{dataset} {intent_classifier}'.format(target_alpha))\n",
    "plt.legend(handlelength=3.5)\n",
    "plt.tight_layout()\n",
    "plt.savefig(f'results/cum_set_size_{dataset}_{intent_classifier}.png', dpi=1200)"
   ]
  },
  {
   "cell_type": "code",
   "execution_count": 16,
   "id": "8b7d01bf-b41d-4bbb-b121-44c17cb0a631",
   "metadata": {
    "tags": []
   },
   "outputs": [
    {
     "data": {
      "text/plain": [
       "126"
      ]
     },
     "execution_count": 16,
     "metadata": {},
     "output_type": "execute_result"
    }
   ],
   "source": [
    "y_ps_which = y_ps_marginal\n",
    "ambiguous_indices = np.where((y_ps_which[:, :, target_index].sum(axis=1) > max_ps_size))\n",
    "ambiguous = df_test.loc[ambiguous_indices]\n",
    "len(list(zip(ambiguous.index,[ labels[l] for l in ambiguous.label.tolist()], ambiguous.text.tolist())))"
   ]
  },
  {
   "cell_type": "code",
   "execution_count": 22,
   "id": "fb5e7c35-7990-4491-aa61-016575b8f9fb",
   "metadata": {
    "tags": []
   },
   "outputs": [
    {
     "name": "stdout",
     "output_type": "stream",
     "text": [
      "1 & You did not answer my question & NO & INFO AGT NOT RESPONDING, INFO CANT SEE POLICY, INFO DO NOT CONTACT, INFO LOGIN ERROR, INFO PYMT ERROR, INFO WHY WAS POLICY CANCELLED, NO, ST GENERAL REQUEST, ST HELLO, ST HOW IS ABBY, ST IS ABBY REAL, ST THANK YOU, ST WHAT CAN ABBY DO, YES \\\\\n",
      "2 & This is actually more of a general question for Kari Leslie my agent if I can reach her & INFO WHO IS MY AGENT & INFO AGENT WRONG, INFO AGT NOT RESPONDING, INFO CL CLAIM FILED, INFO CL STATUS, INFO FIND AGENT, INFO LIFE QUESTION GENERAL, INFO THE GENERAL CONTACT, INFO WHO IS MY AGENT, ST GENERAL REQUEST, ST HELLO, ST WHAT CAN ABBY DO \\\\\n",
      "3 & I received a notice regarding the billing on my auto insurance policy Id like to see if you can help me prevent it from being cancelled & INFO PYMT NOT ONTIME & INFO ADD VEHICLE PROPERTY PAPERLESS BILLING, INFO CANCEL CONFIRM, INFO CANCEL FEE, INFO CANCEL INS POLICY, INFO PAPERLESS DOCS STOP, INFO PYMT NOT ONTIME, INFO REINSTATE INS POLICY, INFO WHY WAS POLICY CANCELLED \\\\\n",
      "4 & second since last year I give him my transcript with high GPA he told it is been add and the descount been added then I found out it is not happing & INFO DISCOUNTS & INFO AST QUOTE, INFO AUTO POLICY CANT SEE IN ACCT, INFO CANT SEE POLICY, INFO CL DOCS EMAIL, INFO CL DOCS FAX, INFO CL STATUS, INFO CONFIRM COVERAGE, INFO DEC PAGE NEEDED, INFO DO NOT CONTACT, INFO KNOWYOURDRIVE ERRORS, INFO LETTER OF EXPERIENCE, INFO LOGIN ERROR, INFO LOG OUT, INFO PAPERLESS MAIL, INFO POLICY DOC NEEDED, INFO PYMT CONFIRM, INFO PYMT ERROR, INFO PYMT HISTORY, YES \\\\\n",
      "5 & just was looking over my homeowner policy What is the grave marker coverage & INFO GEN POLICY COV QUESTION & INFO AUTO COV QUESTION, INFO CL FNOL, INFO ERS, INFO GEN POLICY COV QUESTION, INFO GET A QUOTE OTHER, INFO LETTER OF EXPERIENCE, INFO LIFE POLICY AMT DUE, INFO LIFE QUESTION GENERAL, INFO LIFE UPDATE CONTACT INFO, INFO PAY LIFE INS, INFO POLICY DOC NEEDED, INFO POLICY NUM \\\\\n",
      "6 & See the billing for my life insurance & INFO LIFE POLICY CANNOT SEE & INFO GET A QUOTE OTHER, INFO LIFE CASH OUT, INFO LIFE INCR COV, INFO LIFE POLICY AMT DUE, INFO LIFE POLICY AUTO PYMT, INFO LIFE POLICY CANCEL, INFO LIFE POLICY CANNOT SEE, INFO LIFE QUESTION GENERAL, INFO LIFE REFUND, INFO LIFE UPDATE CONTACT INFO, INFO PAY LIFE INS \\\\\n",
      "7 & Do I need to have comp coverage & INFO COMP COV EXPLAN & INFO ADD HOUSE, INFO AMERICAN STAR, INFO AST PURCHASE, INFO AST QUOTE, INFO ATV INS EXPLAN, INFO AUTO COV QUESTION, INFO AUTO PYMT MIN BALANCE, INFO BOAT COV EXPLAN, INFO CL DRP JOIN, INFO CL FNOL AUTO HAIL, INFO CL HRP JOIN, INFO CL SHOP ADD WORK, INFO CL SHOP SEND ESTIMATE, INFO COLL COV EXPLAN, INFO COMP COV EXPLAN, INFO CONFIRM COVERAGE, INFO DREAMS FOUNDATION, INFO ERS, INFO ERS CONTACT, INFO ERS REIMBURSE, INFO FLOOD INS EXPLAN, INFO GAP COVERAGE, INFO GEN POLICY COV QUESTION, INFO GET A QUOTE AUTO, INFO GET A QUOTE AUTO NONOWNER, INFO GET A QUOTE CFR, INFO GET A QUOTE OTHER, INFO INS CARD PROOF, INFO INS CARD SEND, INFO KNOWYOURDRIVE DEVICE ACTIVATE, INFO LETTER OF EXPERIENCE, INFO LIAB EXPLAN, INFO LIFE POLICY AMT DUE, INFO LIFE POLICY AUTO PYMT, INFO LIFE QUESTION GENERAL, INFO LIFE REFUND, INFO NEW VEHICLE GRACE PERIOD, INFO POI OLD, INFO PREMIUM BREAKDOWN, INFO RV INS EXPLAN, INFO SALVAGE VEHICLE, INFO TEEN SAFE DRIVER SIGNUP, INFO THE GENERAL CONTACT, INFO TRANSFER ACCT BALANCE, INFO TRAVEL INS EXPLAN, INFO srtwentytwo \\\\\n",
      "8 & I want to know if my policy covers rock chip repairs & INFO GLASS COV & INFO AUTO COV QUESTION, INFO CL CLAIM FILED, INFO CL FILE CLAIM, INFO CL FNOL, INFO CL FNOL AUTO HAIL, INFO CL GLASS SAFELITE, INFO COLL COV EXPLAN, INFO CONFIRM COVERAGE, INFO ERS, INFO FLOOD INS EXPLAN, INFO GEN POLICY COV QUESTION, INFO GLASS COV \\\\\n",
      "9 & I was trying to get a copy of my insurance for auto but lost contact with cheryl & INFO INS CARD PROOF & INFO ADD REMOVE INSURED, INFO AUTO POLICY CANT SEE IN ACCT, INFO CANT SEE POLICY, INFO CHANGE BANK ACCT, INFO CL ADJUSTER INFO, INFO CL CLAIM FILED, INFO CL COMPLAINT, INFO CL DOCS FAX, INFO CL STATUS, INFO CONFIRM COVERAGE, INFO DO NOT CONTACT, INFO FORGOT USERID, INFO GEN POLICY COV QUESTION, INFO INS CARD PROOF, INFO LETTER OF EXPERIENCE, INFO LIFE BENEFICIARY CHANGE, INFO LIFE POLICY CANNOT SEE, INFO LIFE QUESTION GENERAL, INFO LOG OUT, INFO MEXICO AUTO INS, INFO MORTGAGE CO POI, INFO OPERATING AREA, INFO POI OLD, INFO POLICY DOC NEEDED, INFO POLICY NUM, INFO SPEAK TO REP, INFO THE GENERAL CONTACT, INFO WHO IS MY AGENT, INFO srtwentytwo, ST GENERAL REQUEST \\\\\n",
      "10 & When is my life policy amt due & INFO LIFE POLICY AMT DUE & INFO BILL DUE DATE, INFO LIFE CASH OUT, INFO LIFE POLICY AMT DUE, INFO LIFE POLICY CANNOT SEE, INFO LIFE QUESTION GENERAL, INFO LIFE REFUND, INFO LIFE UPDATE CONTACT INFO, INFO PAY LIFE INS \\\\\n",
      "11 & Could you tell me about my policy if I vacation to Austria & INFO GEN POLICY COV QUESTION & INFO ADD REMOVE VEHICLE, INFO AUTO COV QUESTION, INFO AUTO INS CANADA, INFO AUTO PYMT SCHEDULE, INFO CANCEL FEE, INFO CANT SEE POLICY, INFO CL FNOL, INFO CREDIT CARD FEE, INFO GEN POLICY COV QUESTION, INFO GET A QUOTE OTHER, INFO GLASS COV, INFO INS NOT AVAILABLE, INFO PAPERLESS DOCS STOP, INFO PHONE NUM INTERNATIONAL, INFO POLICY TRANS TO RENTAL, INFO RIDESHARE COV, INFO UPDATE LIENHOLDER, INFO WHY WAS POLICY CANCELLED, ST WHERE DOES ABBY LIVE \\\\\n",
      "12 & what way can I use to send you documents & INFO CL DOCS SEND & INFO ADD VEHICLE PROPERTY PAPERLESS BILLING, INFO CL COMPLAINT, INFO CL DOCS EMAIL, INFO LETTER OF EXPERIENCE, INFO PAPERLESS DOCS SETUP, INFO PAPERLESS DOCS STOP, INFO PAPERLESS MAIL, INFO POLICY DOC NEEDED, INFO PYMT HISTORY \\\\\n",
      "13 & Can I please get a copy of my policy for my rental home I cant find the account number its under Homies LLC the address of the property is & INFO BUSINESS POLICY CANT SEE & INFO ADD VEHICLE PROPERTY PAPERLESS BILLING, INFO BILLING ACCT NUM, INFO BUSINESS POLICY CANT SEE, INFO CANT SEE FARM RANCH POLICY, INFO CANT SEE POLICY, INFO CHANGE USERID, INFO DEC PAGE NEEDED, INFO FORGOT USERID, INFO HEALTH INS QUOTE, INFO LIFE POLICY CANNOT SEE, INFO LIFE UPDATE CONTACT INFO, INFO LOG OUT, INFO MAIL PYMT ADDRESS, INFO POLICY DOC NEEDED, INFO POLICY NUM, INFO SET UP ACCT, INFO UPDATE CONTACT INFO \\\\\n",
      "14 & Imlookingforcontactinfosothatmyroofingandconstructioncompanycanbeplacedonyourpreferedvendorslist & INFO CL HRP JOIN & INFO AST PURCHASE, INFO AST QUOTE, INFO CL DOCS EMAIL, INFO CL DRP ASSIGN, INFO CL SHOP SEND ESTIMATE, INFO DEDUCTIBLE, INFO DED EXPLAN, INFO ERS REIMBURSE, INFO INS CARD PRINT, INFO INS CARD SEND, INFO KNOWYOURDRIVE \\\\\n",
      "15 & This is the th time I am contacting you regarding this & ST GENERAL REQUEST & INFO ADD REMOVE INSURED, INFO AGT NOT RESPONDING, INFO CL CLAIM FILED, INFO CL COMPLAINT, INFO CL RENTAL, INFO CL STATUS, INFO CUSTOMER SERVICE HOURS, INFO DO NOT CONTACT, INFO EMPLOYMENT VERIFY, INFO GEN POLICY COV QUESTION, INFO LIAB EXPLAN, INFO LIFE QUESTION GENERAL, INFO PHONE NUM INTERNATIONAL, INFO SPEAK TO REP, ST GENERAL REQUEST, ST HELLO, ST IS ABBY REAL, ST WHAT CAN ABBY DO, ST WHERE DOES ABBY LIVE, YES \\\\\n",
      "16 & is there any way to save money & INFO DISCOUNTS & INFO ADD REMOVE VEHICLE, INFO ADD VEHICLE PROPERTY PAPERLESS BILLING, INFO BILLING ACCT NUM, INFO CANCEL FEE, INFO COMBINE PYMTS, INFO CREDIT CARD CHANGE NUM, INFO CREDIT CARD FEE, INFO DELETE DUPE PYMT, INFO DIFFERENT AMTS, INFO DISCOUNTS, INFO FORGOT PASSWORD, INFO GET A QUOTE CFR, INFO LIFE CASH OUT, INFO ONE TIME PYMT, INFO PAPERLESS DOCS STOP, INFO PYMT NOT ONTIME, INFO TRANSFER ACCT BALANCE \\\\\n",
      "17 & Account  jennie quigley   oak street redgranite wi & ST GENERAL REQUEST & INFO ADD REMOVE INSURED, INFO AMERICAN STAR, INFO AST PURCHASE, INFO AST QUOTE, INFO CAREERS, INFO CL COMPLAINT, INFO CL FILE CLAIM, INFO CL STATUS, INFO CL UPDATE INFO, INFO DREAMS FOUNDATION, INFO GET A QUOTE OTHER, INFO INS CARD PRINT, INFO LIFE BENEFICIARY CHANGE, INFO LIFE QUESTION GENERAL, INFO OPERATING CO, INFO SPEAK TO REP, INFO UPDATE LIENHOLDER, INFO srtwentytwo, ST GENERAL REQUEST, ST HELLO, ST WHAT CAN ABBY DO, YES \\\\\n",
      "18 & my car is still in the shop they say they need your approval for additional work & INFO CL SHOP ADD WORK & INFO ADD HOUSE, INFO ADD REMOVE VEHICLE, INFO AGENT WRONG, INFO AST PURCHASE, INFO AST QUOTE, INFO BILLING ACCT NAME EDIT, INFO CANCEL CONFIRM, INFO CAREERS, INFO CL DRP ASSIGN, INFO CL DRP JOIN, INFO CL FILE CLAIM, INFO CL HRP JOIN, INFO CL RENTAL, INFO CL SHOP ADD WORK, INFO CL SHOP SEND ESTIMATE, INFO CL UPDATE INFO, INFO DREAMS FOUNDATION, INFO GAP COVERAGE, INFO GET A QUOTE AUTO, INFO GET A QUOTE AUTO NONOWNER, INFO GET A QUOTE RENTERS PURCHASE, INFO HOMESITE CONTACT, INFO KNOWYOURDRIVE, INFO KNOWYOURDRIVE DEVICE RETURN, INFO MORTGAGE CO POI, INFO NEW VEHICLE GRACE PERIOD, INFO PYMT NOT ONTIME, INFO SALVAGE VEHICLE, INFO srtwentytwo, ST GENERAL REQUEST \\\\\n",
      "19 & TRIED TO GET QUOTE BUT MY TRUCK IS NOT LISTRD & INFO AST QUOTE & INFO ADD REMOVE VEHICLE, INFO AST PURCHASE, INFO AST QUOTE, INFO AUTO POLICY CANT SEE IN ACCT, INFO GET A QUOTE AUTO, INFO GET A QUOTE AUTO NONOWNER, INFO INS CARD PRINT, INFO KNOWYOURDRIVE ERRORS, INFO MEXICO AUTO INS, INFO SALVAGE VEHICLE, INFO srtwentytwo \\\\\n",
      "20 & Are you hriing & INFO CAREERS & INFO AGENT WRONG, INFO AMERICAN STAR, INFO AMT DUE, INFO AST PURCHASE, INFO AST QUOTE, INFO CAREERS, INFO CL CHECK STATUS, INFO CL COMPLAINT, INFO CL DRP ASSIGN, INFO CL HRP JOIN, INFO CL SHOP ADD WORK, INFO CL SHOP SEND ESTIMATE, INFO CL STATUS, INFO COLL COV EXPLAN, INFO CONFIRM COVERAGE, INFO DED EXPLAN, INFO DREAMS FOUNDATION, INFO EMPLOYMENT VERIFY, INFO GAP COVERAGE, INFO INS CARD PROOF, INFO KNOWYOURDRIVE ERRORS, INFO LETTER OF EXPERIENCE, INFO LIFE QUESTION GENERAL, INFO MORTGAGE CO POI, INFO POI OLD, INFO PROFILE SECTION, INFO PYMT CONFIRM, INFO srtwentytwo, NO, ST GENERAL REQUEST, ST HELLO, ST HOW IS ABBY, ST HOW OLD IS ABBY, ST IS ABBY REAL, ST THANK YOU, ST WHAT CAN ABBY DO, ST WHERE DOES ABBY LIVE, YES \\\\\n",
      "21 & i have quesitons about my poicy & INFO GEN POLICY COV QUESTION & INFO ADD REMOVE INSURED, INFO BUSINESS POLICY CANT SEE, INFO CANT SEE POLICY, INFO CFR QUESTION GENERAL, INFO CL COMPLAINT, INFO CL STATUS, INFO COLL COV EXPLAN, INFO DED EXPLAN, INFO DO NOT CONTACT, INFO EMPLOYMENT VERIFY, INFO ERS, INFO GEN POLICY COV QUESTION, INFO INS CARD PRINT, INFO INS CARD PROOF, INFO LETTER OF EXPERIENCE, INFO LIAB EXPLAN, INFO LIFE QUESTION GENERAL, INFO POLICY NUM, INFO PROFILE SECTION, INFO RENTERS COV EXPLAN, INFO SPEAK TO REP, INFO THE GENERAL CONTACT, INFO TRANSFER ACCT BALANCE, INFO UPDATE LIENHOLDER, INFO srtwentytwo, NO, ST GENERAL REQUEST, ST IS ABBY REAL, ST WHAT CAN ABBY DO, ST WHERE DOES ABBY LIVE, YES \\\\\n",
      "22 & Why am I not paying what I expected to pay & INFO DIFFERENT AMTS & INFO AMT DUE, INFO BILL DUE DATE, INFO CANCEL CONFIRM, INFO CL CHECK STATUS, INFO DIFFERENT AMTS, INFO GAP COVERAGE, INFO MAKE PYMT, INFO PYMT DUEDATE CHANGE, INFO PYMT ERROR, INFO PYMT NOT ONTIME, INFO PYMT TIME, INFO WHY WAS POLICY CANCELLED, NO, ST HOW IS ABBY \\\\\n",
      "23 & Who can you send me to help with this problem & INFO SPEAK TO REP & INFO AGT NOT RESPONDING, INFO CAREERS, INFO CL ADJUSTER INFO, INFO CL COMPLAINT, INFO CL UPDATE INFO, INFO COLLECTIONS, INFO CUSTOMER SERVICE HOURS, INFO EMPLOYMENT VERIFY, INFO KNOWYOURDRIVE ERRORS, INFO PAPERLESS DOCS SETUP, INFO PHONE NUM, INFO SPEAK TO REP, INFO WHO IS MY AGENT, INFO srtwentytwo, ST IS ABBY REAL \\\\\n",
      "24 & Please reset my policy & INFO REINSTATE INS POLICY & INFO ADD HOUSE, INFO AMERICAN STAR, INFO AST PURCHASE, INFO ATV INS EXPLAN, INFO AUTO PYMT MIN BALANCE, INFO BILLING ACCT NAME EDIT, INFO BOAT COV EXPLAN, INFO CANCEL CONFIRM, INFO CANCEL FEE, INFO CANCEL INS POLICY, INFO CANT SEE POLICY, INFO CHANGE AUTOPAY DATE, INFO CL FNOL AUTO HAIL, INFO CL GLASS SAFELITE, INFO CL RENTAL, INFO COLL COV EXPLAN, INFO COMP COV EXPLAN, INFO CONFIRM COVERAGE, INFO CUSTOMER SERVICE HOURS, INFO DREAMKEEP REWARDS, INFO DREAMKEEP REWARDS ERRORS, INFO DREAMS FOUNDATION, INFO EMPLOYMENT VERIFY, INFO ERS, INFO ERS CONTACT, INFO ERS REIMBURSE, INFO GAP COVERAGE, INFO GEN POLICY COV QUESTION, INFO HOMESITE CONTACT, INFO INS CARD PRINT, INFO INS CARD PROOF, INFO INS CARD SEND, INFO KNOWYOURDRIVE, INFO KNOWYOURDRIVE DEVICE ACTIVATE, INFO KNOWYOURDRIVE DEVICE RETURN, INFO LIFE BENEFICIARY CHANGE, INFO LIFE POLICY AUTO PYMT, INFO LIFE REFUND, INFO MEXICO AUTO INS, INFO MORTGAGE CO POI, INFO NAME CHANGE, INFO NEW VEHICLE GRACE PERIOD, INFO POI OLD, INFO PROFILE SECTION, INFO PYMT DUEDATE CHANGE, INFO PYMT SETUP AUTO PYMT, INFO REINSTATE INS POLICY, INFO RENTERS COV EXPLAN, INFO RV INS EXPLAN, INFO SET UP ACCT, INFO TEEN SAFE DRIVER SIGNUP, INFO UPDATE LIENHOLDER, INFO UPDATE PHONE NUM, INFO UW ALUMNI DISCOUNT, INFO WHY WAS POLICY CANCELLED, NO, ST GENERAL REQUEST, ST HELLO, ST IS ABBY REAL, ST THANK YOU \\\\\n",
      "25 & i realized i dont have insurance anymore & INFO WHY WAS POLICY CANCELLED & INFO ADD REMOVE INSURED, INFO CANCEL CONFIRM, INFO CANCEL FEE, INFO CANCEL INS POLICY, INFO CANT SEE FARM RANCH POLICY, INFO CANT SEE POLICY, INFO CAREERS, INFO ERS, INFO GEN POLICY COV QUESTION, INFO GET A QUOTE OTHER, INFO INS CARD PROOF, INFO LIFE POLICY AUTO PYMT, INFO LIFE POLICY CANCEL, INFO LIFE POLICY CANNOT SEE, INFO NAME CHANGE, INFO OPERATING AREA, INFO POI OLD, INFO REINSTATE INS POLICY, INFO UPDATE LIENHOLDER, INFO WHY WAS POLICY CANCELLED \\\\\n",
      "26 & hi do i get renters policy in this & INFO GEN POLICY COV QUESTION & INFO CREDIT CARD FEE, INFO GEN POLICY COV QUESTION, INFO GET A QUOTE RENTERS, INFO GET A QUOTE RENTERS PURCHASE, INFO HOMESITE CONTACT, INFO POLICY NUM, INFO POLICY TRANS TO RENTAL, INFO RENTERS COV EXPLAN, ST GENERAL REQUEST, ST WHERE DOES ABBY LIVE \\\\\n",
      "27 & can you offer me any disounts & INFO DISCOUNTS & INFO ADD REMOVE INSURED, INFO ADD REMOVE VEHICLE, INFO ADD VEHICLE PROPERTY PAPERLESS BILLING, INFO AMT DUE, INFO ATV INS EXPLAN, INFO AUTO COV QUESTION, INFO AUTO INS CANADA, INFO AUTO PYMT CANCEL, INFO BILLING ACCT NUM, INFO BUSINESS POLICY CANT SEE, INFO CANCEL FEE, INFO CANT SEE FARM RANCH POLICY, INFO CAREERS, INFO CL FNOL, INFO CL RENTAL, INFO CL STATUS, INFO COMBINE PYMTS, INFO CREDIT CARD CHANGE NUM, INFO CREDIT CARD FEE, INFO DEDUCTIBLE, INFO DIFFERENT AMTS, INFO DISCOUNTS, INFO ERS, INFO GEN POLICY COV QUESTION, INFO HANDLING FEE REMOVE, INFO INS CARD PROOF, INFO LIFE CASH OUT, INFO LIFE INCR COV, INFO LIFE POLICY CANNOT SEE, INFO ONE TIME PYMT, INFO POLICY TRANS TO RENTAL, INFO RIDESHARE COV, INFO SET UP ACCT, INFO SPEAK TO REP, INFO TRANSFER ACCT BALANCE, INFO UPDATE EMAIL, INFO UPDATE LIENHOLDER \\\\\n",
      "28 & Hi Abby I am on a family policy with Am Fam and have decided to get my own policy through another carrier I was set to renew & INFO CANCEL INS POLICY & INFO ADD HOUSE, INFO ADD REMOVE INSURED, INFO AST PURCHASE, INFO AST QUOTE, INFO ATV INS EXPLAN, INFO CANCEL INS POLICY, INFO CFR QUESTION GENERAL, INFO CHANGE AGENT, INFO CL CHECK STATUS, INFO CL CLAIM FILED, INFO CL DRP ASSIGN, INFO CL FILE CLAIM, INFO CL FNOL AUTO HAIL, INFO CL GLASS SAFELITE, INFO CL HRP JOIN, INFO CL SHOP ADD WORK, INFO CL STATUS, INFO CL UPDATE INFO, INFO CONFIRM COVERAGE, INFO DREAMS FOUNDATION, INFO EMPLOYMENT VERIFY, INFO GET A QUOTE AUTO NONOWNER, INFO GET A QUOTE OTHER, INFO GET A QUOTE RENTERS, INFO GET A QUOTE RENTERS PURCHASE, INFO HOMESITE CONTACT, INFO INS CARD PRINT, INFO INS NOT AVAILABLE, INFO LETTER OF EXPERIENCE, INFO LIAB EXPLAN, INFO LIFE QUESTION GENERAL, INFO MEXICO AUTO INS, INFO MORTGAGE CO POI, INFO OPERATING CO, INFO POI OLD, INFO POLICY NUM, INFO SALVAGE VEHICLE, INFO THE GENERAL CONTACT, ST GENERAL REQUEST, ST HELLO, ST WHERE DOES ABBY LIVE \\\\\n",
      "29 & what does the payment for auto insurance look like & INFO GET A QUOTE AUTO & INFO AMT DUE, INFO AUTO POLICY CANT SEE IN ACCT, INFO AUTO PYMT MIN BALANCE, INFO BILL DUE DATE, INFO CL CHECK STATUS, INFO CREDIT CARD FEE, INFO DEDUCTIBLE, INFO DIFFERENT AMTS, INFO GET A QUOTE AUTO, INFO GET A QUOTE AUTO NONOWNER, INFO LIFE POLICY AMT DUE, INFO MAKE PYMT, INFO PREMIUM BREAKDOWN, INFO PYMT PROCESS CHANGE, INFO PYMT TIME \\\\\n",
      "30 & I need to speak to someone about my past due amount & INFO PYMT NOT ONTIME & INFO AMT DUE, INFO BILL DUE DATE, INFO CL ADJUSTER INFO, INFO CL CHECK STATUS, INFO CL COMPLAINT, INFO CL SHOP SEND ESTIMATE, INFO DIFFERENT AMTS, INFO LIFE POLICY AMT DUE, INFO PYMT DUEDATE CHANGE, INFO PYMT HISTORY, ST HOW OLD IS ABBY \\\\\n",
      "31 & Has the status of my auto coverage changed & INFO CONFIRM COVERAGE & INFO AUTO COV QUESTION, INFO CANCEL CONFIRM, INFO COMP COV EXPLAN, INFO CONFIRM COVERAGE, INFO ERS, INFO GEN POLICY COV QUESTION, INFO LETTER OF EXPERIENCE, INFO LIFE QUESTION GENERAL, INFO POI OLD, INFO REINSTATE INS POLICY, INFO WHY WAS POLICY CANCELLED \\\\\n",
      "32 & how long does it typically take for a payment to go through & INFO PYMT TIME & INFO AUTO PYMT SCHEDULE, INFO BILL DUE DATE, INFO CL CHECK STATUS, INFO CUSTOMER SERVICE HOURS, INFO FORGOT EMAIL, INFO MAIL PYMT ADDRESS, INFO PYMT NOT ONTIME, INFO PYMT TIME, INFO REFUND CHECK \\\\\n",
      "33 & Can I get a new copy of insurance if with my name & INFO INS CARD PROOF & INFO ADD REMOVE INSURED, INFO ADD REMOVE VEHICLE, INFO AMERICAN STAR, INFO AST PURCHASE, INFO AST QUOTE, INFO BILLING ACCT NAME EDIT, INFO CANT SEE POLICY, INFO CHANGE BANK ACCT, INFO CHANGE USERID, INFO CL DOCS SEND, INFO DEC PAGE NEEDED, INFO ERS CONTACT, INFO ERS REIMBURSE, INFO FORGOT USERID, INFO GET A QUOTE AUTO, INFO GET A QUOTE OTHER, INFO INS CARD PRINT, INFO INS CARD PROOF, INFO INS CARD SEND, INFO LIFE UPDATE CONTACT INFO, INFO MORTGAGE CO POI, INFO NAME CHANGE, INFO OPERATING CO, INFO POI OLD, INFO POLICY DOC NEEDED, INFO POLICY NUM, INFO SET UP ACCT, INFO UPDATE CONTACT INFO, INFO srtwentytwo, ST HOW OLD IS ABBY \\\\\n",
      "34 & I recently opened a policy but need to start it by making my first payment I was told I could do so online but it cannot find my policy using my name and birthday & INFO PYMT ERROR & INFO AMT DUE, INFO AUTO POLICY CANT SEE IN ACCT, INFO CANT SEE POLICY, INFO COMBINE PYMTS, INFO LOGIN ERROR, INFO MAKE PYMT, INFO ONE TIME PYMT, INFO POLICY NUM, INFO PYMT ERROR, INFO PYMT TIME, INFO SET UP ACCT \\\\\n",
      "35 & Hello my name is Alexis Ferguson and I am looking for an invoice for a charge that hit our account back in December of  it was for & INFO PYMT CONFIRM & INFO CL CHECK STATUS, INFO CL CLAIM FILED, INFO CL DOCS MAIL, INFO CL DOCS SEND, INFO CL DRP ASSIGN, INFO CL FNOL, INFO CL FNOL AUTO HAIL, INFO CL GLASS SAFELITE, INFO CL SHOP ADD WORK, INFO CL SHOP SEND ESTIMATE, INFO COLLECTIONS, INFO DELETE DUPE PYMT, INFO PREMIUM BREAKDOWN, INFO PYMT CONFIRM, INFO PYMT HISTORY \\\\\n",
      "36 & All the agent sites state American Star but dont explain exactly what that means & INFO AMERICAN STAR & INFO AGENT WRONG, INFO AGT NOT RESPONDING, INFO AMERICAN STAR, INFO AST PURCHASE, INFO COLL COV EXPLAN, INFO CONFIRM COVERAGE, INFO DREAMKEEP REWARDS, INFO DREAMKEEP REWARDS ERRORS, INFO FIND AGENT, INFO FORGOT USERID, INFO INS CARD PROOF, INFO WHO IS MY AGENT, INFO srtwentytwo, NO \\\\\n",
      "37 & Hi Abby Im with the provider office does this patient have open med pay I apologize I dont have a claim number Stanley Wilson dob  date of service & INFO CL STATUS & INFO AUTO PYMT MIN BALANCE, INFO CL ADJUSTER INFO, INFO CL CHECK STATUS, INFO CL CLAIM FILED, INFO CL COMPLAINT, INFO CL DOCS SEND, INFO CL DRP ASSIGN, INFO CL FILE CLAIM, INFO CL FNOL, INFO CL GLASS SAFELITE, INFO CL RENTAL, INFO CL SHOP ADD WORK, INFO CL SHOP SEND ESTIMATE, INFO CL STATUS, INFO CL UPDATE INFO, INFO CONFIRM COVERAGE, INFO CUSTOMER SERVICE HOURS, INFO ERS, INFO ERS CONTACT, INFO GAP COVERAGE, INFO GEN POLICY COV QUESTION, INFO GLASS COV, INFO HANDLING FEE REMOVE, INFO LIAB EXPLAN, INFO MORTGAGE CO POI, INFO PYMT TIME \\\\\n",
      "38 & I want to talk about my AutoPolicy & ST GENERAL REQUEST & INFO ADD REMOVE INSURED, INFO ADD VEHICLE PROPERTY PAPERLESS BILLING, INFO AUTO COV QUESTION, INFO AUTO POLICY CANT SEE IN ACCT, INFO AUTO PYMT CANCEL, INFO AUTO PYMT MIN BALANCE, INFO CANCEL FEE, INFO CANCEL INS POLICY, INFO CFR QUESTION GENERAL, INFO CL FNOL, INFO COMBINE PYMTS, INFO CREDIT CARD CHANGE NUM, INFO DEDUCTIBLE, INFO DED EXPLAN, INFO GET A QUOTE AUTO, INFO GET A QUOTE AUTO NONOWNER, INFO GET A QUOTE OTHER, INFO MEXICO AUTO INS, INFO PHONE NUM INTERNATIONAL, INFO POLICY TRANS TO RENTAL, INFO PREMIUM BREAKDOWN, INFO PYMT PROCESS CHANGE, INFO PYMT SETUP AUTO PYMT, INFO RIDESHARE COV, INFO RV INS EXPLAN, INFO TEEN SAFE DRIVER SIGNUP, INFO THE GENERAL CONTACT, INFO TRANSFER ACCT BALANCE \\\\\n",
      "39 & Who is your manager & ST WHAT CAN ABBY DO & INFO BILLING DEPT CONTACT, INFO CAREERS, INFO CFR QUESTION GENERAL, INFO CL ADJUSTER INFO, INFO CL CLAIM FILED, INFO CL COMPLAINT, INFO CL DOCS MAIL, INFO CONFIRM COVERAGE, INFO CUSTOMER SERVICE HOURS, INFO EMPLOYMENT VERIFY, INFO FIND AGENT, INFO HOMESITE CONTACT, INFO INS NOT AVAILABLE, INFO OPERATING AREA, INFO OPERATING CO, INFO PHONE NUM, INFO SPEAK TO REP, INFO THE GENERAL CONTACT, INFO WHO IS MY AGENT, INFO srtwentytwo, ST GENERAL REQUEST, ST WHAT CAN ABBY DO, ST WHERE DOES ABBY LIVE \\\\\n",
      "40 & Hi I was chatting wsomeone earlier and lost connection & INFO SPEAK TO REP & INFO AGT NOT RESPONDING, INFO AST PURCHASE, INFO AST QUOTE, INFO CANT SEE FARM RANCH POLICY, INFO CANT SEE POLICY, INFO CAREERS, INFO CFR QUESTION GENERAL, INFO CL COMPLAINT, INFO CL SHOP SEND ESTIMATE, INFO CL STATUS, INFO CUSTOMER SERVICE HOURS, INFO DED EXPLAN, INFO DO NOT CONTACT, INFO DREAMS FOUNDATION, INFO EMPLOYMENT VERIFY, INFO HOMESITE CONTACT, INFO INS CARD PRINT, INFO KNOWYOURDRIVE, INFO KNOWYOURDRIVE DEVICE ACTIVATE, INFO KNOWYOURDRIVE DEVICE RETURN, INFO KNOWYOURDRIVE ERRORS, INFO LETTER OF EXPERIENCE, INFO LIFE BENEFICIARY CHANGE, INFO LIFE QUESTION GENERAL, INFO LOGIN ERROR, INFO LOG OUT, INFO MORTGAGE CO POI, INFO PHONE NUM, INFO PHONE NUM INTERNATIONAL, INFO POI OLD, INFO PROFILE SECTION, INFO PYMT ERROR, INFO PYMT PROCESS CHANGE, INFO SPEAK TO REP, INFO THE GENERAL CONTACT, INFO UPDATE LIENHOLDER, INFO srtwentytwo, NO, ST GENERAL REQUEST, ST HELLO, ST HOW IS ABBY, ST IS ABBY REAL, ST THANK YOU, ST WHAT CAN ABBY DO, ST WHERE DOES ABBY LIVE, YES \\\\\n",
      "41 & i have an past account with you and im wanting to know my balance and where i can mail payment in too & INFO COLLECTIONS & INFO AMT DUE, INFO CL CHECK STATUS, INFO CL DOCS MAIL, INFO MAIL PYMT ADDRESS, INFO ONE TIME PYMT, INFO PYMT HISTORY, INFO PYMT TIME, INFO TRANSFER ACCT BALANCE \\\\\n",
      "42 & Id like to get a quote for RV insurance & INFO GET A QUOTE OTHER & INFO AST PURCHASE, INFO AST QUOTE, INFO ATV INS EXPLAN, INFO BOAT COV EXPLAN, INFO CL DRP ASSIGN, INFO CL HRP JOIN, INFO CL SHOP ADD WORK, INFO COMP COV EXPLAN, INFO DREAMS FOUNDATION, INFO GAP COVERAGE, INFO GET A QUOTE AUTO, INFO GET A QUOTE AUTO NONOWNER, INFO GET A QUOTE CFR, INFO GET A QUOTE OTHER, INFO GET A QUOTE RENTERS PURCHASE, INFO POI OLD, INFO PYMT TIME, INFO RV INS EXPLAN, INFO SALVAGE VEHICLE, INFO TRAVEL INS EXPLAN, INFO UW ALUMNI DISCOUNT \\\\\n",
      "43 & Trying to call I a payment Call customer service and its asking for a  digit extension with no option for an operator or rep & INFO MAKE PYMT & INFO AGT NOT RESPONDING, INFO CL DOCS FAX, INFO COLLECTIONS, INFO MAKE PYMT, INFO ONE TIME PYMT, INFO PHONE NUM, INFO PHONE NUM INTERNATIONAL, INFO PYMT ERROR, INFO PYMT NOT ONTIME \\\\\n",
      "44 & Hi im trying to locate a supplement check for one of our customers & INFO CL CHECK STATUS & INFO ADD HOUSE, INFO AGENT WRONG, INFO AST PURCHASE, INFO AST QUOTE, INFO CL CHECK STATUS, INFO CL DRP ASSIGN, INFO CL DRP JOIN, INFO CL FNOL AUTO HAIL, INFO CL GLASS SAFELITE, INFO CL HRP JOIN, INFO CL SHOP ADD WORK, INFO COMP COV EXPLAN, INFO CONFIRM COVERAGE, INFO DELETE DUPE PYMT, INFO DREAMKEEP REWARDS, INFO DREAMKEEP REWARDS ERRORS, INFO DREAMS FOUNDATION, INFO ERS REIMBURSE, INFO FLOOD INS EXPLAN, INFO GAP COVERAGE, INFO GET A QUOTE OTHER, INFO GET A QUOTE RENTERS, INFO GLASS COV, INFO HANDLING FEE REMOVE, INFO HOMESITE CONTACT, INFO KNOWYOURDRIVE DEVICE RETURN, INFO KNOWYOURDRIVE ERRORS, INFO LETTER OF EXPERIENCE, INFO MORTGAGE CO POI, INFO PREMIUM BREAKDOWN, INFO PYMT CONFIRM, INFO PYMT ERROR, INFO REFUND CHECK, INFO SALVAGE VEHICLE, INFO TEEN SAFE DRIVER SIGNUP, INFO UW ALUMNI DISCOUNT, INFO srtwentytwo \\\\\n",
      "45 & How long has my coverage been active & INFO GEN POLICY COV QUESTION & INFO AUTO COV QUESTION, INFO COMP COV EXPLAN, INFO CONFIRM COVERAGE, INFO ERS, INFO GEN POLICY COV QUESTION, INFO LETTER OF EXPERIENCE, INFO REINSTATE INS POLICY, INFO WHY WAS POLICY CANCELLED \\\\\n",
      "46 & I am in the process of getting a policy through the online portal & INFO AST QUOTE & INFO ADD HOUSE, INFO ADD REMOVE VEHICLE, INFO AGENT WRONG, INFO AMERICAN STAR, INFO AST PURCHASE, INFO AST QUOTE, INFO AUTO POLICY CANT SEE IN ACCT, INFO BUSINESS POLICY CANT SEE, INFO CANT SEE POLICY, INFO CAREERS, INFO CFR QUESTION GENERAL, INFO CL HRP JOIN, INFO COMP COV EXPLAN, INFO CUSTOMER SERVICE HOURS, INFO DREAMKEEP REWARDS ERRORS, INFO DREAMS FOUNDATION, INFO EMPLOYMENT VERIFY, INFO ERS, INFO HOMESITE CONTACT, INFO INS CARD PRINT, INFO INS CARD PROOF, INFO INS CARD SEND, INFO KNOWYOURDRIVE, INFO KNOWYOURDRIVE DEVICE ACTIVATE, INFO KNOWYOURDRIVE DEVICE RETURN, INFO KNOWYOURDRIVE ERRORS, INFO LOG OUT, INFO NEW VEHICLE GRACE PERIOD, INFO PAPERLESS DOCS SETUP, INFO POI OLD, INFO POLICY DOC NEEDED, INFO PROFILE SECTION, INFO PYMT SETUP AUTO PYMT, INFO SET UP ACCT, INFO UPDATE LIENHOLDER, INFO srtwentytwo, NO, ST GENERAL REQUEST, ST HELLO, ST HOW OLD IS ABBY, ST IS ABBY REAL, ST THANK YOU, YES \\\\\n",
      "47 & As usual you are very busy so I will end this But you can look into it My address should only be  and not & INFO UPDATE CONTACT INFO & INFO AUTO POLICY CANT SEE IN ACCT, INFO BUSINESS POLICY CANT SEE, INFO CANCEL CONFIRM, INFO CANCEL INS POLICY, INFO CANT SEE POLICY, INFO CHANGE USERID, INFO DO NOT CONTACT, INFO FORGOT EMAIL, INFO FORGOT USERID, INFO GET A QUOTE RENTERS PURCHASE, INFO HEALTH INS QUOTE, INFO LIFE POLICY CANNOT SEE, INFO LIFE UPDATE CONTACT INFO, INFO LOGIN ERROR, INFO LOG OUT, INFO MAIL PYMT ADDRESS, INFO PHONE NUM INTERNATIONAL, INFO POI OLD, INFO POLICY DOC NEEDED, INFO PYMT ERROR, INFO THE GENERAL CONTACT, INFO TRAVEL INS EXPLAN, INFO UPDATE CONTACT INFO, INFO UPDATE EMAIL, INFO WHO IS MY AGENT, INFO WHY WAS POLICY CANCELLED, NO, ST HELLO, ST HOW IS ABBY, ST THANK YOU, YES \\\\\n",
      "48 & I submitted for recoverable depreciation on a roof replacement and want to verifiy that it was received and i also want to know what the process is & INFO CL STATUS & INFO CL CHECK STATUS, INFO CL CLAIM FILED, INFO CL DOCS SEND, INFO CL DRP ASSIGN, INFO CL DRP JOIN, INFO CL RENTAL, INFO CL SHOP ADD WORK, INFO CL SHOP SEND ESTIMATE, INFO CL STATUS, INFO CONFIRM COVERAGE, INFO LETTER OF EXPERIENCE, INFO LIFE QUESTION GENERAL, INFO MORTGAGE CO POI, INFO POI OLD, INFO PYMT CONFIRM, YES \\\\\n",
      "49 & How to reimburse the cost of towing & INFO ERS REIMBURSE & INFO CL DRP JOIN, INFO CL FNOL AUTO HAIL, INFO ERS, INFO ERS CONTACT, INFO ERS REIMBURSE, INFO GAP COVERAGE, INFO LIFE POLICY AMT DUE, INFO PAY LIFE INS \\\\\n",
      "50 & I am looking for an auto quote Ihavealreadysubmittedmyform & INFO AST QUOTE & INFO ADD REMOVE VEHICLE, INFO AST PURCHASE, INFO AST QUOTE, INFO CL DRP JOIN, INFO GET A QUOTE AUTO, INFO GET A QUOTE AUTO NONOWNER, INFO INS CARD PRINT, INFO NEW VEHICLE GRACE PERIOD, INFO SALVAGE VEHICLE \\\\\n",
      "51 & Im from Abra auto body We need an assignment for claim & INFO CL DRP ASSIGN & INFO CL CHECK STATUS, INFO CL DOCS SEND, INFO CL DRP ASSIGN, INFO CL DRP JOIN, INFO CL FILE CLAIM, INFO CL FNOL AUTO HAIL, INFO CL RENTAL, INFO CL SHOP ADD WORK, INFO CL SHOP SEND ESTIMATE, INFO CL STATUS, INFO CL UPDATE INFO, INFO LIAB EXPLAN, INFO MORTGAGE CO POI, ST GENERAL REQUEST \\\\\n",
      "52 & Are the transfers between policies possible & INFO TRANSFER ACCT BALANCE & INFO ADD REMOVE INSURED, INFO ADD VEHICLE PROPERTY PAPERLESS BILLING, INFO BUSINESS POLICY CANT SEE, INFO CANCEL FEE, INFO CANCEL INS POLICY, INFO CANT SEE FARM RANCH POLICY, INFO CAREERS, INFO COMBINE PYMTS, INFO DISCOUNTS, INFO GEN POLICY COV QUESTION, INFO GET A QUOTE OTHER, INFO LIFE CASH OUT, INFO OPERATING AREA, INFO POLICY TRANS TO RENTAL, INFO PREMIUM BREAKDOWN, INFO PYMT PROCESS CHANGE, INFO REINSTATE INS POLICY, INFO TRANSFER ACCT BALANCE, INFO UPDATE LIENHOLDER \\\\\n",
      "53 & I need to reverse a charge & INFO DELETE DUPE PYMT & INFO AUTO PYMT CANCEL, INFO CHANGE AUTOPAY DATE, INFO CHANGE BANK ACCT, INFO CREDIT CARD CHANGE NUM, INFO DELETE DUPE PYMT, INFO DISCOUNTS, INFO LIFE BENEFICIARY CHANGE, INFO PYMT PROCESS CHANGE \\\\\n",
      "54 & If you had the means to move to any place in the world where would you go & ST WHERE DOES ABBY LIVE & INFO ADD HOUSE, INFO AUTO INS CANADA, INFO AUTO PYMT SCHEDULE, INFO CANT SEE POLICY, INFO CAREERS, INFO CHANGE AGENT, INFO CL HRP JOIN, INFO COMP COV EXPLAN, INFO CUSTOMER SERVICE HOURS, INFO DED EXPLAN, INFO EMPLOYMENT VERIFY, INFO FLOOD INS EXPLAN, INFO GEN POLICY COV QUESTION, INFO GET A QUOTE AUTO NONOWNER, INFO GET A QUOTE RENTERS, INFO INS NOT AVAILABLE, INFO KNOWYOURDRIVE, INFO LIFE BENEFICIARY CHANGE, INFO MAIL PYMT ADDRESS, INFO MAKE PYMT, INFO OPERATING AREA, INFO PHONE NUM, INFO PHONE NUM INTERNATIONAL, INFO POLICY TRANS TO RENTAL, INFO PYMT TIME, INFO RENTERS COV EXPLAN, INFO SPEAK TO REP, INFO UPDATE CONTACT INFO, INFO UPDATE EMAIL, INFO WHY WAS POLICY CANCELLED, NO, ST GENERAL REQUEST, ST HOW OLD IS ABBY, ST IS ABBY REAL, ST WHAT CAN ABBY DO, ST WHERE DOES ABBY LIVE, YES \\\\\n",
      "55 & BPP & INFO CFR QUESTION GENERAL & INFO AST PURCHASE, INFO DREAMKEEP REWARDS, INFO DREAMKEEP REWARDS ERRORS, INFO DREAMS FOUNDATION, INFO EMPLOYMENT VERIFY, INFO srtwentytwo, NO, ST GENERAL REQUEST, ST HELLO, ST HOW IS ABBY, ST IS ABBY REAL, ST THANK YOU, ST WHERE DOES ABBY LIVE, YES \\\\\n",
      "56 & We have commercial policies through Am Fam and I was wondering what the process is when the policy renews for Certificates of Insurance to be resent to our customers & INFO CFR QUESTION GENERAL & INFO BUSINESS POLICY CANT SEE, INFO CANCEL CONFIRM, INFO CANCEL FEE, INFO CANCEL INS POLICY, INFO CFR QUESTION GENERAL, INFO CL COMPLAINT, INFO EMPLOYMENT VERIFY, INFO GET A QUOTE CFR, INFO INS CARD PRINT, INFO INS CARD PROOF, INFO LETTER OF EXPERIENCE, INFO PAPERLESS MAIL, INFO POI OLD, INFO POLICY DOC NEEDED, INFO WHY WAS POLICY CANCELLED, NO, ST GENERAL REQUEST \\\\\n",
      "57 & Please change my billing to mail & INFO PAPERLESS DOCS STOP & INFO ADD VEHICLE PROPERTY PAPERLESS BILLING, INFO BILLING ACCT NAME EDIT, INFO BILLING ACCT NUM, INFO BILLING DEPT CONTACT, INFO CL DOCS MAIL, INFO COLLECTIONS, INFO DELETE DUPE PYMT, INFO DO NOT CONTACT, INFO FORGOT PASSWORD, INFO INS CARD PRINT, INFO LIFE UPDATE CONTACT INFO, INFO MAIL PYMT ADDRESS, INFO PAPERLESS DOCS SETUP, INFO PAPERLESS DOCS STOP, INFO PAPERLESS MAIL, INFO TRANSFER ACCT BALANCE, INFO UPDATE CONTACT INFO, INFO UPDATE EMAIL, INFO UPDATE PHONE NUM \\\\\n",
      "58 & I NEED THE PHONE FORT MOHAVE AZ & INFO FIND AGENT & INFO CL CLAIM FILED, INFO CUSTOMER SERVICE HOURS, INFO FIND AGENT, INFO FORGOT USERID, INFO GET A QUOTE OTHER, INFO INS NOT AVAILABLE, INFO MEXICO AUTO INS, INFO OPERATING AREA, INFO OPERATING CO, INFO SPEAK TO REP, INFO WHO IS MY AGENT, ST GENERAL REQUEST \\\\\n",
      "59 & I have a sort of general question that Im hoping you can assist & ST GENERAL REQUEST & INFO BILLING ACCT NUM, INFO CFR QUESTION GENERAL, INFO CL GLASS SAFELITE, INFO COLL COV EXPLAN, INFO COMP COV EXPLAN, INFO CONFIRM COVERAGE, INFO DED EXPLAN, INFO DREAMS FOUNDATION, INFO EMPLOYMENT VERIFY, INFO GET A QUOTE AUTO NONOWNER, INFO GET A QUOTE RENTERS, INFO HOMESITE CONTACT, INFO LIAB EXPLAN, INFO LIFE QUESTION GENERAL, INFO MORTGAGE CO POI, INFO POLICY NUM, INFO PROFILE SECTION, INFO RENTERS COV EXPLAN, INFO THE GENERAL CONTACT, INFO srtwentytwo, NO, ST GENERAL REQUEST, ST HELLO, ST IS ABBY REAL, ST WHAT CAN ABBY DO, ST WHERE DOES ABBY LIVE, YES \\\\\n",
      "60 & Im sry I got disconnected with Amanda & INFO SPEAK TO REP & INFO ADD REMOVE INSURED, INFO AGT NOT RESPONDING, INFO AST QUOTE, INFO CFR QUESTION GENERAL, INFO CL ADJUSTER INFO, INFO CL CHECK STATUS, INFO CL CLAIM FILED, INFO CL COMPLAINT, INFO CL SHOP ADD WORK, INFO CL STATUS, INFO CL UPDATE INFO, INFO COLLECTIONS, INFO CUSTOMER SERVICE HOURS, INFO DED EXPLAN, INFO DO NOT CONTACT, INFO EMPLOYMENT VERIFY, INFO HANDLING FEE REMOVE, INFO KNOWYOURDRIVE ERRORS, INFO LOG OUT, INFO PAPERLESS DOCS SETUP, INFO PHONE NUM INTERNATIONAL, INFO SPEAK TO REP, INFO WHO IS MY AGENT, INFO srtwentytwo, ST GENERAL REQUEST, ST IS ABBY REAL, ST WHAT CAN ABBY DO, YES \\\\\n",
      "61 & Speak with someone regarding my bill & INFO SPEAK TO REP & INFO AMT DUE, INFO BILL DUE DATE, INFO CL ADJUSTER INFO, INFO CL COMPLAINT, INFO DIFFERENT AMTS, INFO GEN POLICY COV QUESTION, INFO INS NOT AVAILABLE, INFO MAKE PYMT, INFO PREMIUM BREAKDOWN, INFO SPEAK TO REP, INFO WHY WAS POLICY CANCELLED \\\\\n",
      "62 & i had actually talked to someone yesterday about getting insurance thru your company & INFO GET A QUOTE OTHER & INFO AST PURCHASE, INFO AST QUOTE, INFO CL DRP ASSIGN, INFO CL DRP JOIN, INFO CL HRP JOIN, INFO GAP COVERAGE, INFO GET A QUOTE AUTO, INFO GET A QUOTE CFR, INFO GET A QUOTE OTHER, INFO INS CARD PROOF, INFO OPERATING CO, INFO SALVAGE VEHICLE \\\\\n",
      "63 & I dont recognize the agent showing up in my account & INFO AGENT WRONG & INFO AGENT WRONG, INFO AGT NOT RESPONDING, INFO AMERICAN STAR, INFO CHANGE AGENT, INFO CL CLAIM FILED, INFO DREAMKEEP REWARDS, INFO FIND AGENT, INFO WHO IS MY AGENT, NO \\\\\n",
      "64 & What are the benefits of renters & INFO RENTERS COV EXPLAN & INFO CREDIT CARD FEE, INFO DREAMKEEP REWARDS, INFO GEN POLICY COV QUESTION, INFO GET A QUOTE AUTO NONOWNER, INFO GET A QUOTE RENTERS, INFO GET A QUOTE RENTERS PURCHASE, INFO POLICY TRANS TO RENTAL, INFO RENTERS COV EXPLAN, ST WHERE DOES ABBY LIVE \\\\\n",
      "65 & I currently have a family policy with american family It was going to renew on  but I decided to get my own plan with another company & INFO CANCEL INS POLICY & INFO ADD HOUSE, INFO ADD REMOVE INSURED, INFO AST PURCHASE, INFO AST QUOTE, INFO BUSINESS POLICY CANT SEE, INFO CANCEL INS POLICY, INFO CFR QUESTION GENERAL, INFO CL HRP JOIN, INFO CL STATUS, INFO DREAMS FOUNDATION, INFO EMPLOYMENT VERIFY, INFO GET A QUOTE AUTO NONOWNER, INFO GET A QUOTE OTHER, INFO HOMESITE CONTACT, INFO INS CARD PRINT, INFO INS NOT AVAILABLE, INFO LIFE QUESTION GENERAL, INFO MORTGAGE CO POI, INFO OPERATING CO, INFO POI OLD, INFO SALVAGE VEHICLE, INFO UPDATE LIENHOLDER, ST GENERAL REQUEST, ST HELLO, ST WHERE DOES ABBY LIVE \\\\\n",
      "66 & no I will call the  number for assistance & NO & INFO AGT NOT RESPONDING, INFO CFR QUESTION GENERAL, INFO CL GLASS SAFELITE, INFO CUSTOMER SERVICE HOURS, INFO DO NOT CONTACT, INFO DREAMS FOUNDATION, INFO EMPLOYMENT VERIFY, INFO ERS CONTACT, INFO HOMESITE CONTACT, INFO MAKE PYMT, INFO MORTGAGE CO POI, INFO PHONE NUM, INFO PHONE NUM INTERNATIONAL, INFO THE GENERAL CONTACT, INFO UPDATE PHONE NUM, NO, ST GENERAL REQUEST, ST HELLO, ST IS ABBY REAL, ST THANK YOU, ST WHAT CAN ABBY DO, ST WHERE DOES ABBY LIVE, YES \\\\\n",
      "67 & I have home and auto insurance with you and would like to add a RV that I am in the process of purchasing Is that possible & INFO RV INS EXPLAN & INFO ADD HOUSE, INFO ADD REMOVE VEHICLE, INFO ATV INS EXPLAN, INFO BOAT COV EXPLAN, INFO CL HRP JOIN, INFO FLOOD INS EXPLAN, INFO GET A QUOTE AUTO, INFO GET A QUOTE AUTO NONOWNER, INFO GET A QUOTE OTHER, INFO NEW VEHICLE GRACE PERIOD, INFO POLICY TRANS TO RENTAL, INFO RV INS EXPLAN, INFO SALVAGE VEHICLE \\\\\n",
      "68 & employment verification & INFO EMPLOYMENT VERIFY & INFO AGENT WRONG, INFO AMERICAN STAR, INFO CANCEL CONFIRM, INFO CAREERS, INFO CFR QUESTION GENERAL, INFO CL COMPLAINT, INFO CL HRP JOIN, INFO CONFIRM COVERAGE, INFO EMPLOYMENT VERIFY, INFO INS CARD PRINT, INFO LETTER OF EXPERIENCE, INFO POI OLD, INFO srtwentytwo, ST GENERAL REQUEST, ST HELLO, ST WHAT CAN ABBY DO, ST WHERE DOES ABBY LIVE, YES \\\\\n",
      "69 & I cancelled my account earlier in April I am supposed to owe  Has my account been canceled & INFO CANCEL CONFIRM & INFO AMT DUE, INFO BILL DUE DATE, INFO CANCEL CONFIRM, INFO CANCEL FEE, INFO CL CHECK STATUS, INFO LIFE REFUND, INFO NEW VEHICLE GRACE PERIOD, INFO PYMT NOT ONTIME, INFO PYMT TIME, INFO REFUND CHECK, INFO WHY WAS POLICY CANCELLED \\\\\n",
      "70 & Good Morning I need to know the last day I can make a payment on my policy to prevent cancelation & INFO PYMT NOT ONTIME & INFO AUTO PYMT SCHEDULE, INFO BILL DUE DATE, INFO CANCEL CONFIRM, INFO CHANGE AUTOPAY DATE, INFO HANDLING FEE REMOVE, INFO PYMT DUEDATE CHANGE, INFO PYMT NOT ONTIME, INFO PYMT TIME \\\\\n",
      "71 & I went to pay the payment and my account has nothing on it just blank no billing accounts no policies is there anyway we can resolve this & INFO CANT SEE POLICY & INFO AMT DUE, INFO AUTO POLICY CANT SEE IN ACCT, INFO CANT SEE POLICY, INFO LOGIN ERROR, INFO PYMT CONFIRM, INFO PYMT ERROR, INFO REINSTATE INS POLICY, INFO WHY WAS POLICY CANCELLED \\\\\n",
      "72 & so my billing stated says that if I dont go paperless ill be charged  next billing & INFO PAPERLESS DOCS SETUP & INFO ADD VEHICLE PROPERTY PAPERLESS BILLING, INFO AMT DUE, INFO CL COMPLAINT, INFO COLLECTIONS, INFO MAKE PYMT, INFO PAPERLESS DOCS SETUP, INFO PAPERLESS DOCS STOP, INFO PAPERLESS MAIL, INFO PREMIUM BREAKDOWN, INFO PYMT CONFIRM, INFO PYMT ERROR, INFO PYMT NOT ONTIME \\\\\n",
      "73 & I dont mind & YES & INFO DREAMS FOUNDATION, INFO RENTERS COV EXPLAN, INFO WHY WAS POLICY CANCELLED, NO, ST GENERAL REQUEST, ST HELLO, ST HOW IS ABBY, ST IS ABBY REAL, ST THANK YOU, ST WHAT CAN ABBY DO, ST WHERE DOES ABBY LIVE, YES \\\\\n",
      "74 & Are you a student & ST HOW OLD IS ABBY & INFO CAREERS, INFO CFR QUESTION GENERAL, INFO CL HRP JOIN, INFO COLL COV EXPLAN, INFO CUSTOMER SERVICE HOURS, INFO DED EXPLAN, INFO DREAMS FOUNDATION, INFO EMPLOYMENT VERIFY, INFO HOMESITE CONTACT, INFO OPERATING CO, INFO POI OLD, INFO srtwentytwo, ST GENERAL REQUEST, ST HOW OLD IS ABBY, ST IS ABBY REAL, ST WHAT CAN ABBY DO, ST WHERE DOES ABBY LIVE, YES \\\\\n",
      "75 & Checking to verify that I am enrolled in auto pay & INFO PYMT SETUP AUTO PYMT & INFO AUTO PYMT MIN BALANCE, INFO AUTO PYMT SCHEDULE, INFO CONFIRM COVERAGE, INFO LIFE POLICY AUTO PYMT, INFO PREPAID CARD PYMT, INFO PYMT CONFIRM, INFO PYMT SETUP AUTO PYMT, INFO PYMT TIME \\\\\n",
      "76 & Where can I pay my bill by mail & INFO MAIL PYMT ADDRESS & INFO ADD VEHICLE PROPERTY PAPERLESS BILLING, INFO BILLING ACCT NUM, INFO BILLING DEPT CONTACT, INFO CANCEL INS POLICY, INFO CL DOCS MAIL, INFO COLLECTIONS, INFO DO NOT CONTACT, INFO MAIL PYMT ADDRESS, INFO MAKE PYMT, INFO ONE TIME PYMT, INFO PAPERLESS DOCS SETUP, INFO PAPERLESS DOCS STOP, INFO PAPERLESS MAIL, INFO PYMT CONFIRM \\\\\n",
      "77 & i need hirig & INFO CAREERS & INFO AMERICAN STAR, INFO AST PURCHASE, INFO AST QUOTE, INFO ATV INS EXPLAN, INFO CFR QUESTION GENERAL, INFO CL COMPLAINT, INFO CL SHOP ADD WORK, INFO COLL COV EXPLAN, INFO CREDIT CARD CHANGE NUM, INFO DEC PAGE NEEDED, INFO GET A QUOTE AUTO, INFO GET A QUOTE CFR, INFO GET A QUOTE OTHER, INFO GET A QUOTE RENTERS, INFO INS CARD PRINT, INFO INS CARD PROOF, INFO LETTER OF EXPERIENCE, INFO LIFE QUESTION GENERAL, INFO POI OLD, INFO POLICY DOC NEEDED, ST GENERAL REQUEST \\\\\n",
      "78 & Good afternoon I was checking to see if my Dad Raymond Hatfields car has been towed from the lot We received a letter in the mail that they were going to start charging us for it & INFO CL STATUS & INFO ADD REMOVE INSURED, INFO AMT DUE, INFO AUTO COV QUESTION, INFO AUTO POLICY CANT SEE IN ACCT, INFO CANCEL CONFIRM, INFO CANCEL FEE, INFO CL ADJUSTER INFO, INFO CL CHECK STATUS, INFO CL CLAIM FILED, INFO CL COMPLAINT, INFO CL FILE CLAIM, INFO CL RENTAL, INFO CL SHOP ADD WORK, INFO CL STATUS, INFO COLLECTIONS, INFO CONFIRM COVERAGE, INFO DIFFERENT AMTS, INFO GAP COVERAGE, INFO GEN POLICY COV QUESTION, INFO GLASS COV, INFO HANDLING FEE REMOVE, INFO LIAB EXPLAN, INFO MAKE PYMT, INFO MEXICO AUTO INS, INFO POLICY NUM, INFO PREMIUM BREAKDOWN, INFO PYMT CONFIRM, INFO SALVAGE VEHICLE, INFO WHY WAS POLICY CANCELLED, ST GENERAL REQUEST \\\\\n",
      "79 & i just checked and my car is no longer covered with you & INFO WHY WAS POLICY CANCELLED & INFO ADD REMOVE INSURED, INFO ADD REMOVE VEHICLE, INFO ADD VEHICLE PROPERTY PAPERLESS BILLING, INFO ATV INS EXPLAN, INFO AUTO COV QUESTION, INFO AUTO POLICY CANT SEE IN ACCT, INFO BUSINESS POLICY CANT SEE, INFO CANCEL CONFIRM, INFO CANCEL FEE, INFO CANCEL INS POLICY, INFO CANT SEE FARM RANCH POLICY, INFO CANT SEE POLICY, INFO CAREERS, INFO GET A QUOTE AUTO, INFO LIFE BENEFICIARY CHANGE, INFO MEXICO AUTO INS, INFO NAME CHANGE, INFO NEW VEHICLE GRACE PERIOD, INFO PAPERLESS DOCS STOP, INFO POI OLD, INFO REINSTATE INS POLICY, INFO RIDESHARE COV, INFO UPDATE LIENHOLDER, INFO WHY WAS POLICY CANCELLED \\\\\n",
      "80 & I have a question about my Knowyourdrive I thought I was going to receive  devices for my  vehicles but only received one & INFO KNOWYOURDRIVE ERRORS & INFO ADD HOUSE, INFO ADD VEHICLE PROPERTY PAPERLESS BILLING, INFO AST PURCHASE, INFO AUTO POLICY CANT SEE IN ACCT, INFO CL DRP JOIN, INFO CL GLASS SAFELITE, INFO CL RENTAL, INFO COMP COV EXPLAN, INFO DEDUCTIBLE, INFO DED EXPLAN, INFO DREAMKEEP REWARDS, INFO DREAMKEEP REWARDS ERRORS, INFO ERS REIMBURSE, INFO GAP COVERAGE, INFO INS CARD SEND, INFO KNOWYOURDRIVE, INFO KNOWYOURDRIVE DEVICE ACTIVATE, INFO KNOWYOURDRIVE DEVICE RETURN, INFO KNOWYOURDRIVE ERRORS, INFO NEW VEHICLE GRACE PERIOD, INFO PROFILE SECTION, INFO PYMT ERROR, INFO PYMT SETUP AUTO PYMT, INFO RIDESHARE COV, INFO RV INS EXPLAN, INFO SALVAGE VEHICLE, INFO TEEN SAFE DRIVER SIGNUP, INFO srtwentytwo, ST IS ABBY REAL, YES \\\\\n",
      "81 & can I pay my next months payment with this month & INFO AMT DUE & INFO AMT DUE, INFO AUTO PYMT MIN BALANCE, INFO BILL DUE DATE, INFO COMBINE PYMTS, INFO MAKE PYMT, INFO PREMIUM BREAKDOWN, INFO PYMT DUEDATE CHANGE, INFO PYMT HISTORY, INFO PYMT NOT ONTIME, INFO PYMT PROCESS CHANGE \\\\\n",
      "82 & For coverage is it necessary that holder should have drive the car & INFO AUTO COV QUESTION & INFO ADD REMOVE INSURED, INFO ADD REMOVE VEHICLE, INFO AUTO COV QUESTION, INFO CL FNOL, INFO CL STATUS, INFO CREDIT CARD CHANGE NUM, INFO GEN POLICY COV QUESTION, INFO INS CARD PROOF, INFO LIAB EXPLAN, INFO MEXICO AUTO INS, INFO POLICY TRANS TO RENTAL, INFO RIDESHARE COV, INFO UPDATE LIENHOLDER \\\\\n",
      "83 & Can get Krissie back please & INFO SPEAK TO REP & INFO ADD REMOVE INSURED, INFO ADD REMOVE VEHICLE, INFO AST QUOTE, INFO CANCEL CONFIRM, INFO CANCEL INS POLICY, INFO CHANGE AGENT, INFO CL GLASS SAFELITE, INFO CL SHOP ADD WORK, INFO CL UPDATE INFO, INFO COLLECTIONS, INFO DELETE DUPE PYMT, INFO DISCOUNTS, INFO DO NOT CONTACT, INFO DREAMKEEP REWARDS, INFO DREAMKEEP REWARDS ERRORS, INFO EMPLOYMENT VERIFY, INFO ERS, INFO ERS CONTACT, INFO HANDLING FEE REMOVE, INFO KNOWYOURDRIVE DEVICE RETURN, INFO KNOWYOURDRIVE ERRORS, INFO LIFE BENEFICIARY CHANGE, INFO LIFE REFUND, INFO PAPERLESS DOCS STOP, INFO PHONE NUM, INFO PROFILE SECTION, INFO PYMT CONFIRM, INFO REFUND CHECK, INFO REINSTATE INS POLICY, INFO SALVAGE VEHICLE, INFO TEEN SAFE DRIVER SIGNUP, INFO UPDATE LIENHOLDER, INFO UW ALUMNI DISCOUNT, INFO srtwentytwo, ST GENERAL REQUEST, ST HELLO, ST THANK YOU \\\\\n",
      "84 & What do I do if I cant afford my auto payment & INFO PYMT NOT ONTIME & INFO AUTO PYMT CANCEL, INFO AUTO PYMT MIN BALANCE, INFO AUTO PYMT SCHEDULE, INFO CHANGE AUTOPAY DATE, INFO COMBINE PYMTS, INFO ERS, INFO ERS CONTACT, INFO GAP COVERAGE, INFO LIFE POLICY AUTO PYMT, INFO MAKE PYMT, INFO PAY LIFE INS, INFO PREPAID CARD PYMT, INFO PYMT ERROR, INFO PYMT NOT ONTIME, INFO PYMT SETUP AUTO PYMT \\\\\n",
      "85 & I am trying to contact an HR representative regarding my pension that I have with American Family Ins What is the phone number to call them & INFO SPEAK TO REP & INFO CAREERS, INFO CFR QUESTION GENERAL, INFO CL ADJUSTER INFO, INFO CL COMPLAINT, INFO CL DOCS FAX, INFO CL STATUS, INFO CL UPDATE INFO, INFO COLLECTIONS, INFO CUSTOMER SERVICE HOURS, INFO EMPLOYMENT VERIFY, INFO HOMESITE CONTACT, INFO LIAB EXPLAN, INFO LIFE CASH OUT, INFO LIFE QUESTION GENERAL, INFO PAY LIFE INS, INFO PHONE NUM, INFO PHONE NUM INTERNATIONAL, INFO SPEAK TO REP, INFO THE GENERAL CONTACT, INFO srtwentytwo, ST GENERAL REQUEST, ST WHAT CAN ABBY DO \\\\\n",
      "86 & Hi Abby I am just wondering how to put my policy onto my account & INFO ADD VEHICLE PROPERTY PAPERLESS BILLING & INFO ADD HOUSE, INFO ADD REMOVE INSURED, INFO ADD REMOVE VEHICLE, INFO AMT DUE, INFO AST PURCHASE, INFO AST QUOTE, INFO AUTO POLICY CANT SEE IN ACCT, INFO BUSINESS POLICY CANT SEE, INFO CANT SEE FARM RANCH POLICY, INFO CANT SEE POLICY, INFO CFR QUESTION GENERAL, INFO CL STATUS, INFO COLL COV EXPLAN, INFO COMBINE PYMTS, INFO COMP COV EXPLAN, INFO DREAMS FOUNDATION, INFO ERS, INFO GEN POLICY COV QUESTION, INFO GET A QUOTE AUTO NONOWNER, INFO GET A QUOTE OTHER, INFO GET A QUOTE RENTERS, INFO HOMESITE CONTACT, INFO INS CARD PRINT, INFO INS CARD PROOF, INFO KNOWYOURDRIVE, INFO KNOWYOURDRIVE DEVICE ACTIVATE, INFO LIFE BENEFICIARY CHANGE, INFO LIFE QUESTION GENERAL, INFO NAME CHANGE, INFO POI OLD, INFO POLICY DOC NEEDED, INFO POLICY NUM, INFO PREMIUM BREAKDOWN, INFO PROFILE SECTION, INFO PYMT SETUP AUTO PYMT, INFO RENTERS COV EXPLAN, INFO SALVAGE VEHICLE, INFO SET UP ACCT, INFO TRANSFER ACCT BALANCE, INFO UPDATE LIENHOLDER, NO, ST GENERAL REQUEST, ST HELLO, ST WHAT CAN ABBY DO \\\\\n",
      "87 & GETTING APPOINTED TO SELL HOME INSURANCE & INFO CAREERS & INFO ADD HOUSE, INFO ADD VEHICLE PROPERTY PAPERLESS BILLING, INFO AMERICAN STAR, INFO CAREERS, INFO CL COMPLAINT, INFO CL HRP JOIN, INFO DISCOUNTS, INFO EMPLOYMENT VERIFY, INFO FLOOD INS EXPLAN, INFO FORGOT USERID, INFO GET A QUOTE CFR, INFO GET A QUOTE OTHER, INFO GET A QUOTE RENTERS, INFO GET A QUOTE RENTERS PURCHASE, INFO HOMESITE CONTACT, INFO INS CARD PRINT, INFO INS NOT AVAILABLE, INFO LETTER OF EXPERIENCE, INFO LIFE INCR COV, INFO LIFE POLICY AUTO PYMT, INFO LIFE POLICY CANNOT SEE, INFO OPERATING AREA, INFO OPERATING CO, INFO POI OLD, INFO RV INS EXPLAN, INFO UW ALUMNI DISCOUNT, INFO WHY WAS POLICY CANCELLED, INFO srtwentytwo, ST WHAT CAN ABBY DO \\\\\n",
      "88 & hi Abby I do not want my bank account information stored in your system but I cant make a payment without adding a payment method what am I missing here Why & INFO ONE TIME PYMT & INFO CHANGE BANK ACCT, INFO COMBINE PYMTS, INFO DEC PAGE NEEDED, INFO LOGIN ERROR, INFO MAKE PYMT, INFO ONE TIME PYMT, INFO PYMT ERROR, INFO PYMT HISTORY, INFO PYMT TIME, INFO SET UP ACCT, INFO TRANSFER ACCT BALANCE \\\\\n",
      "89 & billing options & INFO MAKE PYMT & INFO BILLING ACCT NUM, INFO BILLING DEPT CONTACT, INFO CAREERS, INFO COLLECTIONS, INFO COMBINE PYMTS, INFO DISCOUNTS, INFO MAKE PYMT, INFO PAPERLESS DOCS SETUP, INFO PAPERLESS DOCS STOP, INFO PREMIUM BREAKDOWN, INFO PYMT ERROR, INFO PYMT NOT ONTIME \\\\\n",
      "90 & For the know your drive program or whatever the name of the program is that replaced my safety valet do you have to have the locatorgps turned on on your phone at all times & INFO KNOWYOURDRIVE & INFO AUTO PYMT MIN BALANCE, INFO BOAT COV EXPLAN, INFO CHANGE AUTOPAY DATE, INFO CL DRP JOIN, INFO CL FNOL AUTO HAIL, INFO CL GLASS SAFELITE, INFO CL RENTAL, INFO COMP COV EXPLAN, INFO DED EXPLAN, INFO DREAMKEEP REWARDS, INFO ERS, INFO ERS CONTACT, INFO ERS REIMBURSE, INFO GAP COVERAGE, INFO KNOWYOURDRIVE, INFO KNOWYOURDRIVE DEVICE ACTIVATE, INFO KNOWYOURDRIVE DEVICE RETURN, INFO KNOWYOURDRIVE ERRORS, INFO NEW VEHICLE GRACE PERIOD, INFO PROFILE SECTION, INFO RV INS EXPLAN, INFO SALVAGE VEHICLE, INFO TEEN SAFE DRIVER SIGNUP \\\\\n",
      "91 & I cancelled my policy and you are still taking money out & INFO CANCEL CONFIRM & INFO CANCEL CONFIRM, INFO CANCEL FEE, INFO CANCEL INS POLICY, INFO DELETE DUPE PYMT, INFO DIFFERENT AMTS, INFO LIFE CASH OUT, INFO LIFE REFUND, INFO WHY WAS POLICY CANCELLED \\\\\n",
      "92 & I need to change my benefitiary & INFO LIFE BENEFICIARY CHANGE & INFO ADD REMOVE INSURED, INFO BILLING DEPT CONTACT, INFO CL DOCS MAIL, INFO CL FILE CLAIM, INFO CL STATUS, INFO CL UPDATE INFO, INFO DO NOT CONTACT, INFO EMPLOYMENT VERIFY, INFO FORGOT USERID, INFO GEN POLICY COV QUESTION, INFO LIFE BENEFICIARY CHANGE, INFO LIFE UPDATE CONTACT INFO, INFO MEXICO AUTO INS, INFO PYMT PROCESS CHANGE, INFO SPEAK TO REP, INFO UPDATE CONTACT INFO, INFO UPDATE LIENHOLDER, ST GENERAL REQUEST, ST HELLO, ST HOW OLD IS ABBY, ST IS ABBY REAL \\\\\n",
      "93 & Im from collision repair shop Are we good to start repairs for claim & INFO CL DRP ASSIGN & INFO CL CHECK STATUS, INFO CL DOCS SEND, INFO CL DRP ASSIGN, INFO CL DRP JOIN, INFO CL FNOL AUTO HAIL, INFO CL SHOP ADD WORK, INFO CL SHOP SEND ESTIMATE, INFO CL UPDATE INFO, INFO RV INS EXPLAN, INFO SALVAGE VEHICLE \\\\\n",
      "94 & Why am I not paying what I thought Id pay & INFO DIFFERENT AMTS & INFO AGT NOT RESPONDING, INFO AMT DUE, INFO BILL DUE DATE, INFO CANCEL CONFIRM, INFO CL CHECK STATUS, INFO DELETE DUPE PYMT, INFO DIFFERENT AMTS, INFO FORGOT EMAIL, INFO GAP COVERAGE, INFO LIFE REFUND, INFO MAKE PYMT, INFO PYMT CONFIRM, INFO PYMT ERROR, INFO PYMT NOT ONTIME, INFO PYMT TIME, INFO WHY WAS POLICY CANCELLED, NO, ST HOW IS ABBY, ST THANK YOU \\\\\n",
      "95 & Im still sorting out the basics of insurance college student here and was wondering if you could tell me if my policy is full coverage & INFO AUTO COV QUESTION & INFO COLL COV EXPLAN, INFO COMP COV EXPLAN, INFO CONFIRM COVERAGE, INFO ERS, INFO GEN POLICY COV QUESTION, INFO GET A QUOTE OTHER, INFO LETTER OF EXPERIENCE, INFO LIFE QUESTION GENERAL \\\\\n",
      "96 & I would like to have my premiums taken out on the st of every month instead of the th of every month Can that be changed & INFO PYMT DUEDATE CHANGE & INFO AUTO PYMT CANCEL, INFO CHANGE AUTOPAY DATE, INFO DELETE DUPE PYMT, INFO DIFFERENT AMTS, INFO DISCOUNTS, INFO PAPERLESS DOCS STOP, INFO PYMT DUEDATE CHANGE, INFO PYMT PROCESS CHANGE \\\\\n",
      "97 & HELLO ABBY MY NAME IS KELLY I WORK AT CLASSIC BODY AND PAINT CLAIM & ST HELLO & INFO AMERICAN STAR, INFO CL COMPLAINT, INFO CL DRP ASSIGN, INFO CL FILE CLAIM, INFO CL GLASS SAFELITE, INFO CL SHOP ADD WORK, INFO CL STATUS, INFO DREAMS FOUNDATION, INFO EMPLOYMENT VERIFY, INFO INS CARD PRINT, NO, ST GENERAL REQUEST, ST HELLO, ST HOW IS ABBY, ST WHAT CAN ABBY DO, YES \\\\\n",
      "98 & Do you offer a vacant apartment insurance policy & INFO GET A QUOTE OTHER & INFO ADD HOUSE, INFO CFR QUESTION GENERAL, INFO CL HRP JOIN, INFO CL RENTAL, INFO CL SHOP ADD WORK, INFO COMP COV EXPLAN, INFO CUSTOMER SERVICE HOURS, INFO EMPLOYMENT VERIFY, INFO FLOOD INS EXPLAN, INFO GEN POLICY COV QUESTION, INFO GET A QUOTE AUTO NONOWNER, INFO GET A QUOTE OTHER, INFO GET A QUOTE RENTERS, INFO GET A QUOTE RENTERS PURCHASE, INFO HOMESITE CONTACT, INFO LIFE CASH OUT, INFO LIFE QUESTION GENERAL, INFO POLICY TRANS TO RENTAL, INFO RENTERS COV EXPLAN, INFO SALVAGE VEHICLE, ST GENERAL REQUEST, ST WHERE DOES ABBY LIVE \\\\\n",
      "99 & get me the status of account after cancellation of policies & INFO CANCEL INS POLICY & INFO CANCEL CONFIRM, INFO CANCEL FEE, INFO CANCEL INS POLICY, INFO CONFIRM COVERAGE, INFO LETTER OF EXPERIENCE, INFO POI OLD, INFO REINSTATE INS POLICY, INFO WHY WAS POLICY CANCELLED \\\\\n",
      "100 & Looking for the assignment for claim to be sent over to body shop & INFO CL DRP ASSIGN & INFO AST PURCHASE, INFO CL CHECK STATUS, INFO CL DOCS SEND, INFO CL DRP ASSIGN, INFO CL DRP JOIN, INFO CL SHOP ADD WORK, INFO CL SHOP SEND ESTIMATE, INFO CL STATUS, INFO CL UPDATE INFO, INFO RV INS EXPLAN \\\\\n",
      "101 & Customer service hours & INFO CUSTOMER SERVICE HOURS & INFO AGT NOT RESPONDING, INFO CUSTOMER SERVICE HOURS, INFO EMPLOYMENT VERIFY, INFO ERS, INFO ERS CONTACT, INFO HANDLING FEE REMOVE, INFO PHONE NUM, INFO PYMT NOT ONTIME, INFO SPEAK TO REP, ST HELLO \\\\\n",
      "102 & ive already signed up but im in trouble idk what to do i have  dollars i need a srtwentytwo an quick but noone will work with me & INFO srtwentytwo & INFO AMT DUE, INFO AST PURCHASE, INFO CL CHECK STATUS, INFO CL COMPLAINT, INFO CL DRP JOIN, INFO CL SHOP ADD WORK, INFO DED EXPLAN, INFO EMPLOYMENT VERIFY, INFO ERS REIMBURSE, INFO GAP COVERAGE, INFO GET A QUOTE AUTO, INFO INS CARD SEND, INFO KNOWYOURDRIVE, INFO KNOWYOURDRIVE DEVICE RETURN, INFO KNOWYOURDRIVE ERRORS, INFO LIAB EXPLAN, INFO PAPERLESS MAIL, INFO PREMIUM BREAKDOWN, INFO PROFILE SECTION, INFO RV INS EXPLAN, INFO SALVAGE VEHICLE, INFO TEEN SAFE DRIVER SIGNUP, INFO srtwentytwo, ST GENERAL REQUEST, ST THANK YOU, YES \\\\\n",
      "103 & I lost my  for my taxes My policy number for the life insurance is  Can you give me that information & INFO LIFE QUESTION GENERAL & INFO BILLING ACCT NUM, INFO LIFE POLICY AMT DUE, INFO LIFE POLICY AUTO PYMT, INFO LIFE POLICY CANCEL, INFO LIFE POLICY CANNOT SEE, INFO LIFE QUESTION GENERAL, INFO LIFE REFUND, INFO LIFE UPDATE CONTACT INFO, INFO PAY LIFE INS, INFO POLICY NUM \\\\\n",
      "104 & do you have a home & ST WHERE DOES ABBY LIVE & INFO ADD HOUSE, INFO BILLING ACCT NAME EDIT, INFO BOAT COV EXPLAN, INFO CFR QUESTION GENERAL, INFO CL CLAIM FILED, INFO CL COMPLAINT, INFO CL FNOL, INFO CL HRP JOIN, INFO CL SHOP ADD WORK, INFO CL STATUS, INFO COLL COV EXPLAN, INFO COMP COV EXPLAN, INFO CONFIRM COVERAGE, INFO CUSTOMER SERVICE HOURS, INFO DREAMS FOUNDATION, INFO EMPLOYMENT VERIFY, INFO FLOOD INS EXPLAN, INFO GEN POLICY COV QUESTION, INFO GET A QUOTE AUTO NONOWNER, INFO GET A QUOTE OTHER, INFO GET A QUOTE RENTERS, INFO GET A QUOTE RENTERS PURCHASE, INFO HOMESITE CONTACT, INFO INS NOT AVAILABLE, INFO LIFE QUESTION GENERAL, INFO OPERATING CO, INFO POLICY DOC NEEDED, INFO POLICY NUM, INFO RENTERS COV EXPLAN, ST GENERAL REQUEST, ST HELLO, ST HOW OLD IS ABBY, ST IS ABBY REAL, ST WHAT CAN ABBY DO, ST WHERE DOES ABBY LIVE, YES \\\\\n",
      "105 & Has the adjuster authorized repairs for claim number & INFO CL DRP ASSIGN & INFO CL ADJUSTER INFO, INFO CL CHECK STATUS, INFO CL COMPLAINT, INFO CL DOCS MAIL, INFO CL DOCS SEND, INFO CL DRP ASSIGN, INFO CL DRP JOIN, INFO CL FILE CLAIM, INFO CL SHOP ADD WORK, INFO CL SHOP SEND ESTIMATE, INFO CL STATUS, INFO CL UPDATE INFO, INFO GET A QUOTE OTHER, INFO HOMESITE CONTACT, INFO LIAB EXPLAN \\\\\n",
      "106 & I have no interest to know about your companys event or promotion & INFO DO NOT CONTACT & INFO ADD REMOVE INSURED, INFO BUSINESS POLICY CANT SEE, INFO CANCEL CONFIRM, INFO CANCEL FEE, INFO CANCEL INS POLICY, INFO CFR QUESTION GENERAL, INFO CL COMPLAINT, INFO DO NOT CONTACT, INFO EMPLOYMENT VERIFY, INFO HANDLING FEE REMOVE, INFO PAPERLESS DOCS STOP, NO, ST GENERAL REQUEST, ST HELLO \\\\\n",
      "107 & Do I still have auto coverage since I moved & INFO CONFIRM COVERAGE & INFO AUTO COV QUESTION, INFO CL FNOL AUTO HAIL, INFO COLL COV EXPLAN, INFO COMP COV EXPLAN, INFO CONFIRM COVERAGE, INFO ERS, INFO ERS REIMBURSE, INFO FLOOD INS EXPLAN, INFO GEN POLICY COV QUESTION, INFO GET A QUOTE AUTO NONOWNER, INFO LETTER OF EXPERIENCE, INFO LIFE QUESTION GENERAL, INFO NEW VEHICLE GRACE PERIOD, INFO OPERATING AREA, INFO POI OLD, INFO RV INS EXPLAN \\\\\n",
      "108 & I agree & YES & INFO CL HRP JOIN, INFO DREAMKEEP REWARDS, INFO DREAMS FOUNDATION, INFO FLOOD INS EXPLAN, NO, ST GENERAL REQUEST, ST HELLO, ST IS ABBY REAL, ST THANK YOU, ST WHERE DOES ABBY LIVE, YES \\\\\n",
      "109 & I want to return my KnowYourDrive automatic device & INFO KNOWYOURDRIVE DEVICE RETURN & INFO CHANGE AUTOPAY DATE, INFO CL DRP JOIN, INFO CL RENTAL, INFO DED EXPLAN, INFO DREAMKEEP REWARDS, INFO DREAMKEEP REWARDS ERRORS, INFO ERS REIMBURSE, INFO KNOWYOURDRIVE, INFO KNOWYOURDRIVE DEVICE ACTIVATE, INFO KNOWYOURDRIVE DEVICE RETURN, INFO KNOWYOURDRIVE ERRORS, INFO NEW VEHICLE GRACE PERIOD, INFO SALVAGE VEHICLE \\\\\n",
      "110 & I tried to get help by telephone but couldnt find help & INFO SPEAK TO REP & INFO AGT NOT RESPONDING, INFO CUSTOMER SERVICE HOURS, INFO ERS CONTACT, INFO PHONE NUM, INFO PHONE NUM INTERNATIONAL, INFO PYMT ERROR, INFO UPDATE PHONE NUM, ST HELLO, ST THANK YOU \\\\\n",
      "111 & I need to reset my policy & INFO REINSTATE INS POLICY & INFO ADD HOUSE, INFO AGENT WRONG, INFO AMERICAN STAR, INFO AST PURCHASE, INFO ATV INS EXPLAN, INFO AUTO PYMT MIN BALANCE, INFO BILLING ACCT NAME EDIT, INFO BOAT COV EXPLAN, INFO CANT SEE POLICY, INFO CHANGE AUTOPAY DATE, INFO CL DRP ASSIGN, INFO CL FNOL, INFO CL FNOL AUTO HAIL, INFO CL GLASS SAFELITE, INFO CL RENTAL, INFO COLL COV EXPLAN, INFO COMP COV EXPLAN, INFO CONFIRM COVERAGE, INFO CREDIT CARD CHANGE NUM, INFO CUSTOMER SERVICE HOURS, INFO DREAMKEEP REWARDS, INFO DREAMKEEP REWARDS ERRORS, INFO DREAMS FOUNDATION, INFO EMPLOYMENT VERIFY, INFO ERS, INFO ERS CONTACT, INFO ERS REIMBURSE, INFO GAP COVERAGE, INFO GEN POLICY COV QUESTION, INFO GET A QUOTE AUTO, INFO GET A QUOTE AUTO NONOWNER, INFO GLASS COV, INFO HOMESITE CONTACT, INFO INS CARD PRINT, INFO INS CARD PROOF, INFO INS CARD SEND, INFO KNOWYOURDRIVE, INFO KNOWYOURDRIVE DEVICE ACTIVATE, INFO KNOWYOURDRIVE DEVICE RETURN, INFO LIFE POLICY AUTO PYMT, INFO LIFE REFUND, INFO MEXICO AUTO INS, INFO MORTGAGE CO POI, INFO NAME CHANGE, INFO NEW VEHICLE GRACE PERIOD, INFO POI OLD, INFO PROFILE SECTION, INFO PYMT DUEDATE CHANGE, INFO PYMT SETUP AUTO PYMT, INFO PYMT TIME, INFO REINSTATE INS POLICY, INFO RENTERS COV EXPLAN, INFO RV INS EXPLAN, INFO SET UP ACCT, INFO TEEN SAFE DRIVER SIGNUP, INFO UPDATE LIENHOLDER, INFO UPDATE PHONE NUM, INFO UW ALUMNI DISCOUNT, INFO WHY WAS POLICY CANCELLED, NO, ST GENERAL REQUEST, ST HELLO, ST IS ABBY REAL, ST THANK YOU \\\\\n",
      "112 & i cant pay for my new car without billing account number & INFO BILLING ACCT NUM & INFO ADD REMOVE VEHICLE, INFO ADD VEHICLE PROPERTY PAPERLESS BILLING, INFO AUTO POLICY CANT SEE IN ACCT, INFO BILLING ACCT NUM, INFO COLLECTIONS, INFO NEW VEHICLE GRACE PERIOD, INFO ONE TIME PYMT, INFO TRANSFER ACCT BALANCE \\\\\n",
      "113 & What are the benefits of knowYOURDRIVE & INFO KNOWYOURDRIVE & INFO COMP COV EXPLAN, INFO DREAMKEEP REWARDS, INFO DREAMKEEP REWARDS ERRORS, INFO KNOWYOURDRIVE, INFO KNOWYOURDRIVE DEVICE ACTIVATE, INFO KNOWYOURDRIVE DEVICE RETURN, INFO KNOWYOURDRIVE ERRORS, INFO RIDESHARE COV, INFO TEEN SAFE DRIVER SIGNUP \\\\\n",
      "114 & I would like to see how much can I use from the auto coverage before I decide whether to repair my car how to do this & INFO CL FILE CLAIM & INFO ADD REMOVE INSURED, INFO ADD REMOVE VEHICLE, INFO AUTO COV QUESTION, INFO CL FILE CLAIM, INFO CL FNOL, INFO CL UPDATE INFO, INFO GEN POLICY COV QUESTION, INFO GET A QUOTE AUTO, INFO GET A QUOTE OTHER, INFO SALVAGE VEHICLE \\\\\n",
      "115 & Was told to avoid  installment charge on my last bill I should sign up for auto payments Next bill would be adjusted to  This adjustment has not occurred & INFO DIFFERENT AMTS & INFO AUTO PYMT CANCEL, INFO AUTO PYMT MIN BALANCE, INFO AUTO PYMT SCHEDULE, INFO CHANGE AUTOPAY DATE, INFO COLLECTIONS, INFO COMBINE PYMTS, INFO DELETE DUPE PYMT, INFO DIFFERENT AMTS, INFO DISCOUNTS, INFO GAP COVERAGE, INFO LOGIN ERROR, INFO MAKE PYMT, INFO ONE TIME PYMT, INFO PREMIUM BREAKDOWN, INFO PYMT ERROR, INFO PYMT NOT ONTIME, INFO PYMT PROCESS CHANGE, INFO PYMT SETUP AUTO PYMT \\\\\n",
      "116 & Do you sell insurance for my wheeler & INFO ATV INS EXPLAN & INFO AST PURCHASE, INFO AST QUOTE, INFO ATV INS EXPLAN, INFO AUTO COV QUESTION, INFO CL DRP JOIN, INFO CL HRP JOIN, INFO GAP COVERAGE, INFO GET A QUOTE AUTO, INFO GET A QUOTE AUTO NONOWNER, INFO GET A QUOTE CFR, INFO GET A QUOTE OTHER, INFO LIFE POLICY AUTO PYMT, INFO OPERATING AREA, INFO PREMIUM BREAKDOWN, INFO RIDESHARE COV, INFO RV INS EXPLAN, INFO SALVAGE VEHICLE \\\\\n",
      "117 & What is the easist way too reduce the number of bills and payments & INFO COMBINE PYMTS & INFO ADD VEHICLE PROPERTY PAPERLESS BILLING, INFO AUTO PYMT CANCEL, INFO DELETE DUPE PYMT, INFO DIFFERENT AMTS, INFO DISCOUNTS, INFO PAPERLESS DOCS SETUP, INFO PAPERLESS DOCS STOP, INFO PYMT PROCESS CHANGE \\\\\n",
      "118 & Is there a know your drive support number & INFO KNOWYOURDRIVE ERRORS & INFO BILLING ACCT NAME EDIT, INFO BOAT COV EXPLAN, INFO CHANGE AUTOPAY DATE, INFO CL DRP JOIN, INFO CL GLASS SAFELITE, INFO COMP COV EXPLAN, INFO CUSTOMER SERVICE HOURS, INFO DED EXPLAN, INFO DREAMKEEP REWARDS, INFO DREAMKEEP REWARDS ERRORS, INFO DREAMS FOUNDATION, INFO ERS CONTACT, INFO ERS REIMBURSE, INFO GAP COVERAGE, INFO KNOWYOURDRIVE, INFO KNOWYOURDRIVE DEVICE ACTIVATE, INFO KNOWYOURDRIVE DEVICE RETURN, INFO KNOWYOURDRIVE ERRORS, INFO MORTGAGE CO POI, INFO PHONE NUM, INFO PHONE NUM INTERNATIONAL, INFO PROFILE SECTION, INFO PYMT PROCESS CHANGE, INFO RIDESHARE COV, INFO SALVAGE VEHICLE, INFO TEEN SAFE DRIVER SIGNUP, INFO THE GENERAL CONTACT, INFO UPDATE PHONE NUM, INFO srtwentytwo \\\\\n",
      "119 & collision on my policy details & INFO COLL COV EXPLAN & INFO CL FNOL, INFO CL FNOL AUTO HAIL, INFO CL GLASS SAFELITE, INFO COLL COV EXPLAN, INFO COMP COV EXPLAN, INFO GET A QUOTE AUTO NONOWNER, INFO THE GENERAL CONTACT, NO \\\\\n",
      "120 & more repairs needed to finishing fixing the car & INFO CL SHOP ADD WORK & INFO ADD HOUSE, INFO ADD REMOVE VEHICLE, INFO AST PURCHASE, INFO ATV INS EXPLAN, INFO CL CHECK STATUS, INFO CL DRP ASSIGN, INFO CL DRP JOIN, INFO CL FILE CLAIM, INFO CL FNOL AUTO HAIL, INFO CL GLASS SAFELITE, INFO CL RENTAL, INFO CL SHOP ADD WORK, INFO CL SHOP SEND ESTIMATE, INFO CL UPDATE INFO, INFO ERS CONTACT, INFO ERS REIMBURSE, INFO GET A QUOTE AUTO, INFO GET A QUOTE AUTO NONOWNER, INFO HOMESITE CONTACT, INFO NEW VEHICLE GRACE PERIOD, INFO RV INS EXPLAN, INFO SALVAGE VEHICLE, INFO srtwentytwo \\\\\n",
      "121 & Will you insure a rebuilt car & INFO SALVAGE VEHICLE & INFO ADD REMOVE VEHICLE, INFO ATV INS EXPLAN, INFO AUTO COV QUESTION, INFO CL DOCS MAIL, INFO CL DRP ASSIGN, INFO CL DRP JOIN, INFO CL FILE CLAIM, INFO CL FNOL AUTO HAIL, INFO CL UPDATE INFO, INFO ERS CONTACT, INFO ERS REIMBURSE, INFO RV INS EXPLAN, INFO SALVAGE VEHICLE, INFO UPDATE LIENHOLDER \\\\\n",
      "122 & I am trying to pay my home insurance and cannot locate it on the web & INFO MAKE PYMT & INFO AMT DUE, INFO AUTO POLICY CANT SEE IN ACCT, INFO CANT SEE FARM RANCH POLICY, INFO CANT SEE POLICY, INFO LOGIN ERROR, INFO MAKE PYMT, INFO ONE TIME PYMT, INFO PYMT CONFIRM, INFO PYMT ERROR, INFO PYMT TIME, INFO REINSTATE INS POLICY \\\\\n",
      "123 & How many more years until you retire & ST HOW OLD IS ABBY & INFO AUTO PYMT SCHEDULE, INFO BILL DUE DATE, INFO CAREERS, INFO CL HRP JOIN, INFO COMP COV EXPLAN, INFO CUSTOMER SERVICE HOURS, INFO EMPLOYMENT VERIFY, INFO ERS, INFO GEN POLICY COV QUESTION, INFO HOMESITE CONTACT, INFO LIAB EXPLAN, INFO LIFE INCR COV, INFO LIFE POLICY AMT DUE, INFO LIFE POLICY AUTO PYMT, INFO LIFE POLICY CANNOT SEE, INFO LIFE REFUND, INFO OPERATING AREA, INFO POI OLD, INFO PREMIUM BREAKDOWN, INFO PYMT DUEDATE CHANGE, INFO REFUND CHECK, INFO REINSTATE INS POLICY, INFO WHY WAS POLICY CANCELLED, INFO srtwentytwo, ST HOW OLD IS ABBY, ST IS ABBY REAL, ST WHAT CAN ABBY DO, ST WHERE DOES ABBY LIVE \\\\\n",
      "124 & I made a payment yesterday When will it show in my account & INFO PYMT TIME & INFO AMT DUE, INFO AUTO PYMT SCHEDULE, INFO BILL DUE DATE, INFO CANT SEE POLICY, INFO CL CHECK STATUS, INFO DIFFERENT AMTS, INFO GLASS COV, INFO PYMT CONFIRM, INFO PYMT ERROR, INFO PYMT HISTORY, INFO PYMT NOT ONTIME, INFO PYMT TIME, INFO REFUND CHECK, ST HOW IS ABBY \\\\\n",
      "125 & Where can I get a print out of my policy & INFO POLICY DOC NEEDED & INFO ADD VEHICLE PROPERTY PAPERLESS BILLING, INFO BUSINESS POLICY CANT SEE, INFO CANCEL INS POLICY, INFO CANT SEE POLICY, INFO CL DOCS EMAIL, INFO INS CARD PRINT, INFO LETTER OF EXPERIENCE, INFO LIFE POLICY CANNOT SEE, INFO NAME CHANGE, INFO PAPERLESS DOCS SETUP, INFO PAPERLESS DOCS STOP, INFO PAPERLESS MAIL, INFO POLICY DOC NEEDED, INFO POLICY NUM, INFO UPDATE LIENHOLDER \\\\\n",
      "126 & What are you & ST IS ABBY REAL & INFO CFR QUESTION GENERAL, INFO CL COMPLAINT, INFO CL DRP ASSIGN, INFO CL SHOP ADD WORK, INFO CL SHOP SEND ESTIMATE, INFO CL STATUS, INFO DO NOT CONTACT, INFO EMPLOYMENT VERIFY, INFO GET A QUOTE RENTERS, INFO OPERATING CO, INFO PHONE NUM INTERNATIONAL, INFO srtwentytwo, ST GENERAL REQUEST, ST HELLO, ST HOW IS ABBY, ST HOW OLD IS ABBY, ST IS ABBY REAL, ST WHAT CAN ABBY DO, ST WHERE DOES ABBY LIVE, YES \\\\\n"
     ]
    }
   ],
   "source": [
    "i =1\n",
    "for a in ambiguous.index:\n",
    "    alternatives = np.where(y_ps_which[a, :, target_index])[0]\n",
    "    print(\" & \".join([str(i), ambiguous.loc[a].text, labels[ambiguous.loc[a].label].replace(\"_\", \" \"), ', '.join([labels[l].replace(\"_\", \" \") for l in alternatives])]) + \" \\\\\\\\\")\n",
    "    i += 1"
   ]
  },
  {
   "cell_type": "code",
   "execution_count": 18,
   "id": "b9b26fca-9da4-49f2-b15a-020dfa5623d8",
   "metadata": {
    "tags": []
   },
   "outputs": [
    {
     "data": {
      "image/png": "[encoded data removed]",
      "text/plain": [
       "<Figure size 606.299x200 with 3 Axes>"
      ]
     },
     "metadata": {},
     "output_type": "display_data"
    }
   ],
   "source": [
    "label_sorting_map = {i: x for x, i in enumerate(df_train.label.value_counts(sort=True).index)}\n",
    "for i in range(len(labels)):\n",
    "    if i not in label_sorting_map:\n",
    "        label_sorting_map[i] = len(label_sorting_map)\n",
    "fig, axs = plt.subplots(1,3,figsize=(plot.fig_width_in * 2, 2), sharey=True)\n",
    "pd.Series(list(map(lambda x: label_sorting_map[x], df_train.label, ))).hist(bins=N_INTENTS, ax=axs[0])\n",
    "pd.Series(list(map(lambda x: label_sorting_map[x], df_calibration.label, ))).hist(bins=N_INTENTS, ax=axs[1])\n",
    "pd.Series(list(map(lambda x: label_sorting_map[x], df_test.label, ))).hist(bins=N_INTENTS, ax=axs[2])\n",
    "titles = ['Train set', 'Calibration set', 'Test set']\n",
    "[ax.set_xlabel('intent') for ax in axs]\n",
    "[ax.set_title(title) for (ax, title) in zip(axs, titles)]\n",
    "axs[0].set_ylabel('Occurrence')\n",
    "# plt.yticks([]) \n",
    "plt.savefig(f\"results/label_distribution_{dataset}.png\", dpi=1200)\n",
    "plt.show()"
   ]
  },
  {
   "cell_type": "code",
   "execution_count": 19,
   "id": "f1248446",
   "metadata": {},
   "outputs": [],
   "source": [
    "cq_inputs = df_test[cq_filter(y_ps_marginal[:, :, target_index], max_ps_size)].text\n",
    "cq_lbls = cq_labels(y_ps_marginal[:, :, target_index], max_ps_size, labels)\n",
    "\n",
    "cqs = []\n",
    "for i, (text, lbls) in enumerate(zip(cq_inputs, cq_lbls)):\n",
    "    cqs.append({\n",
    "        \"id\": i,\n",
    "        \"text\": text,\n",
    "        \"predictions\": lbls,\n",
    "    })\n",
    "\n",
    "with open(f'results/clarification_questions_{dataset}_{intent_classifier}.json', 'w') as f:\n",
    "    json.dump(cqs, f, indent=4)"
   ]
  },
  {
   "cell_type": "code",
   "execution_count": 20,
   "id": "bbd4496c",
   "metadata": {},
   "outputs": [],
   "source": [
    "pd.Series(np.cumsum([set_size_equals(y_ps_marginal[:, :, target_index], i) for i in range(N_INTENTS+1)])).to_csv(f'results/cum_{dataset}_{intent_classifier}.csv')"
   ]
  },
  {
   "cell_type": "code",
   "execution_count": null,
   "id": "da10bf0e",
   "metadata": {},
   "outputs": [],
   "source": []
  }
 ],
 "metadata": {
  "kernelspec": {
   "display_name": "Python 3 (ipykernel)",
   "language": "python",
   "name": "python3"
  },
  "language_info": {
   "codemirror_mode": {
    "name": "ipython",
    "version": 3
   },
   "file_extension": ".py",
   "mimetype": "text/x-python",
   "name": "python",
   "nbconvert_exporter": "python",
   "pygments_lexer": "ipython3",
   "version": "3.12.0"
  }
 },
 "nbformat": 4,
 "nbformat_minor": 5
}

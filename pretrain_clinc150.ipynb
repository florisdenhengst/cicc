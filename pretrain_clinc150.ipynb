{
 "cells": [
  {
   "cell_type": "code",
   "execution_count": 19,
   "metadata": {},
   "outputs": [],
   "source": [
    "import torch\n",
    "from datasets import load_dataset, DatasetDict, concatenate_datasets\n",
    "from transformers import AutoTokenizer, Trainer, TrainingArguments, AutoModelForSequenceClassification, BertForSequenceClassification, DataCollatorWithPadding\n",
    "\n",
    "\n",
    "import numpy as np\n",
    "import matplotlib.pyplot as plt\n",
    "import evaluate\n",
    "import pandas as pd\n",
    "import scipy\n",
    "dataset = load_dataset(\"clinc_oos\", \"imbalanced\").rename_column(\"intent\", \"labels\")\n",
    "# dataset = load_dataset(\"mtod\", data_files=data_file_names)\n",
    "dataset_full = concatenate_datasets([dataset[\"train\"], dataset[\"test\"], dataset['validation']]).shuffle(seed=42)\n",
    "train_size, cal_size, test_size = .6, .2, .2\n",
    "train_test_set = dataset_full.train_test_split(train_size=train_size, stratify_by_column='labels', seed=42)\n",
    "test_val_set = train_test_set[\"test\"].train_test_split(train_size=test_size/(cal_size+test_size), stratify_by_column='labels', seed=42)\n",
    "dataset = DatasetDict({\n",
    "    'train': train_test_set['train'],\n",
    "    'test': test_val_set['train'],\n",
    "    'validation': test_val_set['test']  \n",
    "})\n",
    "# hyperparameters from https://github.com/clinc/oos-eval/blob/master/hyperparameters.csv\n",
    "learning_rate = 4.00e-05\n",
    "warmup_proportion = 0.1\n",
    "train_batch_size = 32\n",
    "eval_batch_size = 32\n",
    "num_train_epochs = 5\n",
    "gradient_accumulation_steps = 1\n",
    "\n",
    "huggingface_modelname = \"bert-large-uncased\""
   ]
  },
  {
   "cell_type": "code",
   "execution_count": 20,
   "metadata": {},
   "outputs": [],
   "source": [
    "id2label = {i: name for i, name in enumerate(dataset[\"train\"].features[\"labels\"].names)}\n",
    "label2id = {name: i for i, name in id2label.items()}\n",
    "oos_label = label2id['oos']"
   ]
  },
  {
   "cell_type": "code",
   "execution_count": 21,
   "metadata": {},
   "outputs": [
    {
     "data": {
      "text/plain": [
       "42"
      ]
     },
     "execution_count": 21,
     "metadata": {},
     "output_type": "execute_result"
    }
   ],
   "source": [
    "oos_label"
   ]
  },
  {
   "cell_type": "code",
   "execution_count": 22,
   "metadata": {},
   "outputs": [
    {
     "data": {
      "text/plain": [
       "240"
      ]
     },
     "execution_count": 22,
     "metadata": {},
     "output_type": "execute_result"
    }
   ],
   "source": [
    "(np.array(dataset[\"test\"][\"labels\"]) == oos_label).sum()"
   ]
  },
  {
   "cell_type": "code",
   "execution_count": 23,
   "metadata": {},
   "outputs": [
    {
     "data": {
      "application/vnd.jupyter.widget-view+json": {
       "model_id": "8285cd44630045e6ab0314ebb52fbfc4",
       "version_major": 2,
       "version_minor": 0
      },
      "text/plain": [
       "Filter:   0%|          | 0/11535 [00:00<?, ? examples/s]"
      ]
     },
     "metadata": {},
     "output_type": "display_data"
    },
    {
     "data": {
      "application/vnd.jupyter.widget-view+json": {
       "model_id": "07ca83af5465443796a55970f3ae4978",
       "version_major": 2,
       "version_minor": 0
      },
      "text/plain": [
       "Filter:   0%|          | 0/3845 [00:00<?, ? examples/s]"
      ]
     },
     "metadata": {},
     "output_type": "display_data"
    }
   ],
   "source": [
    "dataset[\"train\"] = dataset[\"train\"].filter(lambda x: x['labels'] != oos_label)\n",
    "dataset[\"validation\"] = dataset[\"validation\"].filter(lambda x: x['labels'] != oos_label)\n",
    "# dataset[\"test\"] = dataset[\"test\"]"
   ]
  },
  {
   "cell_type": "code",
   "execution_count": 24,
   "metadata": {},
   "outputs": [
    {
     "data": {
      "text/plain": [
       "150"
      ]
     },
     "execution_count": 24,
     "metadata": {},
     "output_type": "execute_result"
    }
   ],
   "source": [
    "len(dataset['train'].features['labels'].names)-1"
   ]
  },
  {
   "cell_type": "code",
   "execution_count": 25,
   "metadata": {},
   "outputs": [
    {
     "data": {
      "text/plain": [
       "'oos'"
      ]
     },
     "execution_count": 25,
     "metadata": {},
     "output_type": "execute_result"
    }
   ],
   "source": [
    "dataset['train'].features['labels'].names[42]"
   ]
  },
  {
   "cell_type": "code",
   "execution_count": 26,
   "metadata": {},
   "outputs": [
    {
     "data": {
      "text/plain": [
       "0"
      ]
     },
     "execution_count": 26,
     "metadata": {},
     "output_type": "execute_result"
    }
   ],
   "source": [
    "torch.mps.current_allocated_memory()"
   ]
  },
  {
   "cell_type": "code",
   "execution_count": 27,
   "metadata": {},
   "outputs": [
    {
     "data": {
      "application/vnd.jupyter.widget-view+json": {
       "model_id": "b23ede69b7e3419c9bc99804665f6f2e",
       "version_major": 2,
       "version_minor": 0
      },
      "text/plain": [
       "Map:   0%|          | 0/10815 [00:00<?, ? examples/s]"
      ]
     },
     "metadata": {},
     "output_type": "display_data"
    },
    {
     "data": {
      "application/vnd.jupyter.widget-view+json": {
       "model_id": "d1fd0c619ee6482ea03f8efd23d87fa6",
       "version_major": 2,
       "version_minor": 0
      },
      "text/plain": [
       "Map:   0%|          | 0/3845 [00:00<?, ? examples/s]"
      ]
     },
     "metadata": {},
     "output_type": "display_data"
    },
    {
     "data": {
      "application/vnd.jupyter.widget-view+json": {
       "model_id": "0fa68ea995d048779513d76c5ce9cd88",
       "version_major": 2,
       "version_minor": 0
      },
      "text/plain": [
       "Map:   0%|          | 0/3605 [00:00<?, ? examples/s]"
      ]
     },
     "metadata": {},
     "output_type": "display_data"
    }
   ],
   "source": [
    "tokenizer = AutoTokenizer.from_pretrained(huggingface_modelname)\n",
    "\n",
    "def tokenize_function(examples):\n",
    "    return tokenizer(examples[\"text\"], truncation=True)\n",
    "\n",
    "tokenized_datasets = dataset.map(tokenize_function, batched=True)\n",
    "data_collator = DataCollatorWithPadding(tokenizer=tokenizer)\n",
    "\n",
    "assert dataset[\"train\"].features[\"labels\"].names == dataset[\"test\"].features[\"labels\"].names "
   ]
  },
  {
   "cell_type": "code",
   "execution_count": 28,
   "metadata": {},
   "outputs": [
    {
     "name": "stderr",
     "output_type": "stream",
     "text": [
      "Some weights of BertForSequenceClassification were not initialized from the model checkpoint at bert-large-uncased and are newly initialized: ['classifier.weight', 'classifier.bias']\n",
      "You should probably TRAIN this model on a down-stream task to be able to use it for predictions and inference.\n"
     ]
    }
   ],
   "source": [
    "model = AutoModelForSequenceClassification.from_pretrained(\n",
    "    huggingface_modelname,\n",
    "    num_labels=len(id2label),\n",
    "    id2label=id2label,\n",
    "    label2id=label2id\n",
    "    )"
   ]
  },
  {
   "cell_type": "code",
   "execution_count": 29,
   "metadata": {},
   "outputs": [
    {
     "data": {
      "text/plain": [
       "0"
      ]
     },
     "execution_count": 29,
     "metadata": {},
     "output_type": "execute_result"
    }
   ],
   "source": [
    "torch.mps.current_allocated_memory()"
   ]
  },
  {
   "cell_type": "code",
   "execution_count": 30,
   "metadata": {},
   "outputs": [],
   "source": [
    "training_args = TrainingArguments(\n",
    "    output_dir=\"test_trainer\",\n",
    "    learning_rate=learning_rate,\n",
    "    num_train_epochs=num_train_epochs,\n",
    "    per_device_train_batch_size=train_batch_size,\n",
    "    per_device_eval_batch_size=eval_batch_size,\n",
    "    weight_decay=0.01,\n",
    "    evaluation_strategy=\"epoch\",\n",
    "    save_strategy=\"epoch\",\n",
    "    gradient_accumulation_steps=gradient_accumulation_steps,\n",
    "    load_best_model_at_end=True,\n",
    "    )"
   ]
  },
  {
   "cell_type": "code",
   "execution_count": 31,
   "metadata": {},
   "outputs": [],
   "source": [
    "metric = evaluate.load(\"accuracy\")"
   ]
  },
  {
   "cell_type": "code",
   "execution_count": 32,
   "metadata": {},
   "outputs": [],
   "source": [
    "def compute_metrics(eval_pred):\n",
    "    logits, labels = eval_pred\n",
    "    predictions = np.argmax(logits, axis=-1)\n",
    "    return metric.compute(predictions=predictions, references=labels)"
   ]
  },
  {
   "cell_type": "code",
   "execution_count": 33,
   "metadata": {},
   "outputs": [],
   "source": [
    "trainer = Trainer(\n",
    "    model=model,\n",
    "    args=training_args,\n",
    "    train_dataset=tokenized_datasets[\"train\"],\n",
    "    eval_dataset=tokenized_datasets[\"validation\"],\n",
    "    tokenizer=tokenizer,\n",
    "    data_collator=data_collator,\n",
    "    compute_metrics=compute_metrics,\n",
    ")"
   ]
  },
  {
   "cell_type": "code",
   "execution_count": 34,
   "metadata": {},
   "outputs": [
    {
     "data": {
      "application/vnd.jupyter.widget-view+json": {
       "model_id": "5630a65d48eb4648adf8d72ec14bbcd9",
       "version_major": 2,
       "version_minor": 0
      },
      "text/plain": [
       "  0%|          | 0/1690 [00:00<?, ?it/s]"
      ]
     },
     "metadata": {},
     "output_type": "display_data"
    },
    {
     "name": "stderr",
     "output_type": "stream",
     "text": [
      "You're using a BertTokenizerFast tokenizer. Please note that with a fast tokenizer, using the `__call__` method is faster than using a method to encode the text followed by a call to the `pad` method to get a padded encoding.\n"
     ]
    },
    {
     "data": {
      "application/vnd.jupyter.widget-view+json": {
       "model_id": "775a3d98dc0c41b5949fd43f7289a48e",
       "version_major": 2,
       "version_minor": 0
      },
      "text/plain": [
       "  0%|          | 0/113 [00:00<?, ?it/s]"
      ]
     },
     "metadata": {},
     "output_type": "display_data"
    },
    {
     "name": "stdout",
     "output_type": "stream",
     "text": [
      "{'eval_loss': 0.6858530044555664, 'eval_accuracy': 0.9256588072122053, 'eval_runtime': 29.9899, 'eval_samples_per_second': 120.207, 'eval_steps_per_second': 3.768, 'epoch': 1.0}\n",
      "{'loss': 2.2109, 'learning_rate': 2.8165680473372784e-05, 'epoch': 1.48}\n"
     ]
    },
    {
     "data": {
      "application/vnd.jupyter.widget-view+json": {
       "model_id": "e53e81ec6ec64ac2ba5247f6fabd25e5",
       "version_major": 2,
       "version_minor": 0
      },
      "text/plain": [
       "  0%|          | 0/113 [00:00<?, ?it/s]"
      ]
     },
     "metadata": {},
     "output_type": "display_data"
    },
    {
     "name": "stdout",
     "output_type": "stream",
     "text": [
      "{'eval_loss': 0.16737733781337738, 'eval_accuracy': 0.9703190013869626, 'eval_runtime': 28.2738, 'eval_samples_per_second': 127.503, 'eval_steps_per_second': 3.997, 'epoch': 2.0}\n",
      "{'loss': 0.1388, 'learning_rate': 1.6331360946745562e-05, 'epoch': 2.96}\n"
     ]
    },
    {
     "data": {
      "application/vnd.jupyter.widget-view+json": {
       "model_id": "3739b5cfbfcb4848a0c65ea0f81510ba",
       "version_major": 2,
       "version_minor": 0
      },
      "text/plain": [
       "  0%|          | 0/113 [00:00<?, ?it/s]"
      ]
     },
     "metadata": {},
     "output_type": "display_data"
    },
    {
     "name": "stdout",
     "output_type": "stream",
     "text": [
      "{'eval_loss': 0.1251518875360489, 'eval_accuracy': 0.9725381414701803, 'eval_runtime': 27.9653, 'eval_samples_per_second': 128.91, 'eval_steps_per_second': 4.041, 'epoch': 3.0}\n"
     ]
    },
    {
     "data": {
      "application/vnd.jupyter.widget-view+json": {
       "model_id": "ae2ff4af94a24867921b30e00795b52f",
       "version_major": 2,
       "version_minor": 0
      },
      "text/plain": [
       "  0%|          | 0/113 [00:00<?, ?it/s]"
      ]
     },
     "metadata": {},
     "output_type": "display_data"
    },
    {
     "name": "stdout",
     "output_type": "stream",
     "text": [
      "{'eval_loss': 0.10274676978588104, 'eval_accuracy': 0.9766990291262136, 'eval_runtime': 28.5654, 'eval_samples_per_second': 126.202, 'eval_steps_per_second': 3.956, 'epoch': 4.0}\n",
      "{'loss': 0.0266, 'learning_rate': 4.497041420118343e-06, 'epoch': 4.44}\n"
     ]
    },
    {
     "data": {
      "application/vnd.jupyter.widget-view+json": {
       "model_id": "a9fcfd4e77194241857dcf18db173694",
       "version_major": 2,
       "version_minor": 0
      },
      "text/plain": [
       "  0%|          | 0/113 [00:00<?, ?it/s]"
      ]
     },
     "metadata": {},
     "output_type": "display_data"
    },
    {
     "name": "stdout",
     "output_type": "stream",
     "text": [
      "{'eval_loss': 0.10200528055429459, 'eval_accuracy': 0.9772538141470181, 'eval_runtime': 28.2144, 'eval_samples_per_second': 127.772, 'eval_steps_per_second': 4.005, 'epoch': 5.0}\n",
      "{'train_runtime': 2072.5499, 'train_samples_per_second': 26.091, 'train_steps_per_second': 0.815, 'train_loss': 0.704913727630525, 'epoch': 5.0}\n"
     ]
    },
    {
     "data": {
      "text/plain": [
       "TrainOutput(global_step=1690, training_loss=0.704913727630525, metrics={'train_runtime': 2072.5499, 'train_samples_per_second': 26.091, 'train_steps_per_second': 0.815, 'train_loss': 0.704913727630525, 'epoch': 5.0})"
      ]
     },
     "execution_count": 34,
     "metadata": {},
     "output_type": "execute_result"
    }
   ],
   "source": [
    "trainer.train()"
   ]
  },
  {
   "cell_type": "code",
   "execution_count": 35,
   "metadata": {},
   "outputs": [
    {
     "data": {
      "application/vnd.jupyter.widget-view+json": {
       "model_id": "411892d774954823b96730c3ab2de3e0",
       "version_major": 2,
       "version_minor": 0
      },
      "text/plain": [
       "  0%|          | 0/338 [00:00<?, ?it/s]"
      ]
     },
     "metadata": {},
     "output_type": "display_data"
    },
    {
     "data": {
      "application/vnd.jupyter.widget-view+json": {
       "model_id": "fc535535f86a4a87adf8515e3a9d915f",
       "version_major": 2,
       "version_minor": 0
      },
      "text/plain": [
       "  0%|          | 0/113 [00:00<?, ?it/s]"
      ]
     },
     "metadata": {},
     "output_type": "display_data"
    },
    {
     "data": {
      "application/vnd.jupyter.widget-view+json": {
       "model_id": "1e27f42bde3d4f71900044b0a5590ec1",
       "version_major": 2,
       "version_minor": 0
      },
      "text/plain": [
       "  0%|          | 0/121 [00:00<?, ?it/s]"
      ]
     },
     "metadata": {},
     "output_type": "display_data"
    }
   ],
   "source": [
    "pred_train = trainer.predict(tokenized_datasets[\"train\"])\n",
    "pred_val = trainer.predict(tokenized_datasets[\"validation\"])\n",
    "pred_test = trainer.predict(tokenized_datasets[\"test\"])"
   ]
  },
  {
   "cell_type": "code",
   "execution_count": 36,
   "metadata": {},
   "outputs": [],
   "source": [
    "train_sm = scipy.special.softmax(pred_train.predictions, axis=1)\n",
    "val_sm = scipy.special.softmax(pred_val.predictions, axis=1)\n",
    "test_sm = scipy.special.softmax(pred_test.predictions, axis=1)\n",
    "\n",
    "np.testing.assert_allclose(train_sm.sum(axis=1), 1.0, rtol=1e-6)\n",
    "np.testing.assert_allclose(val_sm.sum(axis=1), 1.0, rtol=1e-6)\n",
    "np.testing.assert_allclose(test_sm.sum(axis=1), 1.0, rtol=1e-6)"
   ]
  },
  {
   "cell_type": "code",
   "execution_count": 37,
   "metadata": {},
   "outputs": [],
   "source": [
    "train_sm_dict = {\n",
    "    f'label_{i}':  train_sm[:,i] for i in range(train_sm.shape[1])\n",
    "}\n",
    "val_sm_dict = {\n",
    "    f'label_{i}':  val_sm[:,i] for i in range(val_sm.shape[1])\n",
    "}\n",
    "test_sm_dict = {\n",
    "    f'label_{i}':  test_sm[:,i] for i in range(test_sm.shape[1])\n",
    "}\n",
    "train_frame = pd.DataFrame(\n",
    "    {\"text\": dataset[\"train\"][\"text\"],\n",
    "     \"hash\": range(len(dataset[\"train\"][\"text\"])),\n",
    "     \"label\": dataset[\"train\"][\"labels\"],\n",
    "     **train_sm_dict\n",
    "    }\n",
    ")\n",
    "val_frame = pd.DataFrame(\n",
    "    {\"text\": dataset[\"validation\"][\"text\"],\n",
    "     \"hash\": range(len(dataset[\"validation\"][\"text\"])),\n",
    "     \"label\": dataset[\"validation\"][\"labels\"],\n",
    "     **val_sm_dict\n",
    "    }\n",
    ")\n",
    "test_frame = pd.DataFrame(\n",
    "    {\"text\": dataset[\"test\"][\"text\"],\n",
    "     \"hash\": range(len(dataset[\"test\"][\"text\"])),\n",
    "     \"label\": dataset[\"test\"][\"labels\"],\n",
    "     **test_sm_dict\n",
    "    }\n",
    ")"
   ]
  },
  {
   "cell_type": "code",
   "execution_count": 38,
   "metadata": {},
   "outputs": [],
   "source": [
    "train_frame.to_csv('data/clinc150/bert/train_predictions.csv', index=False)\n",
    "val_frame.to_csv('data/clinc150/bert/calibration_predictions.csv', index=False)\n",
    "test_frame.to_csv('data/clinc150/bert/test_predictions.csv', index=False)\n",
    "\n",
    "pd.DataFrame({'0': id2label.values()}).to_csv('data/clinc150/bert/labels.csv')"
   ]
  },
  {
   "cell_type": "code",
   "execution_count": 57,
   "metadata": {},
   "outputs": [
    {
     "data": {
      "application/vnd.jupyter.widget-view+json": {
       "model_id": "730e58f3d88b4975a367c4bc53c10391",
       "version_major": 2,
       "version_minor": 0
      },
      "text/plain": [
       "  0%|          | 0/38 [00:00<?, ?it/s]"
      ]
     },
     "metadata": {},
     "output_type": "display_data"
    }
   ],
   "source": [
    "dataset_ood = load_dataset(\"clinc_oos\", \"imbalanced\").rename_column(\"intent\", \"labels\")\n",
    "dataset_ood_full = concatenate_datasets([dataset_ood[\"train\"], dataset_ood[\"test\"], dataset_ood['validation']]).shuffle(seed=42)\n",
    "# dataset_ood = dataset_ood_full.filter(lambda x: x.labels == 'oos')\n",
    "dataset_ood_full = dataset_ood_full.filter(lambda x: x['labels'] == label2id['oos'])\n",
    "dataset_ood_full['text']\n",
    "\n",
    "tokenized_ood = dataset_ood_full.map(tokenize_function, batched=True)\n",
    "\n",
    "pred_ood = trainer.predict(tokenized_ood)\n",
    "ood_sm = scipy.special.softmax(pred_ood.predictions, axis=1)\n",
    "ood_sm_dict = {\n",
    "    f'label_{i}':  ood_sm[:,i] for i in range(ood_sm.shape[1])\n",
    "}\n",
    "ood_frame = pd.DataFrame(\n",
    "    {\"text\": dataset_ood_full[\"text\"],\n",
    "     \"hash\": range(len(dataset_ood_full[\"text\"])),\n",
    "     \"label\": dataset_ood_full[\"labels\"],\n",
    "     **ood_sm_dict\n",
    "    }\n",
    ")\n",
    "ood_frame.to_csv('data/clinc150/bert/ood_predictions.csv', index=False)\n"
   ]
  },
  {
   "cell_type": "code",
   "execution_count": null,
   "metadata": {},
   "outputs": [],
   "source": []
  }
 ],
 "metadata": {
  "kernelspec": {
   "display_name": "cicc",
   "language": "python",
   "name": "python3"
  },
  "language_info": {
   "codemirror_mode": {
    "name": "ipython",
    "version": 3
   },
   "file_extension": ".py",
   "mimetype": "text/x-python",
   "name": "python",
   "nbconvert_exporter": "python",
   "pygments_lexer": "ipython3",
   "version": "3.12.0"
  },
  "orig_nbformat": 4
 },
 "nbformat": 4,
 "nbformat_minor": 2
}

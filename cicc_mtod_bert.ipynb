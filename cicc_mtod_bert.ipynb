{
 "cells": [
  {
   "cell_type": "code",
   "execution_count": 21,
   "id": "ddb87912-eef5-4e35-9ab7-b070caf1eb64",
   "metadata": {
    "tags": []
   },
   "outputs": [],
   "source": [
    "import math\n",
    "import numpy as np\n",
    "import pandas as pd\n",
    "from mapie.classification import MapieClassifier\n",
    "from mapie.metrics import classification_coverage_score, classification_mean_width_score\n",
    "import matplotlib.pyplot as plt\n",
    "import json\n",
    "\n",
    "from src.model import MockModel\n",
    "from src.utils import index_for_arange, write_results, cq_labels, cq_filter\n",
    "import src.plot as plot\n",
    "from src.eval import (\n",
    "    adjusted_classification_x_width_score,\n",
    "    size_stratified_classification_coverage_score,\n",
    "    cq_stats,\n",
    "    set_size_equals,\n",
    ")\n",
    "from src.heuristics import TopKSelector, HeuristicCutoffSelector, TopKCutoffSelector"
   ]
  },
  {
   "cell_type": "code",
   "execution_count": 22,
   "id": "8ab6a230-0e0d-422d-876b-0d85b4cb074a",
   "metadata": {
    "tags": []
   },
   "outputs": [
    {
     "data": {
      "text/plain": [
       "12"
      ]
     },
     "execution_count": 22,
     "metadata": {},
     "output_type": "execute_result"
    }
   ],
   "source": [
    "# load data\n",
    "dataset = 'mtod'\n",
    "intent_classifier = 'bert'\n",
    "data_dir = f'data/{dataset}/{intent_classifier}/'\n",
    "\n",
    "df_train_preds = pd.read_csv(data_dir + \"train_predictions.csv\")\n",
    "df_test_preds = pd.read_csv(data_dir + \"test_predictions.csv\")\n",
    "df_calibration_preds = pd.read_csv(data_dir + \"calibration_predictions.csv\")\n",
    "\n",
    "labels = pd.read_csv(data_dir+'/labels.csv', header=0, names=['index','label'])\n",
    "labels = list(labels.label.fillna('oos'))\n",
    "N_INTENTS = len(labels)\n",
    "N_INTENTS"
   ]
  },
  {
   "cell_type": "code",
   "execution_count": 23,
   "id": "894d9cd0-64d3-425d-889a-dcd0055be9d7",
   "metadata": {
    "tags": []
   },
   "outputs": [
    {
     "data": {
      "text/plain": [
       "(25993, 8665, 8665)"
      ]
     },
     "execution_count": 23,
     "metadata": {},
     "output_type": "execute_result"
    }
   ],
   "source": [
    "# check train-calibration-test split sizes\n",
    "df_train_preds.shape[0], df_calibration_preds.shape[0], df_test_preds.shape[0]"
   ]
  },
  {
   "cell_type": "code",
   "execution_count": 24,
   "id": "84a844f0-da86-4e9f-94d6-e603194a6cd5",
   "metadata": {
    "tags": []
   },
   "outputs": [],
   "source": [
    "# apply some basic transformations\n",
    "df_train = df_train_preds.reset_index().rename(columns={'index': 'utterance'})\n",
    "df_test = df_test_preds.reset_index().rename(columns={'index': 'utterance'})\n",
    "df_calibration = df_calibration_preds.reset_index().rename(columns={'index': 'utterance'})\n",
    "\n",
    "df_train['utterance'] = df_train['utterance'].apply(lambda h: 'train_' + str(h))\n",
    "df_test['utterance'] = df_test['utterance'].apply(lambda h: 'test_' + str(h))\n",
    "df_calibration['utterance'] = df_calibration['utterance'].apply(lambda h: 'cal_' + str(h))\n",
    "\n",
    "df_train['utterance'] = df_train['utterance'].astype(str)\n",
    "df_test['utterance'] = df_test['utterance'].astype(str)\n",
    "df_calibration['utterance'] = df_calibration['utterance'].astype(str)"
   ]
  },
  {
   "cell_type": "code",
   "execution_count": 25,
   "id": "a1dd2945-3fb7-4ca7-9325-397719061827",
   "metadata": {
    "tags": []
   },
   "outputs": [
    {
     "data": {
      "text/html": [
       "<div>\n",
       "<style scoped>\n",
       "    .dataframe tbody tr th:only-of-type {\n",
       "        vertical-align: middle;\n",
       "    }\n",
       "\n",
       "    .dataframe tbody tr th {\n",
       "        vertical-align: top;\n",
       "    }\n",
       "\n",
       "    .dataframe thead th {\n",
       "        text-align: right;\n",
       "    }\n",
       "</style>\n",
       "<table border=\"1\" class=\"dataframe\">\n",
       "  <thead>\n",
       "    <tr style=\"text-align: right;\">\n",
       "      <th></th>\n",
       "      <th>utterance</th>\n",
       "      <th>label_0</th>\n",
       "      <th>label_1</th>\n",
       "      <th>label_2</th>\n",
       "      <th>label_3</th>\n",
       "      <th>label_4</th>\n",
       "      <th>label_5</th>\n",
       "      <th>label_6</th>\n",
       "      <th>label_7</th>\n",
       "      <th>label_8</th>\n",
       "      <th>label_9</th>\n",
       "      <th>label_10</th>\n",
       "      <th>label_11</th>\n",
       "    </tr>\n",
       "  </thead>\n",
       "  <tbody>\n",
       "    <tr>\n",
       "      <th>0</th>\n",
       "      <td>train_0</td>\n",
       "      <td>0.999007</td>\n",
       "      <td>0.000289</td>\n",
       "      <td>0.000035</td>\n",
       "      <td>0.000042</td>\n",
       "      <td>0.000010</td>\n",
       "      <td>0.000325</td>\n",
       "      <td>1.254541e-04</td>\n",
       "      <td>0.000019</td>\n",
       "      <td>0.000030</td>\n",
       "      <td>0.000019</td>\n",
       "      <td>0.000043</td>\n",
       "      <td>0.000055</td>\n",
       "    </tr>\n",
       "    <tr>\n",
       "      <th>1</th>\n",
       "      <td>train_1</td>\n",
       "      <td>0.000047</td>\n",
       "      <td>0.000003</td>\n",
       "      <td>0.000007</td>\n",
       "      <td>0.000011</td>\n",
       "      <td>0.000005</td>\n",
       "      <td>0.000099</td>\n",
       "      <td>9.997572e-01</td>\n",
       "      <td>0.000010</td>\n",
       "      <td>0.000019</td>\n",
       "      <td>0.000004</td>\n",
       "      <td>0.000033</td>\n",
       "      <td>0.000004</td>\n",
       "    </tr>\n",
       "    <tr>\n",
       "      <th>2</th>\n",
       "      <td>train_2</td>\n",
       "      <td>0.999133</td>\n",
       "      <td>0.000239</td>\n",
       "      <td>0.000034</td>\n",
       "      <td>0.000037</td>\n",
       "      <td>0.000011</td>\n",
       "      <td>0.000287</td>\n",
       "      <td>1.204069e-04</td>\n",
       "      <td>0.000021</td>\n",
       "      <td>0.000022</td>\n",
       "      <td>0.000020</td>\n",
       "      <td>0.000043</td>\n",
       "      <td>0.000033</td>\n",
       "    </tr>\n",
       "    <tr>\n",
       "      <th>3</th>\n",
       "      <td>train_3</td>\n",
       "      <td>0.000028</td>\n",
       "      <td>0.000003</td>\n",
       "      <td>0.000007</td>\n",
       "      <td>0.000012</td>\n",
       "      <td>0.000004</td>\n",
       "      <td>0.000061</td>\n",
       "      <td>9.998246e-01</td>\n",
       "      <td>0.000013</td>\n",
       "      <td>0.000020</td>\n",
       "      <td>0.000004</td>\n",
       "      <td>0.000020</td>\n",
       "      <td>0.000004</td>\n",
       "    </tr>\n",
       "    <tr>\n",
       "      <th>4</th>\n",
       "      <td>train_4</td>\n",
       "      <td>0.000002</td>\n",
       "      <td>0.000002</td>\n",
       "      <td>0.000002</td>\n",
       "      <td>0.000009</td>\n",
       "      <td>0.999970</td>\n",
       "      <td>0.000002</td>\n",
       "      <td>9.835709e-07</td>\n",
       "      <td>0.000003</td>\n",
       "      <td>0.000003</td>\n",
       "      <td>0.000003</td>\n",
       "      <td>0.000002</td>\n",
       "      <td>0.000001</td>\n",
       "    </tr>\n",
       "  </tbody>\n",
       "</table>\n",
       "</div>"
      ],
      "text/plain": [
       "  utterance   label_0   label_1   label_2   label_3   label_4   label_5  \\\n",
       "0   train_0  0.999007  0.000289  0.000035  0.000042  0.000010  0.000325   \n",
       "1   train_1  0.000047  0.000003  0.000007  0.000011  0.000005  0.000099   \n",
       "2   train_2  0.999133  0.000239  0.000034  0.000037  0.000011  0.000287   \n",
       "3   train_3  0.000028  0.000003  0.000007  0.000012  0.000004  0.000061   \n",
       "4   train_4  0.000002  0.000002  0.000002  0.000009  0.999970  0.000002   \n",
       "\n",
       "        label_6   label_7   label_8   label_9  label_10  label_11  \n",
       "0  1.254541e-04  0.000019  0.000030  0.000019  0.000043  0.000055  \n",
       "1  9.997572e-01  0.000010  0.000019  0.000004  0.000033  0.000004  \n",
       "2  1.204069e-04  0.000021  0.000022  0.000020  0.000043  0.000033  \n",
       "3  9.998246e-01  0.000013  0.000020  0.000004  0.000020  0.000004  \n",
       "4  9.835709e-07  0.000003  0.000003  0.000003  0.000002  0.000001  "
      ]
     },
     "execution_count": 25,
     "metadata": {},
     "output_type": "execute_result"
    }
   ],
   "source": [
    "# merge datasets to single frame\n",
    "fullset = pd.concat([df_train, df_test, df_calibration], ignore_index=True)\n",
    "assert fullset.utterance.value_counts().max() == 1, \"Hashes/utterances should be unique in full set\"\n",
    "fullset = fullset.drop(['label', 'hash', 'text'], axis=1)\n",
    "fullset.head()"
   ]
  },
  {
   "cell_type": "code",
   "execution_count": 26,
   "id": "5e9b56da-47f0-47a0-813f-2635fa283889",
   "metadata": {
    "tags": []
   },
   "outputs": [],
   "source": [
    "# parameters for evaluation\n",
    "X_train = fullset[['utterance']]\n",
    "X_calib = df_calibration[['utterance']]\n",
    "X_test = df_test[['utterance']]\n",
    "\n",
    "a_start = 0.01\n",
    "a_stop = .4\n",
    "a_step = 0.01\n",
    "alpha = np.arange(a_start, a_stop, a_step)\n",
    "\n",
    "max_ps_size = math.ceil(N_INTENTS * .25)\n",
    "max_ps_size = 7\n",
    "\n",
    "target_alpha = .01\n",
    "target_index = index_for_arange(a_start, a_step ,target_alpha)"
   ]
  },
  {
   "cell_type": "code",
   "execution_count": 27,
   "id": "7d4c5bc0-fe51-4dfd-aab0-888fd479a40b",
   "metadata": {
    "tags": []
   },
   "outputs": [],
   "source": [
    "# instantiate a mock sklearn model which simply looks up the results in a lookup table\n",
    "model = MockModel(fullset, 'utterance', softmax=False, classes=list(range(N_INTENTS)))\n",
    "# fit the test dataset\n",
    "model.fit(X_test, df_test['label'])\n",
    "# extract the test targets from the datasets\n",
    "y_test = df_test['label'].apply(lambda lbl: list(model.classes_).index(lbl))"
   ]
  },
  {
   "cell_type": "code",
   "execution_count": 28,
   "id": "b8049857",
   "metadata": {},
   "outputs": [
    {
     "data": {
      "text/plain": [
       "(0, 11)"
      ]
     },
     "execution_count": 28,
     "metadata": {},
     "output_type": "execute_result"
    }
   ],
   "source": [
    "y_test.min(), y_test.max()"
   ]
  },
  {
   "cell_type": "code",
   "execution_count": 29,
   "id": "2dacf640-6c20-4f5d-82e9-f694a7fc763d",
   "metadata": {
    "tags": []
   },
   "outputs": [
    {
     "name": "stderr",
     "output_type": "stream",
     "text": [
      "/Users/floris/Documents/archive/publications/cicc/cicc/src/eval.py:101: UserWarning: Warning: converting a masked element to nan.\n",
      "  return float(agg_width)\n",
      "/Users/floris/Documents/archive/publications/cicc/cicc/src/eval.py:101: UserWarning: Warning: converting a masked element to nan.\n",
      "  return float(agg_width)\n"
     ]
    },
    {
     "data": {
      "text/plain": [
       "(0.9921523369878823, 0.9998845931909983, nan, 0.0)"
      ]
     },
     "execution_count": 29,
     "metadata": {},
     "output_type": "execute_result"
    }
   ],
   "source": [
    "# marginal conformal prediction\n",
    "mapie_marginal = MapieClassifier(estimator=model, cv=\"prefit\", method=\"score\", random_state=42)\n",
    "mapie_marginal.fit(X_calib, df_calibration['label'])\n",
    "y_pred_marginal, y_ps_marginal = mapie_marginal.predict(X_test, alpha=alpha)\n",
    "\n",
    "\n",
    "coverages_marginal = [\n",
    "    classification_coverage_score(y_test, y_ps_marginal[:, :, i])\n",
    "    for i, _ in enumerate(alpha)\n",
    "]\n",
    "cqsize_marginal = [\n",
    "    adjusted_classification_x_width_score(y_ps_marginal[:, :, i], np.mean,max_ps_size)\n",
    "    for i, _ in enumerate(alpha)\n",
    "]\n",
    "single_marginal = [\n",
    "    set_size_equals(y_ps_marginal[:,:,i], 1)\n",
    "    for i, _ in enumerate(alpha)\n",
    "]\n",
    "ambiguous_marginal = [\n",
    "    (y_ps_marginal[:, :, i].sum(axis=1) >= max_ps_size).mean()\n",
    "    for i, _ in enumerate(alpha)\n",
    "]\n",
    "ssc_marginal = [\n",
    "    size_stratified_classification_coverage_score(y_test, y_ps_marginal[:, :, i])\n",
    "    for i, _ in enumerate(alpha)\n",
    "]\n",
    "\n",
    "results = cq_stats(y_ps_marginal[:, :, target_index], y_test, max_ps_size)\n",
    "write_results('mtod-bert-cicc', dataset, intent_classifier, 'cicc', results)\n",
    "results"
   ]
  },
  {
   "cell_type": "code",
   "execution_count": 30,
   "id": "22e7584f-d77c-4fe6-a47d-36d2bad9e77c",
   "metadata": {
    "tags": []
   },
   "outputs": [
    {
     "data": {
      "text/plain": [
       "(0.9966532025389498, 0.9773802654356607, 2.357142857142857, 0.0)"
      ]
     },
     "execution_count": 30,
     "metadata": {},
     "output_type": "execute_result"
    }
   ],
   "source": [
    "# adaptive conformal prediction\n",
    "mapie_adaptive = MapieClassifier(estimator=model, cv=\"prefit\", method=\"cumulated_score\", random_state=42)\n",
    "mapie_adaptive.fit(X_calib, df_calibration['label'])\n",
    "y_pred_adaptive, y_ps_adaptive = mapie_adaptive.predict(X_test, alpha=alpha)\n",
    "\n",
    "\n",
    "coverages_adaptive = [\n",
    "    classification_coverage_score(y_test, y_ps_adaptive[:, :, i])\n",
    "    for i, _ in enumerate(alpha)\n",
    "]\n",
    "cqsize_adaptive = [\n",
    "    adjusted_classification_x_width_score(y_ps_adaptive[:, :, i], np.mean,max_ps_size)\n",
    "    for i, _ in enumerate(alpha)\n",
    "]\n",
    "single_adaptive = [\n",
    "    set_size_equals(y_ps_adaptive[:,:,i], 1)\n",
    "    for i, _ in enumerate(alpha)\n",
    "]\n",
    "ambiguous_adaptive = [\n",
    "    (y_ps_adaptive[:, :, i].sum(axis=1) >= max_ps_size).mean()\n",
    "    for i, _ in enumerate(alpha)\n",
    "]\n",
    "ssc_adaptive = [\n",
    "    size_stratified_classification_coverage_score(y_test, y_ps_adaptive[:, :, i])\n",
    "    for i, _ in enumerate(alpha)\n",
    "]\n",
    "\n",
    "cq_stats(y_ps_adaptive[:, :, target_index], y_test, max_ps_size)"
   ]
  },
  {
   "cell_type": "code",
   "execution_count": 31,
   "id": "b5878c79-c2cb-4d63-a9cd-16961219311c",
   "metadata": {
    "tags": []
   },
   "outputs": [
    {
     "name": "stderr",
     "output_type": "stream",
     "text": [
      "/Users/floris/Documents/archive/publications/cicc/cicc/src/eval.py:101: UserWarning: Warning: converting a masked element to nan.\n",
      "  return float(agg_width)\n",
      "/Users/floris/Documents/archive/publications/cicc/cicc/src/eval.py:101: UserWarning: Warning: converting a masked element to nan.\n",
      "  return float(agg_width)\n"
     ]
    },
    {
     "data": {
      "text/plain": [
       "(0.9921523369878823, 1.0, nan, 0.0)"
      ]
     },
     "execution_count": 31,
     "metadata": {},
     "output_type": "execute_result"
    }
   ],
   "source": [
    "# TOP-K conformal prediction\n",
    "mapie_topk = MapieClassifier(estimator=model, cv=\"prefit\", method=\"top_k\", random_state=42)\n",
    "mapie_topk.fit(X_calib, df_calibration['label'])\n",
    "y_pred_topk, y_ps_topk = mapie_topk.predict(X_test, alpha=alpha)\n",
    "\n",
    "\n",
    "coverages_topk = [\n",
    "    classification_coverage_score(y_test, y_ps_topk[:, :, i])\n",
    "    for i, _ in enumerate(alpha)\n",
    "]\n",
    "cqsize_topk = [\n",
    "    adjusted_classification_x_width_score(y_ps_topk[:, :, i], np.mean,max_ps_size)\n",
    "    for i, _ in enumerate(alpha)\n",
    "]\n",
    "single_topk = [\n",
    "    set_size_equals(y_ps_topk[:,:,i], 1)\n",
    "    for i, _ in enumerate(alpha)\n",
    "]\n",
    "ambiguous_topk = [\n",
    "    (y_ps_topk[:, :, i].sum(axis=1) >= max_ps_size).mean()\n",
    "    for i, _ in enumerate(alpha)\n",
    "]\n",
    "ssc_topk = [\n",
    "    size_stratified_classification_coverage_score(y_test, y_ps_topk[:, :, i])\n",
    "    for i, _ in enumerate(alpha)\n",
    "]\n",
    "\n",
    "cq_stats(y_ps_topk[:, :, target_index], y_test, max_ps_size)"
   ]
  },
  {
   "cell_type": "code",
   "execution_count": 32,
   "id": "802ced47-cf35-4648-9dab-49bc0daabe82",
   "metadata": {
    "tags": []
   },
   "outputs": [
    {
     "data": {
      "text/plain": [
       "(0.9971148297749567, 0.9564916330063473, 2.0, 0.0)"
      ]
     },
     "execution_count": 32,
     "metadata": {},
     "output_type": "execute_result"
    }
   ],
   "source": [
    "# RAPS\n",
    "mapie_raps = MapieClassifier(estimator=model, cv=\"prefit\", method=\"raps\")\n",
    "mapie_raps.fit(X_calib, df_calibration['label'])\n",
    "y_pred_raps, y_ps_raps = mapie_raps.predict(X_test, alpha=alpha)\n",
    "\n",
    "\n",
    "coverages_raps = [\n",
    "    classification_coverage_score(y_test, y_ps_raps[:, :, i])\n",
    "    for i, _ in enumerate(alpha)\n",
    "]\n",
    "cqsize_raps = [\n",
    "    adjusted_classification_x_width_score(y_ps_raps[:, :, i], np.mean,max_ps_size)\n",
    "    for i, _ in enumerate(alpha)\n",
    "]\n",
    "single_raps = [\n",
    "    set_size_equals(y_ps_raps[:,:,i], 1)\n",
    "    for i, _ in enumerate(alpha)\n",
    "]\n",
    "ambiguous_raps = [\n",
    "    (y_ps_raps[:, :, i].sum(axis=1) >= max_ps_size).mean()\n",
    "    for i, _ in enumerate(alpha)\n",
    "]\n",
    "ssc_raps = [\n",
    "    size_stratified_classification_coverage_score(y_test, y_ps_raps[:, :, i])\n",
    "    for i, _ in enumerate(alpha)\n",
    "]\n",
    "\n",
    "cq_stats(y_ps_raps[:, :, target_index], y_test, max_ps_size)"
   ]
  },
  {
   "cell_type": "code",
   "execution_count": 33,
   "id": "bdc5c834",
   "metadata": {},
   "outputs": [
    {
     "data": {
      "text/plain": [
       "(0.9966532025389498, 0.9817657241777265, 5.0, 0.0)"
      ]
     },
     "execution_count": 33,
     "metadata": {},
     "output_type": "execute_result"
    }
   ],
   "source": [
    "# heuristic 1: select all classes above a certain cutoff or the top-5 if there are none\n",
    "topk_cutoff = TopKCutoffSelector(estimator=model, cutoff=1-target_alpha, k=5)\n",
    "y_ps_h1 = topk_cutoff.predict(X_test)\n",
    "results_h1 = cq_stats(y_ps_h1, y_test, max_ps_size)\n",
    "write_results('mtod-bert-h1', dataset, intent_classifier, 'h1', results_h1)\n",
    "results_h1"
   ]
  },
  {
   "cell_type": "code",
   "execution_count": 34,
   "id": "0cfd2cbd",
   "metadata": {},
   "outputs": [
    {
     "name": "stderr",
     "output_type": "stream",
     "text": [
      "/Users/floris/Documents/archive/publications/cicc/cicc/src/eval.py:101: UserWarning: Warning: converting a masked element to nan.\n",
      "  return float(agg_width)\n"
     ]
    },
    {
     "data": {
      "text/plain": [
       "(0.9921523369878823, 1.0, nan, 0.0)"
      ]
     },
     "execution_count": 34,
     "metadata": {},
     "output_type": "execute_result"
    }
   ],
   "source": [
    "top_95 = HeuristicCutoffSelector(estimator=model, cutoff=1-target_alpha)\n",
    "y_ps_h2 = top_95.predict(X_test)\n",
    "results_h2 = cq_stats(y_ps_h2, y_test, max_ps_size)\n",
    "write_results('mtod-bert-h2', dataset, intent_classifier, 'h2', results_h2)\n",
    "results_h2"
   ]
  },
  {
   "cell_type": "code",
   "execution_count": 35,
   "id": "630f3659-2e17-4058-a407-9dba6b9fae52",
   "metadata": {
    "tags": []
   },
   "outputs": [
    {
     "data": {
      "text/plain": [
       "(0.9997691863819965, 0.0, 5.0, 0.0)"
      ]
     },
     "execution_count": 35,
     "metadata": {},
     "output_type": "execute_result"
    }
   ],
   "source": [
    "topk_5 = TopKSelector(estimator=model, k=5)\n",
    "y_ps_h3 = topk_5.predict(X_test)\n",
    "\n",
    "results_h3 = cq_stats(y_ps_h3, y_test, max_ps_size)\n",
    "write_results('mtod-bert-h3', dataset, intent_classifier, 'h3', results_h3)\n",
    "results_h3"
   ]
  },
  {
   "cell_type": "code",
   "execution_count": 36,
   "id": "cf84eaa7-7195-42d2-9803-4fc903b380db",
   "metadata": {
    "tags": []
   },
   "outputs": [
    {
     "data": {
      "image/png": "[encoded data removed]",
      "text/plain": [
       "<Figure size 303.149x224.828 with 1 Axes>"
      ]
     },
     "metadata": {},
     "output_type": "display_data"
    }
   ],
   "source": [
    "to_plot = [\n",
    "    (y_ps_marginal, 'marginal', '-', None),\n",
    "    (y_ps_adaptive, 'adaptive', '--', None),\n",
    "    (y_ps_raps, 'RAPS', '-.', None),\n",
    "    # (y_ps_topkmapie, 'TOPK', ':', None),\n",
    "    # (y_ps_top_5_95, 'heuristic a', 'dashed', 'black'),\n",
    "    # (y_ps_top_95,  'heuristic b', 'dotted', 'black'),\n",
    "    # (y_ps_topk_5,  'heuristic c', '-.', 'black'),\n",
    "]\n",
    "fig, ax = plt.subplots(1, 1, figsize=plot.fig_dim_1)\n",
    "for (resultset, label, style, color) in to_plot:\n",
    "    if len(label) > len('heuristic') and label[:len('heuristic')] == 'heuristic':\n",
    "        to_plot_result = resultset\n",
    "    else:\n",
    "        to_plot_result = resultset[:, :, target_index]\n",
    "    ax.plot(\n",
    "        np.cumsum([set_size_equals(to_plot_result, i) for i in range(78)]),\n",
    "        label=label,\n",
    "        linestyle=style,\n",
    "        color=color,\n",
    "        linewidth=3,\n",
    "        alpha=.8)\n",
    "    # ax.set_xscale('log')\n",
    "plt.xlabel('Set size <')\n",
    "plt.ylabel('# samples')\n",
    "plt.title(f'{dataset} {intent_classifier}'.format(target_alpha))\n",
    "plt.legend(handlelength=3.5)\n",
    "plt.tight_layout()\n",
    "plt.savefig(f'results/cum_set_size_{dataset}_{intent_classifier}.png', dpi=1200)"
   ]
  },
  {
   "cell_type": "code",
   "execution_count": 37,
   "id": "8b7d01bf-b41d-4bbb-b121-44c17cb0a631",
   "metadata": {
    "tags": []
   },
   "outputs": [
    {
     "data": {
      "text/plain": [
       "0"
      ]
     },
     "execution_count": 37,
     "metadata": {},
     "output_type": "execute_result"
    }
   ],
   "source": [
    "y_ps_which = y_ps_marginal\n",
    "ambiguous_indices = np.where((y_ps_which[:, :, target_index].sum(axis=1) >= 2))\n",
    "ambiguous = df_test.loc[ambiguous_indices]\n",
    "len(list(zip(ambiguous.index,[ labels[l] for l in ambiguous.label.tolist()], ambiguous.text.tolist())))"
   ]
  },
  {
   "cell_type": "code",
   "execution_count": 38,
   "id": "fb5e7c35-7990-4491-aa61-016575b8f9fb",
   "metadata": {
    "tags": []
   },
   "outputs": [],
   "source": [
    "for a in ambiguous.index:\n",
    "    alternatives = np.where(y_ps_which[a, :, target_index])[0]\n",
    "    print(\" & \".join([ambiguous.loc[a].text, labels[ambiguous.loc[a].label].replace(\"_\", \" \"), ', '.join([labels[l].replace(\"_\", \" \") for l in alternatives])]) + \" \\\\\\\\\")"
   ]
  },
  {
   "cell_type": "code",
   "execution_count": 39,
   "id": "b9b26fca-9da4-49f2-b15a-020dfa5623d8",
   "metadata": {
    "tags": []
   },
   "outputs": [
    {
     "data": {
      "image/png": "[encoded data removed]",
      "text/plain": [
       "<Figure size 606.299x200 with 3 Axes>"
      ]
     },
     "metadata": {},
     "output_type": "display_data"
    }
   ],
   "source": [
    "label_sorting_map = {i: x for x, i in enumerate(df_train.label.value_counts(sort=True).index)}\n",
    "for i in range(len(labels)):\n",
    "    if i not in label_sorting_map:\n",
    "        label_sorting_map[i] = len(label_sorting_map)\n",
    "fig, axs = plt.subplots(1,3,figsize=(plot.fig_width_in * 2, 2), sharey=True)\n",
    "pd.Series(list(map(lambda x: label_sorting_map[x], df_train.label, ))).hist(bins=N_INTENTS, ax=axs[0])\n",
    "pd.Series(list(map(lambda x: label_sorting_map[x], df_calibration.label, ))).hist(bins=N_INTENTS, ax=axs[1])\n",
    "pd.Series(list(map(lambda x: label_sorting_map[x], df_test.label, ))).hist(bins=N_INTENTS, ax=axs[2])\n",
    "titles = ['Train set', 'Calibration set', 'Test set']\n",
    "[ax.set_xlabel('intent') for ax in axs]\n",
    "[ax.set_title(title) for (ax, title) in zip(axs, titles)]\n",
    "axs[0].set_ylabel('Occurrence')\n",
    "# plt.yticks([]) \n",
    "plt.savefig(f\"results/label_distribution_{dataset}.png\", dpi=1200)\n",
    "plt.show()"
   ]
  },
  {
   "cell_type": "code",
   "execution_count": 40,
   "id": "192f4489",
   "metadata": {},
   "outputs": [],
   "source": [
    "cq_inputs = df_test[cq_filter(y_ps_marginal[:, :, target_index], max_ps_size)].text\n",
    "cq_lbls = cq_labels(y_ps_marginal[:, :, target_index], max_ps_size, labels)\n",
    "\n",
    "cqs = []\n",
    "for i, (text, lbls) in enumerate(zip(cq_inputs, cq_lbls)):\n",
    "    cqs.append({\n",
    "        \"id\": i,\n",
    "        \"text\": text,\n",
    "        \"predictions\": lbls,\n",
    "    })\n",
    "\n",
    "with open(f'results/clarification_questions_{dataset}_{intent_classifier}.json', 'w') as f:\n",
    "    json.dump(cqs, f, indent=4)"
   ]
  },
  {
   "cell_type": "code",
   "execution_count": 61,
   "id": "30bd003a",
   "metadata": {},
   "outputs": [],
   "source": [
    "pd.Series(np.cumsum([set_size_equals(y_ps_marginal[:, :, target_index], i) for i in range(N_INTENTS+1)])).to_csv(f'results/cum_{dataset}_{intent_classifier}.csv')"
   ]
  },
  {
   "cell_type": "code",
   "execution_count": null,
   "id": "0329cca6",
   "metadata": {},
   "outputs": [],
   "source": []
  },
  {
   "cell_type": "code",
   "execution_count": 76,
   "id": "a05300fa",
   "metadata": {},
   "outputs": [
    {
     "name": "stdout",
     "output_type": "stream",
     "text": [
      "     ps_size  clinc150_bert\n",
      "0          0       0.000000\n",
      "1          1       0.966436\n",
      "2          2       0.988072\n",
      "3          3       0.994175\n",
      "4          4       0.996117\n",
      "..       ...            ...\n",
      "147      147       1.000000\n",
      "148      148       1.000000\n",
      "149      149       1.000000\n",
      "150      150       1.000000\n",
      "151      151       1.000000\n",
      "\n",
      "[152 rows x 2 columns]\n",
      "     ps_size  clinc150_bert_ood\n",
      "0          0           0.000000\n",
      "1          1           0.708889\n",
      "2          2           0.767222\n",
      "3          3           0.813333\n",
      "4          4           0.848333\n",
      "..       ...                ...\n",
      "147      147           1.000000\n",
      "148      148           1.000000\n",
      "149      149           1.000000\n",
      "150      150           1.000000\n",
      "151      151           1.000000\n",
      "\n",
      "[152 rows x 2 columns]\n"
     ]
    },
    {
     "data": {
      "image/png": "[encoded data removed]",
      "text/plain": [
       "<Figure size 640x480 with 1 Axes>"
      ]
     },
     "metadata": {},
     "output_type": "display_data"
    }
   ],
   "source": [
    "cumulative_size_files = [\n",
    "    # 'acid_bert',\n",
    "    # 'atis_bert',\n",
    "    # 'banking77_dfcx',\n",
    "    # 'banking77_bert',\n",
    "    'clinc150_bert',\n",
    "    'clinc150_bert_ood',\n",
    "    # 'hwu64_bert',\n",
    "    # 'mtod_bert',\n",
    "\n",
    "]\n",
    "cumulated_scores = pd.DataFrame()\n",
    "results = []\n",
    "for f in cumulative_size_files:\n",
    "    result = pd.read_csv(f\"results/cum_{f}.csv\", names=['ps_size', f], header=0)\n",
    "    # result['ps_size'] = result['ps_size'] / result['ps_size'].max()\n",
    "    result[f] = result[f] / result[f].max()\n",
    "    plt.plot(result['ps_size'], result[f], label=f)\n",
    "    print(result)\n",
    "plt.xlim((0,12))\n",
    "plt.legend()\n",
    "plt.show()\n"
   ]
  },
  {
   "cell_type": "code",
   "execution_count": null,
   "id": "b4070343",
   "metadata": {},
   "outputs": [],
   "source": []
  }
 ],
 "metadata": {
  "kernelspec": {
   "display_name": "Python 3 (ipykernel)",
   "language": "python",
   "name": "python3"
  },
  "language_info": {
   "codemirror_mode": {
    "name": "ipython",
    "version": 3
   },
   "file_extension": ".py",
   "mimetype": "text/x-python",
   "name": "python",
   "nbconvert_exporter": "python",
   "pygments_lexer": "ipython3",
   "version": "3.12.0"
  }
 },
 "nbformat": 4,
 "nbformat_minor": 5
}

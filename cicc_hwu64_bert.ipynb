{
 "cells": [
  {
   "cell_type": "code",
   "execution_count": 2,
   "id": "ddb87912-eef5-4e35-9ab7-b070caf1eb64",
   "metadata": {
    "tags": []
   },
   "outputs": [],
   "source": [
    "import math\n",
    "import numpy as np\n",
    "import pandas as pd\n",
    "from mapie.classification import MapieClassifier\n",
    "from mapie.metrics import classification_coverage_score, classification_mean_width_score\n",
    "import matplotlib.pyplot as plt\n",
    "import json\n",
    "\n",
    "from src.model import MockModel\n",
    "from src.utils import index_for_arange, write_results, cq_filter, cq_labels\n",
    "import src.plot as plot\n",
    "from src.eval import (\n",
    "    adjusted_classification_x_width_score,\n",
    "    size_stratified_classification_coverage_score,\n",
    "    cq_stats,\n",
    "    set_size_equals,\n",
    ")\n",
    "from src.heuristics import TopKSelector, HeuristicCutoffSelector, TopKCutoffSelector"
   ]
  },
  {
   "cell_type": "code",
   "execution_count": 3,
   "id": "8ab6a230-0e0d-422d-876b-0d85b4cb074a",
   "metadata": {
    "tags": []
   },
   "outputs": [
    {
     "data": {
      "text/plain": [
       "68"
      ]
     },
     "execution_count": 3,
     "metadata": {},
     "output_type": "execute_result"
    }
   ],
   "source": [
    "# load data\n",
    "dataset = 'hwu64'\n",
    "intent_classifier = 'bert'\n",
    "data_dir = f'data/{dataset}/{intent_classifier}/'\n",
    "\n",
    "df_train_preds = pd.read_csv(data_dir + \"train_predictions.csv\")\n",
    "df_test_preds = pd.read_csv(data_dir + \"test_predictions.csv\")\n",
    "df_calibration_preds = pd.read_csv(data_dir + \"calibration_predictions.csv\")\n",
    "\n",
    "labels = pd.read_csv(data_dir+'/labels.csv', header=0, names=['index','label'])\n",
    "labels = list(labels.label)\n",
    "N_INTENTS = len(labels)\n",
    "N_INTENTS"
   ]
  },
  {
   "cell_type": "code",
   "execution_count": 4,
   "id": "894d9cd0-64d3-425d-889a-dcd0055be9d7",
   "metadata": {
    "tags": []
   },
   "outputs": [
    {
     "data": {
      "text/plain": [
       "(15429, 5143, 5143)"
      ]
     },
     "execution_count": 4,
     "metadata": {},
     "output_type": "execute_result"
    }
   ],
   "source": [
    "# check train-calibration-test split sizes\n",
    "df_train_preds.shape[0], df_calibration_preds.shape[0], df_test_preds.shape[0]"
   ]
  },
  {
   "cell_type": "code",
   "execution_count": 5,
   "id": "84a844f0-da86-4e9f-94d6-e603194a6cd5",
   "metadata": {
    "tags": []
   },
   "outputs": [],
   "source": [
    "# apply some basic transformations\n",
    "df_train = df_train_preds.reset_index().rename(columns={'index': 'utterance'})\n",
    "df_test = df_test_preds.reset_index().rename(columns={'index': 'utterance'})\n",
    "df_calibration = df_calibration_preds.reset_index().rename(columns={'index': 'utterance'})\n",
    "\n",
    "df_train['utterance'] = df_train['utterance'].apply(lambda h: 'train_' + str(h))\n",
    "df_test['utterance'] = df_test['utterance'].apply(lambda h: 'test_' + str(h))\n",
    "df_calibration['utterance'] = df_calibration['utterance'].apply(lambda h: 'cal_' + str(h))\n",
    "\n",
    "df_train['utterance'] = df_train['utterance'].astype(str)\n",
    "df_test['utterance'] = df_test['utterance'].astype(str)\n",
    "df_calibration['utterance'] = df_calibration['utterance'].astype(str)"
   ]
  },
  {
   "cell_type": "code",
   "execution_count": 6,
   "id": "a1dd2945-3fb7-4ca7-9325-397719061827",
   "metadata": {
    "tags": []
   },
   "outputs": [
    {
     "data": {
      "text/html": [
       "<div>\n",
       "<style scoped>\n",
       "    .dataframe tbody tr th:only-of-type {\n",
       "        vertical-align: middle;\n",
       "    }\n",
       "\n",
       "    .dataframe tbody tr th {\n",
       "        vertical-align: top;\n",
       "    }\n",
       "\n",
       "    .dataframe thead th {\n",
       "        text-align: right;\n",
       "    }\n",
       "</style>\n",
       "<table border=\"1\" class=\"dataframe\">\n",
       "  <thead>\n",
       "    <tr style=\"text-align: right;\">\n",
       "      <th></th>\n",
       "      <th>utterance</th>\n",
       "      <th>label_0</th>\n",
       "      <th>label_1</th>\n",
       "      <th>label_2</th>\n",
       "      <th>label_3</th>\n",
       "      <th>label_4</th>\n",
       "      <th>label_5</th>\n",
       "      <th>label_6</th>\n",
       "      <th>label_7</th>\n",
       "      <th>label_8</th>\n",
       "      <th>...</th>\n",
       "      <th>label_58</th>\n",
       "      <th>label_59</th>\n",
       "      <th>label_60</th>\n",
       "      <th>label_61</th>\n",
       "      <th>label_62</th>\n",
       "      <th>label_63</th>\n",
       "      <th>label_64</th>\n",
       "      <th>label_65</th>\n",
       "      <th>label_66</th>\n",
       "      <th>label_67</th>\n",
       "    </tr>\n",
       "  </thead>\n",
       "  <tbody>\n",
       "    <tr>\n",
       "      <th>0</th>\n",
       "      <td>test_0</td>\n",
       "      <td>0.000155</td>\n",
       "      <td>0.000080</td>\n",
       "      <td>0.000197</td>\n",
       "      <td>0.000058</td>\n",
       "      <td>0.000062</td>\n",
       "      <td>0.000061</td>\n",
       "      <td>0.000080</td>\n",
       "      <td>0.000063</td>\n",
       "      <td>0.000274</td>\n",
       "      <td>...</td>\n",
       "      <td>0.000157</td>\n",
       "      <td>0.000139</td>\n",
       "      <td>0.000111</td>\n",
       "      <td>0.000135</td>\n",
       "      <td>0.000095</td>\n",
       "      <td>0.000612</td>\n",
       "      <td>0.000084</td>\n",
       "      <td>0.000098</td>\n",
       "      <td>0.000124</td>\n",
       "      <td>0.000235</td>\n",
       "    </tr>\n",
       "    <tr>\n",
       "      <th>1</th>\n",
       "      <td>test_1</td>\n",
       "      <td>0.000014</td>\n",
       "      <td>0.000060</td>\n",
       "      <td>0.001370</td>\n",
       "      <td>0.000035</td>\n",
       "      <td>0.000009</td>\n",
       "      <td>0.000058</td>\n",
       "      <td>0.000094</td>\n",
       "      <td>0.001026</td>\n",
       "      <td>0.000889</td>\n",
       "      <td>...</td>\n",
       "      <td>0.000079</td>\n",
       "      <td>0.000663</td>\n",
       "      <td>0.000253</td>\n",
       "      <td>0.000216</td>\n",
       "      <td>0.000069</td>\n",
       "      <td>0.000032</td>\n",
       "      <td>0.000130</td>\n",
       "      <td>0.000120</td>\n",
       "      <td>0.000016</td>\n",
       "      <td>0.000085</td>\n",
       "    </tr>\n",
       "    <tr>\n",
       "      <th>2</th>\n",
       "      <td>test_2</td>\n",
       "      <td>0.000334</td>\n",
       "      <td>0.000447</td>\n",
       "      <td>0.000116</td>\n",
       "      <td>0.000655</td>\n",
       "      <td>0.000777</td>\n",
       "      <td>0.000620</td>\n",
       "      <td>0.000398</td>\n",
       "      <td>0.000225</td>\n",
       "      <td>0.000070</td>\n",
       "      <td>...</td>\n",
       "      <td>0.000473</td>\n",
       "      <td>0.000124</td>\n",
       "      <td>0.000395</td>\n",
       "      <td>0.000247</td>\n",
       "      <td>0.000657</td>\n",
       "      <td>0.002894</td>\n",
       "      <td>0.001799</td>\n",
       "      <td>0.000202</td>\n",
       "      <td>0.965851</td>\n",
       "      <td>0.000727</td>\n",
       "    </tr>\n",
       "    <tr>\n",
       "      <th>3</th>\n",
       "      <td>test_3</td>\n",
       "      <td>0.000352</td>\n",
       "      <td>0.000045</td>\n",
       "      <td>0.000397</td>\n",
       "      <td>0.000024</td>\n",
       "      <td>0.000065</td>\n",
       "      <td>0.000077</td>\n",
       "      <td>0.000024</td>\n",
       "      <td>0.038772</td>\n",
       "      <td>0.000661</td>\n",
       "      <td>...</td>\n",
       "      <td>0.000102</td>\n",
       "      <td>0.000419</td>\n",
       "      <td>0.001007</td>\n",
       "      <td>0.000610</td>\n",
       "      <td>0.000675</td>\n",
       "      <td>0.000545</td>\n",
       "      <td>0.000670</td>\n",
       "      <td>0.000490</td>\n",
       "      <td>0.000204</td>\n",
       "      <td>0.001312</td>\n",
       "    </tr>\n",
       "    <tr>\n",
       "      <th>4</th>\n",
       "      <td>test_4</td>\n",
       "      <td>0.000578</td>\n",
       "      <td>0.002451</td>\n",
       "      <td>0.000949</td>\n",
       "      <td>0.000856</td>\n",
       "      <td>0.000331</td>\n",
       "      <td>0.001254</td>\n",
       "      <td>0.001088</td>\n",
       "      <td>0.001402</td>\n",
       "      <td>0.001279</td>\n",
       "      <td>...</td>\n",
       "      <td>0.000759</td>\n",
       "      <td>0.000523</td>\n",
       "      <td>0.003132</td>\n",
       "      <td>0.001621</td>\n",
       "      <td>0.004104</td>\n",
       "      <td>0.000771</td>\n",
       "      <td>0.000870</td>\n",
       "      <td>0.000443</td>\n",
       "      <td>0.003633</td>\n",
       "      <td>0.000769</td>\n",
       "    </tr>\n",
       "  </tbody>\n",
       "</table>\n",
       "<p>5 rows × 69 columns</p>\n",
       "</div>"
      ],
      "text/plain": [
       "  utterance   label_0   label_1   label_2   label_3   label_4   label_5  \\\n",
       "0    test_0  0.000155  0.000080  0.000197  0.000058  0.000062  0.000061   \n",
       "1    test_1  0.000014  0.000060  0.001370  0.000035  0.000009  0.000058   \n",
       "2    test_2  0.000334  0.000447  0.000116  0.000655  0.000777  0.000620   \n",
       "3    test_3  0.000352  0.000045  0.000397  0.000024  0.000065  0.000077   \n",
       "4    test_4  0.000578  0.002451  0.000949  0.000856  0.000331  0.001254   \n",
       "\n",
       "    label_6   label_7   label_8  ...  label_58  label_59  label_60  label_61  \\\n",
       "0  0.000080  0.000063  0.000274  ...  0.000157  0.000139  0.000111  0.000135   \n",
       "1  0.000094  0.001026  0.000889  ...  0.000079  0.000663  0.000253  0.000216   \n",
       "2  0.000398  0.000225  0.000070  ...  0.000473  0.000124  0.000395  0.000247   \n",
       "3  0.000024  0.038772  0.000661  ...  0.000102  0.000419  0.001007  0.000610   \n",
       "4  0.001088  0.001402  0.001279  ...  0.000759  0.000523  0.003132  0.001621   \n",
       "\n",
       "   label_62  label_63  label_64  label_65  label_66  label_67  \n",
       "0  0.000095  0.000612  0.000084  0.000098  0.000124  0.000235  \n",
       "1  0.000069  0.000032  0.000130  0.000120  0.000016  0.000085  \n",
       "2  0.000657  0.002894  0.001799  0.000202  0.965851  0.000727  \n",
       "3  0.000675  0.000545  0.000670  0.000490  0.000204  0.001312  \n",
       "4  0.004104  0.000771  0.000870  0.000443  0.003633  0.000769  \n",
       "\n",
       "[5 rows x 69 columns]"
      ]
     },
     "execution_count": 6,
     "metadata": {},
     "output_type": "execute_result"
    }
   ],
   "source": [
    "# merge datasets to single frame\n",
    "fullset = pd.concat([df_test, df_calibration], ignore_index=True)\n",
    "assert fullset.utterance.value_counts().max() == 1, \"Hashes/utterances should be unique in full set\"\n",
    "fullset = fullset.drop(['label', 'hash', 'text'], axis=1)\n",
    "fullset.head()"
   ]
  },
  {
   "cell_type": "code",
   "execution_count": 7,
   "id": "5e9b56da-47f0-47a0-813f-2635fa283889",
   "metadata": {
    "tags": []
   },
   "outputs": [],
   "source": [
    "# parameters for evaluation\n",
    "X_train = fullset[['utterance']]\n",
    "X_calib = df_calibration[['utterance']]\n",
    "X_test = df_test[['utterance']]\n",
    "\n",
    "a_start = 0.01\n",
    "a_stop = .4\n",
    "a_step = 0.01\n",
    "alpha = np.arange(a_start, a_stop, a_step)\n",
    "\n",
    "max_ps_size = math.ceil(N_INTENTS * .25)\n",
    "max_ps_size = 7\n",
    "\n",
    "target_alpha = .05\n",
    "target_index = index_for_arange(a_start, a_step ,target_alpha)"
   ]
  },
  {
   "cell_type": "code",
   "execution_count": 8,
   "id": "7d4c5bc0-fe51-4dfd-aab0-888fd479a40b",
   "metadata": {
    "tags": []
   },
   "outputs": [],
   "source": [
    "# instantiate a mock sklearn model which simply looks up the results in a lookup table\n",
    "model = MockModel(fullset, 'utterance', softmax=False)\n",
    "# fit the test dataset\n",
    "model.fit(X_test, df_test['label'])\n",
    "# extract the test targets from the datasets\n",
    "y_test = df_test['label'].apply(lambda lbl: list(model.classes_).index(lbl))"
   ]
  },
  {
   "cell_type": "code",
   "execution_count": 9,
   "id": "2dacf640-6c20-4f5d-82e9-f694a7fc763d",
   "metadata": {
    "tags": []
   },
   "outputs": [
    {
     "name": "stderr",
     "output_type": "stream",
     "text": [
      "/Users/floris/Documents/archive/publications/cicc/cicc/src/eval.py:101: UserWarning: Warning: converting a masked element to nan.\n",
      "  return float(agg_width)\n"
     ]
    },
    {
     "data": {
      "text/plain": [
       "(0.9540050672383551,\n",
       " 0.8201438848920863,\n",
       " 2.810514786418401,\n",
       " 0.005638732257437293)"
      ]
     },
     "execution_count": 9,
     "metadata": {},
     "output_type": "execute_result"
    }
   ],
   "source": [
    "# marginal conformal prediction\n",
    "mapie_marginal = MapieClassifier(estimator=model, cv=\"prefit\", method=\"score\", random_state=42)\n",
    "mapie_marginal.fit(X_calib, df_calibration['label'])\n",
    "y_pred_marginal, y_ps_marginal = mapie_marginal.predict(X_test, alpha=alpha)\n",
    "\n",
    "\n",
    "coverages_marginal = [\n",
    "    classification_coverage_score(y_test, y_ps_marginal[:, :, i])\n",
    "    for i, _ in enumerate(alpha)\n",
    "]\n",
    "cqsize_marginal = [\n",
    "    adjusted_classification_x_width_score(y_ps_marginal[:, :, i], np.mean,max_ps_size)\n",
    "    for i, _ in enumerate(alpha)\n",
    "]\n",
    "single_marginal = [\n",
    "    set_size_equals(y_ps_marginal[:,:,i], 1)\n",
    "    for i, _ in enumerate(alpha)\n",
    "]\n",
    "ambiguous_marginal = [\n",
    "    (y_ps_marginal[:, :, i].sum(axis=1) >= max_ps_size).mean()\n",
    "    for i, _ in enumerate(alpha)\n",
    "]\n",
    "ssc_marginal = [\n",
    "    size_stratified_classification_coverage_score(y_test, y_ps_marginal[:, :, i])\n",
    "    for i, _ in enumerate(alpha)\n",
    "]\n",
    "\n",
    "results = cq_stats(y_ps_marginal[:, :, target_index], y_test, max_ps_size)\n",
    "write_results('hwu64-bert-cicc', dataset, intent_classifier, 'cicc', results)\n",
    "results"
   ]
  },
  {
   "cell_type": "code",
   "execution_count": 10,
   "id": "22e7584f-d77c-4fe6-a47d-36d2bad9e77c",
   "metadata": {
    "tags": []
   },
   "outputs": [
    {
     "data": {
      "text/plain": [
       "(0.9753569783509903,\n",
       " 0.7093136301769395,\n",
       " 3.2146974063400577,\n",
       " 0.16216216216216217)"
      ]
     },
     "execution_count": 10,
     "metadata": {},
     "output_type": "execute_result"
    }
   ],
   "source": [
    "# adaptive conformal prediction\n",
    "mapie_adaptive = MapieClassifier(estimator=model, cv=\"prefit\", method=\"cumulated_score\", random_state=42)\n",
    "mapie_adaptive.fit(X_calib, df_calibration['label'])\n",
    "y_pred_adaptive, y_ps_adaptive = mapie_adaptive.predict(X_test, alpha=alpha)\n",
    "\n",
    "\n",
    "coverages_adaptive = [\n",
    "    classification_coverage_score(y_test, y_ps_adaptive[:, :, i])\n",
    "    for i, _ in enumerate(alpha)\n",
    "]\n",
    "cqsize_adaptive = [\n",
    "    adjusted_classification_x_width_score(y_ps_adaptive[:, :, i], np.mean,max_ps_size)\n",
    "    for i, _ in enumerate(alpha)\n",
    "]\n",
    "single_adaptive = [\n",
    "    set_size_equals(y_ps_adaptive[:,:,i], 1)\n",
    "    for i, _ in enumerate(alpha)\n",
    "]\n",
    "ambiguous_adaptive = [\n",
    "    (y_ps_adaptive[:, :, i].sum(axis=1) >= max_ps_size).mean()\n",
    "    for i, _ in enumerate(alpha)\n",
    "]\n",
    "ssc_adaptive = [\n",
    "    size_stratified_classification_coverage_score(y_test, y_ps_adaptive[:, :, i])\n",
    "    for i, _ in enumerate(alpha)\n",
    "]\n",
    "\n",
    "cq_stats(y_ps_adaptive[:, :, target_index], y_test, max_ps_size)"
   ]
  },
  {
   "cell_type": "code",
   "execution_count": 11,
   "id": "b5878c79-c2cb-4d63-a9cd-16961219311c",
   "metadata": {
    "tags": []
   },
   "outputs": [
    {
     "name": "stderr",
     "output_type": "stream",
     "text": [
      "/Users/floris/Documents/archive/publications/cicc/cicc/src/eval.py:101: UserWarning: Warning: converting a masked element to nan.\n",
      "  return float(agg_width)\n"
     ]
    },
    {
     "data": {
      "text/plain": [
       "(0.9663620454987362, 0.0, 3.0, 0.0)"
      ]
     },
     "execution_count": 11,
     "metadata": {},
     "output_type": "execute_result"
    }
   ],
   "source": [
    "# TOP-K conformal prediction\n",
    "mapie_topk = MapieClassifier(estimator=model, cv=\"prefit\", method=\"top_k\", random_state=42)\n",
    "mapie_topk.fit(X_calib, df_calibration['label'])\n",
    "y_pred_topk, y_ps_topk = mapie_topk.predict(X_test, alpha=alpha)\n",
    "\n",
    "\n",
    "coverages_topk = [\n",
    "    classification_coverage_score(y_test, y_ps_topk[:, :, i])\n",
    "    for i, _ in enumerate(alpha)\n",
    "]\n",
    "cqsize_topk = [\n",
    "    adjusted_classification_x_width_score(y_ps_topk[:, :, i], np.mean,max_ps_size)\n",
    "    for i, _ in enumerate(alpha)\n",
    "]\n",
    "single_topk = [\n",
    "    set_size_equals(y_ps_topk[:,:,i], 1)\n",
    "    for i, _ in enumerate(alpha)\n",
    "]\n",
    "ambiguous_topk = [\n",
    "    (y_ps_topk[:, :, i].sum(axis=1) >= max_ps_size).mean()\n",
    "    for i, _ in enumerate(alpha)\n",
    "]\n",
    "ssc_topk = [\n",
    "    size_stratified_classification_coverage_score(y_test, y_ps_topk[:, :, i])\n",
    "    for i, _ in enumerate(alpha)\n",
    "]\n",
    "\n",
    "cq_stats(y_ps_topk[:, :, target_index], y_test, max_ps_size)"
   ]
  },
  {
   "cell_type": "code",
   "execution_count": 12,
   "id": "802ced47-cf35-4648-9dab-49bc0daabe82",
   "metadata": {
    "tags": []
   },
   "outputs": [
    {
     "name": "stderr",
     "output_type": "stream",
     "text": [
      "/Users/floris/Documents/archive/publications/cicc/cicc/src/eval.py:101: UserWarning: Warning: converting a masked element to nan.\n",
      "  return float(agg_width)\n"
     ]
    },
    {
     "data": {
      "text/plain": [
       "(0.9677231188022555, 0.543651565234299, 3.618236046016191, 0.0)"
      ]
     },
     "execution_count": 12,
     "metadata": {},
     "output_type": "execute_result"
    }
   ],
   "source": [
    "# RAPS\n",
    "mapie_raps = MapieClassifier(estimator=model, cv=\"prefit\", method=\"raps\")\n",
    "mapie_raps.fit(X_calib, df_calibration['label'])\n",
    "y_pred_raps, y_ps_raps = mapie_raps.predict(X_test, alpha=alpha)\n",
    "\n",
    "\n",
    "coverages_raps = [\n",
    "    classification_coverage_score(y_test, y_ps_raps[:, :, i])\n",
    "    for i, _ in enumerate(alpha)\n",
    "]\n",
    "cqsize_raps = [\n",
    "    adjusted_classification_x_width_score(y_ps_raps[:, :, i], np.mean,max_ps_size)\n",
    "    for i, _ in enumerate(alpha)\n",
    "]\n",
    "single_raps = [\n",
    "    set_size_equals(y_ps_raps[:,:,i], 1)\n",
    "    for i, _ in enumerate(alpha)\n",
    "]\n",
    "ambiguous_raps = [\n",
    "    (y_ps_raps[:, :, i].sum(axis=1) >= max_ps_size).mean()\n",
    "    for i, _ in enumerate(alpha)\n",
    "]\n",
    "ssc_raps = [\n",
    "    size_stratified_classification_coverage_score(y_test, y_ps_raps[:, :, i])\n",
    "    for i, _ in enumerate(alpha)\n",
    "]\n",
    "\n",
    "cq_stats(y_ps_raps[:, :, target_index], y_test, max_ps_size)"
   ]
  },
  {
   "cell_type": "code",
   "execution_count": 13,
   "id": "bdc5c834",
   "metadata": {},
   "outputs": [
    {
     "data": {
      "text/plain": [
       "(0.9673342407155356, 0.7003694341823838, 5.0, 0.0)"
      ]
     },
     "execution_count": 13,
     "metadata": {},
     "output_type": "execute_result"
    }
   ],
   "source": [
    "# heuristic 1: select all classes above a certain cutoff or the top-5 if there are none\n",
    "topk_cutoff = TopKCutoffSelector(estimator=model, cutoff=1-target_alpha, k=5)\n",
    "y_ps_h1 = topk_cutoff.predict(X_test)\n",
    "results_h1 = cq_stats(y_ps_h1, y_test, max_ps_size)\n",
    "write_results('hwu64-bert-h1', dataset, intent_classifier, 'h1', results_h1)\n",
    "results_h1"
   ]
  },
  {
   "cell_type": "code",
   "execution_count": 14,
   "id": "0cfd2cbd",
   "metadata": {},
   "outputs": [
    {
     "name": "stderr",
     "output_type": "stream",
     "text": [
      "/Users/floris/Documents/archive/publications/cicc/cicc/src/eval.py:101: UserWarning: Warning: converting a masked element to nan.\n",
      "  return float(agg_width)\n"
     ]
    },
    {
     "data": {
      "text/plain": [
       "(0.9029749173634066, 1.0, nan, 0.0)"
      ]
     },
     "execution_count": 14,
     "metadata": {},
     "output_type": "execute_result"
    }
   ],
   "source": [
    "top_95 = HeuristicCutoffSelector(estimator=model, cutoff=1-target_alpha)\n",
    "y_ps_h2 = top_95.predict(X_test)\n",
    "results_h2 = cq_stats(y_ps_h2, y_test, max_ps_size)\n",
    "write_results('hwu64-bert-h2', dataset, intent_classifier, 'h2', results_h2)\n",
    "results_h2"
   ]
  },
  {
   "cell_type": "code",
   "execution_count": 15,
   "id": "630f3659-2e17-4058-a407-9dba6b9fae52",
   "metadata": {
    "tags": []
   },
   "outputs": [
    {
     "data": {
      "text/plain": [
       "(0.9786117052304103, 0.0, 5.0, 0.0)"
      ]
     },
     "execution_count": 15,
     "metadata": {},
     "output_type": "execute_result"
    }
   ],
   "source": [
    "topk_5 = TopKSelector(estimator=model, k=5)\n",
    "y_ps_h3 = topk_5.predict(X_test)\n",
    "\n",
    "results_h3 = cq_stats(y_ps_h3, y_test, max_ps_size)\n",
    "write_results('hwu64-bert-h3', dataset, intent_classifier, 'h3', results_h3)\n",
    "results_h3"
   ]
  },
  {
   "cell_type": "code",
   "execution_count": 16,
   "id": "cf84eaa7-7195-42d2-9803-4fc903b380db",
   "metadata": {
    "tags": []
   },
   "outputs": [
    {
     "data": {
      "image/png": "[encoded data removed]",
      "text/plain": [
       "<Figure size 303.149x224.828 with 1 Axes>"
      ]
     },
     "metadata": {},
     "output_type": "display_data"
    }
   ],
   "source": [
    "to_plot = [\n",
    "    (y_ps_marginal, 'marginal', '-', None),\n",
    "    (y_ps_adaptive, 'adaptive', '--', None),\n",
    "    (y_ps_raps, 'RAPS', '-.', None),\n",
    "    # (y_ps_topkmapie, 'TOPK', ':', None),\n",
    "    # (y_ps_top_5_95, 'heuristic a', 'dashed', 'black'),\n",
    "    # (y_ps_top_95,  'heuristic b', 'dotted', 'black'),\n",
    "    # (y_ps_topk_5,  'heuristic c', '-.', 'black'),\n",
    "]\n",
    "fig, ax = plt.subplots(1, 1, figsize=plot.fig_dim_1)\n",
    "for (resultset, label, style, color) in to_plot:\n",
    "    if len(label) > len('heuristic') and label[:len('heuristic')] == 'heuristic':\n",
    "        to_plot_result = resultset\n",
    "    else:\n",
    "        to_plot_result = resultset[:, :, target_index]\n",
    "    ax.plot(\n",
    "        np.cumsum([set_size_equals(to_plot_result, i) for i in range(78)]),\n",
    "        label=label,\n",
    "        linestyle=style,\n",
    "        color=color,\n",
    "        linewidth=3,\n",
    "        alpha=.8)\n",
    "    # ax.set_xscale('log')\n",
    "plt.xlabel('Set size <')\n",
    "plt.ylabel('# samples')\n",
    "plt.title(f'{dataset} {intent_classifier}'.format(target_alpha))\n",
    "plt.legend(handlelength=3.5)\n",
    "plt.tight_layout()\n",
    "plt.savefig(f'results/cum_set_size_{dataset}_{intent_classifier}.png', dpi=1200)"
   ]
  },
  {
   "cell_type": "code",
   "execution_count": 17,
   "id": "8b7d01bf-b41d-4bbb-b121-44c17cb0a631",
   "metadata": {
    "tags": []
   },
   "outputs": [
    {
     "data": {
      "text/plain": [
       "[(70, 'recommendation_events', 'olly'),\n",
       " (91, 'music_likeness', 'this song is too good'),\n",
       " (227, 'general_quirky', 'do i have to go to the gym'),\n",
       " (258, 'audio_volume_mute', 'silently adjust'),\n",
       " (474, 'general_quirky', 'how many times does it go'),\n",
       " (645, 'news_query', 'sports head lines please'),\n",
       " (721, 'play_audiobook', 'read that back'),\n",
       " (848,\n",
       "  'music_dislikeness',\n",
       "  \"i don't want to hear any more songs of that type\"),\n",
       " (1106, 'general_quirky', 'check celebrity wiki'),\n",
       " (1787, 'lists_query', 'Get all availables'),\n",
       " (1852, 'music_likeness', 'rating'),\n",
       " (1924, 'transport_query', 'take me to mc donalds'),\n",
       " (2137, 'qa_factoid', 'search'),\n",
       " (2139, 'audio_volume_up', 'unmute'),\n",
       " (2188, 'audio_volume_mute', 'please unmute yourself'),\n",
       " (2348, 'datetime_query', \"what's the best day next week to go out for pizza\"),\n",
       " (2397, 'general_quirky', 'i need a manger'),\n",
       " (2810, 'play_music', 'assistant shuffle entire library'),\n",
       " (2968, 'iot_hue_lighton', 'put the disco lights on'),\n",
       " (3064, 'general_greet', 'hello how are you today'),\n",
       " (3241, 'email_querycontact', 'where does tar work currently'),\n",
       " (3373, 'email_querycontact', 'can you pull up jeff'),\n",
       " (3489,\n",
       "  'recommendation_movies',\n",
       "  'show me theatre where pirates of caribbean is playing'),\n",
       " (3772, 'play_podcasts', 'spot'),\n",
       " (3853, 'general_quirky', 'anything i need to know'),\n",
       " (4012, 'play_music', 'give me some good sounds'),\n",
       " (4062, 'music_dislikeness', \"i don't like it\"),\n",
       " (4147, 'general_quirky', 'what are you'),\n",
       " (4324, 'general_quirky', \"i don't like this one\")]"
      ]
     },
     "execution_count": 17,
     "metadata": {},
     "output_type": "execute_result"
    }
   ],
   "source": [
    "y_ps_which = y_ps_marginal\n",
    "ambiguous_indices = np.where((y_ps_which[:, :, target_index].sum(axis=1) >= max_ps_size))\n",
    "ambiguous = df_test.loc[ambiguous_indices]\n",
    "list(zip(ambiguous.index,[ labels[l] for l in ambiguous.label.tolist()], ambiguous.text.tolist()))"
   ]
  },
  {
   "cell_type": "code",
   "execution_count": 18,
   "id": "fb5e7c35-7990-4491-aa61-016575b8f9fb",
   "metadata": {
    "tags": []
   },
   "outputs": [
    {
     "name": "stdout",
     "output_type": "stream",
     "text": [
      "olly & recommendation events & calendar set, general quirky, lists createoradd, music likeness, music query, play game, play music, play radio \\\\\n",
      "this song is too good & music likeness & audio volume mute, general affirm, general commandstop, general joke, general negate, lists remove, music dislikeness, music likeness \\\\\n",
      "do i have to go to the gym & general quirky & calendar query, general quirky, lists query, recommendation events, recommendation locations, transport traffic, weather query \\\\\n",
      "silently adjust & audio volume mute & audio volume down, audio volume other, audio volume up, iot hue lightchange, iot hue lightdim, iot hue lightup, music settings \\\\\n",
      "how many times does it go & general quirky & datetime query, general quirky, lists query, qa factoid, qa maths, transport query, transport traffic \\\\\n",
      "sports head lines please & news query & calendar set, general quirky, iot hue lightchange, music likeness, news query, qa factoid, social post, weather query \\\\\n",
      "read that back & play audiobook & email addcontact, email query, email querycontact, email sendemail, general quirky, lists createoradd, music likeness, play audiobook, play music, social post \\\\\n",
      "i don't want to hear any more songs of that type & music dislikeness & audio volume mute, calendar remove, general commandstop, iot wemo off, lists remove, music dislikeness, music likeness \\\\\n",
      "check celebrity wiki & general quirky & email query, general quirky, lists query, news query, qa factoid, social post, social query \\\\\n",
      "Get all availables & lists query & email addcontact, email query, email querycontact, email sendemail, social post, social query, takeaway order \\\\\n",
      "rating & music likeness & cooking recipe, general quirky, lists createoradd, lists query, music likeness, music query, qa definition, qa factoid \\\\\n",
      "take me to mc donalds & transport query & play game, play podcasts, recommendation events, recommendation locations, recommendation movies, takeaway order, takeaway query \\\\\n",
      "search & qa factoid & email querycontact, general quirky, lists createoradd, lists query, music query, qa definition, qa factoid \\\\\n",
      "unmute & audio volume up & audio volume down, audio volume mute, audio volume up, iot wemo off, music settings, play radio, transport query, transport traffic \\\\\n",
      "please unmute yourself & audio volume mute & alarm remove, audio volume down, audio volume mute, audio volume up, iot cleaning, iot wemo on, music settings, play game \\\\\n",
      "what's the best day next week to go out for pizza & datetime query & calendar query, cooking recipe, general quirky, qa factoid, recommendation events, recommendation locations, takeaway query \\\\\n",
      "i need a manger & general quirky & calendar set, cooking recipe, general quirky, lists createoradd, music likeness, play game, qa definition, qa factoid, social post \\\\\n",
      "assistant shuffle entire library & play music & iot cleaning, iot hue lightchange, lists createoradd, music settings, play audiobook, play game, play music \\\\\n",
      "put the disco lights on & iot hue lighton & alarm remove, iot cleaning, iot hue lightchange, iot hue lightoff, iot hue lighton, iot hue lightup, iot wemo on \\\\\n",
      "hello how are you today & general greet & general greet, general praise, general quirky, play radio, recommendation events, recommendation locations, recommendation movies \\\\\n",
      "where does tar work currently & email querycontact & cooking recipe, email querycontact, general quirky, lists query, qa definition, recommendation locations, takeaway query \\\\\n",
      "can you pull up jeff & email querycontact & general quirky, iot cleaning, news query, play game, play music, play radio, social post \\\\\n",
      "show me theatre where pirates of caribbean is playing & recommendation movies & general quirky, play game, play music, play podcasts, recommendation events, recommendation locations, recommendation movies \\\\\n",
      "spot & play podcasts & calendar set, music likeness, music query, play music, play radio, qa factoid, weather query \\\\\n",
      "anything i need to know & general quirky & calendar query, calendar set, email query, email querycontact, general quirky, lists query, news query, social query \\\\\n",
      "give me some good sounds & play music & audio volume down, audio volume up, music likeness, music query, music settings, play music, play radio \\\\\n",
      "i don't like it & music dislikeness & calendar remove, general commandstop, general dontcare, general joke, general negate, lists remove, music dislikeness, music likeness, social post \\\\\n",
      "what are you & general quirky & audio volume down, audio volume mute, audio volume up, music query, music settings, qa definition, recommendation locations, recommendation movies \\\\\n",
      "i don't like this one & general quirky & audio volume mute, calendar remove, general joke, general negate, iot wemo off, lists remove, music dislikeness, social post \\\\\n"
     ]
    }
   ],
   "source": [
    "for a in ambiguous.index:\n",
    "    alternatives = np.where(y_ps_which[a, :, target_index])[0]\n",
    "    print(\" & \".join([ambiguous.loc[a].text, labels[ambiguous.loc[a].label].replace(\"_\", \" \"), ', '.join([labels[l].replace(\"_\", \" \") for l in alternatives])]) + \" \\\\\\\\\")"
   ]
  },
  {
   "cell_type": "code",
   "execution_count": 19,
   "id": "b9b26fca-9da4-49f2-b15a-020dfa5623d8",
   "metadata": {
    "tags": []
   },
   "outputs": [
    {
     "data": {
      "image/png": "[encoded data removed]",
      "text/plain": [
       "<Figure size 606.299x200 with 3 Axes>"
      ]
     },
     "metadata": {},
     "output_type": "display_data"
    }
   ],
   "source": [
    "label_sorting_map = {i: x for x, i in enumerate(df_train.label.value_counts(sort=True).index)}\n",
    "for i in range(len(labels)):\n",
    "    if i not in label_sorting_map:\n",
    "        label_sorting_map[i] = len(label_sorting_map)\n",
    "fig, axs = plt.subplots(1,3,figsize=(plot.fig_width_in * 2, 2), sharey=True)\n",
    "pd.Series(list(map(lambda x: label_sorting_map[x], df_train.label, ))).hist(bins=N_INTENTS, ax=axs[0])\n",
    "pd.Series(list(map(lambda x: label_sorting_map[x], df_calibration.label, ))).hist(bins=N_INTENTS, ax=axs[1])\n",
    "pd.Series(list(map(lambda x: label_sorting_map[x], df_test.label, ))).hist(bins=N_INTENTS, ax=axs[2])\n",
    "titles = ['Train set', 'Calibration set', 'Test set']\n",
    "[ax.set_xlabel('intent') for ax in axs]\n",
    "[ax.set_title(title) for (ax, title) in zip(axs, titles)]\n",
    "axs[0].set_ylabel('Occurrence')\n",
    "# plt.yticks([]) \n",
    "plt.savefig(f\"results/label_distribution_{dataset}.png\", dpi=1200)\n",
    "plt.show()"
   ]
  },
  {
   "cell_type": "code",
   "execution_count": 20,
   "id": "b27a26c0",
   "metadata": {},
   "outputs": [],
   "source": [
    "cq_inputs = df_test[cq_filter(y_ps_marginal[:, :, target_index], max_ps_size)].text\n",
    "cq_lbls = cq_labels(y_ps_marginal[:, :, target_index], max_ps_size, labels)\n",
    "\n",
    "cqs = []\n",
    "for i, (text, lbls) in enumerate(zip(cq_inputs, cq_lbls)):\n",
    "    cqs.append({\n",
    "        \"id\": i,\n",
    "        \"text\": text,\n",
    "        \"predictions\": lbls,\n",
    "    })\n",
    "\n",
    "with open(f'results/clarification_questions_{dataset}_{intent_classifier}.json', 'w') as f:\n",
    "    json.dump(cqs, f, indent=4)"
   ]
  },
  {
   "cell_type": "code",
   "execution_count": 23,
   "id": "94474e1e",
   "metadata": {},
   "outputs": [],
   "source": [
    "pd.Series(np.cumsum([set_size_equals(y_ps_marginal[:, :, target_index], i) for i in range(N_INTENTS+1)])).to_csv(f'results/cum_{dataset}_{intent_classifier}.csv')"
   ]
  },
  {
   "cell_type": "code",
   "execution_count": null,
   "id": "915b8d2e",
   "metadata": {},
   "outputs": [],
   "source": []
  }
 ],
 "metadata": {
  "kernelspec": {
   "display_name": "Python 3 (ipykernel)",
   "language": "python",
   "name": "python3"
  },
  "language_info": {
   "codemirror_mode": {
    "name": "ipython",
    "version": 3
   },
   "file_extension": ".py",
   "mimetype": "text/x-python",
   "name": "python",
   "nbconvert_exporter": "python",
   "pygments_lexer": "ipython3",
   "version": "3.12.0"
  }
 },
 "nbformat": 4,
 "nbformat_minor": 5
}

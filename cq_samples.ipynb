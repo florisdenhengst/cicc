{
 "cells": [
  {
   "cell_type": "code",
   "execution_count": 7,
   "metadata": {},
   "outputs": [
    {
     "name": "stdout",
     "output_type": "stream",
     "text": [
      "I hope you can help me. My account has been compromised from a different town that I haven't been to. Can you please place a hold on my account until I can make it to the bank? & cash withdrawal not recognised,compromised card & 'I understand you are having issues with your account. Was your account compromised or your card not recognised for cash withdrawal?'\\\\\n",
      "Is my card denied anywhere? & card not working,declined card payment & 'I understand you are asking about your card. Was it declined or not working?'\\\\\n",
      "Money that I have transferred hasn't arrived yet & balance not updated after bank transfer,transfer not received by recipient & 'I understand you are waiting for a transfer to be updated in your balance. Was the transfer not received by you or the recipient?'\\\\\n",
      "How long will the transfer take? & balance not updated after bank transfer,pending transfer,transfer timing & 'I understand you are asking about transfer timing. Was your transfer pending, not updated or not received?'\\\\\n",
      "What should I do with my stuck ATM? & card swallowed,declined cash withdrawal & 'I understand you have a stuck ATM. Was it your card that got stuck or was your cash withdrawal declined?'\\\\\n"
     ]
    }
   ],
   "source": [
    "import pandas as pd\n",
    "import numpy as np\n",
    "\n",
    "SEED = 1\n",
    "N_SAMPLE = 5\n",
    "\n",
    "b77_cq = pd.read_csv('data/banking77/questions/bert-vicuna7b-user-input.csv')\n",
    "b77_cq = b77_cq[~b77_cq['ut_question'].isna()]\n",
    "np.random.seed(SEED)\n",
    "b77_sample = b77_cq.sample(N_SAMPLE)\n",
    "\n",
    "def format_prediction_set(ps):\n",
    "    return str(ps).replace('_', ' ').replace(';', ',')\n",
    "\n",
    "i = 1\n",
    "for _, r in b77_sample.iterrows():\n",
    "    print(\" & \".join([r['text'], format_prediction_set(r['predictions']), r['ut_question']]) + \"\\\\\\\\\")\n",
    "    i += 1"
   ]
  },
  {
   "cell_type": "code",
   "execution_count": 18,
   "metadata": {},
   "outputs": [
    {
     "name": "stdout",
     "output_type": "stream",
     "text": [
      "how many more miles can i drive on my current tank & gas,mpg & I'm sorry, I didn't understand your response. Could you please repeat it?\\\\\n",
      "can i redeem my points for flights & redeem rewards,rewards balance & Option 1: redeem rewards Option 2: rewards balance\\\\\n",
      "are there any meetings between 2 and 5 pm & schedule meeting,meeting schedule & I understand you need to schedule a meeting. Do you need to schedule a meeting or is it already scheduled?\\\\\n",
      "is the marathon on friday added to my calendar & calendar,calendar update & Option 1: calendar update Option 2: calendar\\\\\n",
      "why didn't my card work & expiration date,card declined & I understand you have an expired card. Was it expired or declined?\\\\\n"
     ]
    }
   ],
   "source": [
    "clinc150_cq = pd.read_csv('data/clinc150/questions/bert-vicuna7b.csv')\n",
    "clinc150_cq = clinc150_cq[~clinc150_cq['question'].isna()]\n",
    "np.random.seed(SEED)\n",
    "clinc150_cq = clinc150_cq.sample(N_SAMPLE)\n",
    "\n",
    "for _, r in clinc150_cq.iterrows():\n",
    "    print(\" & \".join([r['text'], format_prediction_set(r['predictions']), r['question']]) + \"\\\\\\\\\")\n"
   ]
  },
  {
   "cell_type": "code",
   "execution_count": null,
   "metadata": {},
   "outputs": [],
   "source": []
  }
 ],
 "metadata": {
  "kernelspec": {
   "display_name": "cicc",
   "language": "python",
   "name": "python3"
  },
  "language_info": {
   "codemirror_mode": {
    "name": "ipython",
    "version": 3
   },
   "file_extension": ".py",
   "mimetype": "text/x-python",
   "name": "python",
   "nbconvert_exporter": "python",
   "pygments_lexer": "ipython3",
   "version": "3.12.0"
  },
  "orig_nbformat": 4
 },
 "nbformat": 4,
 "nbformat_minor": 2
}

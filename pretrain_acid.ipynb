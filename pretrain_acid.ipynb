{
 "cells": [
  {
   "cell_type": "code",
   "execution_count": 1,
   "metadata": {},
   "outputs": [],
   "source": [
    "import torch\n",
    "from datasets import load_dataset, concatenate_datasets, DatasetDict, ClassLabel\n",
    "from transformers import AutoTokenizer, Trainer, TrainingArguments, AutoModelForSequenceClassification, BertForSequenceClassification, DataCollatorWithPadding\n",
    "\n",
    "import math\n",
    "import numpy as np\n",
    "import matplotlib.pyplot as plt\n",
    "import evaluate\n",
    "import pandas as pd\n",
    "import scipy\n",
    "\n",
    "\n",
    "# hyperparameters from https://github.com/clinc/oos-eval/blob/master/hyperparameters.csv\n",
    "learning_rate = 4.00e-05\n",
    "warmup_proportion = 0.1\n",
    "train_batch_size = 32\n",
    "eval_batch_size = 32\n",
    "num_train_epochs = 5\n",
    "gradient_accumulation_steps = 1\n",
    "\n",
    "huggingface_modelname = \"bert-large-uncased\"\n",
    "\n",
    "\n",
    "language = 'en'\n",
    "data_path = f'data/acid/'\n",
    "\n",
    "\n",
    "dataset = load_dataset(data_path).rename_column('INTENT_NAME','labels').rename_column('UTTERANCES', 'utterance')\n",
    "dataset_full = concatenate_datasets([dataset['train'], dataset['test']])\n"
   ]
  },
  {
   "cell_type": "code",
   "execution_count": 26,
   "metadata": {},
   "outputs": [
    {
     "data": {
      "text/plain": [
       "Dataset({\n",
       "    features: ['labels', 'utterance'],\n",
       "    num_rows: 22172\n",
       "})"
      ]
     },
     "execution_count": 26,
     "metadata": {},
     "output_type": "execute_result"
    }
   ],
   "source": []
  },
  {
   "cell_type": "code",
   "execution_count": 2,
   "metadata": {},
   "outputs": [],
   "source": [
    "train_size, cal_size, test_size = .6, .2, .2\n",
    "dataset_full = dataset_full.class_encode_column('labels')\n",
    "train_test_set = dataset_full.train_test_split(train_size=train_size, stratify_by_column='labels', seed=1)\n",
    "test_val_set = train_test_set['test'].train_test_split(train_size=test_size / (cal_size+test_size), stratify_by_column=\"labels\", seed=1)\n",
    "dataset = DatasetDict({\n",
    "    'train': train_test_set['train'],\n",
    "    'test': test_val_set['train'],\n",
    "    'validation': test_val_set['test']\n",
    "})"
   ]
  },
  {
   "cell_type": "code",
   "execution_count": 3,
   "metadata": {},
   "outputs": [],
   "source": [
    "\n",
    "id2label = {i: name for i, name in enumerate(dataset[\"train\"].features[\"labels\"].names)}\n",
    "label2id = {name: i for i, name in id2label.items()}"
   ]
  },
  {
   "cell_type": "code",
   "execution_count": 4,
   "metadata": {},
   "outputs": [
    {
     "data": {
      "text/plain": [
       "0"
      ]
     },
     "execution_count": 4,
     "metadata": {},
     "output_type": "execute_result"
    }
   ],
   "source": [
    "torch.mps.current_allocated_memory()"
   ]
  },
  {
   "cell_type": "code",
   "execution_count": 5,
   "metadata": {},
   "outputs": [],
   "source": [
    "tokenizer = AutoTokenizer.from_pretrained(huggingface_modelname)\n",
    "\n",
    "def tokenize_function(examples):\n",
    "    return tokenizer(examples[\"utterance\"], truncation=True)\n",
    "\n",
    "tokenized_datasets = dataset.map(tokenize_function, batched=True)\n",
    "data_collator = DataCollatorWithPadding(tokenizer=tokenizer)\n",
    "\n",
    "# assert dataset[\"train\"].features[\"labels\"].names == dataset[\"test\"].features[\"labels\"].names "
   ]
  },
  {
   "cell_type": "code",
   "execution_count": 6,
   "metadata": {},
   "outputs": [
    {
     "name": "stderr",
     "output_type": "stream",
     "text": [
      "Some weights of BertForSequenceClassification were not initialized from the model checkpoint at bert-large-uncased and are newly initialized: ['classifier.bias', 'classifier.weight']\n",
      "You should probably TRAIN this model on a down-stream task to be able to use it for predictions and inference.\n"
     ]
    }
   ],
   "source": [
    "model = AutoModelForSequenceClassification.from_pretrained(\n",
    "    huggingface_modelname,\n",
    "    num_labels=len(id2label),\n",
    "    id2label=id2label,\n",
    "    label2id=label2id\n",
    "    )"
   ]
  },
  {
   "cell_type": "code",
   "execution_count": 7,
   "metadata": {},
   "outputs": [
    {
     "data": {
      "text/plain": [
       "(0, 393216)"
      ]
     },
     "execution_count": 7,
     "metadata": {},
     "output_type": "execute_result"
    }
   ],
   "source": [
    "torch.mps.current_allocated_memory(), torch.mps.driver_allocated_memory()"
   ]
  },
  {
   "cell_type": "code",
   "execution_count": 8,
   "metadata": {},
   "outputs": [
    {
     "data": {
      "text/plain": [
       "{0: 'INFO_ADD_HOUSE',\n",
       " 1: 'INFO_ADD_REMOVE_INSURED',\n",
       " 2: 'INFO_ADD_REMOVE_VEHICLE',\n",
       " 3: 'INFO_ADD_VEHICLE_PROPERTY_PAPERLESS_BILLING',\n",
       " 4: 'INFO_AGENT_WRONG',\n",
       " 5: 'INFO_AGT_NOT_RESPONDING',\n",
       " 6: 'INFO_AMERICAN_STAR',\n",
       " 7: 'INFO_AMT_DUE',\n",
       " 8: 'INFO_AST_PURCHASE',\n",
       " 9: 'INFO_AST_QUOTE',\n",
       " 10: 'INFO_ATV_INS_EXPLAN',\n",
       " 11: 'INFO_AUTO_COV_QUESTION',\n",
       " 12: 'INFO_AUTO_INS_CANADA',\n",
       " 13: 'INFO_AUTO_POLICY_CANT_SEE_IN_ACCT',\n",
       " 14: 'INFO_AUTO_PYMT_CANCEL',\n",
       " 15: 'INFO_AUTO_PYMT_MIN_BALANCE',\n",
       " 16: 'INFO_AUTO_PYMT_SCHEDULE',\n",
       " 17: 'INFO_BILLING_ACCT_NAME_EDIT',\n",
       " 18: 'INFO_BILLING_ACCT_NUM',\n",
       " 19: 'INFO_BILLING_DEPT_CONTACT',\n",
       " 20: 'INFO_BILL_DUE_DATE',\n",
       " 21: 'INFO_BOAT_COV_EXPLAN',\n",
       " 22: 'INFO_BUSINESS_POLICY_CANT_SEE',\n",
       " 23: 'INFO_CANCEL_CONFIRM',\n",
       " 24: 'INFO_CANCEL_FEE',\n",
       " 25: 'INFO_CANCEL_INS_POLICY',\n",
       " 26: 'INFO_CANT_SEE_FARM_RANCH_POLICY',\n",
       " 27: 'INFO_CANT_SEE_POLICY',\n",
       " 28: 'INFO_CAREERS',\n",
       " 29: 'INFO_CFR_QUESTION_GENERAL',\n",
       " 30: 'INFO_CHANGE_AGENT',\n",
       " 31: 'INFO_CHANGE_AUTOPAY_DATE',\n",
       " 32: 'INFO_CHANGE_BANK_ACCT',\n",
       " 33: 'INFO_CHANGE_USERID',\n",
       " 34: 'INFO_CL_ADJUSTER_INFO',\n",
       " 35: 'INFO_CL_CHECK_STATUS',\n",
       " 36: 'INFO_CL_CLAIM_FILED',\n",
       " 37: 'INFO_CL_COMPLAINT',\n",
       " 38: 'INFO_CL_DOCS_EMAIL',\n",
       " 39: 'INFO_CL_DOCS_FAX',\n",
       " 40: 'INFO_CL_DOCS_MAIL',\n",
       " 41: 'INFO_CL_DOCS_SEND',\n",
       " 42: 'INFO_CL_DRP_ASSIGN',\n",
       " 43: 'INFO_CL_DRP_JOIN',\n",
       " 44: 'INFO_CL_FILE_CLAIM',\n",
       " 45: 'INFO_CL_FNOL',\n",
       " 46: 'INFO_CL_FNOL_AUTO_HAIL',\n",
       " 47: 'INFO_CL_GLASS_SAFELITE',\n",
       " 48: 'INFO_CL_HRP_JOIN',\n",
       " 49: 'INFO_CL_RENTAL',\n",
       " 50: 'INFO_CL_SHOP_ADD_WORK',\n",
       " 51: 'INFO_CL_SHOP_SEND_ESTIMATE',\n",
       " 52: 'INFO_CL_STATUS',\n",
       " 53: 'INFO_CL_UPDATE_INFO',\n",
       " 54: 'INFO_COLLECTIONS',\n",
       " 55: 'INFO_COLL_COV_EXPLAN',\n",
       " 56: 'INFO_COMBINE_PYMTS',\n",
       " 57: 'INFO_COMP_COV_EXPLAN',\n",
       " 58: 'INFO_CONFIRM_COVERAGE',\n",
       " 59: 'INFO_CREDIT_CARD_CHANGE_NUM',\n",
       " 60: 'INFO_CREDIT_CARD_FEE',\n",
       " 61: 'INFO_CUSTOMER_SERVICE_HOURS',\n",
       " 62: 'INFO_DEC_PAGE_NEEDED',\n",
       " 63: 'INFO_DEDUCTIBLE',\n",
       " 64: 'INFO_DED_EXPLAN',\n",
       " 65: 'INFO_DELETE_DUPE_PYMT',\n",
       " 66: 'INFO_DIFFERENT_AMTS',\n",
       " 67: 'INFO_DISCOUNTS',\n",
       " 68: 'INFO_DO_NOT_CONTACT',\n",
       " 69: 'INFO_DREAMKEEP_REWARDS',\n",
       " 70: 'INFO_DREAMKEEP_REWARDS_ERRORS',\n",
       " 71: 'INFO_DREAMS_FOUNDATION',\n",
       " 72: 'INFO_EMPLOYMENT_VERIFY',\n",
       " 73: 'INFO_ERS',\n",
       " 74: 'INFO_ERS_CONTACT',\n",
       " 75: 'INFO_ERS_REIMBURSE',\n",
       " 76: 'INFO_FIND_AGENT',\n",
       " 77: 'INFO_FLOOD_INS_EXPLAN',\n",
       " 78: 'INFO_FORGOT_EMAIL',\n",
       " 79: 'INFO_FORGOT_PASSWORD',\n",
       " 80: 'INFO_FORGOT_USERID',\n",
       " 81: 'INFO_GAP_COVERAGE',\n",
       " 82: 'INFO_GEN_POLICY_COV_QUESTION',\n",
       " 83: 'INFO_GET_A_QUOTE_AUTO',\n",
       " 84: 'INFO_GET_A_QUOTE_AUTO_NONOWNER',\n",
       " 85: 'INFO_GET_A_QUOTE_CFR',\n",
       " 86: 'INFO_GET_A_QUOTE_OTHER',\n",
       " 87: 'INFO_GET_A_QUOTE_RENTERS',\n",
       " 88: 'INFO_GET_A_QUOTE_RENTERS_PURCHASE',\n",
       " 89: 'INFO_GLASS_COV',\n",
       " 90: 'INFO_HANDLING_FEE_REMOVE',\n",
       " 91: 'INFO_HEALTH_INS_QUOTE',\n",
       " 92: 'INFO_HOMESITE_CONTACT',\n",
       " 93: 'INFO_INS_CARD_PRINT',\n",
       " 94: 'INFO_INS_CARD_PROOF',\n",
       " 95: 'INFO_INS_CARD_SEND',\n",
       " 96: 'INFO_INS_NOT_AVAILABLE',\n",
       " 97: 'INFO_KNOWYOURDRIVE',\n",
       " 98: 'INFO_KNOWYOURDRIVE_DEVICE_ACTIVATE',\n",
       " 99: 'INFO_KNOWYOURDRIVE_DEVICE_RETURN',\n",
       " 100: 'INFO_KNOWYOURDRIVE_ERRORS',\n",
       " 101: 'INFO_LETTER_OF_EXPERIENCE',\n",
       " 102: 'INFO_LIAB_EXPLAN',\n",
       " 103: 'INFO_LIFE_BENEFICIARY_CHANGE',\n",
       " 104: 'INFO_LIFE_CASH_OUT',\n",
       " 105: 'INFO_LIFE_INCR_COV',\n",
       " 106: 'INFO_LIFE_POLICY_AMT_DUE',\n",
       " 107: 'INFO_LIFE_POLICY_AUTO_PYMT',\n",
       " 108: 'INFO_LIFE_POLICY_CANCEL',\n",
       " 109: 'INFO_LIFE_POLICY_CANNOT_SEE',\n",
       " 110: 'INFO_LIFE_QUESTION_GENERAL',\n",
       " 111: 'INFO_LIFE_REFUND',\n",
       " 112: 'INFO_LIFE_UPDATE_CONTACT_INFO',\n",
       " 113: 'INFO_LOGIN_ERROR',\n",
       " 114: 'INFO_LOG_OUT',\n",
       " 115: 'INFO_MAIL_PYMT_ADDRESS',\n",
       " 116: 'INFO_MAKE_PYMT',\n",
       " 117: 'INFO_MEXICO_AUTO_INS',\n",
       " 118: 'INFO_MORTGAGE_CO_POI',\n",
       " 119: 'INFO_NAME_CHANGE',\n",
       " 120: 'INFO_NEW_VEHICLE_GRACE_PERIOD',\n",
       " 121: 'INFO_ONE_TIME_PYMT',\n",
       " 122: 'INFO_OPERATING_AREA',\n",
       " 123: 'INFO_OPERATING_CO',\n",
       " 124: 'INFO_PAPERLESS_DOCS_SETUP',\n",
       " 125: 'INFO_PAPERLESS_DOCS_STOP',\n",
       " 126: 'INFO_PAPERLESS_MAIL',\n",
       " 127: 'INFO_PAY_LIFE_INS',\n",
       " 128: 'INFO_PHONE_NUM',\n",
       " 129: 'INFO_PHONE_NUM_INTERNATIONAL',\n",
       " 130: 'INFO_POI_OLD',\n",
       " 131: 'INFO_POLICY_DOC_NEEDED',\n",
       " 132: 'INFO_POLICY_NUM',\n",
       " 133: 'INFO_POLICY_TRANS_TO_RENTAL',\n",
       " 134: 'INFO_PREMIUM_BREAKDOWN',\n",
       " 135: 'INFO_PREPAID_CARD_PYMT',\n",
       " 136: 'INFO_PROFILE_SECTION',\n",
       " 137: 'INFO_PYMT_CONFIRM',\n",
       " 138: 'INFO_PYMT_DUEDATE_CHANGE',\n",
       " 139: 'INFO_PYMT_ERROR',\n",
       " 140: 'INFO_PYMT_HISTORY',\n",
       " 141: 'INFO_PYMT_NOT_ONTIME',\n",
       " 142: 'INFO_PYMT_PROCESS_CHANGE',\n",
       " 143: 'INFO_PYMT_SETUP_AUTO_PYMT',\n",
       " 144: 'INFO_PYMT_TIME',\n",
       " 145: 'INFO_REFUND_CHECK',\n",
       " 146: 'INFO_REINSTATE_INS_POLICY',\n",
       " 147: 'INFO_RENTERS_COV_EXPLAN',\n",
       " 148: 'INFO_RIDESHARE_COV',\n",
       " 149: 'INFO_RV_INS_EXPLAN',\n",
       " 150: 'INFO_SALVAGE_VEHICLE',\n",
       " 151: 'INFO_SET_UP_ACCT',\n",
       " 152: 'INFO_SPEAK_TO_REP',\n",
       " 153: 'INFO_TEEN_SAFE_DRIVER_SIGNUP',\n",
       " 154: 'INFO_THE_GENERAL_CONTACT',\n",
       " 155: 'INFO_TRANSFER_ACCT_BALANCE',\n",
       " 156: 'INFO_TRAVEL_INS_EXPLAN',\n",
       " 157: 'INFO_UPDATE_CONTACT_INFO',\n",
       " 158: 'INFO_UPDATE_EMAIL',\n",
       " 159: 'INFO_UPDATE_LIENHOLDER',\n",
       " 160: 'INFO_UPDATE_PHONE_NUM',\n",
       " 161: 'INFO_UW_ALUMNI_DISCOUNT',\n",
       " 162: 'INFO_WHO_IS_MY_AGENT',\n",
       " 163: 'INFO_WHY_WAS_POLICY_CANCELLED',\n",
       " 164: 'INFO_srtwentytwo',\n",
       " 165: 'NO',\n",
       " 166: 'ST_GENERAL_REQUEST',\n",
       " 167: 'ST_HELLO',\n",
       " 168: 'ST_HOW_IS_ABBY',\n",
       " 169: 'ST_HOW_OLD_IS_ABBY',\n",
       " 170: 'ST_IS_ABBY_REAL',\n",
       " 171: 'ST_THANK_YOU',\n",
       " 172: 'ST_WHAT_CAN_ABBY_DO',\n",
       " 173: 'ST_WHERE_DOES_ABBY_LIVE',\n",
       " 174: 'YES'}"
      ]
     },
     "execution_count": 8,
     "metadata": {},
     "output_type": "execute_result"
    }
   ],
   "source": [
    "id2label"
   ]
  },
  {
   "cell_type": "code",
   "execution_count": 9,
   "metadata": {},
   "outputs": [],
   "source": [
    "training_args = TrainingArguments(\n",
    "    output_dir=\"test_trainer\",\n",
    "    learning_rate=learning_rate,\n",
    "    num_train_epochs=num_train_epochs,\n",
    "    per_device_train_batch_size=train_batch_size,\n",
    "    per_device_eval_batch_size=eval_batch_size,\n",
    "    weight_decay=0.01,\n",
    "    evaluation_strategy=\"epoch\",\n",
    "    save_strategy=\"epoch\",\n",
    "    gradient_accumulation_steps=gradient_accumulation_steps,\n",
    "    load_best_model_at_end=True,\n",
    "    )"
   ]
  },
  {
   "cell_type": "code",
   "execution_count": 10,
   "metadata": {},
   "outputs": [],
   "source": [
    "metric = evaluate.load(\"accuracy\")"
   ]
  },
  {
   "cell_type": "code",
   "execution_count": 11,
   "metadata": {},
   "outputs": [],
   "source": [
    "def compute_metrics(eval_pred):\n",
    "    logits, labels = eval_pred\n",
    "    predictions = np.argmax(logits, axis=-1)\n",
    "    return metric.compute(predictions=predictions, references=labels)"
   ]
  },
  {
   "cell_type": "code",
   "execution_count": 14,
   "metadata": {},
   "outputs": [],
   "source": [
    "trainer = Trainer(\n",
    "    model=model,\n",
    "    args=training_args,\n",
    "    train_dataset=tokenized_datasets[\"train\"],\n",
    "    eval_dataset=tokenized_datasets[\"validation\"],\n",
    "    tokenizer=tokenizer,\n",
    "    data_collator=data_collator,\n",
    "    compute_metrics=compute_metrics,\n",
    ")"
   ]
  },
  {
   "cell_type": "code",
   "execution_count": 15,
   "metadata": {},
   "outputs": [
    {
     "data": {
      "application/vnd.jupyter.widget-view+json": {
       "model_id": "ffbb50da2c534fe986e12f080dc96efe",
       "version_major": 2,
       "version_minor": 0
      },
      "text/plain": [
       "  0%|          | 0/2080 [00:00<?, ?it/s]"
      ]
     },
     "metadata": {},
     "output_type": "display_data"
    },
    {
     "data": {
      "application/vnd.jupyter.widget-view+json": {
       "model_id": "fea9aa5b55d845f8bc9865b53ea9d536",
       "version_major": 2,
       "version_minor": 0
      },
      "text/plain": [
       "  0%|          | 0/139 [00:00<?, ?it/s]"
      ]
     },
     "metadata": {},
     "output_type": "display_data"
    },
    {
     "name": "stdout",
     "output_type": "stream",
     "text": [
      "{'eval_loss': 0.37323564291000366, 'eval_accuracy': 0.9208568207440812, 'eval_runtime': 25.0116, 'eval_samples_per_second': 177.318, 'eval_steps_per_second': 5.557, 'epoch': 1.0}\n",
      "{'loss': 0.2677, 'learning_rate': 3.0384615384615386e-05, 'epoch': 1.2}\n"
     ]
    },
    {
     "data": {
      "application/vnd.jupyter.widget-view+json": {
       "model_id": "d1b23cbf2333428885cb3e7d2eff7048",
       "version_major": 2,
       "version_minor": 0
      },
      "text/plain": [
       "  0%|          | 0/139 [00:00<?, ?it/s]"
      ]
     },
     "metadata": {},
     "output_type": "display_data"
    },
    {
     "name": "stdout",
     "output_type": "stream",
     "text": [
      "{'eval_loss': 0.3154609501361847, 'eval_accuracy': 0.9307779030439685, 'eval_runtime': 26.6169, 'eval_samples_per_second': 166.623, 'eval_steps_per_second': 5.222, 'epoch': 2.0}\n",
      "{'loss': 0.101, 'learning_rate': 2.0769230769230772e-05, 'epoch': 2.4}\n"
     ]
    },
    {
     "data": {
      "application/vnd.jupyter.widget-view+json": {
       "model_id": "cdef42beab1f4c4bb97a9175708f0c8c",
       "version_major": 2,
       "version_minor": 0
      },
      "text/plain": [
       "  0%|          | 0/139 [00:00<?, ?it/s]"
      ]
     },
     "metadata": {},
     "output_type": "display_data"
    },
    {
     "name": "stdout",
     "output_type": "stream",
     "text": [
      "{'eval_loss': 0.29833850264549255, 'eval_accuracy': 0.9377677564825254, 'eval_runtime': 24.8718, 'eval_samples_per_second': 178.315, 'eval_steps_per_second': 5.589, 'epoch': 3.0}\n",
      "{'loss': 0.051, 'learning_rate': 1.1153846153846154e-05, 'epoch': 3.61}\n"
     ]
    },
    {
     "data": {
      "application/vnd.jupyter.widget-view+json": {
       "model_id": "59dbb2145f4e49a49b11aa4ec36de49b",
       "version_major": 2,
       "version_minor": 0
      },
      "text/plain": [
       "  0%|          | 0/139 [00:00<?, ?it/s]"
      ]
     },
     "metadata": {},
     "output_type": "display_data"
    },
    {
     "name": "stdout",
     "output_type": "stream",
     "text": [
      "{'eval_loss': 0.2788759469985962, 'eval_accuracy': 0.9431792559188276, 'eval_runtime': 24.977, 'eval_samples_per_second': 177.563, 'eval_steps_per_second': 5.565, 'epoch': 4.0}\n",
      "{'loss': 0.0222, 'learning_rate': 1.5384615384615387e-06, 'epoch': 4.81}\n"
     ]
    },
    {
     "data": {
      "application/vnd.jupyter.widget-view+json": {
       "model_id": "af776cecbe984eceace0452d25e65f97",
       "version_major": 2,
       "version_minor": 0
      },
      "text/plain": [
       "  0%|          | 0/139 [00:00<?, ?it/s]"
      ]
     },
     "metadata": {},
     "output_type": "display_data"
    },
    {
     "name": "stdout",
     "output_type": "stream",
     "text": [
      "{'eval_loss': 0.27623820304870605, 'eval_accuracy': 0.944532130777903, 'eval_runtime': 24.9941, 'eval_samples_per_second': 177.442, 'eval_steps_per_second': 5.561, 'epoch': 5.0}\n",
      "{'train_runtime': 1714.726, 'train_samples_per_second': 38.79, 'train_steps_per_second': 1.213, 'train_loss': 0.10670332306852708, 'epoch': 5.0}\n"
     ]
    },
    {
     "data": {
      "text/plain": [
       "TrainOutput(global_step=2080, training_loss=0.10670332306852708, metrics={'train_runtime': 1714.726, 'train_samples_per_second': 38.79, 'train_steps_per_second': 1.213, 'train_loss': 0.10670332306852708, 'epoch': 5.0})"
      ]
     },
     "execution_count": 15,
     "metadata": {},
     "output_type": "execute_result"
    }
   ],
   "source": [
    "trainer.train()"
   ]
  },
  {
   "cell_type": "code",
   "execution_count": 16,
   "metadata": {},
   "outputs": [
    {
     "data": {
      "application/vnd.jupyter.widget-view+json": {
       "model_id": "f105e91734bb4ef18f400c4d4f43694c",
       "version_major": 2,
       "version_minor": 0
      },
      "text/plain": [
       "  0%|          | 0/416 [00:00<?, ?it/s]"
      ]
     },
     "metadata": {},
     "output_type": "display_data"
    },
    {
     "data": {
      "application/vnd.jupyter.widget-view+json": {
       "model_id": "f3889048bca24b70ac3ab09c766d90fc",
       "version_major": 2,
       "version_minor": 0
      },
      "text/plain": [
       "  0%|          | 0/139 [00:00<?, ?it/s]"
      ]
     },
     "metadata": {},
     "output_type": "display_data"
    },
    {
     "data": {
      "application/vnd.jupyter.widget-view+json": {
       "model_id": "12025f3d2a9b4f66a7660e2ea595794c",
       "version_major": 2,
       "version_minor": 0
      },
      "text/plain": [
       "  0%|          | 0/139 [00:00<?, ?it/s]"
      ]
     },
     "metadata": {},
     "output_type": "display_data"
    }
   ],
   "source": [
    "pred_train = trainer.predict(tokenized_datasets[\"train\"])\n",
    "pred_val = trainer.predict(tokenized_datasets[\"validation\"])\n",
    "pred_test = trainer.predict(tokenized_datasets[\"test\"])"
   ]
  },
  {
   "cell_type": "code",
   "execution_count": 17,
   "metadata": {},
   "outputs": [],
   "source": [
    "train_sm = scipy.special.softmax(pred_train.predictions, axis=1)\n",
    "val_sm = scipy.special.softmax(pred_val.predictions, axis=1)\n",
    "test_sm = scipy.special.softmax(pred_test.predictions, axis=1)\n",
    "\n",
    "np.testing.assert_allclose(train_sm.sum(axis=1), 1.0, rtol=1e-6)\n",
    "np.testing.assert_allclose(val_sm.sum(axis=1), 1.0, rtol=1e-6)\n",
    "np.testing.assert_allclose(test_sm.sum(axis=1), 1.0, rtol=1e-6)"
   ]
  },
  {
   "cell_type": "code",
   "execution_count": 18,
   "metadata": {},
   "outputs": [
    {
     "data": {
      "text/plain": [
       "((13303, 175), (4435, 175), (4434, 175))"
      ]
     },
     "execution_count": 18,
     "metadata": {},
     "output_type": "execute_result"
    }
   ],
   "source": [
    "train_sm.shape, val_sm.shape, test_sm.shape"
   ]
  },
  {
   "cell_type": "code",
   "execution_count": 19,
   "metadata": {},
   "outputs": [],
   "source": [
    "# train_sm_dict = get_score(train_sm, oos_label)\n",
    "# val_sm_dict = get_score(val_sm, oos_label)\n",
    "# test_sm_dict = get_score(test_sm, oos_label)\n",
    "train_sm_dict = {\n",
    "    f'label_{i}':  train_sm[:,i] for i in range(train_sm.shape[1])\n",
    "}\n",
    "val_sm_dict = {\n",
    "    f'label_{i}':  val_sm[:,i] for i in range(val_sm.shape[1])\n",
    "}\n",
    "test_sm_dict = {\n",
    "    f'label_{i}':  test_sm[:,i] for i in range(test_sm.shape[1])\n",
    "}\n",
    "train_frame = pd.DataFrame(\n",
    "    {\"text\": dataset[\"train\"][\"utterance\"],\n",
    "     \"hash\": range(len(dataset[\"train\"][\"utterance\"])),\n",
    "     \"label\": dataset[\"train\"][\"labels\"],\n",
    "     **train_sm_dict\n",
    "    }\n",
    ")\n",
    "val_frame = pd.DataFrame(\n",
    "    {\"text\": dataset[\"validation\"][\"utterance\"],\n",
    "     \"hash\": range(len(dataset[\"validation\"][\"utterance\"])),\n",
    "     \"label\": dataset[\"validation\"][\"labels\"],\n",
    "     **val_sm_dict\n",
    "    }\n",
    ")\n",
    "test_frame = pd.DataFrame(\n",
    "    {\"text\": dataset[\"test\"][\"utterance\"],\n",
    "     \"hash\": range(len(dataset[\"test\"][\"utterance\"])),\n",
    "     \"label\": dataset[\"test\"][\"labels\"],\n",
    "     **test_sm_dict\n",
    "    }\n",
    ")"
   ]
  },
  {
   "cell_type": "code",
   "execution_count": 25,
   "metadata": {},
   "outputs": [],
   "source": [
    "train_frame.to_csv('data/acid/bert/train_predictions.csv', index=False)\n",
    "val_frame.to_csv('data/acid/bert/calibration_predictions.csv', index=False)\n",
    "test_frame.to_csv('data/acid/bert/test_predictions.csv', index=False)\n",
    "\n",
    "pd.DataFrame({'0': id2label.values()}).to_csv('data/acid/bert/labels.csv')\n"
   ]
  },
  {
   "cell_type": "code",
   "execution_count": 21,
   "metadata": {},
   "outputs": [
    {
     "data": {
      "text/plain": [
       "{0: 'INFO_ADD_HOUSE',\n",
       " 1: 'INFO_ADD_REMOVE_INSURED',\n",
       " 2: 'INFO_ADD_REMOVE_VEHICLE',\n",
       " 3: 'INFO_ADD_VEHICLE_PROPERTY_PAPERLESS_BILLING',\n",
       " 4: 'INFO_AGENT_WRONG',\n",
       " 5: 'INFO_AGT_NOT_RESPONDING',\n",
       " 6: 'INFO_AMERICAN_STAR',\n",
       " 7: 'INFO_AMT_DUE',\n",
       " 8: 'INFO_AST_PURCHASE',\n",
       " 9: 'INFO_AST_QUOTE',\n",
       " 10: 'INFO_ATV_INS_EXPLAN',\n",
       " 11: 'INFO_AUTO_COV_QUESTION',\n",
       " 12: 'INFO_AUTO_INS_CANADA',\n",
       " 13: 'INFO_AUTO_POLICY_CANT_SEE_IN_ACCT',\n",
       " 14: 'INFO_AUTO_PYMT_CANCEL',\n",
       " 15: 'INFO_AUTO_PYMT_MIN_BALANCE',\n",
       " 16: 'INFO_AUTO_PYMT_SCHEDULE',\n",
       " 17: 'INFO_BILLING_ACCT_NAME_EDIT',\n",
       " 18: 'INFO_BILLING_ACCT_NUM',\n",
       " 19: 'INFO_BILLING_DEPT_CONTACT',\n",
       " 20: 'INFO_BILL_DUE_DATE',\n",
       " 21: 'INFO_BOAT_COV_EXPLAN',\n",
       " 22: 'INFO_BUSINESS_POLICY_CANT_SEE',\n",
       " 23: 'INFO_CANCEL_CONFIRM',\n",
       " 24: 'INFO_CANCEL_FEE',\n",
       " 25: 'INFO_CANCEL_INS_POLICY',\n",
       " 26: 'INFO_CANT_SEE_FARM_RANCH_POLICY',\n",
       " 27: 'INFO_CANT_SEE_POLICY',\n",
       " 28: 'INFO_CAREERS',\n",
       " 29: 'INFO_CFR_QUESTION_GENERAL',\n",
       " 30: 'INFO_CHANGE_AGENT',\n",
       " 31: 'INFO_CHANGE_AUTOPAY_DATE',\n",
       " 32: 'INFO_CHANGE_BANK_ACCT',\n",
       " 33: 'INFO_CHANGE_USERID',\n",
       " 34: 'INFO_CL_ADJUSTER_INFO',\n",
       " 35: 'INFO_CL_CHECK_STATUS',\n",
       " 36: 'INFO_CL_CLAIM_FILED',\n",
       " 37: 'INFO_CL_COMPLAINT',\n",
       " 38: 'INFO_CL_DOCS_EMAIL',\n",
       " 39: 'INFO_CL_DOCS_FAX',\n",
       " 40: 'INFO_CL_DOCS_MAIL',\n",
       " 41: 'INFO_CL_DOCS_SEND',\n",
       " 42: 'INFO_CL_DRP_ASSIGN',\n",
       " 43: 'INFO_CL_DRP_JOIN',\n",
       " 44: 'INFO_CL_FILE_CLAIM',\n",
       " 45: 'INFO_CL_FNOL',\n",
       " 46: 'INFO_CL_FNOL_AUTO_HAIL',\n",
       " 47: 'INFO_CL_GLASS_SAFELITE',\n",
       " 48: 'INFO_CL_HRP_JOIN',\n",
       " 49: 'INFO_CL_RENTAL',\n",
       " 50: 'INFO_CL_SHOP_ADD_WORK',\n",
       " 51: 'INFO_CL_SHOP_SEND_ESTIMATE',\n",
       " 52: 'INFO_CL_STATUS',\n",
       " 53: 'INFO_CL_UPDATE_INFO',\n",
       " 54: 'INFO_COLLECTIONS',\n",
       " 55: 'INFO_COLL_COV_EXPLAN',\n",
       " 56: 'INFO_COMBINE_PYMTS',\n",
       " 57: 'INFO_COMP_COV_EXPLAN',\n",
       " 58: 'INFO_CONFIRM_COVERAGE',\n",
       " 59: 'INFO_CREDIT_CARD_CHANGE_NUM',\n",
       " 60: 'INFO_CREDIT_CARD_FEE',\n",
       " 61: 'INFO_CUSTOMER_SERVICE_HOURS',\n",
       " 62: 'INFO_DEC_PAGE_NEEDED',\n",
       " 63: 'INFO_DEDUCTIBLE',\n",
       " 64: 'INFO_DED_EXPLAN',\n",
       " 65: 'INFO_DELETE_DUPE_PYMT',\n",
       " 66: 'INFO_DIFFERENT_AMTS',\n",
       " 67: 'INFO_DISCOUNTS',\n",
       " 68: 'INFO_DO_NOT_CONTACT',\n",
       " 69: 'INFO_DREAMKEEP_REWARDS',\n",
       " 70: 'INFO_DREAMKEEP_REWARDS_ERRORS',\n",
       " 71: 'INFO_DREAMS_FOUNDATION',\n",
       " 72: 'INFO_EMPLOYMENT_VERIFY',\n",
       " 73: 'INFO_ERS',\n",
       " 74: 'INFO_ERS_CONTACT',\n",
       " 75: 'INFO_ERS_REIMBURSE',\n",
       " 76: 'INFO_FIND_AGENT',\n",
       " 77: 'INFO_FLOOD_INS_EXPLAN',\n",
       " 78: 'INFO_FORGOT_EMAIL',\n",
       " 79: 'INFO_FORGOT_PASSWORD',\n",
       " 80: 'INFO_FORGOT_USERID',\n",
       " 81: 'INFO_GAP_COVERAGE',\n",
       " 82: 'INFO_GEN_POLICY_COV_QUESTION',\n",
       " 83: 'INFO_GET_A_QUOTE_AUTO',\n",
       " 84: 'INFO_GET_A_QUOTE_AUTO_NONOWNER',\n",
       " 85: 'INFO_GET_A_QUOTE_CFR',\n",
       " 86: 'INFO_GET_A_QUOTE_OTHER',\n",
       " 87: 'INFO_GET_A_QUOTE_RENTERS',\n",
       " 88: 'INFO_GET_A_QUOTE_RENTERS_PURCHASE',\n",
       " 89: 'INFO_GLASS_COV',\n",
       " 90: 'INFO_HANDLING_FEE_REMOVE',\n",
       " 91: 'INFO_HEALTH_INS_QUOTE',\n",
       " 92: 'INFO_HOMESITE_CONTACT',\n",
       " 93: 'INFO_INS_CARD_PRINT',\n",
       " 94: 'INFO_INS_CARD_PROOF',\n",
       " 95: 'INFO_INS_CARD_SEND',\n",
       " 96: 'INFO_INS_NOT_AVAILABLE',\n",
       " 97: 'INFO_KNOWYOURDRIVE',\n",
       " 98: 'INFO_KNOWYOURDRIVE_DEVICE_ACTIVATE',\n",
       " 99: 'INFO_KNOWYOURDRIVE_DEVICE_RETURN',\n",
       " 100: 'INFO_KNOWYOURDRIVE_ERRORS',\n",
       " 101: 'INFO_LETTER_OF_EXPERIENCE',\n",
       " 102: 'INFO_LIAB_EXPLAN',\n",
       " 103: 'INFO_LIFE_BENEFICIARY_CHANGE',\n",
       " 104: 'INFO_LIFE_CASH_OUT',\n",
       " 105: 'INFO_LIFE_INCR_COV',\n",
       " 106: 'INFO_LIFE_POLICY_AMT_DUE',\n",
       " 107: 'INFO_LIFE_POLICY_AUTO_PYMT',\n",
       " 108: 'INFO_LIFE_POLICY_CANCEL',\n",
       " 109: 'INFO_LIFE_POLICY_CANNOT_SEE',\n",
       " 110: 'INFO_LIFE_QUESTION_GENERAL',\n",
       " 111: 'INFO_LIFE_REFUND',\n",
       " 112: 'INFO_LIFE_UPDATE_CONTACT_INFO',\n",
       " 113: 'INFO_LOGIN_ERROR',\n",
       " 114: 'INFO_LOG_OUT',\n",
       " 115: 'INFO_MAIL_PYMT_ADDRESS',\n",
       " 116: 'INFO_MAKE_PYMT',\n",
       " 117: 'INFO_MEXICO_AUTO_INS',\n",
       " 118: 'INFO_MORTGAGE_CO_POI',\n",
       " 119: 'INFO_NAME_CHANGE',\n",
       " 120: 'INFO_NEW_VEHICLE_GRACE_PERIOD',\n",
       " 121: 'INFO_ONE_TIME_PYMT',\n",
       " 122: 'INFO_OPERATING_AREA',\n",
       " 123: 'INFO_OPERATING_CO',\n",
       " 124: 'INFO_PAPERLESS_DOCS_SETUP',\n",
       " 125: 'INFO_PAPERLESS_DOCS_STOP',\n",
       " 126: 'INFO_PAPERLESS_MAIL',\n",
       " 127: 'INFO_PAY_LIFE_INS',\n",
       " 128: 'INFO_PHONE_NUM',\n",
       " 129: 'INFO_PHONE_NUM_INTERNATIONAL',\n",
       " 130: 'INFO_POI_OLD',\n",
       " 131: 'INFO_POLICY_DOC_NEEDED',\n",
       " 132: 'INFO_POLICY_NUM',\n",
       " 133: 'INFO_POLICY_TRANS_TO_RENTAL',\n",
       " 134: 'INFO_PREMIUM_BREAKDOWN',\n",
       " 135: 'INFO_PREPAID_CARD_PYMT',\n",
       " 136: 'INFO_PROFILE_SECTION',\n",
       " 137: 'INFO_PYMT_CONFIRM',\n",
       " 138: 'INFO_PYMT_DUEDATE_CHANGE',\n",
       " 139: 'INFO_PYMT_ERROR',\n",
       " 140: 'INFO_PYMT_HISTORY',\n",
       " 141: 'INFO_PYMT_NOT_ONTIME',\n",
       " 142: 'INFO_PYMT_PROCESS_CHANGE',\n",
       " 143: 'INFO_PYMT_SETUP_AUTO_PYMT',\n",
       " 144: 'INFO_PYMT_TIME',\n",
       " 145: 'INFO_REFUND_CHECK',\n",
       " 146: 'INFO_REINSTATE_INS_POLICY',\n",
       " 147: 'INFO_RENTERS_COV_EXPLAN',\n",
       " 148: 'INFO_RIDESHARE_COV',\n",
       " 149: 'INFO_RV_INS_EXPLAN',\n",
       " 150: 'INFO_SALVAGE_VEHICLE',\n",
       " 151: 'INFO_SET_UP_ACCT',\n",
       " 152: 'INFO_SPEAK_TO_REP',\n",
       " 153: 'INFO_TEEN_SAFE_DRIVER_SIGNUP',\n",
       " 154: 'INFO_THE_GENERAL_CONTACT',\n",
       " 155: 'INFO_TRANSFER_ACCT_BALANCE',\n",
       " 156: 'INFO_TRAVEL_INS_EXPLAN',\n",
       " 157: 'INFO_UPDATE_CONTACT_INFO',\n",
       " 158: 'INFO_UPDATE_EMAIL',\n",
       " 159: 'INFO_UPDATE_LIENHOLDER',\n",
       " 160: 'INFO_UPDATE_PHONE_NUM',\n",
       " 161: 'INFO_UW_ALUMNI_DISCOUNT',\n",
       " 162: 'INFO_WHO_IS_MY_AGENT',\n",
       " 163: 'INFO_WHY_WAS_POLICY_CANCELLED',\n",
       " 164: 'INFO_srtwentytwo',\n",
       " 165: 'NO',\n",
       " 166: 'ST_GENERAL_REQUEST',\n",
       " 167: 'ST_HELLO',\n",
       " 168: 'ST_HOW_IS_ABBY',\n",
       " 169: 'ST_HOW_OLD_IS_ABBY',\n",
       " 170: 'ST_IS_ABBY_REAL',\n",
       " 171: 'ST_THANK_YOU',\n",
       " 172: 'ST_WHAT_CAN_ABBY_DO',\n",
       " 173: 'ST_WHERE_DOES_ABBY_LIVE',\n",
       " 174: 'YES'}"
      ]
     },
     "execution_count": 21,
     "metadata": {},
     "output_type": "execute_result"
    }
   ],
   "source": [
    "id2label"
   ]
  },
  {
   "cell_type": "code",
   "execution_count": 22,
   "metadata": {},
   "outputs": [
    {
     "data": {
      "text/plain": [
       "label\n",
       "2      75\n",
       "113    74\n",
       "73     72\n",
       "1      71\n",
       "28     65\n",
       "       ..\n",
       "161     2\n",
       "147     2\n",
       "48      2\n",
       "153     2\n",
       "6       2\n",
       "Name: count, Length: 175, dtype: int64"
      ]
     },
     "execution_count": 22,
     "metadata": {},
     "output_type": "execute_result"
    }
   ],
   "source": [
    "test_frame['label'].value_counts()"
   ]
  },
  {
   "cell_type": "code",
   "execution_count": 23,
   "metadata": {},
   "outputs": [
    {
     "data": {
      "text/plain": [
       "0         59\n",
       "1        151\n",
       "2        135\n",
       "3        119\n",
       "4        163\n",
       "        ... \n",
       "13298    122\n",
       "13299    107\n",
       "13300     28\n",
       "13301     62\n",
       "13302    114\n",
       "Name: label, Length: 13303, dtype: int64"
      ]
     },
     "execution_count": 23,
     "metadata": {},
     "output_type": "execute_result"
    }
   ],
   "source": [
    "train_frame['label']"
   ]
  },
  {
   "cell_type": "code",
   "execution_count": null,
   "metadata": {},
   "outputs": [],
   "source": []
  },
  {
   "cell_type": "code",
   "execution_count": null,
   "metadata": {},
   "outputs": [],
   "source": []
  }
 ],
 "metadata": {
  "kernelspec": {
   "display_name": "cicc",
   "language": "python",
   "name": "python3"
  },
  "language_info": {
   "codemirror_mode": {
    "name": "ipython",
    "version": 3
   },
   "file_extension": ".py",
   "mimetype": "text/x-python",
   "name": "python",
   "nbconvert_exporter": "python",
   "pygments_lexer": "ipython3",
   "version": "3.12.0"
  },
  "orig_nbformat": 4
 },
 "nbformat": 4,
 "nbformat_minor": 2
}

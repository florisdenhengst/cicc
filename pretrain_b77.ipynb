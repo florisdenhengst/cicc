{
 "cells": [
  {
   "cell_type": "code",
   "execution_count": 5,
   "metadata": {},
   "outputs": [
    {
     "name": "stderr",
     "output_type": "stream",
     "text": [
      "/Users/floris/.cache/huggingface/modules/datasets_modules/datasets/banking77/9898c11f6afa9521953d2ef205667b527bad14ef9cab445d470f16240c8c8ec4/banking77.py:59: FutureWarning: Dataset 'banking77' is deprecated and will be deleted. Use 'PolyAI/banking77' instead.\n",
      "  warnings.warn(\n"
     ]
    }
   ],
   "source": [
    "import torch\n",
    "from datasets import load_dataset, concatenate_datasets, DatasetDict\n",
    "from transformers import AutoTokenizer, Trainer, TrainingArguments, AutoModelForSequenceClassification, BertForSequenceClassification, DataCollatorWithPadding\n",
    "\n",
    "import math\n",
    "import numpy as np\n",
    "import matplotlib.pyplot as plt\n",
    "import evaluate\n",
    "import pandas as pd\n",
    "import scipy\n",
    "dataset = load_dataset(\"banking77\").rename_column(\"label\", \"labels\")\n",
    "\n",
    "atis_full = load_dataset(\"tuetschek/atis\").rename_column(\"intent\", \"labels\").remove_columns([\"slots\", \"id\"])\n",
    "atis_full = concatenate_datasets([atis_full['train'], atis_full['test']])\n",
    "atis_full = atis_full.class_encode_column('labels')\n",
    "\n",
    "\n",
    "# hyperparameters from https://github.com/clinc/oos-eval/blob/master/hyperparameters.csv\n",
    "learning_rate = 4.00e-05\n",
    "warmup_proportion = 0.1\n",
    "train_batch_size = 16\n",
    "eval_batch_size = 16\n",
    "num_train_epochs = 5\n",
    "gradient_accumulation_steps = 1\n",
    "\n",
    "huggingface_modelname = \"bert-large-uncased\""
   ]
  },
  {
   "cell_type": "code",
   "execution_count": 7,
   "metadata": {},
   "outputs": [],
   "source": [
    "dataset_full = concatenate_datasets([dataset[\"train\"], dataset[\"test\"]]).shuffle(seed=42)\n",
    "train_size, cal_size, test_size = .6, .2, .2\n",
    "train_test_set = dataset_full.train_test_split(train_size=train_size, stratify_by_column='labels', seed=42)\n",
    "test_val_set = train_test_set[\"test\"].train_test_split(train_size=test_size/(cal_size+test_size), stratify_by_column='labels', seed=42)\n",
    "dataset = DatasetDict({\n",
    "    'train': train_test_set['train'],\n",
    "    'test': test_val_set['train'],\n",
    "    'calibration': test_val_set['test']\n",
    "})\n",
    "\n",
    "assert math.fabs(((dataset['train'].num_rows / dataset_full.num_rows) - train_size)) < 1e-4\n",
    "assert math.fabs(((dataset['test'].num_rows / dataset_full.num_rows) - test_size)) < 1e-4\n",
    "assert math.fabs(((dataset['calibration'].num_rows / dataset_full.num_rows) - cal_size)) < 1e-4\n"
   ]
  },
  {
   "cell_type": "code",
   "execution_count": 8,
   "metadata": {},
   "outputs": [
    {
     "data": {
      "text/plain": [
       "6.114805472745566e-05"
      ]
     },
     "execution_count": 8,
     "metadata": {},
     "output_type": "execute_result"
    }
   ],
   "source": [
    "math.fabs(((dataset['train'].num_rows / dataset_full.num_rows) - train_size))"
   ]
  },
  {
   "cell_type": "code",
   "execution_count": 9,
   "metadata": {},
   "outputs": [
    {
     "data": {
      "text/plain": [
       "Dataset({\n",
       "    features: ['text', 'labels'],\n",
       "    num_rows: 13083\n",
       "})"
      ]
     },
     "execution_count": 9,
     "metadata": {},
     "output_type": "execute_result"
    }
   ],
   "source": [
    "dataset_full"
   ]
  },
  {
   "cell_type": "code",
   "execution_count": 10,
   "metadata": {},
   "outputs": [],
   "source": [
    "id2label = {i: name for i, name in enumerate(dataset[\"train\"].features[\"labels\"].names)}\n",
    "label2id = {name: i for i, name in id2label.items()}"
   ]
  },
  {
   "cell_type": "code",
   "execution_count": 11,
   "metadata": {},
   "outputs": [
    {
     "data": {
      "text/plain": [
       "DatasetDict({\n",
       "    train: Dataset({\n",
       "        features: ['text', 'labels'],\n",
       "        num_rows: 7849\n",
       "    })\n",
       "    test: Dataset({\n",
       "        features: ['text', 'labels'],\n",
       "        num_rows: 2617\n",
       "    })\n",
       "    calibration: Dataset({\n",
       "        features: ['text', 'labels'],\n",
       "        num_rows: 2617\n",
       "    })\n",
       "})"
      ]
     },
     "execution_count": 11,
     "metadata": {},
     "output_type": "execute_result"
    }
   ],
   "source": [
    "dataset"
   ]
  },
  {
   "cell_type": "code",
   "execution_count": 12,
   "metadata": {},
   "outputs": [
    {
     "data": {
      "text/plain": [
       "0"
      ]
     },
     "execution_count": 12,
     "metadata": {},
     "output_type": "execute_result"
    }
   ],
   "source": [
    "torch.mps.current_allocated_memory()"
   ]
  },
  {
   "cell_type": "code",
   "execution_count": 13,
   "metadata": {},
   "outputs": [
    {
     "data": {
      "application/vnd.jupyter.widget-view+json": {
       "model_id": "c86a0be57f0546a5aade9e6815c55e1c",
       "version_major": 2,
       "version_minor": 0
      },
      "text/plain": [
       "Map:   0%|          | 0/5871 [00:00<?, ? examples/s]"
      ]
     },
     "metadata": {},
     "output_type": "display_data"
    }
   ],
   "source": [
    "tokenizer = AutoTokenizer.from_pretrained(huggingface_modelname)\n",
    "\n",
    "def tokenize_function(examples):\n",
    "    return tokenizer(examples[\"text\"], truncation=True)\n",
    "\n",
    "tokenized_datasets = dataset.map(tokenize_function, batched=True)\n",
    "tokenized_atis = atis_full.map(tokenize_function, batched=True)\n",
    "data_collator = DataCollatorWithPadding(tokenizer=tokenizer)\n",
    "\n",
    "assert dataset[\"train\"].features[\"labels\"].names == dataset[\"test\"].features[\"labels\"].names "
   ]
  },
  {
   "cell_type": "code",
   "execution_count": 14,
   "metadata": {},
   "outputs": [
    {
     "name": "stderr",
     "output_type": "stream",
     "text": [
      "Some weights of BertForSequenceClassification were not initialized from the model checkpoint at bert-large-uncased and are newly initialized: ['classifier.weight', 'classifier.bias']\n",
      "You should probably TRAIN this model on a down-stream task to be able to use it for predictions and inference.\n"
     ]
    }
   ],
   "source": [
    "model = AutoModelForSequenceClassification.from_pretrained(\n",
    "    huggingface_modelname,\n",
    "    num_labels=len(id2label),\n",
    "    id2label=id2label,\n",
    "    label2id=label2id\n",
    "    )"
   ]
  },
  {
   "cell_type": "code",
   "execution_count": 15,
   "metadata": {},
   "outputs": [
    {
     "data": {
      "text/plain": [
       "(0, 393216)"
      ]
     },
     "execution_count": 15,
     "metadata": {},
     "output_type": "execute_result"
    }
   ],
   "source": [
    "torch.mps.current_allocated_memory(), torch.mps.driver_allocated_memory()"
   ]
  },
  {
   "cell_type": "code",
   "execution_count": 16,
   "metadata": {},
   "outputs": [],
   "source": [
    "training_args = TrainingArguments(\n",
    "    output_dir=\"test_trainer\",\n",
    "    learning_rate=learning_rate,\n",
    "    num_train_epochs=num_train_epochs,\n",
    "    per_device_train_batch_size=train_batch_size,\n",
    "    per_device_eval_batch_size=eval_batch_size,\n",
    "    weight_decay=0.01,\n",
    "    evaluation_strategy=\"epoch\",\n",
    "    save_strategy=\"epoch\",\n",
    "    gradient_accumulation_steps=gradient_accumulation_steps,\n",
    "    load_best_model_at_end=True,\n",
    "    )"
   ]
  },
  {
   "cell_type": "code",
   "execution_count": 17,
   "metadata": {},
   "outputs": [],
   "source": [
    "metric = evaluate.load(\"accuracy\")"
   ]
  },
  {
   "cell_type": "code",
   "execution_count": 18,
   "metadata": {},
   "outputs": [],
   "source": [
    "def compute_metrics(eval_pred):\n",
    "    logits, labels = eval_pred\n",
    "    predictions = np.argmax(logits, axis=-1)\n",
    "    return metric.compute(predictions=predictions, references=labels)"
   ]
  },
  {
   "cell_type": "code",
   "execution_count": 19,
   "metadata": {},
   "outputs": [],
   "source": [
    "trainer = Trainer(\n",
    "    model=model,\n",
    "    args=training_args,\n",
    "    train_dataset=tokenized_datasets[\"train\"].shuffle(seed=42),\n",
    "    eval_dataset=tokenized_datasets[\"calibration\"].shuffle(seed=42),\n",
    "    tokenizer=tokenizer,\n",
    "    data_collator=data_collator,\n",
    "    compute_metrics=compute_metrics,\n",
    ")"
   ]
  },
  {
   "cell_type": "code",
   "execution_count": 20,
   "metadata": {},
   "outputs": [
    {
     "data": {
      "application/vnd.jupyter.widget-view+json": {
       "model_id": "db753b900d7c4fd188b2b26b2204d565",
       "version_major": 2,
       "version_minor": 0
      },
      "text/plain": [
       "  0%|          | 0/2455 [00:00<?, ?it/s]"
      ]
     },
     "metadata": {},
     "output_type": "display_data"
    },
    {
     "name": "stderr",
     "output_type": "stream",
     "text": [
      "You're using a BertTokenizerFast tokenizer. Please note that with a fast tokenizer, using the `__call__` method is faster than using a method to encode the text followed by a call to the `pad` method to get a padded encoding.\n"
     ]
    },
    {
     "data": {
      "application/vnd.jupyter.widget-view+json": {
       "model_id": "008781d468bc44ec979ca7d65cdb52c2",
       "version_major": 2,
       "version_minor": 0
      },
      "text/plain": [
       "  0%|          | 0/164 [00:00<?, ?it/s]"
      ]
     },
     "metadata": {},
     "output_type": "display_data"
    },
    {
     "name": "stdout",
     "output_type": "stream",
     "text": [
      "{'eval_loss': 0.7499797344207764, 'eval_accuracy': 0.8337791364157432, 'eval_runtime': 25.3005, 'eval_samples_per_second': 103.437, 'eval_steps_per_second': 6.482, 'epoch': 1.0}\n",
      "{'loss': 2.4354, 'learning_rate': 3.185336048879837e-05, 'epoch': 1.02}\n"
     ]
    },
    {
     "data": {
      "application/vnd.jupyter.widget-view+json": {
       "model_id": "2e6b86c4ebd146a1a0da58adad1d88cc",
       "version_major": 2,
       "version_minor": 0
      },
      "text/plain": [
       "  0%|          | 0/164 [00:00<?, ?it/s]"
      ]
     },
     "metadata": {},
     "output_type": "display_data"
    },
    {
     "name": "stdout",
     "output_type": "stream",
     "text": [
      "{'eval_loss': 0.4114804267883301, 'eval_accuracy': 0.9029423003439052, 'eval_runtime': 21.3947, 'eval_samples_per_second': 122.32, 'eval_steps_per_second': 7.665, 'epoch': 2.0}\n",
      "{'loss': 0.4511, 'learning_rate': 2.3706720977596743e-05, 'epoch': 2.04}\n"
     ]
    },
    {
     "data": {
      "application/vnd.jupyter.widget-view+json": {
       "model_id": "a0ac9f8a473f456bb2fb29ed60d4fd52",
       "version_major": 2,
       "version_minor": 0
      },
      "text/plain": [
       "  0%|          | 0/164 [00:00<?, ?it/s]"
      ]
     },
     "metadata": {},
     "output_type": "display_data"
    },
    {
     "name": "stdout",
     "output_type": "stream",
     "text": [
      "{'eval_loss': 0.37676531076431274, 'eval_accuracy': 0.9109667558272831, 'eval_runtime': 21.8622, 'eval_samples_per_second': 119.704, 'eval_steps_per_second': 7.502, 'epoch': 3.0}\n",
      "{'loss': 0.1807, 'learning_rate': 1.5560081466395113e-05, 'epoch': 3.05}\n"
     ]
    },
    {
     "data": {
      "application/vnd.jupyter.widget-view+json": {
       "model_id": "da0038a6f25447fcbaa48a74f1b3feae",
       "version_major": 2,
       "version_minor": 0
      },
      "text/plain": [
       "  0%|          | 0/164 [00:00<?, ?it/s]"
      ]
     },
     "metadata": {},
     "output_type": "display_data"
    },
    {
     "name": "stdout",
     "output_type": "stream",
     "text": [
      "{'eval_loss': 0.38200643658638, 'eval_accuracy': 0.9159342758884219, 'eval_runtime': 21.7475, 'eval_samples_per_second': 120.336, 'eval_steps_per_second': 7.541, 'epoch': 4.0}\n",
      "{'loss': 0.0826, 'learning_rate': 7.413441955193483e-06, 'epoch': 4.07}\n"
     ]
    },
    {
     "data": {
      "application/vnd.jupyter.widget-view+json": {
       "model_id": "06d8b4334b394c13a5861fdb1b2c5311",
       "version_major": 2,
       "version_minor": 0
      },
      "text/plain": [
       "  0%|          | 0/164 [00:00<?, ?it/s]"
      ]
     },
     "metadata": {},
     "output_type": "display_data"
    },
    {
     "name": "stdout",
     "output_type": "stream",
     "text": [
      "{'eval_loss': 0.3760813772678375, 'eval_accuracy': 0.92281238058846, 'eval_runtime': 21.5999, 'eval_samples_per_second': 121.158, 'eval_steps_per_second': 7.593, 'epoch': 5.0}\n",
      "{'train_runtime': 1642.0327, 'train_samples_per_second': 23.9, 'train_steps_per_second': 1.495, 'train_loss': 0.6489931988376221, 'epoch': 5.0}\n"
     ]
    },
    {
     "data": {
      "text/plain": [
       "TrainOutput(global_step=2455, training_loss=0.6489931988376221, metrics={'train_runtime': 1642.0327, 'train_samples_per_second': 23.9, 'train_steps_per_second': 1.495, 'train_loss': 0.6489931988376221, 'epoch': 5.0})"
      ]
     },
     "execution_count": 20,
     "metadata": {},
     "output_type": "execute_result"
    }
   ],
   "source": [
    "trainer.train()"
   ]
  },
  {
   "cell_type": "code",
   "execution_count": 21,
   "metadata": {},
   "outputs": [
    {
     "data": {
      "application/vnd.jupyter.widget-view+json": {
       "model_id": "2585623b46d745f19a1c7b09a6b2a945",
       "version_major": 2,
       "version_minor": 0
      },
      "text/plain": [
       "  0%|          | 0/491 [00:00<?, ?it/s]"
      ]
     },
     "metadata": {},
     "output_type": "display_data"
    },
    {
     "data": {
      "application/vnd.jupyter.widget-view+json": {
       "model_id": "a69a95517a8c4ae5b92d6d8f839dfdc6",
       "version_major": 2,
       "version_minor": 0
      },
      "text/plain": [
       "  0%|          | 0/164 [00:00<?, ?it/s]"
      ]
     },
     "metadata": {},
     "output_type": "display_data"
    },
    {
     "data": {
      "application/vnd.jupyter.widget-view+json": {
       "model_id": "d89c6f1bcde74927a300e82907b9d986",
       "version_major": 2,
       "version_minor": 0
      },
      "text/plain": [
       "  0%|          | 0/164 [00:00<?, ?it/s]"
      ]
     },
     "metadata": {},
     "output_type": "display_data"
    },
    {
     "data": {
      "application/vnd.jupyter.widget-view+json": {
       "model_id": "63dd67656f2a43308a399a3c6fb57b32",
       "version_major": 2,
       "version_minor": 0
      },
      "text/plain": [
       "  0%|          | 0/367 [00:00<?, ?it/s]"
      ]
     },
     "metadata": {},
     "output_type": "display_data"
    }
   ],
   "source": [
    "pred_train = trainer.predict(tokenized_datasets[\"train\"])\n",
    "pred_val = trainer.predict(tokenized_datasets[\"calibration\"])\n",
    "pred_test = trainer.predict(tokenized_datasets[\"test\"])\n",
    "\n",
    "pred_atis = trainer.predict(tokenized_atis)"
   ]
  },
  {
   "cell_type": "code",
   "execution_count": 22,
   "metadata": {},
   "outputs": [],
   "source": [
    "train_sm = scipy.special.softmax(pred_train.predictions, axis=1)\n",
    "val_sm = scipy.special.softmax(pred_val.predictions, axis=1)\n",
    "test_sm = scipy.special.softmax(pred_test.predictions, axis=1)\n",
    "\n",
    "atis_sm = scipy.special.softmax(pred_atis.predictions, axis=1)\n",
    "\n",
    "\n",
    "np.testing.assert_allclose(train_sm.sum(axis=1), 1.0, rtol=1e-6)\n",
    "np.testing.assert_allclose(val_sm.sum(axis=1), 1.0, rtol=1e-6)\n",
    "np.testing.assert_allclose(test_sm.sum(axis=1), 1.0, rtol=1e-6)\n",
    "np.testing.assert_allclose(atis_sm.sum(axis=1), 1.0, rtol=1e-6)"
   ]
  },
  {
   "cell_type": "code",
   "execution_count": 35,
   "metadata": {},
   "outputs": [],
   "source": [
    "# train_sm_dict = get_score(train_sm, oos_label)\n",
    "# val_sm_dict = get_score(val_sm, oos_label)\n",
    "# test_sm_dict = get_score(test_sm, oos_label)\n",
    "train_sm_dict = {\n",
    "    f'label_{i}':  train_sm[:,i] for i in range(train_sm.shape[1])\n",
    "}\n",
    "val_sm_dict = {\n",
    "    f'label_{i}':  val_sm[:,i] for i in range(val_sm.shape[1])\n",
    "}\n",
    "test_sm_dict = {\n",
    "    f'label_{i}':  test_sm[:,i] for i in range(test_sm.shape[1])\n",
    "}\n",
    "\n",
    "atis_sm_dict = {\n",
    "    f'label_{i}':  atis_sm[:,i] for i in range(atis_sm.shape[1])\n",
    "}\n",
    "\n",
    "train_frame = pd.DataFrame(\n",
    "    {\"text\": dataset[\"train\"][\"text\"],\n",
    "     \"hash\": range(len(dataset[\"train\"][\"text\"])),\n",
    "     \"label\": dataset[\"train\"][\"labels\"],\n",
    "     **train_sm_dict\n",
    "    }\n",
    ")\n",
    "val_frame = pd.DataFrame(\n",
    "    {\"text\": dataset[\"calibration\"][\"text\"],\n",
    "     \"hash\": range(len(dataset[\"calibration\"][\"text\"])),\n",
    "     \"label\": dataset[\"calibration\"][\"labels\"],\n",
    "     **val_sm_dict\n",
    "    }\n",
    ")\n",
    "test_frame = pd.DataFrame(\n",
    "    {\"text\": dataset[\"test\"][\"text\"],\n",
    "     \"hash\": range(len(dataset[\"test\"][\"text\"])),\n",
    "     \"label\": dataset[\"test\"][\"labels\"],\n",
    "     **test_sm_dict\n",
    "    }\n",
    ")\n",
    "atis_frame = pd.DataFrame(\n",
    "    {\"text\": atis_full[\"text\"],\n",
    "     \"hash\": range(len(atis_full[\"text\"])),\n",
    "     \"label\": ([max(id2label) + 1] * len(atis_full)),\n",
    "     **atis_sm_dict\n",
    "    }\n",
    ")"
   ]
  },
  {
   "cell_type": "code",
   "execution_count": 36,
   "metadata": {},
   "outputs": [],
   "source": [
    "train_frame.to_csv('data/banking77/bert/train_predictions.csv', index=False)\n",
    "val_frame.to_csv('data/banking77/bert/calibration_predictions.csv', index=False)\n",
    "test_frame.to_csv('data/banking77/bert/test_predictions.csv', index=False)\n",
    "atis_frame.to_csv('data/banking77/bert/atis_predictions.csv', index=False)\n",
    "\n",
    "pd.DataFrame({'0': id2label.values()}).to_csv('data/banking77/bert/labels.csv')\n"
   ]
  },
  {
   "cell_type": "code",
   "execution_count": null,
   "metadata": {},
   "outputs": [],
   "source": []
  }
 ],
 "metadata": {
  "kernelspec": {
   "display_name": "cicc",
   "language": "python",
   "name": "python3"
  },
  "language_info": {
   "codemirror_mode": {
    "name": "ipython",
    "version": 3
   },
   "file_extension": ".py",
   "mimetype": "text/x-python",
   "name": "python",
   "nbconvert_exporter": "python",
   "pygments_lexer": "ipython3",
   "version": "3.12.0"
  },
  "orig_nbformat": 4
 },
 "nbformat": 4,
 "nbformat_minor": 2
}

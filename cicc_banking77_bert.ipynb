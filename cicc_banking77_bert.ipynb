{
 "cells": [
  {
   "cell_type": "code",
   "execution_count": 1,
   "id": "ddb87912-eef5-4e35-9ab7-b070caf1eb64",
   "metadata": {
    "tags": []
   },
   "outputs": [],
   "source": [
    "import math\n",
    "import numpy as np\n",
    "import pandas as pd\n",
    "from mapie.classification import MapieClassifier\n",
    "from mapie.metrics import classification_coverage_score, classification_mean_width_score\n",
    "import matplotlib.pyplot as plt\n",
    "import json\n",
    "\n",
    "from src.model import MockModel\n",
    "from src.utils import index_for_arange, write_results, cq_labels, cq_filter\n",
    "import src.plot as plot\n",
    "from src.eval import (\n",
    "    adjusted_classification_x_width_score,\n",
    "    size_stratified_classification_coverage_score,\n",
    "    cq_stats,\n",
    "    set_size_equals,\n",
    ")\n",
    "from src.heuristics import TopKSelector, HeuristicCutoffSelector, TopKCutoffSelector"
   ]
  },
  {
   "cell_type": "code",
   "execution_count": 2,
   "id": "8ab6a230-0e0d-422d-876b-0d85b4cb074a",
   "metadata": {
    "tags": []
   },
   "outputs": [],
   "source": [
    "# load data\n",
    "dataset = 'banking77'\n",
    "intent_classifier = 'bert'\n",
    "data_dir = f'data/{dataset}/{intent_classifier}/'\n",
    "\n",
    "df_train_preds = pd.read_csv(data_dir + \"train_predictions.csv\")\n",
    "df_test_preds = pd.read_csv(data_dir + \"test_predictions.csv\")\n",
    "df_calibration_preds = pd.read_csv(data_dir + \"calibration_predictions.csv\")\n",
    "df_atis_preds = pd.read_csv(data_dir + \"atis_predictions.csv\")\n",
    "\n",
    "labels = pd.read_csv(data_dir+'/labels.csv', header=0, names=['index','label'])\n",
    "labels = list(labels.label)\n",
    "N_INTENTS = len(labels)"
   ]
  },
  {
   "cell_type": "code",
   "execution_count": 3,
   "id": "894d9cd0-64d3-425d-889a-dcd0055be9d7",
   "metadata": {
    "tags": []
   },
   "outputs": [
    {
     "data": {
      "text/plain": [
       "(7849, 2617, 2617)"
      ]
     },
     "execution_count": 3,
     "metadata": {},
     "output_type": "execute_result"
    }
   ],
   "source": [
    "# check train-calibration-test split sizes\n",
    "df_train_preds.shape[0], df_calibration_preds.shape[0], df_test_preds.shape[0]"
   ]
  },
  {
   "cell_type": "code",
   "execution_count": 4,
   "id": "84a844f0-da86-4e9f-94d6-e603194a6cd5",
   "metadata": {
    "tags": []
   },
   "outputs": [],
   "source": [
    "# apply some basic transformations\n",
    "df_train = df_train_preds.reset_index().rename(columns={'index': 'utterance'})\n",
    "df_test = df_test_preds.reset_index().rename(columns={'index': 'utterance'})\n",
    "df_calibration = df_calibration_preds.reset_index().rename(columns={'index': 'utterance'})\n",
    "df_atis = df_atis_preds.reset_index().rename(columns={'index': 'utterance'})\n",
    "\n",
    "\n",
    "df_train['utterance'] = df_train['utterance'].apply(lambda h: 'train_' + str(h))\n",
    "df_test['utterance'] = df_test['utterance'].apply(lambda h: 'test_' + str(h))\n",
    "df_calibration['utterance'] = df_calibration['utterance'].apply(lambda h: 'cal_' + str(h))\n",
    "df_atis['utterance'] = df_atis['utterance'].apply(lambda h: 'ood_' + str(h))\n",
    "\n",
    "\n",
    "df_train['utterance'] = df_train['utterance'].astype(str)\n",
    "df_test['utterance'] = df_test['utterance'].astype(str)\n",
    "df_calibration['utterance'] = df_calibration['utterance'].astype(str)\n",
    "df_atis['utterance'] = df_atis['utterance'].astype(str)\n",
    "\n",
    "np.random.seed(42)\n",
    "df_ood_shuffled = df_atis.sample(frac=1)\n",
    "train_test_split_test = int(len(df_test)/2)\n",
    "train_test_split_ood = int(len(df_test)/2)\n",
    "\n",
    "df_test_shuffled = df_test.sample(frac=1)\n",
    "df_ood_calib = pd.concat([df_test_shuffled[train_test_split_test:], df_ood_shuffled[train_test_split_ood:]])\n",
    "df_ood_test = pd.concat([df_test_shuffled[:train_test_split_test], df_ood_shuffled[:train_test_split_ood]])\n"
   ]
  },
  {
   "cell_type": "code",
   "execution_count": 5,
   "id": "a1dd2945-3fb7-4ca7-9325-397719061827",
   "metadata": {
    "tags": []
   },
   "outputs": [],
   "source": [
    "# merge datasets to single frame\n",
    "fullset = pd.concat([df_test, df_calibration], ignore_index=True)\n",
    "assert fullset.utterance.value_counts().max() == 1, \"Hashes/utterances should be unique in full set\"\n",
    "fullset = fullset.drop(['label', 'hash', 'text'], axis=1)\n",
    "fullset.head()\n",
    "\n",
    "fullset_ood = pd.concat([df_ood_shuffled,df_test,df_calibration])\n",
    "fullset_ood = fullset_ood.drop(['label', 'hash', 'text'], axis=1)\n"
   ]
  },
  {
   "cell_type": "code",
   "execution_count": 6,
   "id": "5e9b56da-47f0-47a0-813f-2635fa283889",
   "metadata": {
    "tags": []
   },
   "outputs": [],
   "source": [
    "# parameters for evaluation\n",
    "X_train = fullset[['utterance']]\n",
    "X_calib = df_calibration[['utterance']]\n",
    "X_test = df_test[['utterance']]\n",
    "\n",
    "X_ood_calib = df_ood_calib[['utterance']]\n",
    "X_ood_test = df_ood_test[['utterance']]\n",
    "\n",
    "\n",
    "a_start = 0.01\n",
    "a_stop = .4\n",
    "a_step = 0.01\n",
    "alpha = np.arange(a_start, a_stop, a_step)\n",
    "\n",
    "max_ps_size = math.ceil(N_INTENTS * .25)\n",
    "max_ps_size = 7\n",
    "\n",
    "target_alpha = .01\n",
    "target_index = index_for_arange(a_start, a_step ,target_alpha)"
   ]
  },
  {
   "cell_type": "code",
   "execution_count": 7,
   "id": "7d4c5bc0-fe51-4dfd-aab0-888fd479a40b",
   "metadata": {
    "tags": []
   },
   "outputs": [
    {
     "ename": "NameError",
     "evalue": "name 'df_ood' is not defined",
     "output_type": "error",
     "traceback": [
      "\u001b[0;31m---------------------------------------------------------------------------\u001b[0m",
      "\u001b[0;31mNameError\u001b[0m                                 Traceback (most recent call last)",
      "\u001b[1;32m/Users/floris/Documents/archive/publications/cicc/cicc/cicc_banking77_bert.ipynb Cell 7\u001b[0m line \u001b[0;36m9\n\u001b[1;32m      <a href='vscode-notebook-cell:/Users/floris/Documents/archive/publications/cicc/cicc/cicc_banking77_bert.ipynb#W6sZmlsZQ%3D%3D?line=5'>6</a>\u001b[0m \u001b[39m# model_ood.fit(X_ood, df_ood['label'])\u001b[39;00m\n\u001b[1;32m      <a href='vscode-notebook-cell:/Users/floris/Documents/archive/publications/cicc/cicc/cicc_banking77_bert.ipynb#W6sZmlsZQ%3D%3D?line=6'>7</a>\u001b[0m \u001b[39m# extract the test targets from the datasets\u001b[39;00m\n\u001b[1;32m      <a href='vscode-notebook-cell:/Users/floris/Documents/archive/publications/cicc/cicc/cicc_banking77_bert.ipynb#W6sZmlsZQ%3D%3D?line=7'>8</a>\u001b[0m y_test \u001b[39m=\u001b[39m df_test[\u001b[39m'\u001b[39m\u001b[39mlabel\u001b[39m\u001b[39m'\u001b[39m]\u001b[39m.\u001b[39mapply(\u001b[39mlambda\u001b[39;00m lbl: \u001b[39mlist\u001b[39m(model\u001b[39m.\u001b[39mclasses_)\u001b[39m.\u001b[39mindex(lbl))\n\u001b[0;32m----> <a href='vscode-notebook-cell:/Users/floris/Documents/archive/publications/cicc/cicc/cicc_banking77_bert.ipynb#W6sZmlsZQ%3D%3D?line=8'>9</a>\u001b[0m y_ood \u001b[39m=\u001b[39m df_ood[\u001b[39m'\u001b[39m\u001b[39mlabel\u001b[39m\u001b[39m'\u001b[39m]\n",
      "\u001b[0;31mNameError\u001b[0m: name 'df_ood' is not defined"
     ]
    }
   ],
   "source": [
    "# instantiate a mock sklearn model which simply looks up the results in a lookup table\n",
    "model = MockModel(fullset, 'utterance', softmax=False)\n",
    "model_ood = MockModel(fullset_ood, 'utterance', softmax=False)\n",
    "# fit the test dataset\n",
    "model.fit(X_test, df_test['label'])\n",
    "# model_ood.fit(X_ood, df_ood['label'])\n",
    "# extract the test targets from the datasets\n",
    "y_test = df_test['label'].apply(lambda lbl: list(model.classes_).index(lbl))\n",
    "y_ood = df_ood['label']"
   ]
  },
  {
   "cell_type": "code",
   "execution_count": null,
   "id": "2dacf640-6c20-4f5d-82e9-f694a7fc763d",
   "metadata": {
    "tags": []
   },
   "outputs": [
    {
     "name": "stderr",
     "output_type": "stream",
     "text": [
      "/Users/floris/Documents/archive/publications/cicc/cicc/src/eval.py:101: UserWarning: Warning: converting a masked element to nan.\n",
      "  return float(agg_width)\n"
     ]
    },
    {
     "data": {
      "text/plain": [
       "(0.9814595660749507,\n",
       " 0.7856324035154757,\n",
       " 2.8997912317327765,\n",
       " 0.03591899121131066)"
      ]
     },
     "execution_count": 28,
     "metadata": {},
     "output_type": "execute_result"
    }
   ],
   "source": [
    "# marginal conformal prediction\n",
    "mapie_marginal = MapieClassifier(estimator=model, cv=\"prefit\", method=\"score\", random_state=42)\n",
    "mapie_marginal.fit(X_calib, df_calibration['label'])\n",
    "y_pred_marginal, y_ps_marginal = mapie_marginal.predict(X_test, alpha=alpha)\n",
    "\n",
    "\n",
    "coverages_marginal = [\n",
    "    classification_coverage_score(y_test, y_ps_marginal[:, :, i])\n",
    "    for i, _ in enumerate(alpha)\n",
    "]\n",
    "cqsize_marginal = [\n",
    "    adjusted_classification_x_width_score(y_ps_marginal[:, :, i], np.mean,max_ps_size)\n",
    "    for i, _ in enumerate(alpha)\n",
    "]\n",
    "single_marginal = [\n",
    "    set_size_equals(y_ps_marginal[:,:,i], 1)\n",
    "    for i, _ in enumerate(alpha)\n",
    "]\n",
    "ambiguous_marginal = [\n",
    "    (y_ps_marginal[:, :, i].sum(axis=1) >= max_ps_size).mean()\n",
    "    for i, _ in enumerate(alpha)\n",
    "]\n",
    "ssc_marginal = [\n",
    "    size_stratified_classification_coverage_score(y_test, y_ps_marginal[:, :, i])\n",
    "    for i, _ in enumerate(alpha)\n",
    "]\n",
    "\n",
    "results = cq_stats(y_ps_marginal[:, :, target_index], y_test, max_ps_size)\n",
    "\n",
    "write_results('banking77-bert-cicc', dataset, intent_classifier, 'cicc', results)\n",
    "results"
   ]
  },
  {
   "cell_type": "code",
   "execution_count": null,
   "id": "22e7584f-d77c-4fe6-a47d-36d2bad9e77c",
   "metadata": {
    "tags": []
   },
   "outputs": [
    {
     "data": {
      "text/plain": [
       "(0.9852445193929174,\n",
       " 0.8012991975544517,\n",
       " 3.021818181818182,\n",
       " 0.09858616736721437)"
      ]
     },
     "execution_count": 29,
     "metadata": {},
     "output_type": "execute_result"
    }
   ],
   "source": [
    "# adaptive conformal prediction\n",
    "mapie_adaptive = MapieClassifier(estimator=model, cv=\"prefit\", method=\"cumulated_score\", random_state=42)\n",
    "mapie_adaptive.fit(X_calib, df_calibration['label'])\n",
    "y_pred_adaptive, y_ps_adaptive = mapie_adaptive.predict(X_test, alpha=alpha)\n",
    "\n",
    "\n",
    "coverages_adaptive = [\n",
    "    classification_coverage_score(y_test, y_ps_adaptive[:, :, i])\n",
    "    for i, _ in enumerate(alpha)\n",
    "]\n",
    "cqsize_adaptive = [\n",
    "    adjusted_classification_x_width_score(y_ps_adaptive[:, :, i], np.mean,max_ps_size)\n",
    "    for i, _ in enumerate(alpha)\n",
    "]\n",
    "single_adaptive = [\n",
    "    set_size_equals(y_ps_adaptive[:,:,i], 1)\n",
    "    for i, _ in enumerate(alpha)\n",
    "]\n",
    "ambiguous_adaptive = [\n",
    "    (y_ps_adaptive[:, :, i].sum(axis=1) >= max_ps_size).mean()\n",
    "    for i, _ in enumerate(alpha)\n",
    "]\n",
    "ssc_adaptive = [\n",
    "    size_stratified_classification_coverage_score(y_test, y_ps_adaptive[:, :, i])\n",
    "    for i, _ in enumerate(alpha)\n",
    "]\n",
    "\n",
    "cq_stats(y_ps_adaptive[:, :, target_index], y_test, max_ps_size)"
   ]
  },
  {
   "cell_type": "code",
   "execution_count": null,
   "id": "b5878c79-c2cb-4d63-a9cd-16961219311c",
   "metadata": {
    "tags": []
   },
   "outputs": [
    {
     "name": "stderr",
     "output_type": "stream",
     "text": [
      "/Users/floris/Documents/archive/publications/cicc/cicc/src/eval.py:101: UserWarning: Warning: converting a masked element to nan.\n",
      "  return float(agg_width)\n"
     ]
    },
    {
     "data": {
      "text/plain": [
       "(0.9881543752388231, 0.0, 5.0, 0.0)"
      ]
     },
     "execution_count": 30,
     "metadata": {},
     "output_type": "execute_result"
    }
   ],
   "source": [
    "# TOP-K conformal prediction\n",
    "mapie_topk = MapieClassifier(estimator=model, cv=\"prefit\", method=\"top_k\", random_state=42)\n",
    "mapie_topk.fit(X_calib, df_calibration['label'])\n",
    "y_pred_topk, y_ps_topk = mapie_topk.predict(X_test, alpha=alpha)\n",
    "\n",
    "\n",
    "coverages_topk = [\n",
    "    classification_coverage_score(y_test, y_ps_topk[:, :, i])\n",
    "    for i, _ in enumerate(alpha)\n",
    "]\n",
    "cqsize_topk = [\n",
    "    adjusted_classification_x_width_score(y_ps_topk[:, :, i], np.mean,max_ps_size)\n",
    "    for i, _ in enumerate(alpha)\n",
    "]\n",
    "single_topk = [\n",
    "    set_size_equals(y_ps_topk[:,:,i], 1)\n",
    "    for i, _ in enumerate(alpha)\n",
    "]\n",
    "ambiguous_topk = [\n",
    "    (y_ps_topk[:, :, i].sum(axis=1) >= max_ps_size).mean()\n",
    "    for i, _ in enumerate(alpha)\n",
    "]\n",
    "ssc_topk = [\n",
    "    size_stratified_classification_coverage_score(y_test, y_ps_topk[:, :, i])\n",
    "    for i, _ in enumerate(alpha)\n",
    "]\n",
    "\n",
    "cq_stats(y_ps_topk[:, :, target_index], y_test, max_ps_size)"
   ]
  },
  {
   "cell_type": "code",
   "execution_count": null,
   "id": "802ced47-cf35-4648-9dab-49bc0daabe82",
   "metadata": {
    "tags": []
   },
   "outputs": [
    {
     "data": {
      "text/plain": [
       "(0.9847153228888039, 0.5487199082919373, 4.266723116003387, 0.0)"
      ]
     },
     "execution_count": 31,
     "metadata": {},
     "output_type": "execute_result"
    }
   ],
   "source": [
    "# RAPS\n",
    "mapie_raps = MapieClassifier(estimator=model, cv=\"prefit\", method=\"raps\")\n",
    "mapie_raps.fit(X_calib, df_calibration['label'])\n",
    "y_pred_raps, y_ps_raps = mapie_raps.predict(X_test, alpha=alpha)\n",
    "\n",
    "\n",
    "coverages_raps = [\n",
    "    classification_coverage_score(y_test, y_ps_raps[:, :, i])\n",
    "    for i, _ in enumerate(alpha)\n",
    "]\n",
    "cqsize_raps = [\n",
    "    adjusted_classification_x_width_score(y_ps_raps[:, :, i], np.mean,max_ps_size)\n",
    "    for i, _ in enumerate(alpha)\n",
    "]\n",
    "single_raps = [\n",
    "    set_size_equals(y_ps_raps[:,:,i], 1)\n",
    "    for i, _ in enumerate(alpha)\n",
    "]\n",
    "ambiguous_raps = [\n",
    "    (y_ps_raps[:, :, i].sum(axis=1) >= max_ps_size).mean()\n",
    "    for i, _ in enumerate(alpha)\n",
    "]\n",
    "ssc_raps = [\n",
    "    size_stratified_classification_coverage_score(y_test, y_ps_raps[:, :, i])\n",
    "    for i, _ in enumerate(alpha)\n",
    "]\n",
    "\n",
    "cq_stats(y_ps_raps[:, :, target_index], y_test, max_ps_size)"
   ]
  },
  {
   "cell_type": "code",
   "execution_count": null,
   "id": "bdc5c834",
   "metadata": {},
   "outputs": [
    {
     "data": {
      "text/plain": [
       "(0.9701948796331678, 0.9044707680550248, 5.0, 0.0)"
      ]
     },
     "execution_count": 32,
     "metadata": {},
     "output_type": "execute_result"
    }
   ],
   "source": [
    "# heuristic 1: select all classes above a certain cutoff or the top-5 if there are none\n",
    "topk_cutoff = TopKCutoffSelector(estimator=model, cutoff=1-target_alpha, k=5)\n",
    "y_ps_h1 = topk_cutoff.predict(X_test)\n",
    "results = cq_stats(y_ps_h1, y_test, max_ps_size)\n",
    "write_results('banking77-bert-h1', dataset, intent_classifier, 'h1', results)\n",
    "results"
   ]
  },
  {
   "cell_type": "code",
   "execution_count": null,
   "id": "0cfd2cbd",
   "metadata": {},
   "outputs": [
    {
     "name": "stderr",
     "output_type": "stream",
     "text": [
      "/Users/floris/Documents/archive/publications/cicc/cicc/src/eval.py:101: UserWarning: Warning: converting a masked element to nan.\n",
      "  return float(agg_width)\n"
     ]
    },
    {
     "data": {
      "text/plain": [
       "(0.9323653037829576, 1.0, nan, 0.0)"
      ]
     },
     "execution_count": 33,
     "metadata": {},
     "output_type": "execute_result"
    }
   ],
   "source": [
    "top_95 = HeuristicCutoffSelector(estimator=model, cutoff=1-target_alpha)\n",
    "y_ps_h2 = top_95.predict(X_test)\n",
    "results = cq_stats(y_ps_h2, y_test, max_ps_size)\n",
    "write_results('banking77-bert-h2', dataset, intent_classifier, 'h2', results)\n",
    "results"
   ]
  },
  {
   "cell_type": "code",
   "execution_count": null,
   "id": "630f3659-2e17-4058-a407-9dba6b9fae52",
   "metadata": {
    "tags": []
   },
   "outputs": [
    {
     "data": {
      "text/plain": [
       "(0.9881543752388231, 0.0, 5.0, 0.0)"
      ]
     },
     "execution_count": 34,
     "metadata": {},
     "output_type": "execute_result"
    }
   ],
   "source": [
    "topk_5 = TopKSelector(estimator=model, k=5)\n",
    "y_ps_h3 = topk_5.predict(X_test)\n",
    "\n",
    "results = cq_stats(y_ps_h3, y_test, max_ps_size)\n",
    "write_results('banking77-bert-h3', dataset, intent_classifier, 'h3', results)\n",
    "results"
   ]
  },
  {
   "cell_type": "code",
   "execution_count": null,
   "id": "cf84eaa7-7195-42d2-9803-4fc903b380db",
   "metadata": {
    "tags": []
   },
   "outputs": [
    {
     "data": {
      "image/png": "[encoded data removed]",
      "text/plain": [
       "<Figure size 303.149x224.828 with 1 Axes>"
      ]
     },
     "metadata": {},
     "output_type": "display_data"
    }
   ],
   "source": [
    "to_plot = [\n",
    "    (y_ps_marginal, 'marginal', '-', None),\n",
    "    (y_ps_adaptive, 'adaptive', '--', None),\n",
    "    (y_ps_raps, 'RAPS', '-.', None),\n",
    "    # (y_ps_topkmapie, 'TOPK', ':', None),\n",
    "    # (y_ps_top_5_95, 'heuristic a', 'dashed', 'black'),\n",
    "    # (y_ps_top_95,  'heuristic b', 'dotted', 'black'),\n",
    "    # (y_ps_topk_5,  'heuristic c', '-.', 'black'),\n",
    "]\n",
    "fig, ax = plt.subplots(1, 1, figsize=plot.fig_dim_1)\n",
    "for (resultset, label, style, color) in to_plot:\n",
    "    if len(label) > len('heuristic') and label[:len('heuristic')] == 'heuristic':\n",
    "        to_plot_result = resultset\n",
    "    else:\n",
    "        to_plot_result = resultset[:, :, target_index]\n",
    "    ax.plot(\n",
    "        np.cumsum([set_size_equals(to_plot_result, i) for i in range(78)]),\n",
    "        label=label,\n",
    "        linestyle=style,\n",
    "        color=color,\n",
    "        linewidth=3,\n",
    "        alpha=.8)\n",
    "    # ax.set_xscale('log')\n",
    "plt.xlabel('Set size <')\n",
    "plt.ylabel('# samples')\n",
    "plt.title(f'{dataset} {intent_classifier}'.format(target_alpha))\n",
    "plt.legend(handlelength=3.5)\n",
    "plt.tight_layout()\n",
    "plt.savefig(f'results/cum_set_size_{dataset}_{intent_classifier}.png', dpi=1200)"
   ]
  },
  {
   "cell_type": "code",
   "execution_count": null,
   "id": "8b7d01bf-b41d-4bbb-b121-44c17cb0a631",
   "metadata": {
    "tags": []
   },
   "outputs": [
    {
     "data": {
      "text/plain": [
       "82"
      ]
     },
     "execution_count": 36,
     "metadata": {},
     "output_type": "execute_result"
    }
   ],
   "source": [
    "y_ps_which = y_ps_marginal\n",
    "ambiguous_indices = np.where((y_ps_which[:, :, target_index].sum(axis=1) > max_ps_size))\n",
    "ambiguous = df_test.loc[ambiguous_indices]\n",
    "len(list(zip(ambiguous.index,[ labels[l] for l in ambiguous.label.tolist()], ambiguous.text.tolist())))"
   ]
  },
  {
   "cell_type": "code",
   "execution_count": null,
   "id": "fb5e7c35-7990-4491-aa61-016575b8f9fb",
   "metadata": {
    "tags": []
   },
   "outputs": [
    {
     "name": "stdout",
     "output_type": "stream",
     "text": [
      "what is the matter? & direct debit payment not recognised & activate my card, age limit, balance not updated after bank transfer, balance not updated after cheque or cash deposit, beneficiary not allowed, cancel transfer, card arrival, card delivery estimate, card not working, card swallowed, cash withdrawal not recognised, change pin, compromised card, contactless not working, country support, declined card payment, declined transfer, direct debit payment not recognised, exchange rate, failed transfer, get physical card, lost or stolen card, lost or stolen phone, pending card payment, pending cash withdrawal, pending transfer, pin blocked, Refund not showing up, reverted card payment?, terminate account, top up failed, top up reverted, transaction charged twice, transfer not received by recipient, transfer timing, unable to verify identity, why verify identity, wrong amount of cash received \\\\\n",
      "Can I choose when my card is delivered? & card delivery estimate & activate my card, card about to expire, card acceptance, card arrival, card delivery estimate, change pin, contactless not working, country support, get physical card, getting spare card, getting virtual card, lost or stolen card, order physical card, supported cards and currencies, top up by bank transfer charge, top up by card charge, visa or mastercard \\\\\n",
      "My contanctless has stopped working & contactless not working & activate my card, apple pay or google pay, automatic top up, beneficiary not allowed, cancel transfer, card not working, card payment wrong exchange rate, contactless not working, declined card payment, disposable card limits, failed transfer, get disposable virtual card, get physical card, pending top up, pin blocked, top up failed, top up reverted, topping up by card, virtual card not working, visa or mastercard, wrong exchange rate for cash withdrawal \\\\\n",
      "I misplaced my card and I dont know where the last place is where I used the card last. Can you look at my account and tell me the last place I used the card? & lost or stolen card & activate my card, atm support, card acceptance, card linking, card swallowed, cash withdrawal not recognised, compromised card, lost or stolen card, lost or stolen phone, order physical card, pin blocked \\\\\n",
      "Is my card denied anywhere? & card acceptance & atm support, card acceptance, card not working, card payment fee charged, card swallowed, compromised card, contactless not working, declined card payment, lost or stolen card, lost or stolen phone, order physical card, unable to verify identity, visa or mastercard \\\\\n",
      "I can't add any more money. & top up failed & age limit, automatic top up, balance not updated after bank transfer, cancel transfer, card about to expire, card payment fee charged, card payment not recognised, compromised card, contactless not working, declined card payment, declined cash withdrawal, declined transfer, edit personal details, extra charge on statement, failed transfer, getting spare card, pending cash withdrawal, pending top up, pending transfer, receiving money, request refund, reverted card payment?, supported cards and currencies, terminate account, top up by bank transfer charge, top up by card charge, top up by cash or cheque, top up failed, top up limits, top up reverted, topping up by card, virtual card not working, why verify identity \\\\\n",
      "How can I put more money into my account? & top up by cash or cheque & age limit, automatic top up, beneficiary not allowed, exchange rate, fiat currency support, getting spare card, passcode forgotten, receiving money, supported cards and currencies, top up by bank transfer charge, top up by cash or cheque, top up limits, topping up by card, transfer into account, transfer timing, verify source of funds, why verify identity \\\\\n",
      "What can I do to verify my card? & verify top up & activate my card, apple pay or google pay, card acceptance, card arrival, card delivery estimate, card linking, card not working, card payment fee charged, compromised card, contactless not working, get disposable virtual card, lost or stolen card, passcode forgotten, supported cards and currencies, unable to verify identity, verify my identity, verify source of funds, verify top up, why verify identity \\\\\n",
      "who charged my card & transfer fee charged & card acceptance, card payment fee charged, card payment not recognised, compromised card, direct debit payment not recognised, extra charge on statement, getting spare card, order physical card, supported cards and currencies, top up by card charge \\\\\n",
      "What is the first step I need to make for being able to access my account? & why verify identity & activate my card, atm support, card arrival, card linking, edit personal details, get physical card, passcode forgotten, supported cards and currencies, top up by cash or cheque, top up limits, topping up by card, transfer into account, unable to verify identity, verify my identity, verify source of funds, verify top up, why verify identity \\\\\n",
      "Am I able to Top Up with Apply Pay? & apple pay or google pay & apple pay or google pay, atm support, automatic top up, card acceptance, card delivery estimate, card payment fee charged, exchange charge, receiving money, supported cards and currencies, top up by bank transfer charge, top up by card charge, top up by cash or cheque, top up limits, topping up by card \\\\\n",
      "WHAT IS THE ATMOSPHERE OF IT & card acceptance & activate my card, age limit, apple pay or google pay, atm support, automatic top up, balance not updated after bank transfer, balance not updated after cheque or cash deposit, beneficiary not allowed, cancel transfer, card about to expire, card acceptance, card arrival, card delivery estimate, card linking, card payment not recognised, card payment wrong exchange rate, card swallowed, cash withdrawal charge, change pin, contactless not working, country support, declined card payment, declined cash withdrawal, declined transfer, direct debit payment not recognised, disposable card limits, edit personal details, exchange charge, exchange rate, exchange via app, failed transfer, fiat currency support, get disposable virtual card, get physical card, getting spare card, getting virtual card, lost or stolen card, lost or stolen phone, order physical card, passcode forgotten, pending card payment, pending cash withdrawal, pending transfer, pin blocked, receiving money, Refund not showing up, request refund, supported cards and currencies, terminate account, top up by bank transfer charge, top up by card charge, top up limits, top up reverted, topping up by card, transfer fee charged, transfer into account, transfer not received by recipient, transfer timing, verify my identity, verify source of funds, verify top up, virtual card not working, visa or mastercard, why verify identity, wrong amount of cash received, wrong exchange rate for cash withdrawal \\\\\n",
      "I am being charged the wrong amount on my card. & card payment wrong exchange rate & cancel transfer, card arrival, card payment fee charged, card payment not recognised, card payment wrong exchange rate, cash withdrawal not recognised, declined card payment, exchange charge, extra charge on statement, pending top up, top up failed, virtual card not working, wrong amount of cash received, wrong exchange rate for cash withdrawal \\\\\n",
      "I just replaced my phone but how do I use my card information? & lost or stolen phone & apple pay or google pay, atm support, card swallowed, change pin, exchange via app, lost or stolen card, lost or stolen phone, topping up by card \\\\\n",
      "why wont my american express work to add money & supported cards and currencies & activate my card, apple pay or google pay, automatic top up, card acceptance, card linking, card not working, card payment not recognised, card payment wrong exchange rate, compromised card, contactless not working, edit personal details, exchange via app, failed transfer, reverted card payment?, supported cards and currencies, terminate account, top up by card charge, top up by cash or cheque, top up failed, top up reverted, topping up by card, virtual card not working, visa or mastercard \\\\\n",
      "help my money isnt showing up & balance not updated after bank transfer & balance not updated after bank transfer, balance not updated after cheque or cash deposit, declined transfer, exchange rate, failed transfer, pending card payment, pending cash withdrawal, pending top up, pending transfer, Refund not showing up, reverted card payment?, top up failed, top up reverted, topping up by card, transfer not received by recipient, transfer timing \\\\\n",
      "What fees do you charge for the standard card? & order physical card & activate my card, atm support, card about to expire, card acceptance, card delivery estimate, card payment fee charged, change pin, contactless not working, disposable card limits, exchange charge, get disposable virtual card, getting spare card, getting virtual card, order physical card, supported cards and currencies, top up by bank transfer charge, top up by card charge, visa or mastercard \\\\\n",
      "What are the steps to finishing up with this account? & terminate account & automatic top up, balance not updated after bank transfer, balance not updated after cheque or cash deposit, beneficiary not allowed, cancel transfer, card about to expire, card delivery estimate, edit personal details, exchange rate, failed transfer, get physical card, pending top up, pending transfer, request refund, terminate account, top up by cash or cheque, top up limits, top up reverted, topping up by card, transfer into account, transfer timing, verify top up \\\\\n",
      "I lost my wallet and all my cards were in it. & lost or stolen card & apple pay or google pay, atm support, card acceptance, card not working, card payment fee charged, card payment not recognised, card swallowed, cash withdrawal not recognised, change pin, compromised card, lost or stolen card, lost or stolen phone, pin blocked, reverted card payment?, top up by cash or cheque, top up failed, top up reverted, topping up by card, transaction charged twice, verify source of funds, wrong amount of cash received \\\\\n",
      "Is my country supported & country support & age limit, card about to expire, card arrival, country support, exchange charge, exchange via app, fiat currency support, getting spare card, receiving money, supported cards and currencies, top up by bank transfer charge, transfer timing, verify source of funds \\\\\n",
      "what is required documents for new card process ? & contactless not working & activate my card, apple pay or google pay, automatic top up, cancel transfer, card about to expire, card acceptance, card arrival, card delivery estimate, card linking, card not working, card payment fee charged, change pin, compromised card, contactless not working, country support, declined card payment, disposable card limits, edit personal details, exchange rate, exchange via app, failed transfer, get disposable virtual card, get physical card, getting spare card, getting virtual card, lost or stolen card, order physical card, pending card payment, pending top up, receiving money, request refund, reverted card payment?, supported cards and currencies, terminate account, top up by bank transfer charge, top up by card charge, top up by cash or cheque, top up failed, top up limits, top up reverted, topping up by card, transfer not received by recipient, transfer timing, verify my identity, verify top up, virtual card not working, visa or mastercard \\\\\n",
      "When will you be taking orders for disposable virtual cards? & get disposable virtual card & card about to expire, card arrival, card linking, card payment wrong exchange rate, cash withdrawal charge, disposable card limits, exchange charge, exchange via app, extra charge on statement, fiat currency support, get disposable virtual card, get physical card, getting virtual card, order physical card, pending card payment, pending top up, request refund, transfer timing, verify source of funds, virtual card not working, wrong exchange rate for cash withdrawal \\\\\n",
      "Why doesn't it work when I use American Express to try to add money to my account? & supported cards and currencies & activate my card, apple pay or google pay, atm support, automatic top up, card acceptance, card linking, card not working, card payment fee charged, card payment not recognised, card payment wrong exchange rate, compromised card, contactless not working, country support, edit personal details, exchange via app, fiat currency support, lost or stolen card, pending top up, receiving money, supported cards and currencies, terminate account, top up by bank transfer charge, top up by card charge, top up by cash or cheque, top up failed, top up reverted, topping up by card, transfer into account, verify top up, virtual card not working, visa or mastercard, wrong exchange rate for cash withdrawal \\\\\n",
      "i need to expedite my card & card delivery estimate & activate my card, automatic top up, balance not updated after bank transfer, balance not updated after cheque or cash deposit, cancel transfer, card about to expire, card arrival, card delivery estimate, card payment fee charged, card payment wrong exchange rate, cash withdrawal not recognised, contactless not working, country support, edit personal details, exchange rate, extra charge on statement, failed transfer, getting spare card, lost or stolen card, order physical card, pending card payment, pending cash withdrawal, pending top up, pending transfer, request refund, terminate account, top up by bank transfer charge, top up by card charge, top up by cash or cheque, top up failed, top up limits, top up reverted, topping up by card, transfer not received by recipient, transfer timing, visa or mastercard \\\\\n",
      "What's the procedure with currency exchange? & exchange via app & atm support, automatic top up, balance not updated after bank transfer, balance not updated after cheque or cash deposit, card about to expire, card arrival, card delivery estimate, card payment wrong exchange rate, cash withdrawal charge, country support, declined cash withdrawal, exchange charge, exchange rate, exchange via app, fiat currency support, getting virtual card, pending card payment, pending cash withdrawal, receiving money, Refund not showing up, request refund, transfer fee charged, transfer into account, transfer timing, verify source of funds, virtual card not working, wrong exchange rate for cash withdrawal \\\\\n",
      "I want to block my card or deactivate it or something, it's been stolen and I don't want it misused. I want this handled right away. & lost or stolen card & activate my card, card acceptance, card linking, card not working, card swallowed, change pin, compromised card, lost or stolen card, lost or stolen phone, passcode forgotten, pin blocked, unable to verify identity \\\\\n",
      "The terminal I paid at wouldn't take my card. Is something wrong? & contactless not working & beneficiary not allowed, card not working, card swallowed, declined card payment, declined cash withdrawal, declined transfer, lost or stolen card, lost or stolen phone, reverted card payment?, transfer not received by recipient, unable to verify identity \\\\\n",
      "WTF??? I tried to withdraw some money at a Metro bank on High St. Kensington and without any notice it disappeared in the machine. The bank was already closed so I couldn't do anything. How do I get it back? & card swallowed & apple pay or google pay, atm support, balance not updated after cheque or cash deposit, card not working, card swallowed, cash withdrawal charge, cash withdrawal not recognised, declined cash withdrawal, declined transfer, exchange via app, lost or stolen card, lost or stolen phone, pending cash withdrawal, pin blocked, Refund not showing up, request refund, reverted card payment?, top up reverted, topping up by card, transaction charged twice, verify source of funds, wrong amount of cash received, wrong exchange rate for cash withdrawal \\\\\n",
      "Is there a way I can get my card expedited? & card arrival & activate my card, apple pay or google pay, automatic top up, beneficiary not allowed, cancel transfer, card about to expire, card acceptance, card arrival, card delivery estimate, card not working, card payment fee charged, card payment wrong exchange rate, card swallowed, change pin, compromised card, contactless not working, country support, declined card payment, declined transfer, direct debit payment not recognised, disposable card limits, edit personal details, exchange charge, extra charge on statement, failed transfer, get disposable virtual card, get physical card, getting spare card, lost or stolen card, order physical card, pending card payment, pending cash withdrawal, pending top up, pending transfer, receiving money, request refund, reverted card payment?, terminate account, top up by bank transfer charge, top up by card charge, top up failed, top up limits, top up reverted, topping up by card, transaction charged twice, transfer not received by recipient, virtual card not working, visa or mastercard, wrong exchange rate for cash withdrawal \\\\\n",
      "What do I need to know about topping up? & top up by card charge & automatic top up, supported cards and currencies, top up by bank transfer charge, top up by card charge, top up by cash or cheque, top up limits, topping up by card, transfer into account, verify top up \\\\\n",
      "Shopping on line I was declined when trying to buy something. & declined transfer & beneficiary not allowed, card not working, declined card payment, declined cash withdrawal, declined transfer, failed transfer, reverted card payment?, top up failed \\\\\n",
      "There is money missing from my account. & cash withdrawal not recognised & balance not updated after cheque or cash deposit, cash withdrawal not recognised, lost or stolen card, lost or stolen phone, pending cash withdrawal, Refund not showing up, top up reverted, topping up by card, wrong amount of cash received \\\\\n",
      "May monthly payment to Apple has been declined but I don't know why, they are going to re-try the payment and it must go through, can you tell me what is going on please? & declined card payment & beneficiary not allowed, card not working, card payment wrong exchange rate, contactless not working, declined card payment, declined cash withdrawal, declined transfer, failed transfer, pending top up, reverted card payment?, top up failed, top up reverted, virtual card not working \\\\\n",
      "Have a payment that I haven't done. & card payment not recognised & cancel transfer, card arrival, card payment not recognised, direct debit payment not recognised, extra charge on statement, lost or stolen card, pending card payment, pending transfer, request refund, reverted card payment?, transfer not received by recipient \\\\\n",
      "Why did you charge me extra? & extra charge on statement & card payment fee charged, card payment not recognised, card payment wrong exchange rate, cash withdrawal charge, extra charge on statement, top up by bank transfer charge, transaction charged twice, transfer fee charged, wrong exchange rate for cash withdrawal \\\\\n",
      "I just had a wedding and I want to take my spouses name. & edit personal details & activate my card, age limit, atm support, beneficiary not allowed, cancel transfer, card about to expire, card arrival, card delivery estimate, card linking, card payment not recognised, card swallowed, change pin, country support, disposable card limits, edit personal details, exchange rate, exchange via app, fiat currency support, get physical card, getting spare card, getting virtual card, order physical card, pending card payment, pending cash withdrawal, pending top up, pending transfer, receiving money, request refund, reverted card payment?, supported cards and currencies, terminate account, top up by bank transfer charge, top up failed, top up limits, transaction charged twice, transfer fee charged, transfer into account, transfer not received by recipient, transfer timing, unable to verify identity, verify my identity, verify source of funds, verify top up, virtual card not working, visa or mastercard, why verify identity, wrong exchange rate for cash withdrawal \\\\\n",
      "Why is my debit card being declined when I have money? & declined card payment & beneficiary not allowed, card not working, card swallowed, cash withdrawal not recognised, declined card payment, declined cash withdrawal, declined transfer, pending cash withdrawal, Refund not showing up, top up failed, wrong amount of cash received, wrong exchange rate for cash withdrawal \\\\\n",
      "I am seeing unathorized transactions in the app, on my account. & cash withdrawal not recognised & beneficiary not allowed, card payment fee charged, card payment not recognised, cash withdrawal not recognised, change pin, compromised card, direct debit payment not recognised, extra charge on statement, lost or stolen card, lost or stolen phone, passcode forgotten, reverted card payment?, supported cards and currencies, transaction charged twice, transfer fee charged, unable to verify identity, verify top up, why verify identity \\\\\n",
      "How do I know how much money I will have when I travel abroad? & exchange rate & age limit, automatic top up, balance not updated after bank transfer, card arrival, card payment wrong exchange rate, cash withdrawal charge, country support, disposable card limits, exchange charge, exchange rate, fiat currency support, top up by bank transfer charge, top up limits, transfer timing, verify source of funds, wrong amount of cash received, wrong exchange rate for cash withdrawal \\\\\n",
      "How long will this take to get to me? & card delivery estimate & balance not updated after bank transfer, balance not updated after cheque or cash deposit, card arrival, card delivery estimate, country support, pending card payment, pending transfer, transfer not received by recipient, transfer timing \\\\\n",
      "How do I contact customer support about a transfer? & declined transfer & activate my card, age limit, apple pay or google pay, atm support, automatic top up, balance not updated after bank transfer, beneficiary not allowed, cancel transfer, card acceptance, card arrival, card delivery estimate, card linking, card payment not recognised, change pin, compromised card, contactless not working, country support, declined transfer, edit personal details, exchange charge, failed transfer, lost or stolen card, pending card payment, pending transfer, receiving money, request refund, supported cards and currencies, terminate account, top up by bank transfer charge, top up by card charge, top up by cash or cheque, top up failed, topping up by card, transfer into account, transfer not received by recipient, transfer timing, verify my identity, verify source of funds, verify top up \\\\\n",
      "Why has my payment not transferred? & failed transfer & balance not updated after bank transfer, balance not updated after cheque or cash deposit, cancel transfer, declined card payment, failed transfer, pending card payment, pending cash withdrawal, pending top up, pending transfer, Refund not showing up, reverted card payment?, top up reverted, transfer not received by recipient, transfer timing \\\\\n",
      "Can I track history on funds? & verify source of funds & age limit, atm support, card about to expire, card arrival, exchange charge, exchange rate, fiat currency support, get physical card, pending card payment, pending top up, pending transfer, receiving money, top up by bank transfer charge, top up reverted, topping up by card, transfer into account, transfer timing, verify source of funds \\\\\n",
      "Is there a fee for european bank cards? & top up by card charge & card about to expire, card delivery estimate, card payment fee charged, country support, exchange charge, getting spare card, order physical card, supported cards and currencies, top up by bank transfer charge, top up by card charge \\\\\n",
      "Can I get a new pin number at any ATM using my card? & change pin & atm support, card arrival, card swallowed, change pin, get physical card, lost or stolen phone, passcode forgotten, pin blocked, verify source of funds, why verify identity \\\\\n",
      "who can put money in my account? & verify source of funds & atm support, exchange via app, receiving money, supported cards and currencies, top up by bank transfer charge, top up by cash or cheque, topping up by card, transfer into account, verify source of funds \\\\\n",
      "I have money in a foreign account that I want to send to this account. & transfer into account & atm support, beneficiary not allowed, card payment not recognised, country support, exchange charge, exchange rate, exchange via app, fiat currency support, getting spare card, passcode forgotten, receiving money, supported cards and currencies, top up by bank transfer charge, top up by cash or cheque, topping up by card, transfer into account, transfer timing, verify source of funds, verify top up \\\\\n",
      "What are the currency types that I can keep money in. & fiat currency support & atm support, exchange charge, exchange via app, fiat currency support, receiving money, supported cards and currencies, verify source of funds, wrong exchange rate for cash withdrawal \\\\\n",
      "I was removing a dollar amount from my account and now don't have access to my card. & card swallowed & balance not updated after cheque or cash deposit, cancel transfer, card about to expire, card arrival, card payment fee charged, card payment not recognised, card payment wrong exchange rate, card swallowed, cash withdrawal charge, cash withdrawal not recognised, declined cash withdrawal, direct debit payment not recognised, exchange charge, extra charge on statement, get physical card, pending card payment, pending top up, receiving money, Refund not showing up, request refund, reverted card payment?, top up by card charge, top up failed, transaction charged twice, virtual card not working, wrong amount of cash received, wrong exchange rate for cash withdrawal \\\\\n",
      "As far as courtries go which ones are supported? & country support & age limit, atm support, beneficiary not allowed, card about to expire, card acceptance, card delivery estimate, card swallowed, change pin, contactless not working, country support, declined transfer, direct debit payment not recognised, exchange charge, exchange via app, fiat currency support, get disposable virtual card, getting spare card, lost or stolen card, order physical card, pending transfer, receiving money, request refund, supported cards and currencies, terminate account, top up by bank transfer charge, top up by card charge, transfer into account, verify my identity, verify source of funds, visa or mastercard, wrong exchange rate for cash withdrawal \\\\\n",
      "I can still see money in my account after making a payment & balance not updated after bank transfer & balance not updated after bank transfer, balance not updated after cheque or cash deposit, card arrival, card not working, card payment fee charged, card payment not recognised, cash withdrawal not recognised, declined card payment, direct debit payment not recognised, exchange rate, extra charge on statement, get physical card, passcode forgotten, pending card payment, pending cash withdrawal, pending top up, pending transfer, Refund not showing up, reverted card payment?, top up by cash or cheque, top up failed, top up limits, top up reverted, topping up by card, transaction charged twice, transfer not received by recipient, transfer timing, verify top up, wrong amount of cash received \\\\\n",
      "Dude I put money in the ATM last week but it ain't there! I need the money now figure this out! & balance not updated after cheque or cash deposit & balance not updated after cheque or cash deposit, card swallowed, cash withdrawal not recognised, declined cash withdrawal, lost or stolen phone, pending cash withdrawal, Refund not showing up, topping up by card, wrong amount of cash received \\\\\n",
      "I hope you can help me. My account has been compromised from a different town that I haven't been to. Can you please place a hold on my account until I can make it to the bank? & cash withdrawal not recognised & apple pay or google pay, atm support, beneficiary not allowed, cancel transfer, card payment not recognised, card payment wrong exchange rate, card swallowed, cash withdrawal not recognised, change pin, compromised card, declined transfer, direct debit payment not recognised, exchange via app, extra charge on statement, failed transfer, lost or stolen card, lost or stolen phone, passcode forgotten, pin blocked, receiving money, reverted card payment?, supported cards and currencies, top up reverted, transaction charged twice, transfer fee charged, unable to verify identity, verify source of funds, wrong amount of cash received \\\\\n",
      "How do i verify my card? & verify top up & activate my card, age limit, apple pay or google pay, automatic top up, card acceptance, card arrival, card delivery estimate, card linking, card not working, card payment fee charged, change pin, compromised card, contactless not working, exchange rate, get disposable virtual card, lost or stolen card, passcode forgotten, supported cards and currencies, top up failed, topping up by card, unable to verify identity, verify my identity, verify source of funds, verify top up, why verify identity \\\\\n",
      "My account is blocked, how do I log in now & pin blocked & beneficiary not allowed, card linking, card swallowed, change pin, compromised card, get physical card, lost or stolen phone, passcode forgotten, pin blocked, unable to verify identity, why verify identity \\\\\n",
      "how do VR cards work & get disposable virtual card & activate my card, apple pay or google pay, card about to expire, card linking, card payment wrong exchange rate, cash withdrawal charge, contactless not working, disposable card limits, exchange via app, get disposable virtual card, get physical card, getting virtual card, order physical card, verify source of funds, virtual card not working, wrong exchange rate for cash withdrawal \\\\\n",
      "What is my money worth in other countries? & exchange rate & age limit, card about to expire, country support, declined transfer, exchange charge, exchange rate, exchange via app, fiat currency support, getting spare card, receiving money, supported cards and currencies, top up limits, transfer timing, verify source of funds, wrong exchange rate for cash withdrawal \\\\\n",
      "I want to start using my card. & activate my card & activate my card, apple pay or google pay, atm support, automatic top up, card acceptance, card delivery estimate, card linking, card not working, card payment fee charged, change pin, compromised card, contactless not working, country support, disposable card limits, edit personal details, get disposable virtual card, getting spare card, getting virtual card, order physical card, supported cards and currencies, terminate account, top up by bank transfer charge, top up by card charge, top up by cash or cheque, top up failed, top up limits, topping up by card, unable to verify identity, verify my identity, verify top up, virtual card not working, visa or mastercard \\\\\n",
      "Why do I have to give you my drivers license & why verify identity & age limit, atm support, automatic top up, beneficiary not allowed, card acceptance, card delivery estimate, card not working, card payment fee charged, card swallowed, change pin, compromised card, country support, declined cash withdrawal, disposable card limits, edit personal details, get disposable virtual card, get physical card, getting spare card, getting virtual card, lost or stolen card, lost or stolen phone, order physical card, passcode forgotten, pending cash withdrawal, pending transfer, receiving money, supported cards and currencies, top up by bank transfer charge, top up by cash or cheque, top up limits, transaction charged twice, transfer fee charged, transfer into account, unable to verify identity, verify my identity, verify top up, visa or mastercard, why verify identity \\\\\n",
      "I had a decline on my card. Why? & declined card payment & card not working, card payment wrong exchange rate, declined card payment, declined cash withdrawal, declined transfer, pending top up, reverted card payment?, top up failed, top up reverted, virtual card not working \\\\\n",
      "I've been waiting since Friday, where is my money? & transfer not received by recipient & balance not updated after bank transfer, balance not updated after cheque or cash deposit, card arrival, card delivery estimate, pending card payment, pending cash withdrawal, pending top up, pending transfer, transfer not received by recipient, transfer timing, wrong amount of cash received \\\\\n",
      "Why did I get charged extra? & card payment fee charged & card payment fee charged, card payment not recognised, card payment wrong exchange rate, cash withdrawal charge, extra charge on statement, transaction charged twice, transfer fee charged, wrong exchange rate for cash withdrawal \\\\\n",
      "When will the transaction post to my account? & pending transfer & balance not updated after bank transfer, balance not updated after cheque or cash deposit, card delivery estimate, pending card payment, pending cash withdrawal, pending top up, pending transfer, Refund not showing up, transfer not received by recipient, transfer timing \\\\\n",
      "I just had a look at my statement. Why have I been changed for using the ATM? & cash withdrawal charge & age limit, atm support, balance not updated after bank transfer, balance not updated after cheque or cash deposit, beneficiary not allowed, cancel transfer, card about to expire, card arrival, card not working, card payment fee charged, card payment not recognised, card payment wrong exchange rate, card swallowed, cash withdrawal charge, cash withdrawal not recognised, change pin, compromised card, declined cash withdrawal, declined transfer, direct debit payment not recognised, disposable card limits, edit personal details, exchange rate, exchange via app, extra charge on statement, get disposable virtual card, getting spare card, getting virtual card, lost or stolen card, lost or stolen phone, order physical card, pending cash withdrawal, pin blocked, receiving money, Refund not showing up, request refund, reverted card payment?, top up by card charge, top up limits, top up reverted, topping up by card, transaction charged twice, transfer fee charged, transfer into account, transfer not received by recipient, unable to verify identity, verify my identity, verify source of funds, verify top up, virtual card not working, why verify identity, wrong amount of cash received, wrong exchange rate for cash withdrawal \\\\\n",
      "I sent a payment but it isn't showing up in the app & transfer not received by recipient & card linking, card payment not recognised, cash withdrawal not recognised, declined card payment, direct debit payment not recognised, extra charge on statement, pending card payment, Refund not showing up, request refund, reverted card payment?, top up reverted, transfer not received by recipient, unable to verify identity \\\\\n",
      "If I want a friend to top off my account, can they? & topping up by card & activate my card, age limit, apple pay or google pay, atm support, automatic top up, card acceptance, card delivery estimate, compromised card, contactless not working, country support, edit personal details, fiat currency support, getting spare card, receiving money, supported cards and currencies, top up by bank transfer charge, top up by card charge, top up by cash or cheque, top up failed, top up limits, topping up by card, transfer into account, verify my identity, verify source of funds, verify top up, visa or mastercard \\\\\n",
      "I tried to use my debit card, but the payment did not work. & reverted card payment? & beneficiary not allowed, card acceptance, card not working, card payment fee charged, card payment not recognised, card payment wrong exchange rate, cash withdrawal not recognised, compromised card, contactless not working, country support, declined card payment, declined cash withdrawal, declined transfer, direct debit payment not recognised, extra charge on statement, failed transfer, passcode forgotten, Refund not showing up, reverted card payment?, top up failed, top up reverted, transaction charged twice, transfer fee charged, transfer not received by recipient, unable to verify identity, wrong amount of cash received \\\\\n",
      "My product was faulty. & request refund & apple pay or google pay, balance not updated after bank transfer, beneficiary not allowed, cancel transfer, card about to expire, card arrival, card delivery estimate, card not working, card payment not recognised, card payment wrong exchange rate, cash withdrawal not recognised, change pin, compromised card, contactless not working, country support, declined card payment, declined cash withdrawal, declined transfer, direct debit payment not recognised, edit personal details, extra charge on statement, failed transfer, get physical card, lost or stolen card, pending card payment, pending top up, pending transfer, pin blocked, receiving money, request refund, reverted card payment?, terminate account, top up by bank transfer charge, top up by card charge, top up failed, top up reverted, transfer not received by recipient, verify source of funds, virtual card not working, wrong amount of cash received, wrong exchange rate for cash withdrawal \\\\\n",
      "Has there been any activity on my card today? & lost or stolen card & activate my card, apple pay or google pay, automatic top up, balance not updated after cheque or cash deposit, card acceptance, card arrival, card delivery estimate, card linking, card not working, card payment not recognised, cash withdrawal not recognised, compromised card, contactless not working, declined card payment, get physical card, lost or stolen card, lost or stolen phone, pending card payment, pending cash withdrawal, pending top up, reverted card payment?, top up failed, top up reverted, topping up by card, verify top up \\\\\n",
      "Do you offer services for children to have money saving experience? & age limit & activate my card, age limit, atm support, card acceptance, card swallowed, change pin, country support, edit personal details, exchange via app, fiat currency support, getting spare card, receiving money, supported cards and currencies, top up by bank transfer charge, top up by cash or cheque, topping up by card, transfer into account, verify my identity, verify source of funds \\\\\n",
      "Is a physical charge extra & order physical card & age limit, card payment fee charged, card payment wrong exchange rate, disposable card limits, exchange charge, extra charge on statement, getting spare card, top up by bank transfer charge, top up by card charge, top up limits, transaction charged twice, transfer fee charged, why verify identity \\\\\n",
      "The money is still in my account even though I already paid -- I don't understand what happened. & reverted card payment? & balance not updated after cheque or cash deposit, extra charge on statement, pending card payment, pending cash withdrawal, pending top up, pending transfer, Refund not showing up, request refund, reverted card payment?, transfer not received by recipient \\\\\n",
      "are you sending me my card? & card delivery estimate & card about to expire, card acceptance, card arrival, card delivery estimate, contactless not working, country support, get physical card, getting spare card, lost or stolen card, order physical card, top up by bank transfer charge, top up by card charge \\\\\n",
      "Can I still use the app if I switched phones? & lost or stolen phone & activate my card, apple pay or google pay, atm support, card acceptance, card linking, card payment wrong exchange rate, card swallowed, cash withdrawal not recognised, change pin, compromised card, contactless not working, edit personal details, exchange via app, fiat currency support, get disposable virtual card, getting virtual card, lost or stolen card, lost or stolen phone, order physical card, passcode forgotten, receiving money, topping up by card, virtual card not working \\\\\n",
      "I need to know why a money transfer is available. & pending transfer & balance not updated after bank transfer, beneficiary not allowed, card payment not recognised, card payment wrong exchange rate, declined cash withdrawal, declined transfer, direct debit payment not recognised, failed transfer, passcode forgotten, reverted card payment?, top up by bank transfer charge, transaction charged twice, transfer fee charged, transfer into account, why verify identity, wrong exchange rate for cash withdrawal \\\\\n",
      "The card has suffered a security breach. & compromised card & apple pay or google pay, beneficiary not allowed, cancel transfer, card acceptance, card not working, card payment not recognised, card payment wrong exchange rate, card swallowed, cash withdrawal not recognised, change pin, compromised card, contactless not working, declined card payment, direct debit payment not recognised, lost or stolen card, lost or stolen phone, pin blocked, reverted card payment?, top up failed, transaction charged twice, transfer not received by recipient, unable to verify identity, virtual card not working \\\\\n",
      "Can I make online purchases with my card? & card acceptance & atm support, card acceptance, card linking, contactless not working, country support, exchange via app, get disposable virtual card, order physical card, supported cards and currencies, terminate account, visa or mastercard \\\\\n",
      "I put some money in my account the other day but now its gone? Why is this? & top up reverted & balance not updated after bank transfer, balance not updated after cheque or cash deposit, cash withdrawal not recognised, pending cash withdrawal, pending top up, Refund not showing up, request refund, reverted card payment?, top up reverted, topping up by card \\\\\n",
      "I can't find the money I just added to my account. & pending top up & balance not updated after bank transfer, balance not updated after cheque or cash deposit, extra charge on statement, pending top up, top up by card charge, top up by cash or cheque, top up failed, top up reverted, topping up by card, virtual card not working \\\\\n",
      "I am concerned about the security in my account and would like to make a dispute. & direct debit payment not recognised & age limit, beneficiary not allowed, cancel transfer, card about to expire, card payment not recognised, change pin, compromised card, country support, declined transfer, direct debit payment not recognised, edit personal details, exchange via app, extra charge on statement, failed transfer, fiat currency support, getting spare card, pending card payment, receiving money, Refund not showing up, request refund, reverted card payment?, terminate account, top up by bank transfer charge, top up by card charge, top up reverted, transaction charged twice, transfer fee charged, transfer into account, transfer not received by recipient, visa or mastercard, why verify identity \\\\\n",
      "I got an unexpected charge on my transfers. How can I correct this? & transfer fee charged & balance not updated after bank transfer, beneficiary not allowed, cancel transfer, card payment not recognised, card payment wrong exchange rate, compromised card, declined transfer, extra charge on statement, failed transfer, receiving money, reverted card payment?, top up by bank transfer charge, transaction charged twice, transfer fee charged \\\\\n",
      "Can i get a throw away card & get disposable virtual card & card about to expire, fiat currency support, get disposable virtual card, getting spare card, getting virtual card, order physical card, request refund, visa or mastercard \\\\\n"
     ]
    }
   ],
   "source": [
    "for a in ambiguous.index:\n",
    "    alternatives = np.where(y_ps_which[a, :, target_index])[0]\n",
    "    print(\" & \".join([ambiguous.loc[a].text, labels[ambiguous.loc[a].label].replace(\"_\", \" \"), ', '.join([labels[l].replace(\"_\", \" \") for l in alternatives])]) + \" \\\\\\\\\")"
   ]
  },
  {
   "cell_type": "code",
   "execution_count": null,
   "id": "b9b26fca-9da4-49f2-b15a-020dfa5623d8",
   "metadata": {
    "tags": []
   },
   "outputs": [
    {
     "data": {
      "image/png": "[encoded data removed]",
      "text/plain": [
       "<Figure size 606.299x200 with 3 Axes>"
      ]
     },
     "metadata": {},
     "output_type": "display_data"
    }
   ],
   "source": [
    "label_sorting_map = {i: x for x, i in enumerate(df_train.label.value_counts(sort=True).index)}\n",
    "for i in range(len(labels)):\n",
    "    if i not in label_sorting_map:\n",
    "        label_sorting_map[i] = len(label_sorting_map)\n",
    "fig, axs = plt.subplots(1,3,figsize=(plot.fig_width_in * 2, 2), sharey=True)\n",
    "pd.Series(list(map(lambda x: label_sorting_map[x], df_train.label, ))).hist(bins=N_INTENTS, ax=axs[0])\n",
    "pd.Series(list(map(lambda x: label_sorting_map[x], df_calibration.label, ))).hist(bins=N_INTENTS, ax=axs[1])\n",
    "pd.Series(list(map(lambda x: label_sorting_map[x], df_test.label, ))).hist(bins=N_INTENTS, ax=axs[2])\n",
    "titles = ['Train set', 'Calibration set', 'Test set']\n",
    "[ax.set_xlabel('intent') for ax in axs]\n",
    "[ax.set_title(title) for (ax, title) in zip(axs, titles)]\n",
    "axs[0].set_ylabel('Occurrence')\n",
    "# plt.yticks([]) \n",
    "plt.savefig(f\"results/label_distribution_{dataset}.png\", dpi=1200)\n",
    "plt.show()"
   ]
  },
  {
   "cell_type": "code",
   "execution_count": null,
   "id": "f1248446",
   "metadata": {},
   "outputs": [],
   "source": [
    "cq_inputs = df_test[cq_filter(y_ps_marginal[:, :, target_index], max_ps_size)].text\n",
    "cq_lbls = cq_labels(y_ps_marginal[:, :, target_index], max_ps_size, labels)\n",
    "\n",
    "cqs = []\n",
    "for i, (text, lbls) in enumerate(zip(cq_inputs, cq_lbls)):\n",
    "    cqs.append({\n",
    "        \"id\": i,\n",
    "        \"text\": text,\n",
    "        \"predictions\": lbls,\n",
    "    })\n",
    "\n",
    "with open(f'results/clarification_questions_{dataset}_{intent_classifier}.json', 'w') as f:\n",
    "    json.dump(cqs, f, indent=4)"
   ]
  },
  {
   "cell_type": "code",
   "execution_count": null,
   "id": "bbd4496c",
   "metadata": {},
   "outputs": [],
   "source": [
    "pd.Series(np.cumsum([set_size_equals(y_ps_adaptive[:, :, target_index], i) for i in range(N_INTENTS+1)])).to_csv(f'results/cum_{dataset}_{intent_classifier}.csv')"
   ]
  },
  {
   "cell_type": "code",
   "execution_count": null,
   "id": "d9ac8d2b",
   "metadata": {},
   "outputs": [
    {
     "name": "stderr",
     "output_type": "stream",
     "text": [
      "/Users/floris/miniconda3/envs/cicc/lib/python3.12/site-packages/mapie/classification.py:956: UserWarning: WARNING: your calibration dataset has less labels than your training dataset (training has 78 unique labels while calibration have 77 unique labels\n",
      "  warnings.warn(\n"
     ]
    },
    {
     "ename": "NameError",
     "evalue": "name 'X_ood_calib' is not defined",
     "output_type": "error",
     "traceback": [
      "\u001b[0;31m---------------------------------------------------------------------------\u001b[0m",
      "\u001b[0;31mNameError\u001b[0m                                 Traceback (most recent call last)",
      "\u001b[1;32m/Users/floris/Documents/archive/publications/cicc/cicc/cicc_banking77_bert.ipynb Cell 21\u001b[0m line \u001b[0;36m1\n\u001b[1;32m     <a href='vscode-notebook-cell:/Users/floris/Documents/archive/publications/cicc/cicc/cicc_banking77_bert.ipynb#X26sZmlsZQ%3D%3D?line=15'>16</a>\u001b[0m a_step \u001b[39m=\u001b[39m \u001b[39m0.001\u001b[39m\n\u001b[1;32m     <a href='vscode-notebook-cell:/Users/floris/Documents/archive/publications/cicc/cicc/cicc_banking77_bert.ipynb#X26sZmlsZQ%3D%3D?line=16'>17</a>\u001b[0m alpha \u001b[39m=\u001b[39m np\u001b[39m.\u001b[39marange(a_start, a_stop, a_step)\n\u001b[0;32m---> <a href='vscode-notebook-cell:/Users/floris/Documents/archive/publications/cicc/cicc/cicc_banking77_bert.ipynb#X26sZmlsZQ%3D%3D?line=17'>18</a>\u001b[0m y_pred_marginal_ood, y_ps_marginal_ood \u001b[39m=\u001b[39m mapie_marginal_ood\u001b[39m.\u001b[39mpredict(X_ood_calib, alpha\u001b[39m=\u001b[39malpha)\n\u001b[1;32m     <a href='vscode-notebook-cell:/Users/floris/Documents/archive/publications/cicc/cicc/cicc_banking77_bert.ipynb#X26sZmlsZQ%3D%3D?line=19'>20</a>\u001b[0m f1s \u001b[39m=\u001b[39m []\n\u001b[1;32m     <a href='vscode-notebook-cell:/Users/floris/Documents/archive/publications/cicc/cicc/cicc_banking77_bert.ipynb#X26sZmlsZQ%3D%3D?line=20'>21</a>\u001b[0m aucs \u001b[39m=\u001b[39m []\n",
      "\u001b[0;31mNameError\u001b[0m: name 'X_ood_calib' is not defined"
     ]
    }
   ],
   "source": [
    "def to_oos(y_pred_set, max_ps_size):\n",
    "    return y_pred_set.sum(axis=1) > max_ps_size\n",
    "\n",
    "def to_oos_score(y_pred_set):\n",
    "    return y_pred_set.sum(axis=1) / N_INTENTS\n",
    "\n",
    "from sklearn.metrics import roc_auc_score\n",
    "from sklearn.metrics import f1_score\n",
    "from sklearn.metrics import RocCurveDisplay\n",
    "\n",
    "mapie_marginal_ood = MapieClassifier(estimator=model_ood, cv=\"prefit\", method=\"score\", random_state=42)\n",
    "mapie_marginal_ood.fit(X_calib, df_calibration['label'])\n",
    "\n",
    "a_start = 1 / y_ood.shape[0]\n",
    "a_stop = .01\n",
    "a_step = 0.001\n",
    "alpha = np.arange(a_start, a_stop, a_step)\n",
    "y_pred_marginal_ood, y_ps_marginal_ood = mapie_marginal_ood.predict(X_ood, alpha=alpha)\n",
    "\n",
    "f1s = []\n",
    "aucs = []\n",
    "for i in range(len(alpha)):\n",
    "    target_index_ood = i\n",
    "\n",
    "    y_pred_ood = to_oos(y_ps_marginal_ood[:, :, target_index_ood], max_ps_size)\n",
    "    y_preds_ood = [to_oos(y_ps_marginal_ood[:, :, target_index_ood], max_ps_size) for max_ps_size in range(12)]\n",
    "\n",
    "    y_pred_ood_score = to_oos_score(y_ps_marginal_ood[:, :, target_index_ood])\n",
    "    y_true_ood = y_ood_calib == oos_label\n",
    "\n",
    "    y_preds_ood_f1s = [f1_score(y_true_ood, pred) for pred in y_preds_ood]\n",
    "    f1s.append(max(y_preds_ood_f1s))\n",
    "    aucs.append(roc_auc_score(y_true_ood, y_pred_ood_score))\n",
    "\n",
    "f1s = np.array(f1s)\n",
    "aucs = np.array(aucs)\n",
    "\n",
    "selected_alpha_index = f1s.argmax()\n",
    "print(f\"select alpha = {alpha[selected_alpha_index]} at index {selected_alpha_index} with f1 = {f1s[selected_alpha_index]} and auc = {aucs[selected_alpha_index]}\")"
   ]
  },
  {
   "cell_type": "code",
   "execution_count": null,
   "id": "35f4f7a8",
   "metadata": {},
   "outputs": [],
   "source": [
    "f1s = np.array(f1s)\n",
    "\n",
    "y_pred_ood = to_oos(y_ps_marginal_ood[:, :, selected_alpha_index], max_ps_size)\n",
    "y_preds_ood = [to_oos(y_ps_marginal_ood[:, :, selected_alpha_index], max_ps_size) for max_ps_size in range(50)]\n",
    "\n",
    "y_pred_ood_score = to_oos_score(y_ps_marginal_ood[:, :, 1])\n",
    "y_true_ood = y_ood_calib == oos_label\n",
    "y_preds_ood_f1s = [f1_score(y_true_ood, pred) for pred in y_preds_ood]\n",
    "optimal_threshold = np.array(y_preds_ood_f1s).argmax()\n",
    "print(f\"optimal threshold at {optimal_threshold} in calibration set\")"
   ]
  },
  {
   "cell_type": "code",
   "execution_count": null,
   "id": "9dd61d35",
   "metadata": {},
   "outputs": [],
   "source": [
    "# marginal conformal prediction\n",
    "mapie_marginal_ood = MapieClassifier(estimator=model_ood, cv=\"prefit\", method=\"score\", random_state=42)\n",
    "mapie_marginal_ood.fit(X_calib, df_calibration['label'])\n",
    "\n",
    "a_start = 1 / y_ood.shape[0]\n",
    "a_stop = .01\n",
    "a_step = 0.001\n",
    "alpha = np.arange(a_start, a_stop, a_step)\n",
    "y_pred_marginal_ood, y_ps_marginal_ood = mapie_marginal_ood.predict(X_ood_test, alpha=alpha)\n",
    "\n",
    "target_index_ood = selected_alpha_index\n",
    "\n",
    "y_pred_ood = to_oos(y_ps_marginal_ood[:, :, target_index_ood], optimal_threshold)\n",
    "y_preds_ood = [to_oos(y_ps_marginal_ood[:, :, target_index_ood], max_ps_size) for max_ps_size in range(50)]\n",
    "\n",
    "y_pred_ood_score = to_oos_score(y_ps_marginal_ood[:, :, target_index_ood])\n",
    "y_true_ood = y_ood_test == oos_label\n",
    "\n",
    "y_preds_ood_f1s = [f1_score(y_true_ood, pred) for pred in y_preds_ood]\n",
    "f1_ood_test = f1_score(y_true_ood, y_pred_ood)\n",
    "auc_ood_test = roc_auc_score(y_true_ood, y_pred_ood_score)\n",
    "print(f\"F1 OOD on test set: {f1_ood_test}, AUC OOD on test set: {auc_ood_test}\")\n"
   ]
  }
 ],
 "metadata": {
  "kernelspec": {
   "display_name": "Python 3 (ipykernel)",
   "language": "python",
   "name": "python3"
  },
  "language_info": {
   "codemirror_mode": {
    "name": "ipython",
    "version": 3
   },
   "file_extension": ".py",
   "mimetype": "text/x-python",
   "name": "python",
   "nbconvert_exporter": "python",
   "pygments_lexer": "ipython3",
   "version": "3.12.0"
  }
 },
 "nbformat": 4,
 "nbformat_minor": 5
}

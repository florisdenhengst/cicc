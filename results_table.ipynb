{
 "cells": [
  {
   "cell_type": "code",
   "execution_count": 9,
   "metadata": {},
   "outputs": [],
   "source": [
    "import pandas as pd\n",
    "\n",
    "RESULTS_FILE = 'results/results.csv'\n",
    "\n",
    "results = pd.read_csv(RESULTS_FILE)\n",
    "\n",
    "target_alphas = {\n",
    "    ('banking77', 'bert'): .03,\n",
    "    ('banking77', 'dfcx'): .1,\n",
    "    ('acid', 'bert'): .02,\n",
    "    ('atis', 'bert'): .01,\n",
    "    ('clinc150', 'bert'): .01,\n",
    "    ('hwu64', 'bert'): .05,\n",
    "    ('industry', 'claris'): 0.1,\n",
    "    ('mtod', 'bert'): .01,\n",
    "    ('clinc150-ood', 'bert'): 1000,\n",
    "}\n"
   ]
  },
  {
   "cell_type": "code",
   "execution_count": 10,
   "metadata": {},
   "outputs": [
    {
     "name": "stdout",
     "output_type": "stream",
     "text": [
      "\\midrule\n",
      "ACID  &  CICC & \\underline{1.00} & 0.77 & 3.00 & 0.10 \\\\\n",
      " &  B1 & 0.98 & 0.85 & 5.00 & 0.00 \\\\\n",
      " &  B2 & 0.95 & 1.00 & nan & 0.00 \\\\\n",
      " &  B3 & 0.99 & 0.00 & 5.00 & 0.00 \\\\\n",
      "\\midrule\n",
      "ATIS  &  CICC & 0.99 & 0.98 & 2.54 & 0.00 \\\\\n",
      " &  B1 & \\underline{0.99} & 0.73 & 5.00 & 0.00 \\\\\n",
      " &  B2 & 0.98 & 1.00 & nan & 0.00 \\\\\n",
      " &  B3 & \\underline{1.00} & 0.00 & 5.00 & 0.00 \\\\\n",
      "\\midrule\n",
      "B77/BERT  &  CICC & \\underline{0.98} & 0.79 & 2.90 & 0.04 \\\\\n",
      " &  B1 & \\underline{0.97} & 0.90 & 5.00 & 0.00 \\\\\n",
      " &  B2 & 0.93 & 1.00 & nan & 0.00 \\\\\n",
      " &  B3 & \\underline{0.99} & 0.00 & 5.00 & 0.00 \\\\\n",
      "\\midrule\n",
      "B77/DFCX  &  CICC & \\underline{0.91} & 0.66 & 2.63 & 0.02 \\\\\n",
      " &  B1 & \\underline{0.95} & 0.71 & 4.79 & 0.27 \\\\\n",
      " &  B2 & 0.90 & 0.98 & 2.26 & 0.00 \\\\\n",
      " &  B3 & \\underline{0.97} & 0.00 & 5.00 & 1.00 \\\\\n",
      "\\midrule\n",
      "C150  &  CICC & 0.99 & 0.97 & 2.66 & 0.00 \\\\\n",
      " &  B1 & \\underline{0.99} & 0.82 & 5.00 & 0.00 \\\\\n",
      " &  B2 & 0.98 & 1.00 & nan & 0.00 \\\\\n",
      " &  B3 & \\underline{1.00} & 0.00 & 5.00 & 0.00 \\\\\n",
      "\\midrule\n",
      "CLINC150-OOD  &  CICC & \\underline{0.75} & 0.78 & 3.81 & 0.02 \\\\\n",
      "\\midrule\n",
      "HWU64  &  CICC & \\underline{0.95} & 0.82 & 2.81 & 0.01 \\\\\n",
      " &  B1 & \\underline{0.97} & 0.70 & 5.00 & 0.00 \\\\\n",
      " &  B2 & 0.90 & 1.00 & nan & 0.00 \\\\\n",
      " &  B3 & \\underline{0.98} & 0.00 & 5.00 & 0.00 \\\\\n",
      "\\midrule\n",
      "IND  &  CICC & \\underline{0.91} & 0.25 & 3.46 & 0.11 \\\\\n",
      " &  B1 & 0.88 & 0.42 & 5.00 & 0.00 \\\\\n",
      " &  B2 & 0.70 & 1.00 & nan & 0.00 \\\\\n",
      " &  B3 & \\underline{0.91} & 0.00 & 5.00 & 0.00 \\\\\n",
      "\\midrule\n",
      "MTOD  &  CICC & \\underline{0.99} & 1.00 & nan & 0.00 \\\\\n",
      " &  B1 & \\underline{1.00} & 0.98 & 5.00 & 0.00 \\\\\n",
      " &  B2 & \\underline{0.99} & 1.00 & nan & 0.00 \\\\\n",
      " &  B3 & \\underline{1.00} & 0.00 & 5.00 & 0.00 \\\\\n"
     ]
    }
   ],
   "source": [
    "def format(ds, model):\n",
    "    if ds == 'banking77':\n",
    "        return f'b77/{model}'.upper()\n",
    "    elif ds == 'industry':\n",
    "        return 'IND'\n",
    "    elif ds == 'clinc150':\n",
    "        return 'C150'\n",
    "    else:\n",
    "        return ds.upper()\n",
    "\n",
    "def format_approach(approach):\n",
    "    if approach.startswith('h'):\n",
    "        return 'B' + approach[1:]\n",
    "    else:\n",
    "        return approach.upper()\n",
    "\n",
    "results.sort_values(['dataset', 'model', 'approach'])\n",
    "prev_name = None\n",
    "for name, group in results.sort_values(['dataset', 'model', 'approach']).groupby(['dataset', 'model']):\n",
    "    if name != prev_name:\n",
    "        print(\"\\\\midrule\")\n",
    "        print(f\"{format(name[0], name[1])} \", end='')\n",
    "    # newgroup = True\n",
    "    for i, row in group.iterrows():\n",
    "        # if not newgroup:\n",
    "        #     print(\" & \", end=\"\")\n",
    "        if row['coverage'] >= (1-target_alphas[(name[0], name[1])]):\n",
    "            coverage = \"\\\\underline{\"\n",
    "            coverage += f\"{row['coverage']:.2f}\"\n",
    "            coverage += \"}\"\n",
    "        else:\n",
    "            coverage = f\"{row['coverage']:.2f}\"\n",
    "        print(f\" &  {format_approach(row['approach'])} & {coverage} & {row['single']:.2f} & {row['cq_size']:.2f} & {row['ambiguous']:.2f} \\\\\\\\\")\n",
    "        # newgroup = False\n",
    "    prev_name = name"
   ]
  },
  {
   "cell_type": "code",
   "execution_count": 11,
   "metadata": {},
   "outputs": [
    {
     "data": {
      "text/plain": [
       "4    0.987788\n",
       "Name: coverage, dtype: float64"
      ]
     },
     "execution_count": 11,
     "metadata": {},
     "output_type": "execute_result"
    }
   ],
   "source": [
    "results[results.id=='clinc150-bert-cicc']['coverage']"
   ]
  },
  {
   "cell_type": "code",
   "execution_count": null,
   "metadata": {},
   "outputs": [],
   "source": []
  }
 ],
 "metadata": {
  "kernelspec": {
   "display_name": "cicc",
   "language": "python",
   "name": "python3"
  },
  "language_info": {
   "codemirror_mode": {
    "name": "ipython",
    "version": 3
   },
   "file_extension": ".py",
   "mimetype": "text/x-python",
   "name": "python",
   "nbconvert_exporter": "python",
   "pygments_lexer": "ipython3",
   "version": "3.12.0"
  },
  "orig_nbformat": 4
 },
 "nbformat": 4,
 "nbformat_minor": 2
}
